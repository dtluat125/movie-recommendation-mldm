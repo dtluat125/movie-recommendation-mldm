{
  "cells": [
    {
      "cell_type": "markdown",
      "metadata": {
        "id": "aWKKpKnY16EL"
      },
      "source": [
        "#importing the libraries\n"
      ]
    },
    {
      "cell_type": "code",
      "execution_count": null,
      "metadata": {
        "id": "OI3A12YQ11TK"
      },
      "outputs": [],
      "source": [
        "import numpy as np\n",
        "import pandas as pd\n",
        "import matplotlib.pyplot as plt\n",
        "import datetime"
      ]
    },
    {
      "cell_type": "markdown",
      "metadata": {
        "id": "ywM9aztm25YH"
      },
      "source": [
        "#Importing the dataset"
      ]
    },
    {
      "cell_type": "code",
      "execution_count": null,
      "metadata": {
        "id": "ClWZh_ZC2OcI"
      },
      "outputs": [],
      "source": [
        "rating_df = pd.read_csv('ratings.csv',usecols=['userId','movieId','rating'])\n",
        "movie_df= pd.read_csv('movies.csv',usecols=['movieId','title'])"
      ]
    },
    {
      "cell_type": "code",
      "execution_count": null,
      "metadata": {
        "id": "NiuJGgBg2PQd",
        "colab": {
          "base_uri": "https://localhost:8080/",
          "height": 206
        },
        "outputId": "db9b9a03-754d-4fc1-b387-2213e41a71cf"
      },
      "outputs": [
        {
          "output_type": "execute_result",
          "data": {
            "text/plain": [
              "   userId  movieId  rating\n",
              "0       1        1     4.0\n",
              "1       1        3     4.0\n",
              "2       1        6     4.0\n",
              "3       1       47     5.0\n",
              "4       1       50     5.0"
            ],
            "text/html": [
              "\n",
              "  <div id=\"df-9e372402-ca5a-47f2-a3a4-a6460cf9c0f2\">\n",
              "    <div class=\"colab-df-container\">\n",
              "      <div>\n",
              "<style scoped>\n",
              "    .dataframe tbody tr th:only-of-type {\n",
              "        vertical-align: middle;\n",
              "    }\n",
              "\n",
              "    .dataframe tbody tr th {\n",
              "        vertical-align: top;\n",
              "    }\n",
              "\n",
              "    .dataframe thead th {\n",
              "        text-align: right;\n",
              "    }\n",
              "</style>\n",
              "<table border=\"1\" class=\"dataframe\">\n",
              "  <thead>\n",
              "    <tr style=\"text-align: right;\">\n",
              "      <th></th>\n",
              "      <th>userId</th>\n",
              "      <th>movieId</th>\n",
              "      <th>rating</th>\n",
              "    </tr>\n",
              "  </thead>\n",
              "  <tbody>\n",
              "    <tr>\n",
              "      <th>0</th>\n",
              "      <td>1</td>\n",
              "      <td>1</td>\n",
              "      <td>4.0</td>\n",
              "    </tr>\n",
              "    <tr>\n",
              "      <th>1</th>\n",
              "      <td>1</td>\n",
              "      <td>3</td>\n",
              "      <td>4.0</td>\n",
              "    </tr>\n",
              "    <tr>\n",
              "      <th>2</th>\n",
              "      <td>1</td>\n",
              "      <td>6</td>\n",
              "      <td>4.0</td>\n",
              "    </tr>\n",
              "    <tr>\n",
              "      <th>3</th>\n",
              "      <td>1</td>\n",
              "      <td>47</td>\n",
              "      <td>5.0</td>\n",
              "    </tr>\n",
              "    <tr>\n",
              "      <th>4</th>\n",
              "      <td>1</td>\n",
              "      <td>50</td>\n",
              "      <td>5.0</td>\n",
              "    </tr>\n",
              "  </tbody>\n",
              "</table>\n",
              "</div>\n",
              "      <button class=\"colab-df-convert\" onclick=\"convertToInteractive('df-9e372402-ca5a-47f2-a3a4-a6460cf9c0f2')\"\n",
              "              title=\"Convert this dataframe to an interactive table.\"\n",
              "              style=\"display:none;\">\n",
              "        \n",
              "  <svg xmlns=\"http://www.w3.org/2000/svg\" height=\"24px\"viewBox=\"0 0 24 24\"\n",
              "       width=\"24px\">\n",
              "    <path d=\"M0 0h24v24H0V0z\" fill=\"none\"/>\n",
              "    <path d=\"M18.56 5.44l.94 2.06.94-2.06 2.06-.94-2.06-.94-.94-2.06-.94 2.06-2.06.94zm-11 1L8.5 8.5l.94-2.06 2.06-.94-2.06-.94L8.5 2.5l-.94 2.06-2.06.94zm10 10l.94 2.06.94-2.06 2.06-.94-2.06-.94-.94-2.06-.94 2.06-2.06.94z\"/><path d=\"M17.41 7.96l-1.37-1.37c-.4-.4-.92-.59-1.43-.59-.52 0-1.04.2-1.43.59L10.3 9.45l-7.72 7.72c-.78.78-.78 2.05 0 2.83L4 21.41c.39.39.9.59 1.41.59.51 0 1.02-.2 1.41-.59l7.78-7.78 2.81-2.81c.8-.78.8-2.07 0-2.86zM5.41 20L4 18.59l7.72-7.72 1.47 1.35L5.41 20z\"/>\n",
              "  </svg>\n",
              "      </button>\n",
              "      \n",
              "  <style>\n",
              "    .colab-df-container {\n",
              "      display:flex;\n",
              "      flex-wrap:wrap;\n",
              "      gap: 12px;\n",
              "    }\n",
              "\n",
              "    .colab-df-convert {\n",
              "      background-color: #E8F0FE;\n",
              "      border: none;\n",
              "      border-radius: 50%;\n",
              "      cursor: pointer;\n",
              "      display: none;\n",
              "      fill: #1967D2;\n",
              "      height: 32px;\n",
              "      padding: 0 0 0 0;\n",
              "      width: 32px;\n",
              "    }\n",
              "\n",
              "    .colab-df-convert:hover {\n",
              "      background-color: #E2EBFA;\n",
              "      box-shadow: 0px 1px 2px rgba(60, 64, 67, 0.3), 0px 1px 3px 1px rgba(60, 64, 67, 0.15);\n",
              "      fill: #174EA6;\n",
              "    }\n",
              "\n",
              "    [theme=dark] .colab-df-convert {\n",
              "      background-color: #3B4455;\n",
              "      fill: #D2E3FC;\n",
              "    }\n",
              "\n",
              "    [theme=dark] .colab-df-convert:hover {\n",
              "      background-color: #434B5C;\n",
              "      box-shadow: 0px 1px 3px 1px rgba(0, 0, 0, 0.15);\n",
              "      filter: drop-shadow(0px 1px 2px rgba(0, 0, 0, 0.3));\n",
              "      fill: #FFFFFF;\n",
              "    }\n",
              "  </style>\n",
              "\n",
              "      <script>\n",
              "        const buttonEl =\n",
              "          document.querySelector('#df-9e372402-ca5a-47f2-a3a4-a6460cf9c0f2 button.colab-df-convert');\n",
              "        buttonEl.style.display =\n",
              "          google.colab.kernel.accessAllowed ? 'block' : 'none';\n",
              "\n",
              "        async function convertToInteractive(key) {\n",
              "          const element = document.querySelector('#df-9e372402-ca5a-47f2-a3a4-a6460cf9c0f2');\n",
              "          const dataTable =\n",
              "            await google.colab.kernel.invokeFunction('convertToInteractive',\n",
              "                                                     [key], {});\n",
              "          if (!dataTable) return;\n",
              "\n",
              "          const docLinkHtml = 'Like what you see? Visit the ' +\n",
              "            '<a target=\"_blank\" href=https://colab.research.google.com/notebooks/data_table.ipynb>data table notebook</a>'\n",
              "            + ' to learn more about interactive tables.';\n",
              "          element.innerHTML = '';\n",
              "          dataTable['output_type'] = 'display_data';\n",
              "          await google.colab.output.renderOutput(dataTable, element);\n",
              "          const docLink = document.createElement('div');\n",
              "          docLink.innerHTML = docLinkHtml;\n",
              "          element.appendChild(docLink);\n",
              "        }\n",
              "      </script>\n",
              "    </div>\n",
              "  </div>\n",
              "  "
            ]
          },
          "metadata": {},
          "execution_count": 31
        }
      ],
      "source": [
        "rating_df.head()"
      ]
    },
    {
      "cell_type": "code",
      "execution_count": null,
      "metadata": {
        "id": "BOl1Gh6F2inN",
        "colab": {
          "base_uri": "https://localhost:8080/",
          "height": 206
        },
        "outputId": "83ad8774-ebb6-4051-d3d6-02df45cb70d9"
      },
      "outputs": [
        {
          "output_type": "execute_result",
          "data": {
            "text/plain": [
              "   movieId                               title\n",
              "0        1                    Toy Story (1995)\n",
              "1        2                      Jumanji (1995)\n",
              "2        3             Grumpier Old Men (1995)\n",
              "3        4            Waiting to Exhale (1995)\n",
              "4        5  Father of the Bride Part II (1995)"
            ],
            "text/html": [
              "\n",
              "  <div id=\"df-2b516bea-ebeb-4d08-8d77-2797bf208771\">\n",
              "    <div class=\"colab-df-container\">\n",
              "      <div>\n",
              "<style scoped>\n",
              "    .dataframe tbody tr th:only-of-type {\n",
              "        vertical-align: middle;\n",
              "    }\n",
              "\n",
              "    .dataframe tbody tr th {\n",
              "        vertical-align: top;\n",
              "    }\n",
              "\n",
              "    .dataframe thead th {\n",
              "        text-align: right;\n",
              "    }\n",
              "</style>\n",
              "<table border=\"1\" class=\"dataframe\">\n",
              "  <thead>\n",
              "    <tr style=\"text-align: right;\">\n",
              "      <th></th>\n",
              "      <th>movieId</th>\n",
              "      <th>title</th>\n",
              "    </tr>\n",
              "  </thead>\n",
              "  <tbody>\n",
              "    <tr>\n",
              "      <th>0</th>\n",
              "      <td>1</td>\n",
              "      <td>Toy Story (1995)</td>\n",
              "    </tr>\n",
              "    <tr>\n",
              "      <th>1</th>\n",
              "      <td>2</td>\n",
              "      <td>Jumanji (1995)</td>\n",
              "    </tr>\n",
              "    <tr>\n",
              "      <th>2</th>\n",
              "      <td>3</td>\n",
              "      <td>Grumpier Old Men (1995)</td>\n",
              "    </tr>\n",
              "    <tr>\n",
              "      <th>3</th>\n",
              "      <td>4</td>\n",
              "      <td>Waiting to Exhale (1995)</td>\n",
              "    </tr>\n",
              "    <tr>\n",
              "      <th>4</th>\n",
              "      <td>5</td>\n",
              "      <td>Father of the Bride Part II (1995)</td>\n",
              "    </tr>\n",
              "  </tbody>\n",
              "</table>\n",
              "</div>\n",
              "      <button class=\"colab-df-convert\" onclick=\"convertToInteractive('df-2b516bea-ebeb-4d08-8d77-2797bf208771')\"\n",
              "              title=\"Convert this dataframe to an interactive table.\"\n",
              "              style=\"display:none;\">\n",
              "        \n",
              "  <svg xmlns=\"http://www.w3.org/2000/svg\" height=\"24px\"viewBox=\"0 0 24 24\"\n",
              "       width=\"24px\">\n",
              "    <path d=\"M0 0h24v24H0V0z\" fill=\"none\"/>\n",
              "    <path d=\"M18.56 5.44l.94 2.06.94-2.06 2.06-.94-2.06-.94-.94-2.06-.94 2.06-2.06.94zm-11 1L8.5 8.5l.94-2.06 2.06-.94-2.06-.94L8.5 2.5l-.94 2.06-2.06.94zm10 10l.94 2.06.94-2.06 2.06-.94-2.06-.94-.94-2.06-.94 2.06-2.06.94z\"/><path d=\"M17.41 7.96l-1.37-1.37c-.4-.4-.92-.59-1.43-.59-.52 0-1.04.2-1.43.59L10.3 9.45l-7.72 7.72c-.78.78-.78 2.05 0 2.83L4 21.41c.39.39.9.59 1.41.59.51 0 1.02-.2 1.41-.59l7.78-7.78 2.81-2.81c.8-.78.8-2.07 0-2.86zM5.41 20L4 18.59l7.72-7.72 1.47 1.35L5.41 20z\"/>\n",
              "  </svg>\n",
              "      </button>\n",
              "      \n",
              "  <style>\n",
              "    .colab-df-container {\n",
              "      display:flex;\n",
              "      flex-wrap:wrap;\n",
              "      gap: 12px;\n",
              "    }\n",
              "\n",
              "    .colab-df-convert {\n",
              "      background-color: #E8F0FE;\n",
              "      border: none;\n",
              "      border-radius: 50%;\n",
              "      cursor: pointer;\n",
              "      display: none;\n",
              "      fill: #1967D2;\n",
              "      height: 32px;\n",
              "      padding: 0 0 0 0;\n",
              "      width: 32px;\n",
              "    }\n",
              "\n",
              "    .colab-df-convert:hover {\n",
              "      background-color: #E2EBFA;\n",
              "      box-shadow: 0px 1px 2px rgba(60, 64, 67, 0.3), 0px 1px 3px 1px rgba(60, 64, 67, 0.15);\n",
              "      fill: #174EA6;\n",
              "    }\n",
              "\n",
              "    [theme=dark] .colab-df-convert {\n",
              "      background-color: #3B4455;\n",
              "      fill: #D2E3FC;\n",
              "    }\n",
              "\n",
              "    [theme=dark] .colab-df-convert:hover {\n",
              "      background-color: #434B5C;\n",
              "      box-shadow: 0px 1px 3px 1px rgba(0, 0, 0, 0.15);\n",
              "      filter: drop-shadow(0px 1px 2px rgba(0, 0, 0, 0.3));\n",
              "      fill: #FFFFFF;\n",
              "    }\n",
              "  </style>\n",
              "\n",
              "      <script>\n",
              "        const buttonEl =\n",
              "          document.querySelector('#df-2b516bea-ebeb-4d08-8d77-2797bf208771 button.colab-df-convert');\n",
              "        buttonEl.style.display =\n",
              "          google.colab.kernel.accessAllowed ? 'block' : 'none';\n",
              "\n",
              "        async function convertToInteractive(key) {\n",
              "          const element = document.querySelector('#df-2b516bea-ebeb-4d08-8d77-2797bf208771');\n",
              "          const dataTable =\n",
              "            await google.colab.kernel.invokeFunction('convertToInteractive',\n",
              "                                                     [key], {});\n",
              "          if (!dataTable) return;\n",
              "\n",
              "          const docLinkHtml = 'Like what you see? Visit the ' +\n",
              "            '<a target=\"_blank\" href=https://colab.research.google.com/notebooks/data_table.ipynb>data table notebook</a>'\n",
              "            + ' to learn more about interactive tables.';\n",
              "          element.innerHTML = '';\n",
              "          dataTable['output_type'] = 'display_data';\n",
              "          await google.colab.output.renderOutput(dataTable, element);\n",
              "          const docLink = document.createElement('div');\n",
              "          docLink.innerHTML = docLinkHtml;\n",
              "          element.appendChild(docLink);\n",
              "        }\n",
              "      </script>\n",
              "    </div>\n",
              "  </div>\n",
              "  "
            ]
          },
          "metadata": {},
          "execution_count": 32
        }
      ],
      "source": [
        "movie_df.head()"
      ]
    },
    {
      "cell_type": "markdown",
      "metadata": {
        "id": "6EEUQMAj-p4w"
      },
      "source": [
        "#Split the training and testing dataset"
      ]
    },
    {
      "cell_type": "code",
      "execution_count": null,
      "metadata": {
        "id": "YavDKYn5-ucA"
      },
      "outputs": [],
      "source": [
        "from sklearn.model_selection import train_test_split\n",
        "train_rating_df,test_rating_df = train_test_split(rating_df,test_size=0.2,random_state=1)"
      ]
    },
    {
      "cell_type": "code",
      "execution_count": null,
      "metadata": {
        "id": "QmkQmCuCmbqA",
        "colab": {
          "base_uri": "https://localhost:8080/",
          "height": 206
        },
        "outputId": "283c34b2-6196-473a-ae06-88b1af854c5c"
      },
      "outputs": [
        {
          "output_type": "execute_result",
          "data": {
            "text/plain": [
              "       userId  movieId  rating\n",
              "78834     489     3827     2.0\n",
              "7523       51     1639     5.0\n",
              "66122     425     5349     3.0\n",
              "69250     448     3793     4.0\n",
              "95606     600     3821     1.0"
            ],
            "text/html": [
              "\n",
              "  <div id=\"df-d5257714-5856-41b8-bb37-36dca2965184\">\n",
              "    <div class=\"colab-df-container\">\n",
              "      <div>\n",
              "<style scoped>\n",
              "    .dataframe tbody tr th:only-of-type {\n",
              "        vertical-align: middle;\n",
              "    }\n",
              "\n",
              "    .dataframe tbody tr th {\n",
              "        vertical-align: top;\n",
              "    }\n",
              "\n",
              "    .dataframe thead th {\n",
              "        text-align: right;\n",
              "    }\n",
              "</style>\n",
              "<table border=\"1\" class=\"dataframe\">\n",
              "  <thead>\n",
              "    <tr style=\"text-align: right;\">\n",
              "      <th></th>\n",
              "      <th>userId</th>\n",
              "      <th>movieId</th>\n",
              "      <th>rating</th>\n",
              "    </tr>\n",
              "  </thead>\n",
              "  <tbody>\n",
              "    <tr>\n",
              "      <th>78834</th>\n",
              "      <td>489</td>\n",
              "      <td>3827</td>\n",
              "      <td>2.0</td>\n",
              "    </tr>\n",
              "    <tr>\n",
              "      <th>7523</th>\n",
              "      <td>51</td>\n",
              "      <td>1639</td>\n",
              "      <td>5.0</td>\n",
              "    </tr>\n",
              "    <tr>\n",
              "      <th>66122</th>\n",
              "      <td>425</td>\n",
              "      <td>5349</td>\n",
              "      <td>3.0</td>\n",
              "    </tr>\n",
              "    <tr>\n",
              "      <th>69250</th>\n",
              "      <td>448</td>\n",
              "      <td>3793</td>\n",
              "      <td>4.0</td>\n",
              "    </tr>\n",
              "    <tr>\n",
              "      <th>95606</th>\n",
              "      <td>600</td>\n",
              "      <td>3821</td>\n",
              "      <td>1.0</td>\n",
              "    </tr>\n",
              "  </tbody>\n",
              "</table>\n",
              "</div>\n",
              "      <button class=\"colab-df-convert\" onclick=\"convertToInteractive('df-d5257714-5856-41b8-bb37-36dca2965184')\"\n",
              "              title=\"Convert this dataframe to an interactive table.\"\n",
              "              style=\"display:none;\">\n",
              "        \n",
              "  <svg xmlns=\"http://www.w3.org/2000/svg\" height=\"24px\"viewBox=\"0 0 24 24\"\n",
              "       width=\"24px\">\n",
              "    <path d=\"M0 0h24v24H0V0z\" fill=\"none\"/>\n",
              "    <path d=\"M18.56 5.44l.94 2.06.94-2.06 2.06-.94-2.06-.94-.94-2.06-.94 2.06-2.06.94zm-11 1L8.5 8.5l.94-2.06 2.06-.94-2.06-.94L8.5 2.5l-.94 2.06-2.06.94zm10 10l.94 2.06.94-2.06 2.06-.94-2.06-.94-.94-2.06-.94 2.06-2.06.94z\"/><path d=\"M17.41 7.96l-1.37-1.37c-.4-.4-.92-.59-1.43-.59-.52 0-1.04.2-1.43.59L10.3 9.45l-7.72 7.72c-.78.78-.78 2.05 0 2.83L4 21.41c.39.39.9.59 1.41.59.51 0 1.02-.2 1.41-.59l7.78-7.78 2.81-2.81c.8-.78.8-2.07 0-2.86zM5.41 20L4 18.59l7.72-7.72 1.47 1.35L5.41 20z\"/>\n",
              "  </svg>\n",
              "      </button>\n",
              "      \n",
              "  <style>\n",
              "    .colab-df-container {\n",
              "      display:flex;\n",
              "      flex-wrap:wrap;\n",
              "      gap: 12px;\n",
              "    }\n",
              "\n",
              "    .colab-df-convert {\n",
              "      background-color: #E8F0FE;\n",
              "      border: none;\n",
              "      border-radius: 50%;\n",
              "      cursor: pointer;\n",
              "      display: none;\n",
              "      fill: #1967D2;\n",
              "      height: 32px;\n",
              "      padding: 0 0 0 0;\n",
              "      width: 32px;\n",
              "    }\n",
              "\n",
              "    .colab-df-convert:hover {\n",
              "      background-color: #E2EBFA;\n",
              "      box-shadow: 0px 1px 2px rgba(60, 64, 67, 0.3), 0px 1px 3px 1px rgba(60, 64, 67, 0.15);\n",
              "      fill: #174EA6;\n",
              "    }\n",
              "\n",
              "    [theme=dark] .colab-df-convert {\n",
              "      background-color: #3B4455;\n",
              "      fill: #D2E3FC;\n",
              "    }\n",
              "\n",
              "    [theme=dark] .colab-df-convert:hover {\n",
              "      background-color: #434B5C;\n",
              "      box-shadow: 0px 1px 3px 1px rgba(0, 0, 0, 0.15);\n",
              "      filter: drop-shadow(0px 1px 2px rgba(0, 0, 0, 0.3));\n",
              "      fill: #FFFFFF;\n",
              "    }\n",
              "  </style>\n",
              "\n",
              "      <script>\n",
              "        const buttonEl =\n",
              "          document.querySelector('#df-d5257714-5856-41b8-bb37-36dca2965184 button.colab-df-convert');\n",
              "        buttonEl.style.display =\n",
              "          google.colab.kernel.accessAllowed ? 'block' : 'none';\n",
              "\n",
              "        async function convertToInteractive(key) {\n",
              "          const element = document.querySelector('#df-d5257714-5856-41b8-bb37-36dca2965184');\n",
              "          const dataTable =\n",
              "            await google.colab.kernel.invokeFunction('convertToInteractive',\n",
              "                                                     [key], {});\n",
              "          if (!dataTable) return;\n",
              "\n",
              "          const docLinkHtml = 'Like what you see? Visit the ' +\n",
              "            '<a target=\"_blank\" href=https://colab.research.google.com/notebooks/data_table.ipynb>data table notebook</a>'\n",
              "            + ' to learn more about interactive tables.';\n",
              "          element.innerHTML = '';\n",
              "          dataTable['output_type'] = 'display_data';\n",
              "          await google.colab.output.renderOutput(dataTable, element);\n",
              "          const docLink = document.createElement('div');\n",
              "          docLink.innerHTML = docLinkHtml;\n",
              "          element.appendChild(docLink);\n",
              "        }\n",
              "      </script>\n",
              "    </div>\n",
              "  </div>\n",
              "  "
            ]
          },
          "metadata": {},
          "execution_count": 34
        }
      ],
      "source": [
        "train_rating_df.head()"
      ]
    },
    {
      "cell_type": "code",
      "execution_count": null,
      "metadata": {
        "id": "RBG0CXq5mexo",
        "colab": {
          "base_uri": "https://localhost:8080/",
          "height": 206
        },
        "outputId": "08f6b62d-49dc-4f6a-fc6a-f35423438fbc"
      },
      "outputs": [
        {
          "output_type": "execute_result",
          "data": {
            "text/plain": [
              "       userId  movieId  rating\n",
              "32974     225      380     3.0\n",
              "83568     533   103688     5.0\n",
              "19537     125   149902     2.0\n",
              "38287     263     1183     5.0\n",
              "59543     387     1982     3.0"
            ],
            "text/html": [
              "\n",
              "  <div id=\"df-a331a817-a201-46c1-a230-d3a2fb8a2d7f\">\n",
              "    <div class=\"colab-df-container\">\n",
              "      <div>\n",
              "<style scoped>\n",
              "    .dataframe tbody tr th:only-of-type {\n",
              "        vertical-align: middle;\n",
              "    }\n",
              "\n",
              "    .dataframe tbody tr th {\n",
              "        vertical-align: top;\n",
              "    }\n",
              "\n",
              "    .dataframe thead th {\n",
              "        text-align: right;\n",
              "    }\n",
              "</style>\n",
              "<table border=\"1\" class=\"dataframe\">\n",
              "  <thead>\n",
              "    <tr style=\"text-align: right;\">\n",
              "      <th></th>\n",
              "      <th>userId</th>\n",
              "      <th>movieId</th>\n",
              "      <th>rating</th>\n",
              "    </tr>\n",
              "  </thead>\n",
              "  <tbody>\n",
              "    <tr>\n",
              "      <th>32974</th>\n",
              "      <td>225</td>\n",
              "      <td>380</td>\n",
              "      <td>3.0</td>\n",
              "    </tr>\n",
              "    <tr>\n",
              "      <th>83568</th>\n",
              "      <td>533</td>\n",
              "      <td>103688</td>\n",
              "      <td>5.0</td>\n",
              "    </tr>\n",
              "    <tr>\n",
              "      <th>19537</th>\n",
              "      <td>125</td>\n",
              "      <td>149902</td>\n",
              "      <td>2.0</td>\n",
              "    </tr>\n",
              "    <tr>\n",
              "      <th>38287</th>\n",
              "      <td>263</td>\n",
              "      <td>1183</td>\n",
              "      <td>5.0</td>\n",
              "    </tr>\n",
              "    <tr>\n",
              "      <th>59543</th>\n",
              "      <td>387</td>\n",
              "      <td>1982</td>\n",
              "      <td>3.0</td>\n",
              "    </tr>\n",
              "  </tbody>\n",
              "</table>\n",
              "</div>\n",
              "      <button class=\"colab-df-convert\" onclick=\"convertToInteractive('df-a331a817-a201-46c1-a230-d3a2fb8a2d7f')\"\n",
              "              title=\"Convert this dataframe to an interactive table.\"\n",
              "              style=\"display:none;\">\n",
              "        \n",
              "  <svg xmlns=\"http://www.w3.org/2000/svg\" height=\"24px\"viewBox=\"0 0 24 24\"\n",
              "       width=\"24px\">\n",
              "    <path d=\"M0 0h24v24H0V0z\" fill=\"none\"/>\n",
              "    <path d=\"M18.56 5.44l.94 2.06.94-2.06 2.06-.94-2.06-.94-.94-2.06-.94 2.06-2.06.94zm-11 1L8.5 8.5l.94-2.06 2.06-.94-2.06-.94L8.5 2.5l-.94 2.06-2.06.94zm10 10l.94 2.06.94-2.06 2.06-.94-2.06-.94-.94-2.06-.94 2.06-2.06.94z\"/><path d=\"M17.41 7.96l-1.37-1.37c-.4-.4-.92-.59-1.43-.59-.52 0-1.04.2-1.43.59L10.3 9.45l-7.72 7.72c-.78.78-.78 2.05 0 2.83L4 21.41c.39.39.9.59 1.41.59.51 0 1.02-.2 1.41-.59l7.78-7.78 2.81-2.81c.8-.78.8-2.07 0-2.86zM5.41 20L4 18.59l7.72-7.72 1.47 1.35L5.41 20z\"/>\n",
              "  </svg>\n",
              "      </button>\n",
              "      \n",
              "  <style>\n",
              "    .colab-df-container {\n",
              "      display:flex;\n",
              "      flex-wrap:wrap;\n",
              "      gap: 12px;\n",
              "    }\n",
              "\n",
              "    .colab-df-convert {\n",
              "      background-color: #E8F0FE;\n",
              "      border: none;\n",
              "      border-radius: 50%;\n",
              "      cursor: pointer;\n",
              "      display: none;\n",
              "      fill: #1967D2;\n",
              "      height: 32px;\n",
              "      padding: 0 0 0 0;\n",
              "      width: 32px;\n",
              "    }\n",
              "\n",
              "    .colab-df-convert:hover {\n",
              "      background-color: #E2EBFA;\n",
              "      box-shadow: 0px 1px 2px rgba(60, 64, 67, 0.3), 0px 1px 3px 1px rgba(60, 64, 67, 0.15);\n",
              "      fill: #174EA6;\n",
              "    }\n",
              "\n",
              "    [theme=dark] .colab-df-convert {\n",
              "      background-color: #3B4455;\n",
              "      fill: #D2E3FC;\n",
              "    }\n",
              "\n",
              "    [theme=dark] .colab-df-convert:hover {\n",
              "      background-color: #434B5C;\n",
              "      box-shadow: 0px 1px 3px 1px rgba(0, 0, 0, 0.15);\n",
              "      filter: drop-shadow(0px 1px 2px rgba(0, 0, 0, 0.3));\n",
              "      fill: #FFFFFF;\n",
              "    }\n",
              "  </style>\n",
              "\n",
              "      <script>\n",
              "        const buttonEl =\n",
              "          document.querySelector('#df-a331a817-a201-46c1-a230-d3a2fb8a2d7f button.colab-df-convert');\n",
              "        buttonEl.style.display =\n",
              "          google.colab.kernel.accessAllowed ? 'block' : 'none';\n",
              "\n",
              "        async function convertToInteractive(key) {\n",
              "          const element = document.querySelector('#df-a331a817-a201-46c1-a230-d3a2fb8a2d7f');\n",
              "          const dataTable =\n",
              "            await google.colab.kernel.invokeFunction('convertToInteractive',\n",
              "                                                     [key], {});\n",
              "          if (!dataTable) return;\n",
              "\n",
              "          const docLinkHtml = 'Like what you see? Visit the ' +\n",
              "            '<a target=\"_blank\" href=https://colab.research.google.com/notebooks/data_table.ipynb>data table notebook</a>'\n",
              "            + ' to learn more about interactive tables.';\n",
              "          element.innerHTML = '';\n",
              "          dataTable['output_type'] = 'display_data';\n",
              "          await google.colab.output.renderOutput(dataTable, element);\n",
              "          const docLink = document.createElement('div');\n",
              "          docLink.innerHTML = docLinkHtml;\n",
              "          element.appendChild(docLink);\n",
              "        }\n",
              "      </script>\n",
              "    </div>\n",
              "  </div>\n",
              "  "
            ]
          },
          "metadata": {},
          "execution_count": 35
        }
      ],
      "source": [
        "test_rating_df.head()"
      ]
    },
    {
      "cell_type": "markdown",
      "metadata": {
        "id": "xL8mveza_IfC"
      },
      "source": [
        "#Create an user-item interaction pivot table"
      ]
    },
    {
      "cell_type": "code",
      "execution_count": null,
      "metadata": {
        "id": "sRGq0s5JdPNu"
      },
      "outputs": [],
      "source": [
        "data_table = rating_df.pivot_table(index='movieId',columns='userId' , values='rating')\n",
        "data_table =data_table.fillna(0)"
      ]
    },
    {
      "cell_type": "code",
      "execution_count": null,
      "metadata": {
        "id": "k1yaazcbdnij",
        "colab": {
          "base_uri": "https://localhost:8080/",
          "height": 331
        },
        "outputId": "1a234875-10d4-4efa-d40d-a8f98ff52e9a"
      },
      "outputs": [
        {
          "output_type": "execute_result",
          "data": {
            "text/plain": [
              "userId   1    2    3    4    5    6    7    8    9    10   ...  601  602  603  \\\n",
              "movieId                                                    ...                  \n",
              "1        4.0  0.0  0.0  0.0  4.0  0.0  4.5  0.0  0.0  0.0  ...  4.0  0.0  4.0   \n",
              "2        0.0  0.0  0.0  0.0  0.0  4.0  0.0  4.0  0.0  0.0  ...  0.0  4.0  0.0   \n",
              "3        4.0  0.0  0.0  0.0  0.0  5.0  0.0  0.0  0.0  0.0  ...  0.0  0.0  0.0   \n",
              "4        0.0  0.0  0.0  0.0  0.0  3.0  0.0  0.0  0.0  0.0  ...  0.0  0.0  0.0   \n",
              "5        0.0  0.0  0.0  0.0  0.0  5.0  0.0  0.0  0.0  0.0  ...  0.0  0.0  0.0   \n",
              "\n",
              "userId   604  605  606  607  608  609  610  \n",
              "movieId                                     \n",
              "1        3.0  4.0  2.5  4.0  2.5  3.0  5.0  \n",
              "2        5.0  3.5  0.0  0.0  2.0  0.0  0.0  \n",
              "3        0.0  0.0  0.0  0.0  2.0  0.0  0.0  \n",
              "4        0.0  0.0  0.0  0.0  0.0  0.0  0.0  \n",
              "5        3.0  0.0  0.0  0.0  0.0  0.0  0.0  \n",
              "\n",
              "[5 rows x 610 columns]"
            ],
            "text/html": [
              "\n",
              "  <div id=\"df-8f1928ad-a08b-4534-9395-5bb971c8b4f8\">\n",
              "    <div class=\"colab-df-container\">\n",
              "      <div>\n",
              "<style scoped>\n",
              "    .dataframe tbody tr th:only-of-type {\n",
              "        vertical-align: middle;\n",
              "    }\n",
              "\n",
              "    .dataframe tbody tr th {\n",
              "        vertical-align: top;\n",
              "    }\n",
              "\n",
              "    .dataframe thead th {\n",
              "        text-align: right;\n",
              "    }\n",
              "</style>\n",
              "<table border=\"1\" class=\"dataframe\">\n",
              "  <thead>\n",
              "    <tr style=\"text-align: right;\">\n",
              "      <th>userId</th>\n",
              "      <th>1</th>\n",
              "      <th>2</th>\n",
              "      <th>3</th>\n",
              "      <th>4</th>\n",
              "      <th>5</th>\n",
              "      <th>6</th>\n",
              "      <th>7</th>\n",
              "      <th>8</th>\n",
              "      <th>9</th>\n",
              "      <th>10</th>\n",
              "      <th>...</th>\n",
              "      <th>601</th>\n",
              "      <th>602</th>\n",
              "      <th>603</th>\n",
              "      <th>604</th>\n",
              "      <th>605</th>\n",
              "      <th>606</th>\n",
              "      <th>607</th>\n",
              "      <th>608</th>\n",
              "      <th>609</th>\n",
              "      <th>610</th>\n",
              "    </tr>\n",
              "    <tr>\n",
              "      <th>movieId</th>\n",
              "      <th></th>\n",
              "      <th></th>\n",
              "      <th></th>\n",
              "      <th></th>\n",
              "      <th></th>\n",
              "      <th></th>\n",
              "      <th></th>\n",
              "      <th></th>\n",
              "      <th></th>\n",
              "      <th></th>\n",
              "      <th></th>\n",
              "      <th></th>\n",
              "      <th></th>\n",
              "      <th></th>\n",
              "      <th></th>\n",
              "      <th></th>\n",
              "      <th></th>\n",
              "      <th></th>\n",
              "      <th></th>\n",
              "      <th></th>\n",
              "      <th></th>\n",
              "    </tr>\n",
              "  </thead>\n",
              "  <tbody>\n",
              "    <tr>\n",
              "      <th>1</th>\n",
              "      <td>4.0</td>\n",
              "      <td>0.0</td>\n",
              "      <td>0.0</td>\n",
              "      <td>0.0</td>\n",
              "      <td>4.0</td>\n",
              "      <td>0.0</td>\n",
              "      <td>4.5</td>\n",
              "      <td>0.0</td>\n",
              "      <td>0.0</td>\n",
              "      <td>0.0</td>\n",
              "      <td>...</td>\n",
              "      <td>4.0</td>\n",
              "      <td>0.0</td>\n",
              "      <td>4.0</td>\n",
              "      <td>3.0</td>\n",
              "      <td>4.0</td>\n",
              "      <td>2.5</td>\n",
              "      <td>4.0</td>\n",
              "      <td>2.5</td>\n",
              "      <td>3.0</td>\n",
              "      <td>5.0</td>\n",
              "    </tr>\n",
              "    <tr>\n",
              "      <th>2</th>\n",
              "      <td>0.0</td>\n",
              "      <td>0.0</td>\n",
              "      <td>0.0</td>\n",
              "      <td>0.0</td>\n",
              "      <td>0.0</td>\n",
              "      <td>4.0</td>\n",
              "      <td>0.0</td>\n",
              "      <td>4.0</td>\n",
              "      <td>0.0</td>\n",
              "      <td>0.0</td>\n",
              "      <td>...</td>\n",
              "      <td>0.0</td>\n",
              "      <td>4.0</td>\n",
              "      <td>0.0</td>\n",
              "      <td>5.0</td>\n",
              "      <td>3.5</td>\n",
              "      <td>0.0</td>\n",
              "      <td>0.0</td>\n",
              "      <td>2.0</td>\n",
              "      <td>0.0</td>\n",
              "      <td>0.0</td>\n",
              "    </tr>\n",
              "    <tr>\n",
              "      <th>3</th>\n",
              "      <td>4.0</td>\n",
              "      <td>0.0</td>\n",
              "      <td>0.0</td>\n",
              "      <td>0.0</td>\n",
              "      <td>0.0</td>\n",
              "      <td>5.0</td>\n",
              "      <td>0.0</td>\n",
              "      <td>0.0</td>\n",
              "      <td>0.0</td>\n",
              "      <td>0.0</td>\n",
              "      <td>...</td>\n",
              "      <td>0.0</td>\n",
              "      <td>0.0</td>\n",
              "      <td>0.0</td>\n",
              "      <td>0.0</td>\n",
              "      <td>0.0</td>\n",
              "      <td>0.0</td>\n",
              "      <td>0.0</td>\n",
              "      <td>2.0</td>\n",
              "      <td>0.0</td>\n",
              "      <td>0.0</td>\n",
              "    </tr>\n",
              "    <tr>\n",
              "      <th>4</th>\n",
              "      <td>0.0</td>\n",
              "      <td>0.0</td>\n",
              "      <td>0.0</td>\n",
              "      <td>0.0</td>\n",
              "      <td>0.0</td>\n",
              "      <td>3.0</td>\n",
              "      <td>0.0</td>\n",
              "      <td>0.0</td>\n",
              "      <td>0.0</td>\n",
              "      <td>0.0</td>\n",
              "      <td>...</td>\n",
              "      <td>0.0</td>\n",
              "      <td>0.0</td>\n",
              "      <td>0.0</td>\n",
              "      <td>0.0</td>\n",
              "      <td>0.0</td>\n",
              "      <td>0.0</td>\n",
              "      <td>0.0</td>\n",
              "      <td>0.0</td>\n",
              "      <td>0.0</td>\n",
              "      <td>0.0</td>\n",
              "    </tr>\n",
              "    <tr>\n",
              "      <th>5</th>\n",
              "      <td>0.0</td>\n",
              "      <td>0.0</td>\n",
              "      <td>0.0</td>\n",
              "      <td>0.0</td>\n",
              "      <td>0.0</td>\n",
              "      <td>5.0</td>\n",
              "      <td>0.0</td>\n",
              "      <td>0.0</td>\n",
              "      <td>0.0</td>\n",
              "      <td>0.0</td>\n",
              "      <td>...</td>\n",
              "      <td>0.0</td>\n",
              "      <td>0.0</td>\n",
              "      <td>0.0</td>\n",
              "      <td>3.0</td>\n",
              "      <td>0.0</td>\n",
              "      <td>0.0</td>\n",
              "      <td>0.0</td>\n",
              "      <td>0.0</td>\n",
              "      <td>0.0</td>\n",
              "      <td>0.0</td>\n",
              "    </tr>\n",
              "  </tbody>\n",
              "</table>\n",
              "<p>5 rows × 610 columns</p>\n",
              "</div>\n",
              "      <button class=\"colab-df-convert\" onclick=\"convertToInteractive('df-8f1928ad-a08b-4534-9395-5bb971c8b4f8')\"\n",
              "              title=\"Convert this dataframe to an interactive table.\"\n",
              "              style=\"display:none;\">\n",
              "        \n",
              "  <svg xmlns=\"http://www.w3.org/2000/svg\" height=\"24px\"viewBox=\"0 0 24 24\"\n",
              "       width=\"24px\">\n",
              "    <path d=\"M0 0h24v24H0V0z\" fill=\"none\"/>\n",
              "    <path d=\"M18.56 5.44l.94 2.06.94-2.06 2.06-.94-2.06-.94-.94-2.06-.94 2.06-2.06.94zm-11 1L8.5 8.5l.94-2.06 2.06-.94-2.06-.94L8.5 2.5l-.94 2.06-2.06.94zm10 10l.94 2.06.94-2.06 2.06-.94-2.06-.94-.94-2.06-.94 2.06-2.06.94z\"/><path d=\"M17.41 7.96l-1.37-1.37c-.4-.4-.92-.59-1.43-.59-.52 0-1.04.2-1.43.59L10.3 9.45l-7.72 7.72c-.78.78-.78 2.05 0 2.83L4 21.41c.39.39.9.59 1.41.59.51 0 1.02-.2 1.41-.59l7.78-7.78 2.81-2.81c.8-.78.8-2.07 0-2.86zM5.41 20L4 18.59l7.72-7.72 1.47 1.35L5.41 20z\"/>\n",
              "  </svg>\n",
              "      </button>\n",
              "      \n",
              "  <style>\n",
              "    .colab-df-container {\n",
              "      display:flex;\n",
              "      flex-wrap:wrap;\n",
              "      gap: 12px;\n",
              "    }\n",
              "\n",
              "    .colab-df-convert {\n",
              "      background-color: #E8F0FE;\n",
              "      border: none;\n",
              "      border-radius: 50%;\n",
              "      cursor: pointer;\n",
              "      display: none;\n",
              "      fill: #1967D2;\n",
              "      height: 32px;\n",
              "      padding: 0 0 0 0;\n",
              "      width: 32px;\n",
              "    }\n",
              "\n",
              "    .colab-df-convert:hover {\n",
              "      background-color: #E2EBFA;\n",
              "      box-shadow: 0px 1px 2px rgba(60, 64, 67, 0.3), 0px 1px 3px 1px rgba(60, 64, 67, 0.15);\n",
              "      fill: #174EA6;\n",
              "    }\n",
              "\n",
              "    [theme=dark] .colab-df-convert {\n",
              "      background-color: #3B4455;\n",
              "      fill: #D2E3FC;\n",
              "    }\n",
              "\n",
              "    [theme=dark] .colab-df-convert:hover {\n",
              "      background-color: #434B5C;\n",
              "      box-shadow: 0px 1px 3px 1px rgba(0, 0, 0, 0.15);\n",
              "      filter: drop-shadow(0px 1px 2px rgba(0, 0, 0, 0.3));\n",
              "      fill: #FFFFFF;\n",
              "    }\n",
              "  </style>\n",
              "\n",
              "      <script>\n",
              "        const buttonEl =\n",
              "          document.querySelector('#df-8f1928ad-a08b-4534-9395-5bb971c8b4f8 button.colab-df-convert');\n",
              "        buttonEl.style.display =\n",
              "          google.colab.kernel.accessAllowed ? 'block' : 'none';\n",
              "\n",
              "        async function convertToInteractive(key) {\n",
              "          const element = document.querySelector('#df-8f1928ad-a08b-4534-9395-5bb971c8b4f8');\n",
              "          const dataTable =\n",
              "            await google.colab.kernel.invokeFunction('convertToInteractive',\n",
              "                                                     [key], {});\n",
              "          if (!dataTable) return;\n",
              "\n",
              "          const docLinkHtml = 'Like what you see? Visit the ' +\n",
              "            '<a target=\"_blank\" href=https://colab.research.google.com/notebooks/data_table.ipynb>data table notebook</a>'\n",
              "            + ' to learn more about interactive tables.';\n",
              "          element.innerHTML = '';\n",
              "          dataTable['output_type'] = 'display_data';\n",
              "          await google.colab.output.renderOutput(dataTable, element);\n",
              "          const docLink = document.createElement('div');\n",
              "          docLink.innerHTML = docLinkHtml;\n",
              "          element.appendChild(docLink);\n",
              "        }\n",
              "      </script>\n",
              "    </div>\n",
              "  </div>\n",
              "  "
            ]
          },
          "metadata": {},
          "execution_count": 37
        }
      ],
      "source": [
        "data_table.head()"
      ]
    },
    {
      "cell_type": "code",
      "execution_count": null,
      "metadata": {
        "id": "Z3YRIWvPnM3e"
      },
      "outputs": [],
      "source": [
        "train_table = train_rating_df.pivot_table(index='movieId',columns='userId' , values='rating')\n",
        "train_table =train_table.fillna(0)"
      ]
    },
    {
      "cell_type": "code",
      "execution_count": null,
      "metadata": {
        "id": "E9pyQwEinSWW",
        "colab": {
          "base_uri": "https://localhost:8080/",
          "height": 331
        },
        "outputId": "fd10f3ab-2314-4f4c-caeb-11e3b9c300ef"
      },
      "outputs": [
        {
          "output_type": "execute_result",
          "data": {
            "text/plain": [
              "userId   1    2    3    4    5    6    7    8    9    10   ...  601  602  603  \\\n",
              "movieId                                                    ...                  \n",
              "1        4.0  0.0  0.0  0.0  0.0  0.0  4.5  0.0  0.0  0.0  ...  4.0  0.0  4.0   \n",
              "2        0.0  0.0  0.0  0.0  0.0  4.0  0.0  0.0  0.0  0.0  ...  0.0  4.0  0.0   \n",
              "3        0.0  0.0  0.0  0.0  0.0  5.0  0.0  0.0  0.0  0.0  ...  0.0  0.0  0.0   \n",
              "4        0.0  0.0  0.0  0.0  0.0  3.0  0.0  0.0  0.0  0.0  ...  0.0  0.0  0.0   \n",
              "5        0.0  0.0  0.0  0.0  0.0  5.0  0.0  0.0  0.0  0.0  ...  0.0  0.0  0.0   \n",
              "\n",
              "userId   604  605  606  607  608  609  610  \n",
              "movieId                                     \n",
              "1        3.0  0.0  2.5  0.0  0.0  3.0  5.0  \n",
              "2        5.0  3.5  0.0  0.0  2.0  0.0  0.0  \n",
              "3        0.0  0.0  0.0  0.0  2.0  0.0  0.0  \n",
              "4        0.0  0.0  0.0  0.0  0.0  0.0  0.0  \n",
              "5        3.0  0.0  0.0  0.0  0.0  0.0  0.0  \n",
              "\n",
              "[5 rows x 610 columns]"
            ],
            "text/html": [
              "\n",
              "  <div id=\"df-37dfe711-fd33-4fa1-b041-bb94a3b7aef7\">\n",
              "    <div class=\"colab-df-container\">\n",
              "      <div>\n",
              "<style scoped>\n",
              "    .dataframe tbody tr th:only-of-type {\n",
              "        vertical-align: middle;\n",
              "    }\n",
              "\n",
              "    .dataframe tbody tr th {\n",
              "        vertical-align: top;\n",
              "    }\n",
              "\n",
              "    .dataframe thead th {\n",
              "        text-align: right;\n",
              "    }\n",
              "</style>\n",
              "<table border=\"1\" class=\"dataframe\">\n",
              "  <thead>\n",
              "    <tr style=\"text-align: right;\">\n",
              "      <th>userId</th>\n",
              "      <th>1</th>\n",
              "      <th>2</th>\n",
              "      <th>3</th>\n",
              "      <th>4</th>\n",
              "      <th>5</th>\n",
              "      <th>6</th>\n",
              "      <th>7</th>\n",
              "      <th>8</th>\n",
              "      <th>9</th>\n",
              "      <th>10</th>\n",
              "      <th>...</th>\n",
              "      <th>601</th>\n",
              "      <th>602</th>\n",
              "      <th>603</th>\n",
              "      <th>604</th>\n",
              "      <th>605</th>\n",
              "      <th>606</th>\n",
              "      <th>607</th>\n",
              "      <th>608</th>\n",
              "      <th>609</th>\n",
              "      <th>610</th>\n",
              "    </tr>\n",
              "    <tr>\n",
              "      <th>movieId</th>\n",
              "      <th></th>\n",
              "      <th></th>\n",
              "      <th></th>\n",
              "      <th></th>\n",
              "      <th></th>\n",
              "      <th></th>\n",
              "      <th></th>\n",
              "      <th></th>\n",
              "      <th></th>\n",
              "      <th></th>\n",
              "      <th></th>\n",
              "      <th></th>\n",
              "      <th></th>\n",
              "      <th></th>\n",
              "      <th></th>\n",
              "      <th></th>\n",
              "      <th></th>\n",
              "      <th></th>\n",
              "      <th></th>\n",
              "      <th></th>\n",
              "      <th></th>\n",
              "    </tr>\n",
              "  </thead>\n",
              "  <tbody>\n",
              "    <tr>\n",
              "      <th>1</th>\n",
              "      <td>4.0</td>\n",
              "      <td>0.0</td>\n",
              "      <td>0.0</td>\n",
              "      <td>0.0</td>\n",
              "      <td>0.0</td>\n",
              "      <td>0.0</td>\n",
              "      <td>4.5</td>\n",
              "      <td>0.0</td>\n",
              "      <td>0.0</td>\n",
              "      <td>0.0</td>\n",
              "      <td>...</td>\n",
              "      <td>4.0</td>\n",
              "      <td>0.0</td>\n",
              "      <td>4.0</td>\n",
              "      <td>3.0</td>\n",
              "      <td>0.0</td>\n",
              "      <td>2.5</td>\n",
              "      <td>0.0</td>\n",
              "      <td>0.0</td>\n",
              "      <td>3.0</td>\n",
              "      <td>5.0</td>\n",
              "    </tr>\n",
              "    <tr>\n",
              "      <th>2</th>\n",
              "      <td>0.0</td>\n",
              "      <td>0.0</td>\n",
              "      <td>0.0</td>\n",
              "      <td>0.0</td>\n",
              "      <td>0.0</td>\n",
              "      <td>4.0</td>\n",
              "      <td>0.0</td>\n",
              "      <td>0.0</td>\n",
              "      <td>0.0</td>\n",
              "      <td>0.0</td>\n",
              "      <td>...</td>\n",
              "      <td>0.0</td>\n",
              "      <td>4.0</td>\n",
              "      <td>0.0</td>\n",
              "      <td>5.0</td>\n",
              "      <td>3.5</td>\n",
              "      <td>0.0</td>\n",
              "      <td>0.0</td>\n",
              "      <td>2.0</td>\n",
              "      <td>0.0</td>\n",
              "      <td>0.0</td>\n",
              "    </tr>\n",
              "    <tr>\n",
              "      <th>3</th>\n",
              "      <td>0.0</td>\n",
              "      <td>0.0</td>\n",
              "      <td>0.0</td>\n",
              "      <td>0.0</td>\n",
              "      <td>0.0</td>\n",
              "      <td>5.0</td>\n",
              "      <td>0.0</td>\n",
              "      <td>0.0</td>\n",
              "      <td>0.0</td>\n",
              "      <td>0.0</td>\n",
              "      <td>...</td>\n",
              "      <td>0.0</td>\n",
              "      <td>0.0</td>\n",
              "      <td>0.0</td>\n",
              "      <td>0.0</td>\n",
              "      <td>0.0</td>\n",
              "      <td>0.0</td>\n",
              "      <td>0.0</td>\n",
              "      <td>2.0</td>\n",
              "      <td>0.0</td>\n",
              "      <td>0.0</td>\n",
              "    </tr>\n",
              "    <tr>\n",
              "      <th>4</th>\n",
              "      <td>0.0</td>\n",
              "      <td>0.0</td>\n",
              "      <td>0.0</td>\n",
              "      <td>0.0</td>\n",
              "      <td>0.0</td>\n",
              "      <td>3.0</td>\n",
              "      <td>0.0</td>\n",
              "      <td>0.0</td>\n",
              "      <td>0.0</td>\n",
              "      <td>0.0</td>\n",
              "      <td>...</td>\n",
              "      <td>0.0</td>\n",
              "      <td>0.0</td>\n",
              "      <td>0.0</td>\n",
              "      <td>0.0</td>\n",
              "      <td>0.0</td>\n",
              "      <td>0.0</td>\n",
              "      <td>0.0</td>\n",
              "      <td>0.0</td>\n",
              "      <td>0.0</td>\n",
              "      <td>0.0</td>\n",
              "    </tr>\n",
              "    <tr>\n",
              "      <th>5</th>\n",
              "      <td>0.0</td>\n",
              "      <td>0.0</td>\n",
              "      <td>0.0</td>\n",
              "      <td>0.0</td>\n",
              "      <td>0.0</td>\n",
              "      <td>5.0</td>\n",
              "      <td>0.0</td>\n",
              "      <td>0.0</td>\n",
              "      <td>0.0</td>\n",
              "      <td>0.0</td>\n",
              "      <td>...</td>\n",
              "      <td>0.0</td>\n",
              "      <td>0.0</td>\n",
              "      <td>0.0</td>\n",
              "      <td>3.0</td>\n",
              "      <td>0.0</td>\n",
              "      <td>0.0</td>\n",
              "      <td>0.0</td>\n",
              "      <td>0.0</td>\n",
              "      <td>0.0</td>\n",
              "      <td>0.0</td>\n",
              "    </tr>\n",
              "  </tbody>\n",
              "</table>\n",
              "<p>5 rows × 610 columns</p>\n",
              "</div>\n",
              "      <button class=\"colab-df-convert\" onclick=\"convertToInteractive('df-37dfe711-fd33-4fa1-b041-bb94a3b7aef7')\"\n",
              "              title=\"Convert this dataframe to an interactive table.\"\n",
              "              style=\"display:none;\">\n",
              "        \n",
              "  <svg xmlns=\"http://www.w3.org/2000/svg\" height=\"24px\"viewBox=\"0 0 24 24\"\n",
              "       width=\"24px\">\n",
              "    <path d=\"M0 0h24v24H0V0z\" fill=\"none\"/>\n",
              "    <path d=\"M18.56 5.44l.94 2.06.94-2.06 2.06-.94-2.06-.94-.94-2.06-.94 2.06-2.06.94zm-11 1L8.5 8.5l.94-2.06 2.06-.94-2.06-.94L8.5 2.5l-.94 2.06-2.06.94zm10 10l.94 2.06.94-2.06 2.06-.94-2.06-.94-.94-2.06-.94 2.06-2.06.94z\"/><path d=\"M17.41 7.96l-1.37-1.37c-.4-.4-.92-.59-1.43-.59-.52 0-1.04.2-1.43.59L10.3 9.45l-7.72 7.72c-.78.78-.78 2.05 0 2.83L4 21.41c.39.39.9.59 1.41.59.51 0 1.02-.2 1.41-.59l7.78-7.78 2.81-2.81c.8-.78.8-2.07 0-2.86zM5.41 20L4 18.59l7.72-7.72 1.47 1.35L5.41 20z\"/>\n",
              "  </svg>\n",
              "      </button>\n",
              "      \n",
              "  <style>\n",
              "    .colab-df-container {\n",
              "      display:flex;\n",
              "      flex-wrap:wrap;\n",
              "      gap: 12px;\n",
              "    }\n",
              "\n",
              "    .colab-df-convert {\n",
              "      background-color: #E8F0FE;\n",
              "      border: none;\n",
              "      border-radius: 50%;\n",
              "      cursor: pointer;\n",
              "      display: none;\n",
              "      fill: #1967D2;\n",
              "      height: 32px;\n",
              "      padding: 0 0 0 0;\n",
              "      width: 32px;\n",
              "    }\n",
              "\n",
              "    .colab-df-convert:hover {\n",
              "      background-color: #E2EBFA;\n",
              "      box-shadow: 0px 1px 2px rgba(60, 64, 67, 0.3), 0px 1px 3px 1px rgba(60, 64, 67, 0.15);\n",
              "      fill: #174EA6;\n",
              "    }\n",
              "\n",
              "    [theme=dark] .colab-df-convert {\n",
              "      background-color: #3B4455;\n",
              "      fill: #D2E3FC;\n",
              "    }\n",
              "\n",
              "    [theme=dark] .colab-df-convert:hover {\n",
              "      background-color: #434B5C;\n",
              "      box-shadow: 0px 1px 3px 1px rgba(0, 0, 0, 0.15);\n",
              "      filter: drop-shadow(0px 1px 2px rgba(0, 0, 0, 0.3));\n",
              "      fill: #FFFFFF;\n",
              "    }\n",
              "  </style>\n",
              "\n",
              "      <script>\n",
              "        const buttonEl =\n",
              "          document.querySelector('#df-37dfe711-fd33-4fa1-b041-bb94a3b7aef7 button.colab-df-convert');\n",
              "        buttonEl.style.display =\n",
              "          google.colab.kernel.accessAllowed ? 'block' : 'none';\n",
              "\n",
              "        async function convertToInteractive(key) {\n",
              "          const element = document.querySelector('#df-37dfe711-fd33-4fa1-b041-bb94a3b7aef7');\n",
              "          const dataTable =\n",
              "            await google.colab.kernel.invokeFunction('convertToInteractive',\n",
              "                                                     [key], {});\n",
              "          if (!dataTable) return;\n",
              "\n",
              "          const docLinkHtml = 'Like what you see? Visit the ' +\n",
              "            '<a target=\"_blank\" href=https://colab.research.google.com/notebooks/data_table.ipynb>data table notebook</a>'\n",
              "            + ' to learn more about interactive tables.';\n",
              "          element.innerHTML = '';\n",
              "          dataTable['output_type'] = 'display_data';\n",
              "          await google.colab.output.renderOutput(dataTable, element);\n",
              "          const docLink = document.createElement('div');\n",
              "          docLink.innerHTML = docLinkHtml;\n",
              "          element.appendChild(docLink);\n",
              "        }\n",
              "      </script>\n",
              "    </div>\n",
              "  </div>\n",
              "  "
            ]
          },
          "metadata": {},
          "execution_count": 39
        }
      ],
      "source": [
        "train_table.head()"
      ]
    },
    {
      "cell_type": "markdown",
      "metadata": {
        "id": "yFnfULVt_-RN"
      },
      "source": [
        "#Getting global average values"
      ]
    },
    {
      "cell_type": "markdown",
      "metadata": {
        "id": "JimBsf8s_3N1"
      },
      "source": [
        "#Create a sparse matrix"
      ]
    },
    {
      "cell_type": "code",
      "execution_count": null,
      "metadata": {
        "id": "mnqbr14PAhdQ"
      },
      "outputs": [],
      "source": [
        "from scipy.sparse import csr_matrix\n",
        "train_matrix = csr_matrix((train_rating_df.rating.values, (train_rating_df.userId.values, train_rating_df.movieId.values)))\n",
        "test_matrix = csr_matrix((test_rating_df.rating.values, (test_rating_df.userId.values, test_rating_df.movieId.values)))"
      ]
    },
    {
      "cell_type": "markdown",
      "metadata": {
        "id": "FjaNMFI4BSI6"
      },
      "source": [
        "#Getting the global value of the whole matrix"
      ]
    },
    {
      "cell_type": "code",
      "execution_count": null,
      "metadata": {
        "id": "3q5Hnmp-BX-U",
        "colab": {
          "base_uri": "https://localhost:8080/"
        },
        "outputId": "9bc423ea-4f05-4501-a9fa-f5d6190f0835"
      },
      "outputs": [
        {
          "output_type": "stream",
          "name": "stdout",
          "text": [
            "3.502237566321218\n"
          ]
        }
      ],
      "source": [
        "train_average=dict()\n",
        "train_average['global']=train_matrix.sum() / train_matrix.count_nonzero()\n",
        "print(train_average['global'])"
      ]
    },
    {
      "cell_type": "code",
      "execution_count": null,
      "metadata": {
        "id": "e9KlXjI0Byoi",
        "colab": {
          "base_uri": "https://localhost:8080/"
        },
        "outputId": "11228e9c-215f-43ff-da38-62d498a7bf1f"
      },
      "outputs": [
        {
          "output_type": "stream",
          "name": "stdout",
          "text": [
            "3.498834787782626\n"
          ]
        }
      ],
      "source": [
        "test_average=dict()\n",
        "test_average['global']=test_matrix.sum() / test_matrix.count_nonzero()\n",
        "print(test_average['global'])"
      ]
    },
    {
      "cell_type": "markdown",
      "metadata": {
        "id": "-U8hf9SZBYg6"
      },
      "source": [
        "#Getting each user and each movie average rating"
      ]
    },
    {
      "cell_type": "code",
      "execution_count": null,
      "metadata": {
        "id": "jca9yChxBBq1"
      },
      "outputs": [],
      "source": [
        "def get_average_rating(sparse_matrix,is_user):\n",
        "  ax=1 if is_user else 0\n",
        "  rating_sum= sparse_matrix.sum(axis=ax).A1\n",
        "  is_rated = sparse_matrix!=0\n",
        "  no_of_rating = is_rated.sum(axis=ax).A1\n",
        "  u,m= sparse_matrix.shape\n",
        "  average_rating= {i : rating_sum[i]/no_of_rating[i] for i in range (u if is_user else m) if no_of_rating[i]!=0}\n",
        "  return average_rating"
      ]
    },
    {
      "cell_type": "code",
      "execution_count": null,
      "metadata": {
        "id": "v-_DLvmIB-B2",
        "colab": {
          "base_uri": "https://localhost:8080/"
        },
        "outputId": "f5e84aab-ceed-49b4-f239-b4d12db84717"
      },
      "outputs": [
        {
          "output_type": "stream",
          "name": "stdout",
          "text": [
            "{1: 4.3841807909604515, 2: 4.0227272727272725, 3: 2.3823529411764706, 4: 3.5681818181818183, 5: 3.6285714285714286, 6: 3.4941634241245136, 7: 3.1141732283464565, 8: 3.5945945945945947, 9: 3.2857142857142856, 10: 3.2242990654205608, 11: 3.8085106382978724, 12: 4.462962962962963, 13: 3.586206896551724, 14: 3.212121212121212, 15: 3.5, 16: 3.759493670886076, 17: 4.202247191011236, 18: 3.713554987212276, 19: 2.618018018018018, 20: 3.6457286432160805, 21: 3.246518105849582, 22: 2.7065217391304346, 23: 3.67, 24: 3.652941176470588, 25: 4.791666666666667, 26: 3.1666666666666665, 27: 3.552380952380952, 28: 3.016304347826087, 29: 4.109375, 30: 4.64, 31: 3.9523809523809526, 32: 3.744186046511628, 33: 3.776, 34: 3.4153846153846152, 35: 4.111111111111111, 36: 2.6979166666666665, 37: 3.933333333333333, 38: 3.152542372881356, 39: 3.8658536585365852, 40: 3.7162162162162162, 41: 3.3035714285714284, 42: 3.616045845272206, 43: 4.574468085106383, 44: 3.380952380952381, 45: 3.892523364485981, 46: 4.054054054054054, 47: 3.0964912280701755, 48: 4.0, 49: 4.25, 50: 2.7549407114624507, 51: 3.7768456375838926, 52: 4.523809523809524, 53: 5.0, 54: 3.0384615384615383, 55: 2.659090909090909, 56: 3.8536585365853657, 57: 3.328767123287671, 58: 3.9743589743589745, 59: 4.3896103896103895, 60: 3.7142857142857144, 61: 4.071428571428571, 62: 4.065573770491803, 63: 3.6040723981900453, 64: 3.7711267605633805, 65: 4.068181818181818, 66: 4.0, 67: 4.017857142857143, 68: 3.2405753968253967, 69: 4.45945945945946, 70: 4.336956521739131, 71: 3.5517241379310347, 72: 4.128205128205129, 73: 3.638235294117647, 74: 4.295774647887324, 75: 3.160377358490566, 76: 3.0638297872340425, 77: 4.1521739130434785, 78: 3.2395833333333335, 79: 4.203703703703703, 80: 4.265384615384615, 81: 2.8260869565217392, 82: 3.3812154696132595, 83: 3.315, 84: 3.700854700854701, 85: 3.625, 86: 3.9322033898305087, 87: 3.9375, 88: 4.095744680851064, 89: 3.4563106796116503, 90: 4.048780487804878, 91: 3.426829268292683, 92: 4.027777777777778, 93: 4.246753246753247, 94: 3.0930232558139537, 95: 4.083916083916084, 96: 3.8135593220338984, 97: 4.16, 98: 3.92, 99: 3.731707317073171, 100: 3.9464285714285716, 101: 3.5, 102: 3.3, 103: 3.8822525597269624, 104: 3.486111111111111, 105: 4.110627177700349, 106: 4.5, 107: 3.9583333333333335, 108: 4.0, 109: 3.269230769230769, 110: 3.6707317073170733, 111: 3.3234126984126986, 112: 3.478723404255319, 113: 3.6869565217391305, 114: 3.25, 115: 3.813953488372093, 116: 3.4583333333333335, 117: 3.369565217391304, 118: 3.875, 119: 4.169642857142857, 120: 3.4375, 121: 3.3260869565217392, 122: 4.546052631578948, 123: 4.021739130434782, 124: 4.025, 125: 3.868150684931507, 126: 3.3461538461538463, 127: 3.0833333333333335, 128: 4.3076923076923075, 129: 3.925438596491228, 130: 3.608695652173913, 131: 3.4038461538461537, 132: 3.039855072463768, 133: 3.074074074074074, 134: 3.6333333333333333, 135: 3.6278026905829597, 136: 3.3333333333333335, 137: 3.9903846153846154, 138: 3.7, 139: 2.1587837837837838, 140: 3.520876826722338, 141: 3.5251798561151078, 142: 3.75, 143: 3.2735849056603774, 144: 3.6581632653061225, 145: 3.3636363636363638, 146: 3.0714285714285716, 147: 3.1333333333333333, 148: 3.8205128205128207, 149: 2.872340425531915, 150: 3.6, 151: 3.477272727272727, 152: 4.056603773584905, 153: 2.1354166666666665, 154: 4.537037037037037, 155: 3.5833333333333335, 156: 3.6865671641791047, 157: 3.2777777777777777, 158: 3.5238095238095237, 159: 3.238095238095238, 160: 2.710144927536232, 161: 3.8666666666666667, 162: 4.172413793103448, 163: 3.066666666666667, 164: 4.214285714285714, 165: 3.4727272727272727, 166: 4.082802547770701, 167: 3.5037593984962405, 168: 4.5, 169: 4.243181818181818, 170: 3.3076923076923075, 171: 4.594202898550725, 172: 3.9047619047619047, 173: 3.4761904761904763, 174: 3.607142857142857, 175: 3.5277777777777777, 176: 4.068965517241379, 177: 3.406960227272727, 178: 4.025, 179: 3.764705882352941, 180: 3.5, 181: 2.9789473684210526, 182: 3.4987357774968393, 183: 3.902439024390244, 184: 3.747826086956522, 185: 3.657142857142857, 186: 4.0710382513661205, 187: 3.741706161137441, 188: 4.4, 189: 4.131578947368421, 190: 3.9313725490196076, 191: 3.8208955223880596, 192: 4.0, 193: 3.7142857142857144, 194: 3.411764705882353, 195: 3.4901960784313726, 196: 3.977272727272727, 197: 3.72, 198: 3.526595744680851, 199: 3.4292929292929295, 200: 3.816793893129771, 201: 4.159090909090909, 202: 3.8187311178247736, 203: 3.7916666666666665, 204: 4.0, 205: 3.88, 206: 4.095238095238095, 207: 3.088235294117647, 208: 3.238095238095238, 209: 4.375, 210: 4.084821428571429, 211: 4.026666666666666, 212: 3.6122994652406417, 213: 3.807142857142857, 214: 2.7857142857142856, 215: 3.986842105263158, 216: 3.7109375, 217: 2.775551102204409, 218: 3.3, 219: 3.1332547169811322, 220: 3.951923076923077, 221: 4.103571428571429, 222: 3.1553398058252426, 223: 3.25, 224: 4.23404255319149, 225: 3.622950819672131, 226: 3.448905109489051, 227: 4.2243589743589745, 228: 3.74, 229: 3.709090909090909, 230: 2.852, 231: 3.911764705882353, 232: 3.2430362116991645, 233: 3.2920353982300883, 234: 3.5089820359281436, 235: 3.5849056603773586, 236: 4.04, 237: 3.4305555555555554, 238: 3.6363636363636362, 239: 4.023706896551724, 240: 3.898989898989899, 241: 3.9923076923076923, 242: 3.642857142857143, 243: 3.96, 244: 3.6923076923076925, 245: 2.642857142857143, 246: 4.254777070063694, 247: 3.717741935483871, 248: 3.7560975609756095, 249: 3.7057416267942584, 250: 4.404761904761905, 251: 4.8125, 252: 4.133333333333334, 253: 4.383720930232558, 254: 3.9505494505494507, 255: 2.5945945945945947, 256: 3.9517241379310346, 257: 3.1923076923076925, 258: 4.375, 259: 2.9, 260: 3.7435897435897436, 261: 3.902439024390244, 262: 3.148936170212766, 263: 3.671597633136095, 264: 3.6315789473684212, 265: 3.343283582089552, 266: 3.458904109589041, 267: 4.148936170212766, 268: 3.24, 269: 3.5652173913043477, 270: 3.2222222222222223, 271: 3.142857142857143, 272: 3.74, 273: 4.0212765957446805, 274: 3.233151183970856, 275: 4.055045871559633, 276: 4.424242424242424, 277: 3.6666666666666665, 278: 3.735294117647059, 279: 3.652173913043478, 280: 3.891025641025641, 281: 3.3055555555555554, 282: 4.028497409326425, 283: 3.2142857142857144, 284: 3.6875, 285: 3.9482758620689653, 286: 3.8372093023255816, 287: 2.6565217391304348, 288: 3.149014778325123, 289: 3.392857142857143, 290: 4.136792452830188, 291: 4.173913043478261, 292: 3.316526610644258, 293: 2.6875, 294: 2.63049853372434, 295: 3.85, 296: 4.12, 297: 2.5272727272727273, 298: 2.358565737051793, 299: 3.7, 300: 4.32, 301: 3.338888888888889, 302: 4.0, 303: 3.9069767441860463, 304: 3.8563218390804597, 305: 3.9168207024029575, 306: 3.3146067415730336, 307: 2.6656091370558377, 308: 2.417525773195876, 309: 3.8157894736842106, 310: 3.543103448275862, 311: 2.409090909090909, 312: 3.7150837988826817, 313: 3.4057971014492754, 314: 2.9607843137254903, 315: 3.4814814814814814, 316: 2.9375, 317: 3.7094594594594597, 318: 3.750714285714286, 319: 4.392857142857143, 320: 3.71875, 321: 3.5454545454545454, 322: 3.345679012345679, 323: 3.1927710843373496, 324: 3.0, 325: 3.542452830188679, 326: 3.984251968503937, 327: 4.108108108108108, 328: 3.2338308457711444, 329: 2.9473684210526314, 330: 3.681592039800995, 331: 3.6739130434782608, 332: 3.6214285714285714, 333: 2.611111111111111, 334: 3.436, 335: 3.6875, 336: 4.25, 337: 4.290909090909091, 338: 2.9655172413793105, 339: 4.050488599348534, 340: 4.2, 341: 3.738095238095238, 342: 2.9411764705882355, 343: 4.142857142857143, 344: 3.75, 345: 3.86734693877551, 346: 3.678030303030303, 347: 3.625, 348: 4.690476190476191, 349: 3.7586206896551726, 350: 3.2857142857142856, 351: 3.685185185185185, 352: 3.799163179916318, 353: 3.5555555555555554, 354: 3.7758620689655173, 355: 4.0476190476190474, 356: 4.025862068965517, 357: 3.9712837837837838, 358: 3.4310344827586206, 359: 3.4206349206349205, 360: 3.6, 361: 3.238095238095238, 362: 4.265822784810126, 363: 3.1666666666666665, 364: 4.0625, 365: 2.6968325791855206, 366: 4.02, 367: 3.9060402684563758, 368: 2.8626943005181347, 369: 3.3689320388349513, 370: 3.4657534246575343, 371: 4.621212121212121, 372: 3.351758793969849, 373: 3.2151898734177213, 374: 3.6296296296296298, 375: 3.8333333333333335, 376: 4.05, 377: 3.9504504504504503, 378: 3.8518518518518516, 379: 3.3703703703703702, 380: 3.651356993736952, 381: 3.5259740259740258, 382: 3.548936170212766, 383: 3.88, 384: 3.210526315789474, 385: 3.335616438356164, 386: 2.7037037037037037, 387: 3.2566425120772946, 388: 3.58, 389: 4.074074074074074, 390: 3.859375, 391: 3.73841059602649, 392: 3.0, 393: 3.884259259259259, 394: 3.0, 395: 3.018867924528302, 396: 3.409090909090909, 397: 4.0, 398: 4.284090909090909, 399: 4.053571428571429, 400: 4.470588235294118, 401: 3.5258620689655173, 402: 3.823529411764706, 403: 3.7, 404: 3.4, 405: 3.9893617021276597, 406: 3.1666666666666665, 407: 4.1875, 408: 4.041666666666667, 409: 3.769230769230769, 410: 4.111111111111111, 411: 3.284313725490196, 412: 3.9125, 413: 4.383720930232558, 414: 3.3992140545538603, 415: 4.113333333333333, 416: 3.125, 417: 4.446428571428571, 418: 3.75, 419: 3.852, 420: 3.763157894736842, 421: 4.089285714285714, 422: 3.391891891891892, 423: 3.8125, 424: 3.7422680412371134, 425: 3.5595744680851062, 426: 3.6231884057971016, 427: 3.1911764705882355, 428: 2.615702479338843, 429: 4.045454545454546, 430: 3.872093023255814, 431: 2.78125, 432: 3.655940594059406, 433: 3.710526315789474, 434: 3.764864864864865, 435: 4.411764705882353, 436: 3.2093023255813953, 437: 3.752577319587629, 438: 3.3564154786150713, 439: 4.214285714285714, 440: 3.8333333333333335, 441: 4.5131578947368425, 442: 1.25, 443: 4.166666666666667, 444: 3.806451612903226, 445: 3.975806451612903, 446: 3.2615384615384615, 447: 3.918032786885246, 448: 2.8311951384199867, 449: 3.3653846153846154, 450: 3.911111111111111, 451: 3.8260869565217392, 452: 4.554545454545455, 453: 3.9563492063492065, 454: 3.763888888888889, 455: 3.511627906976744, 456: 3.7222222222222223, 457: 3.3076923076923075, 458: 4.176470588235294, 459: 4.318181818181818, 460: 4.276119402985074, 461: 2.75, 462: 3.434357541899441, 463: 3.8125, 464: 3.696261682242991, 465: 4.126315789473685, 466: 3.9213483146067416, 467: 3.3157894736842106, 468: 3.4, 469: 3.679045092838196, 470: 3.517857142857143, 471: 3.9347826086956523, 472: 4.115384615384615, 473: 3.4393939393939394, 474: 3.4020771513353116, 475: 4.405511811023622, 476: 3.7142857142857144, 477: 3.748995983935743, 478: 2.8333333333333335, 479: 3.3221476510067114, 480: 3.2924242424242425, 481: 2.7, 482: 3.4105263157894736, 483: 3.6061359867330016, 484: 3.856521739130435, 485: 4.111111111111111, 486: 4.069767441860465, 487: 3.1530612244897958, 488: 3.9375, 489: 3.0320388349514564, 490: 3.260869565217391, 491: 4.098039215686274, 492: 3.8541666666666665, 493: 3.7551020408163267, 494: 4.15, 495: 4.009756097560976, 496: 3.5, 497: 3.5789473684210527, 498: 3.923076923076923, 499: 3.760869565217391, 500: 3.2253521126760565, 501: 3.257142857142857, 502: 3.4074074074074074, 503: 3.2905405405405403, 504: 3.8412698412698414, 505: 4.130434782608695, 506: 3.323529411764706, 507: 3.375, 508: 2.3333333333333335, 509: 3.230769230769231, 510: 2.9619565217391304, 511: 4.111111111111111, 512: 3.7804878048780486, 513: 3.8870967741935485, 514: 3.2827476038338657, 515: 4.909090909090909, 516: 3.55, 517: 2.417933130699088, 518: 3.5, 519: 4.395833333333333, 520: 3.8451612903225807, 521: 3.6129032258064515, 522: 3.84640522875817, 523: 4.7, 524: 3.489795918367347, 525: 3.533333333333333, 526: 4.145833333333333, 527: 4.125, 528: 3.5089285714285716, 529: 3.0952380952380953, 530: 3.6956521739130435, 531: 3.7222222222222223, 532: 4.214285714285714, 533: 4.382352941176471, 534: 3.8089622641509435, 535: 2.6538461538461537, 536: 3.4193548387096775, 537: 4.075757575757576, 538: 4.5, 539: 3.772727272727273, 540: 3.9833333333333334, 541: 3.361111111111111, 542: 3.5489130434782608, 543: 4.456896551724138, 544: 4.153846153846154, 545: 3.263157894736842, 546: 3.327272727272727, 547: 4.105263157894737, 548: 4.068181818181818, 549: 3.823529411764706, 550: 4.092592592592593, 551: 3.6584158415841586, 552: 3.08, 553: 4.380597014925373, 554: 3.904109589041096, 555: 3.4451754385964914, 556: 4.055555555555555, 557: 3.8260869565217392, 558: 3.933333333333333, 559: 3.2432432432432434, 560: 3.5706371191135733, 561: 3.38681592039801, 562: 4.048469387755102, 563: 3.2658959537572256, 564: 3.612, 565: 3.619047619047619, 566: 3.603448275862069, 567: 2.2083333333333335, 568: 4.175, 569: 3.923076923076923, 570: 3.3552631578947367, 571: 2.5652173913043477, 572: 4.0894308943089435, 573: 4.2023809523809526, 574: 4.0625, 575: 3.0, 576: 2.892857142857143, 577: 3.5970149253731343, 578: 4.05, 579: 3.95, 580: 3.5604395604395602, 581: 4.4, 582: 4.0, 583: 3.284090909090909, 584: 4.045454545454546, 585: 4.423913043478261, 586: 4.383233532934132, 587: 3.9280575539568345, 588: 3.3555555555555556, 589: 4.0, 590: 3.3695286195286194, 591: 3.2954545454545454, 592: 3.641025641025641, 593: 3.2951807228915664, 594: 3.9491525423728815, 595: 4.235294117647059, 596: 3.5188953488372094, 597: 4.005899705014749, 598: 3.4615384615384617, 599: 2.631986027944112, 600: 2.9943548387096772, 601: 4.453333333333333, 602: 3.3867924528301887, 603: 3.5435356200527703, 604: 3.5, 605: 3.189655172413793, 606: 3.645993413830955, 607: 3.7628205128205128, 608: 3.153225806451613, 609: 3.25, 610: 3.6947926711668275}\n"
          ]
        }
      ],
      "source": [
        "train_average['user']= get_average_rating(train_matrix,True)\n",
        "print(train_average['user'])"
      ]
    },
    {
      "cell_type": "code",
      "execution_count": null,
      "metadata": {
        "id": "7pVeyu8KCFuM",
        "colab": {
          "base_uri": "https://localhost:8080/"
        },
        "outputId": "7e024ea5-e9e3-47c9-e735-d49ca9931a50"
      },
      "outputs": [
        {
          "output_type": "stream",
          "name": "stdout",
          "text": [
            "{1: 3.9415204678362574, 2: 3.4310344827586206, 3: 3.2666666666666666, 4: 2.625, 5: 3.0657894736842106, 6: 3.8860759493670884, 7: 3.2386363636363638, 8: 2.875, 9: 3.0714285714285716, 10: 3.5288461538461537, 11: 3.7232142857142856, 12: 2.4375, 13: 3.0, 14: 3.8666666666666667, 15: 2.75, 16: 3.8768115942028984, 17: 3.78, 18: 3.65625, 19: 2.6733333333333333, 20: 2.5833333333333335, 21: 3.5714285714285716, 22: 3.32, 23: 2.9166666666666665, 24: 3.1956521739130435, 25: 3.626865671641791, 26: 3.6875, 27: 3.125, 28: 4.214285714285714, 29: 4.044117647058823, 30: 3.0, 31: 3.171875, 32: 3.962068965517241, 34: 3.6346153846153846, 36: 3.8706896551724137, 38: 3.0, 39: 3.2098765432098766, 40: 5.0, 41: 3.5454545454545454, 42: 3.0, 43: 3.0, 44: 2.554054054054054, 45: 3.173076923076923, 46: 3.0833333333333335, 47: 3.9622641509433962, 48: 3.1228070175438596, 49: 3.0, 50: 4.258064516129032, 52: 3.5, 53: 5.0, 54: 2.3333333333333335, 55: 4.0, 57: 2.9166666666666665, 58: 4.032258064516129, 60: 3.04, 61: 3.5, 62: 3.7265625, 63: 2.875, 64: 2.0, 65: 2.5208333333333335, 66: 2.4375, 68: 3.0, 69: 3.8333333333333335, 70: 3.4431818181818183, 71: 1.6666666666666667, 72: 2.875, 73: 3.357142857142857, 74: 4.166666666666667, 75: 2.2, 76: 3.5, 77: 4.0, 78: 3.3333333333333335, 79: 2.6153846153846154, 80: 4.0, 81: 3.1818181818181817, 82: 3.7142857142857144, 85: 3.8, 86: 4.035714285714286, 87: 2.375, 88: 3.4545454545454546, 89: 3.5, 92: 2.7142857142857144, 93: 3.0625, 94: 3.95, 95: 2.9384615384615387, 96: 3.5, 97: 3.9285714285714284, 99: 5.0, 100: 2.8333333333333335, 101: 3.888888888888889, 102: 1.0, 103: 3.0, 104: 3.49375, 105: 3.4210526315789473, 106: 4.0, 107: 3.1944444444444446, 108: 4.0, 110: 4.074742268041237, 111: 4.195652173913044, 112: 3.4358974358974357, 113: 3.0, 116: 4.0, 117: 3.0, 118: 2.5, 119: 3.0, 121: 4.0, 122: 2.5714285714285716, 123: 4.833333333333333, 125: 3.5454545454545454, 126: 2.0, 129: 2.0, 132: 2.75, 135: 2.94, 137: 3.0, 140: 3.5, 141: 3.4802631578947367, 144: 3.2222222222222223, 145: 3.3157894736842106, 146: 3.3333333333333335, 147: 3.392857142857143, 150: 3.7987012987012987, 151: 3.554054054054054, 152: 1.5, 153: 3.0, 154: 4.055555555555555, 155: 2.7, 156: 4.0, 157: 3.125, 158: 2.7941176470588234, 159: 2.875, 160: 2.8297872340425534, 161: 3.574712643678161, 162: 4.25, 163: 3.526315789473684, 164: 3.2916666666666665, 165: 3.4464285714285716, 166: 1.5, 168: 3.0813953488372094, 169: 2.4285714285714284, 170: 3.3043478260869565, 171: 4.0, 172: 2.6097560975609757, 173: 2.6037735849056602, 174: 2.4285714285714284, 175: 3.9444444444444446, 176: 4.3, 177: 2.5714285714285716, 178: 1.0, 179: 1.5, 180: 3.482142857142857, 181: 2.3333333333333335, 183: 3.0, 184: 3.0, 185: 2.9887640449438204, 186: 2.9054054054054053, 187: 3.8333333333333335, 188: 3.375, 189: 3.0, 190: 3.0, 191: 1.9, 193: 2.25, 194: 3.5, 195: 3.125, 196: 2.6714285714285713, 198: 3.260869565217391, 199: 4.0, 201: 3.0, 202: 3.0, 203: 3.325, 204: 2.727272727272727, 205: 2.9, 206: 3.0, 207: 3.466666666666667, 208: 2.9306930693069306, 209: 2.75, 210: 3.0, 211: 3.5, 212: 4.0, 213: 4.833333333333333, 214: 4.0, 215: 4.05, 216: 3.2857142857142856, 217: 2.3333333333333335, 218: 3.4444444444444446, 219: 3.0, 222: 3.6666666666666665, 223: 3.782051282051282, 224: 3.6515151515151514, 225: 3.4761904761904763, 227: 2.8823529411764706, 228: 3.0, 229: 3.4166666666666665, 230: 3.3684210526315788, 231: 3.09009009009009, 232: 4.2727272727272725, 233: 3.75, 234: 2.625, 235: 3.7241379310344827, 236: 3.3857142857142857, 237: 3.323529411764706, 238: 4.0, 239: 3.0, 240: 2.5, 241: 4.0, 242: 4.0, 243: 3.0, 246: 4.3076923076923075, 247: 3.975, 248: 3.230769230769231, 249: 3.769230769230769, 250: 1.8333333333333333, 251: 3.25, 252: 3.4242424242424243, 253: 3.4655172413793105, 254: 3.0, 255: 1.875, 256: 2.8518518518518516, 257: 3.6, 258: 2.8, 259: 3.25, 260: 4.218905472636816, 261: 3.8870967741935485, 262: 3.9705882352941178, 263: 4.0, 265: 4.0, 266: 3.4705882352941178, 267: 2.772727272727273, 269: 3.0, 270: 3.1666666666666665, 271: 3.0, 272: 3.767857142857143, 273: 2.909090909090909, 274: 3.1, 275: 2.2, 276: 3.235294117647059, 277: 3.2096774193548385, 278: 1.5, 279: 3.0, 280: 4.0, 281: 3.5714285714285716, 282: 3.1785714285714284, 283: 3.0, 284: 4.5, 288: 3.152173913043478, 289: 3.357142857142857, 290: 4.076923076923077, 291: 2.3333333333333335, 292: 3.411764705882353, 293: 4.0754716981132075, 295: 3.0, 296: 4.192748091603053, 298: 2.0, 299: 4.333333333333333, 300: 3.440677966101695, 301: 4.0, 302: 3.0, 303: 2.98, 304: 3.5, 305: 3.0714285714285716, 306: 4.136363636363637, 307: 3.8181818181818183, 308: 4.0, 310: 3.0, 311: 3.0, 312: 1.25, 313: 3.3333333333333335, 314: 3.769230769230769, 315: 3.032258064516129, 316: 3.36697247706422, 317: 3.25, 318: 4.402777777777778, 319: 3.769230769230769, 321: 4.0, 322: 3.75, 324: 4.0, 325: 2.5, 326: 3.5, 327: 2.8653846153846154, 328: 3.357142857142857, 329: 3.378205128205128, 330: 3.0, 331: 3.0, 332: 2.95, 333: 3.7560975609756095, 334: 4.25, 335: 4.0, 336: 3.0, 337: 3.734848484848485, 338: 2.769230769230769, 339: 3.4709302325581395, 340: 3.25, 341: 4.0, 342: 3.2222222222222223, 343: 2.5, 344: 3.1259259259259258, 345: 3.533333333333333, 346: 3.6, 347: 3.5, 348: 3.7, 349: 3.598901098901099, 350: 3.4, 351: 3.269230769230769, 352: 2.5, 353: 3.5392156862745097, 354: 3.2, 355: 2.411764705882353, 356: 4.176579925650557, 357: 3.4759036144578315, 358: 2.625, 359: 3.0, 360: 2.9285714285714284, 361: 3.0, 362: 3.433333333333333, 363: 4.0, 364: 3.926056338028169, 365: 3.0, 366: 3.0, 367: 3.1880341880341883, 368: 3.4745762711864407, 369: 4.0, 370: 3.15, 371: 3.15625, 372: 2.433333333333333, 373: 3.6363636363636362, 374: 2.075, 376: 3.2, 377: 3.5610687022900764, 378: 2.7, 379: 2.533333333333333, 380: 3.4525547445255476, 381: 3.6666666666666665, 382: 3.0384615384615383, 383: 3.125, 384: 3.0, 386: 3.0, 387: 2.5, 388: 3.0, 389: 4.5, 390: 3.7, 391: 4.5, 393: 2.5555555555555554, 405: 2.35, 406: 3.0, 407: 3.2, 409: 2.0, 410: 3.0985915492957745, 412: 3.423076923076923, 413: 2.5789473684210527, 414: 2.25, 415: 2.625, 416: 2.4285714285714284, 417: 3.6923076923076925, 419: 2.676470588235294, 420: 2.6931818181818183, 421: 3.2857142857142856, 422: 3.2, 423: 2.75, 424: 1.25, 425: 3.5, 426: 3.1666666666666665, 427: 2.5555555555555554, 428: 3.772727272727273, 429: 1.5, 430: 2.5, 431: 3.7205882352941178, 432: 2.8088235294117645, 433: 2.5, 434: 2.9753086419753085, 435: 2.3981481481481484, 436: 2.5714285714285716, 437: 1.75, 438: 3.0, 440: 3.5859375, 441: 3.942857142857143, 442: 3.036764705882353, 444: 2.5, 445: 2.8333333333333335, 446: 3.6875, 448: 3.8333333333333335, 449: 1.0, 450: 3.0, 451: 4.0, 452: 3.0, 453: 2.75, 454: 3.5584415584415585, 455: 2.3620689655172415, 456: 3.75, 457: 3.9869281045751634, 458: 3.0, 459: 2.375, 460: 2.6666666666666665, 461: 2.6666666666666665, 464: 2.875, 466: 2.85, 468: 3.1842105263157894, 469: 3.75, 470: 1.0, 471: 3.378787878787879, 472: 2.7, 473: 1.8571428571428572, 474: 3.6454545454545455, 475: 4.285714285714286, 476: 1.0, 477: 3.3214285714285716, 478: 2.5, 479: 2.3333333333333335, 480: 3.7195767195767195, 481: 3.1666666666666665, 482: 3.5833333333333335, 484: 3.0, 485: 2.8, 486: 2.5, 487: 3.0, 488: 3.0, 489: 2.9444444444444446, 490: 3.0, 491: 3.3333333333333335, 492: 3.730769230769231, 493: 3.6666666666666665, 494: 3.3, 495: 5.0, 496: 5.0, 497: 3.8870967741935485, 499: 2.5, 500: 3.3411214953271027, 501: 3.6666666666666665, 502: 2.65, 504: 3.0, 505: 2.2, 506: 4.5, 507: 3.2857142857142856, 508: 3.673076923076923, 509: 3.6, 510: 3.0, 511: 3.0, 512: 2.6666666666666665, 513: 3.375, 514: 3.4, 515: 3.675, 516: 3.142857142857143, 517: 3.3125, 518: 2.375, 519: 2.3666666666666667, 520: 3.284313725490196, 521: 3.0, 522: 3.25, 523: 3.5, 524: 3.453125, 526: 4.0, 527: 4.1988304093567255, 528: 2.0, 529: 3.9285714285714284, 531: 3.263157894736842, 532: 3.0, 533: 2.8823529411764706, 534: 3.576923076923077, 535: 3.875, 536: 3.3333333333333335, 537: 3.142857142857143, 538: 3.4, 539: 3.458823529411765, 540: 2.533333333333333, 541: 4.109523809523809, 542: 3.1363636363636362, 543: 3.378787878787879, 544: 2.25, 546: 2.0, 547: 3.25, 548: 2.75, 549: 4.5, 550: 3.0, 551: 3.5135135135135136, 552: 3.2314814814814814, 553: 3.919642857142857, 555: 3.892156862745098, 556: 3.3333333333333335, 558: 2.9375, 562: 3.55, 563: 4.0, 564: 1.5, 567: 2.5, 568: 3.5, 569: 2.4, 574: 3.25, 575: 2.857142857142857, 577: 1.8333333333333333, 580: 2.8, 581: 4.5, 583: 4.0, 585: 2.8035714285714284, 586: 2.9526315789473685, 587: 3.397590361445783, 588: 3.7412587412587412, 589: 3.9329896907216493, 590: 3.8629032258064515, 592: 3.4145569620253164, 593: 4.185840707964601, 594: 3.6136363636363638, 595: 3.8016528925619837, 596: 3.5294117647058822, 597: 3.514851485148515, 599: 3.8181818181818183, 600: 4.0, 602: 4.0, 605: 2.8333333333333335, 606: 3.0, 608: 4.141891891891892, 609: 3.7, 610: 3.7045454545454546, 611: 3.3333333333333335, 612: 2.3, 613: 2.9285714285714284, 616: 3.4558823529411766, 617: 2.8333333333333335, 619: 2.3333333333333335, 626: 5.0, 627: 3.5, 628: 3.55, 631: 3.2, 632: 4.0, 634: 2.25, 635: 3.0, 636: 3.0, 637: 3.1666666666666665, 638: 3.0, 639: 3.0, 640: 2.611111111111111, 645: 3.0, 647: 3.35, 648: 3.5, 649: 3.0, 650: 2.3333333333333335, 653: 3.074468085106383, 656: 3.0, 661: 3.511111111111111, 662: 4.0, 663: 3.111111111111111, 665: 4.333333333333333, 667: 2.8125, 668: 5.0, 670: 4.75, 671: 3.6166666666666667, 673: 2.7976190476190474, 674: 3.357142857142857, 678: 3.9375, 679: 4.0, 680: 3.8333333333333335, 685: 3.0, 688: 2.25, 691: 3.5, 692: 2.0, 694: 2.95, 695: 4.0, 697: 2.625, 698: 1.0, 700: 3.3, 703: 2.0, 704: 2.5714285714285716, 706: 3.0, 707: 2.911764705882353, 708: 3.372340425531915, 709: 2.8333333333333335, 710: 2.5833333333333335, 711: 3.3, 714: 4.0, 715: 4.0, 718: 4.166666666666667, 719: 2.8181818181818183, 720: 4.0, 722: 4.0, 724: 3.0869565217391304, 725: 2.5, 726: 3.0, 728: 3.5833333333333335, 731: 3.3333333333333335, 733: 3.7362637362637363, 735: 3.8, 736: 3.3838383838383836, 737: 2.588235294117647, 741: 4.157894736842105, 742: 2.75, 743: 2.375, 745: 3.858974358974359, 747: 3.3333333333333335, 748: 3.1470588235294117, 750: 4.25625, 757: 4.0, 759: 3.5, 760: 4.0, 761: 2.933333333333333, 762: 2.310344827586207, 764: 3.5, 765: 3.235294117647059, 766: 3.5, 775: 3.0, 778: 4.0394736842105265, 779: 4.0, 780: 3.457516339869281, 781: 3.4166666666666665, 782: 3.142857142857143, 783: 3.2857142857142856, 784: 2.7976190476190474, 785: 3.4411764705882355, 786: 3.2093023255813953, 788: 2.701388888888889, 790: 2.0, 791: 4.0, 795: 4.0, 798: 2.888888888888889, 799: 3.4444444444444446, 800: 4.178571428571429, 801: 3.1363636363636362, 802: 3.3472222222222223, 803: 4.0, 804: 3.1666666666666665, 805: 3.6818181818181817, 806: 1.5, 808: 3.0, 809: 2.2142857142857144, 810: 2.2222222222222223, 813: 2.8, 818: 3.1666666666666665, 824: 4.0, 828: 3.4, 829: 2.7142857142857144, 830: 3.125, 832: 3.2222222222222223, 833: 2.0, 835: 3.6666666666666665, 836: 2.892857142857143, 837: 3.310344827586207, 838: 3.8653846153846154, 839: 3.0416666666666665, 840: 3.375, 841: 3.0, 842: 2.75, 848: 3.6, 849: 3.0, 851: 2.8, 852: 3.0, 858: 4.260135135135135, 861: 3.6875, 866: 4.15625, 867: 1.75, 869: 3.5, 870: 1.0, 875: 3.5, 876: 5.0, 879: 2.6666666666666665, 880: 2.8333333333333335, 881: 2.1, 885: 2.5, 886: 2.6, 888: 2.1666666666666665, 891: 3.8, 892: 3.375, 893: 3.0, 896: 2.5, 897: 3.75, 898: 4.3, 899: 4.081081081081081, 900: 3.7222222222222223, 901: 2.9166666666666665, 902: 3.857142857142857, 903: 3.99, 904: 4.201612903225806, 905: 4.458333333333333, 906: 4.0, 907: 3.5, 908: 4.1395348837209305, 909: 3.9047619047619047, 910: 3.9625, 911: 4.214285714285714, 912: 4.3133333333333335, 913: 4.090909090909091, 914: 4.045454545454546, 915: 3.75, 916: 4.1, 917: 3.5, 918: 4.25, 919: 3.889705882352941, 920: 3.735294117647059, 921: 3.388888888888889, 922: 4.285714285714286, 923: 4.035714285714286, 924: 3.9375, 926: 4.2105263157894735, 927: 4.0, 928: 4.066666666666666, 929: 3.5, 930: 4.375, 931: 3.9, 932: 3.9375, 933: 4.238095238095238, 934: 3.25, 935: 3.8333333333333335, 936: 4.0, 937: 3.0, 938: 3.3, 940: 4.0, 941: 3.5, 942: 4.333333333333333, 943: 3.75, 944: 4.0, 945: 4.166666666666667, 946: 3.5, 947: 3.75, 948: 3.9166666666666665, 949: 3.9, 950: 3.8333333333333335, 951: 4.363636363636363, 952: 3.625, 953: 4.01063829787234, 954: 3.875, 955: 4.318181818181818, 959: 3.5, 963: 3.0, 965: 4.1, 968: 3.789473684210526, 969: 3.9423076923076925, 971: 4.083333333333333, 973: 3.8333333333333335, 976: 3.0, 979: 3.0, 981: 3.0, 982: 3.0, 984: 5.0, 986: 3.5833333333333335, 987: 3.0, 988: 3.0, 990: 3.125, 991: 3.35, 993: 3.0, 994: 4.111111111111111, 996: 2.2777777777777777, 998: 3.0, 999: 2.95, 1003: 2.0, 1004: 3.0, 1005: 2.4166666666666665, 1006: 3.5, 1007: 2.642857142857143, 1008: 3.0, 1009: 3.0833333333333335, 1010: 3.0555555555555554, 1011: 3.0714285714285716, 1012: 3.375, 1013: 3.2777777777777777, 1014: 2.9, 1015: 3.088235294117647, 1016: 2.75, 1017: 3.6666666666666665, 1018: 2.875, 1019: 3.4615384615384617, 1020: 3.1964285714285716, 1021: 2.2058823529411766, 1022: 3.486111111111111, 1023: 3.65, 1024: 3.5, 1025: 3.6666666666666665, 1027: 2.909090909090909, 1028: 3.9285714285714284, 1029: 3.34, 1030: 2.772727272727273, 1031: 3.5526315789473686, 1032: 3.338235294117647, 1033: 3.588235294117647, 1034: 2.75, 1035: 3.981132075471698, 1036: 3.824074074074074, 1037: 2.8, 1040: 3.0, 1041: 4.611111111111111, 1042: 3.2916666666666665, 1043: 2.3333333333333335, 1046: 4.5, 1047: 3.0652173913043477, 1049: 3.5588235294117645, 1050: 3.875, 1051: 4.0, 1054: 2.0, 1055: 1.0, 1056: 3.25, 1057: 3.4615384615384617, 1059: 3.689655172413793, 1060: 3.7333333333333334, 1061: 3.642857142857143, 1064: 2.909090909090909, 1066: 4.333333333333333, 1068: 3.5, 1073: 3.9574468085106385, 1077: 3.6666666666666665, 1078: 3.3125, 1079: 4.0701754385964914, 1080: 3.864864864864865, 1081: 3.8125, 1082: 3.5833333333333335, 1083: 3.75, 1084: 4.0576923076923075, 1085: 3.5, 1086: 4.0625, 1088: 3.390625, 1089: 4.179611650485437, 1090: 3.925531914893617, 1091: 2.735294117647059, 1092: 3.2261904761904763, 1093: 3.3275862068965516, 1094: 3.4696969696969697, 1095: 3.727272727272727, 1096: 4.25, 1097: 3.7475247524752477, 1099: 3.375, 1100: 2.9642857142857144, 1101: 3.3484848484848486, 1103: 4.045454545454546, 1104: 4.444444444444445, 1105: 4.5, 1107: 2.0, 1111: 3.75, 1112: 4.5, 1117: 3.5, 1120: 3.5, 1121: 4.0, 1123: 4.25, 1124: 3.590909090909091, 1125: 3.7045454545454546, 1126: 2.625, 1127: 3.3877551020408165, 1128: 2.5, 1129: 3.375, 1130: 3.125, 1131: 4.111111111111111, 1132: 4.071428571428571, 1135: 3.357142857142857, 1136: 4.193069306930693, 1137: 4.0, 1140: 5.0, 1144: 4.0, 1147: 3.9, 1148: 3.9347826086956523, 1150: 4.0, 1151: 5.0, 1156: 3.5, 1161: 3.5, 1163: 1.0, 1167: 3.5, 1170: 2.5, 1171: 3.4545454545454546, 1172: 4.12962962962963, 1173: 3.05, 1175: 3.9375, 1176: 4.0, 1177: 4.0, 1178: 4.590909090909091, 1179: 3.5238095238095237, 1180: 3.0, 1183: 3.765625, 1184: 3.9166666666666665, 1185: 3.642857142857143, 1186: 3.735294117647059, 1187: 3.6, 1188: 3.78125, 1189: 3.888888888888889, 1190: 2.6666666666666665, 1191: 3.4, 1192: 4.375, 1193: 4.203125, 1194: 3.5555555555555554, 1196: 4.279411764705882, 1197: 4.262931034482759, 1198: 4.207006369426751, 1199: 4.215909090909091, 1200: 3.9431818181818183, 1201: 4.169491525423729, 1202: 3.9, 1203: 4.142857142857143, 1204: 4.302631578947368, 1206: 3.923469387755102, 1207: 4.06, 1208: 4.225609756097561, 1209: 4.285714285714286, 1210: 4.151515151515151, 1211: 4.25, 1212: 4.25, 1213: 4.2771739130434785, 1214: 4.036036036036036, 1215: 3.9714285714285715, 1216: 3.4375, 1217: 4.392857142857143, 1218: 4.0, 1219: 4.02112676056338, 1220: 3.8174603174603177, 1221: 4.17741935483871, 1222: 4.063953488372093, 1223: 3.9523809523809526, 1224: 4.0, 1225: 4.161290322580645, 1226: 3.5, 1227: 4.153846153846154, 1228: 4.17741935483871, 1230: 3.892156862745098, 1231: 3.7777777777777777, 1232: 3.9166666666666665, 1233: 4.222222222222222, 1234: 3.872340425531915, 1235: 4.239130434782608, 1236: 4.5, 1237: 4.178571428571429, 1238: 3.9375, 1240: 3.938053097345133, 1241: 4.428571428571429, 1242: 4.196428571428571, 1243: 4.208333333333333, 1244: 4.086206896551724, 1245: 4.184210526315789, 1246: 3.8863636363636362, 1247: 4.095238095238095, 1248: 4.590909090909091, 1249: 4.032258064516129, 1250: 4.1, 1251: 4.125, 1252: 4.204081632653061, 1253: 3.973684210526316, 1254: 3.9285714285714284, 1255: 3.0, 1256: 3.9722222222222223, 1257: 3.5277777777777777, 1258: 4.117021276595745, 1259: 4.054054054054054, 1260: 3.8636363636363638, 1261: 4.103448275862069, 1262: 4.209677419354839, 1263: 3.757142857142857, 1264: 3.75, 1265: 3.9347826086956523, 1266: 4.141025641025641, 1267: 4.222222222222222, 1268: 3.5, 1269: 3.75, 1270: 3.974264705882353, 1271: 3.4523809523809526, 1272: 4.25, 1273: 3.9375, 1274: 3.828125, 1275: 3.763888888888889, 1276: 4.211111111111111, 1277: 4.055555555555555, 1278: 3.93, 1279: 4.125, 1280: 4.285714285714286, 1281: 4.090909090909091, 1282: 3.8, 1283: 4.09375, 1284: 4.153846153846154, 1285: 3.772727272727273, 1286: 2.9, 1287: 4.0, 1288: 3.981818181818182, 1289: 3.9375, 1290: 3.2222222222222223, 1291: 4.058558558558558, 1292: 4.088235294117647, 1293: 4.0, 1295: 2.8125, 1296: 3.6538461538461537, 1297: 3.65625, 1298: 3.675, 1299: 4.021739130434782, 1300: 3.9166666666666665, 1301: 3.7916666666666665, 1302: 3.590909090909091, 1303: 3.9642857142857144, 1304: 3.96, 1305: 3.6666666666666665, 1306: 2.625, 1307: 3.8115942028985508, 1310: 5.0, 1312: 2.5, 1318: 2.0, 1320: 3.2, 1321: 3.357142857142857, 1322: 2.0, 1323: 1.5, 1324: 1.1666666666666667, 1325: 1.25, 1326: 1.3333333333333333, 1327: 2.727272727272727, 1328: 1.0, 1329: 2.75, 1330: 1.5, 1331: 2.0, 1332: 3.5, 1333: 3.5972222222222223, 1334: 2.75, 1337: 4.5, 1339: 3.388888888888889, 1340: 3.1666666666666665, 1341: 3.0, 1342: 2.75, 1343: 3.789473684210526, 1344: 4.083333333333333, 1345: 3.3703703703703702, 1346: 2.5833333333333335, 1347: 2.9, 1348: 3.423076923076923, 1349: 5.0, 1350: 3.825, 1351: 2.3333333333333335, 1352: 2.0, 1353: 4.5, 1354: 4.083333333333333, 1355: 2.0, 1356: 3.875, 1357: 4.0, 1358: 3.7560975609756095, 1359: 2.8461538461538463, 1361: 4.375, 1363: 3.625, 1365: 3.5, 1366: 4.0, 1367: 2.9615384615384617, 1370: 3.3596491228070176, 1371: 3.1052631578947367, 1372: 3.176470588235294, 1373: 2.72, 1374: 3.71, 1375: 3.176470588235294, 1376: 3.676470588235294, 1377: 3.0816326530612246, 1378: 3.022727272727273, 1379: 2.857142857142857, 1380: 3.142857142857143, 1381: 2.0555555555555554, 1382: 2.1666666666666665, 1385: 2.85, 1387: 4.054054054054054, 1388: 2.5416666666666665, 1389: 1.4166666666666667, 1390: 2.875, 1391: 3.2058823529411766, 1392: 4.125, 1393: 3.5675675675675675, 1394: 3.977272727272727, 1395: 3.25, 1396: 3.473684210526316, 1397: 4.0, 1398: 2.5, 1399: 2.6666666666666665, 1401: 3.3333333333333335, 1405: 2.772727272727273, 1406: 4.5, 1407: 3.2142857142857144, 1408: 3.816666666666667, 1409: 2.7777777777777777, 1411: 4.0, 1413: 4.0, 1414: 3.142857142857143, 1415: 2.5, 1416: 3.5, 1417: 3.25, 1419: 4.25, 1422: 3.5, 1425: 3.0, 1428: 3.0, 1429: 3.71875, 1430: 3.0, 1431: 2.8, 1432: 2.5, 1437: 3.5, 1438: 2.46875, 1439: 2.1666666666666665, 1440: 1.0, 1441: 3.40625, 1442: 3.375, 1445: 2.0, 1446: 4.333333333333333, 1447: 3.375, 1449: 3.8125, 1453: 1.8333333333333333, 1454: 3.7, 1456: 2.0, 1457: 3.5, 1458: 4.0, 1459: 2.6818181818181817, 1460: 3.25, 1461: 2.5, 1464: 3.142857142857143, 1465: 3.0, 1466: 3.6025641025641026, 1468: 2.75, 1473: 4.0, 1474: 2.142857142857143, 1476: 3.5217391304347827, 1477: 4.0, 1479: 3.325, 1480: 3.2777777777777777, 1483: 2.875, 1484: 3.5, 1485: 3.0952380952380953, 1487: 3.0, 1488: 3.0, 1490: 1.5, 1493: 3.5, 1495: 2.0, 1497: 4.0, 1498: 3.0, 1499: 2.026315789473684, 1500: 3.6666666666666665, 1502: 3.0, 1503: 3.75, 1507: 3.5, 1513: 3.225, 1515: 2.0, 1516: 3.0, 1517: 3.4864864864864864, 1518: 3.4444444444444446, 1519: 1.0, 1526: 1.0, 1527: 3.789473684210526, 1529: 3.3333333333333335, 1533: 4.0, 1537: 3.611111111111111, 1541: 2.6666666666666665, 1542: 3.8, 1544: 2.6517857142857144, 1545: 4.0, 1546: 3.5, 1547: 3.25, 1549: 4.0, 1550: 2.6666666666666665, 1551: 2.25, 1552: 2.9468085106382977, 1554: 2.75, 1556: 1.59375, 1562: 2.21875, 1564: 5.0, 1566: 3.5, 1569: 3.433333333333333, 1571: 4.5, 1572: 3.0, 1573: 3.375, 1574: 1.0, 1580: 3.4818840579710146, 1581: 1.75, 1582: 2.6, 1583: 3.0, 1584: 3.6619718309859155, 1585: 3.0, 1586: 2.775, 1587: 3.3076923076923075, 1588: 3.1666666666666665, 1589: 3.1363636363636362, 1590: 2.9782608695652173, 1591: 2.642857142857143, 1592: 3.0, 1593: 2.6, 1594: 3.6666666666666665, 1596: 4.0, 1597: 3.085714285714286, 1598: 2.5, 1599: 2.0, 1600: 3.5, 1601: 2.3333333333333335, 1602: 1.75, 1603: 2.409090909090909, 1604: 4.0, 1605: 3.0, 1606: 2.3333333333333335, 1608: 3.375, 1609: 2.6666666666666665, 1610: 3.814814814814815, 1611: 4.0, 1612: 3.0, 1613: 4.0, 1614: 2.8333333333333335, 1615: 3.0, 1616: 3.2333333333333334, 1617: 4.044303797468355, 1619: 3.2916666666666665, 1620: 3.1363636363636362, 1621: 3.25, 1623: 2.25, 1624: 1.75, 1625: 3.661290322580645, 1626: 3.0, 1627: 3.0833333333333335, 1629: 3.0, 1631: 5.0, 1633: 4.0, 1635: 3.7142857142857144, 1639: 3.6625, 1641: 3.75, 1642: 1.75, 1643: 3.8, 1644: 2.111111111111111, 1645: 3.409090909090909, 1646: 2.25, 1647: 2.25, 1648: 3.3333333333333335, 1649: 2.5, 1650: 3.5, 1652: 4.5, 1653: 3.939189189189189, 1656: 4.0, 1658: 3.0, 1659: 4.0, 1660: 3.0, 1661: 3.0, 1662: 3.0, 1663: 3.7045454545454546, 1665: 2.8214285714285716, 1667: 2.1666666666666665, 1670: 3.0, 1671: 3.0, 1672: 3.3125, 1673: 4.136363636363637, 1674: 3.683333333333333, 1676: 3.4711538461538463, 1677: 2.0, 1678: 3.5625, 1679: 2.0, 1680: 3.6, 1681: 1.75, 1682: 3.7916666666666665, 1683: 4.416666666666667, 1684: 3.3333333333333335, 1686: 4.0, 1687: 3.1923076923076925, 1688: 3.3684210526315788, 1689: 2.4166666666666665, 1690: 2.8076923076923075, 1693: 3.269230769230769, 1694: 3.0, 1695: 4.0, 1696: 5.0, 1699: 4.0, 1701: 4.142857142857143, 1702: 2.9642857142857144, 1703: 3.125, 1704: 4.105769230769231, 1707: 1.5833333333333333, 1711: 3.2222222222222223, 1713: 3.1666666666666665, 1717: 2.9375, 1718: 4.5, 1719: 4.214285714285714, 1721: 3.4045454545454548, 1722: 3.212121212121212, 1726: 2.611111111111111, 1727: 3.3333333333333335, 1729: 3.6842105263157894, 1730: 3.25, 1731: 2.0, 1732: 3.9625, 1733: 4.5, 1734: 4.055555555555555, 1735: 3.5555555555555554, 1739: 4.0, 1746: 2.0, 1747: 3.3846153846153846, 1748: 3.769230769230769, 1752: 2.5, 1753: 3.5, 1754: 3.590909090909091, 1755: 4.5, 1760: 1.4444444444444444, 1762: 2.375, 1767: 3.0, 1769: 2.909090909090909, 1770: 3.0, 1772: 2.590909090909091, 1777: 3.382978723404255, 1779: 2.8333333333333335, 1783: 2.8, 1784: 3.64, 1785: 4.125, 1791: 2.3333333333333335, 1792: 2.8947368421052633, 1793: 4.0, 1794: 3.0, 1797: 4.25, 1798: 3.0, 1799: 3.423076923076923, 1801: 3.5277777777777777, 1804: 2.0, 1805: 3.0555555555555554, 1806: 2.5, 1807: 3.0, 1809: 3.5, 1810: 3.7142857142857144, 1812: 4.0, 1816: 2.0, 1821: 2.6, 1824: 1.0, 1825: 3.5, 1826: 2.0, 1827: 3.5, 1829: 3.25, 1831: 2.58, 1833: 2.8333333333333335, 1834: 3.875, 1835: 3.6363636363636362, 1836: 4.75, 1837: 2.0, 1839: 3.0, 1840: 2.6666666666666665, 1844: 4.166666666666667, 1845: 4.181818181818182, 1848: 2.95, 1855: 2.3333333333333335, 1856: 4.0, 1857: 3.5, 1858: 2.7, 1859: 3.6666666666666665, 1860: 2.625, 1862: 2.0714285714285716, 1863: 2.4285714285714284, 1866: 3.6, 1867: 2.0, 1870: 3.0, 1873: 3.7777777777777777, 1875: 3.9166666666666665, 1876: 3.0, 1881: 2.0, 1882: 1.8478260869565217, 1883: 3.25, 1884: 3.9342105263157894, 1885: 3.0454545454545454, 1887: 2.0, 1888: 3.0, 1889: 4.0, 1892: 3.0, 1893: 4.5, 1894: 2.9285714285714284, 1895: 3.4166666666666665, 1897: 4.0, 1900: 4.0, 1902: 4.0, 1904: 3.5, 1906: 2.5, 1907: 3.5714285714285716, 1909: 3.3947368421052633, 1910: 2.0, 1911: 2.5892857142857144, 1912: 3.8448275862068964, 1913: 4.0, 1914: 3.7142857142857144, 1916: 3.5555555555555554, 1917: 3.101449275362319, 1918: 2.7586206896551726, 1919: 2.875, 1920: 2.933333333333333, 1921: 3.8255813953488373, 1922: 3.5, 1923: 3.7439024390243905, 1924: 3.3333333333333335, 1926: 3.0, 1927: 4.444444444444445, 1928: 3.5, 1929: 4.0, 1931: 4.166666666666667, 1932: 3.5, 1934: 3.5, 1936: 4.0, 1937: 3.25, 1938: 4.0, 1939: 4.1, 1940: 4.0, 1941: 3.5, 1942: 4.0, 1944: 4.1875, 1945: 4.166666666666667, 1946: 3.8333333333333335, 1947: 3.6129032258064515, 1948: 3.5833333333333335, 1949: 4.4, 1950: 4.222222222222222, 1951: 3.25, 1952: 3.9473684210526314, 1953: 3.8225806451612905, 1954: 3.7291666666666665, 1955: 3.909090909090909, 1956: 4.214285714285714, 1957: 3.95, 1958: 3.9411764705882355, 1959: 3.6923076923076925, 1960: 3.6904761904761907, 1961: 3.7662337662337664, 1962: 3.65625, 1963: 3.7142857142857144, 1964: 3.9, 1965: 3.25, 1966: 3.625, 1967: 3.7794117647058822, 1968: 3.744565217391304, 1969: 2.2857142857142856, 1970: 2.8, 1971: 2.375, 1972: 2.0, 1973: 2.2, 1974: 2.9285714285714284, 1975: 2.5833333333333335, 1976: 1.9, 1977: 2.8, 1978: 2.0, 1979: 3.25, 1980: 2.0, 1981: 2.5, 1982: 3.676470588235294, 1983: 2.25, 1984: 2.1666666666666665, 1985: 2.0, 1986: 1.5, 1987: 2.5, 1991: 2.8125, 1992: 2.375, 1993: 1.8, 1994: 3.402439024390244, 1995: 1.75, 1996: 1.0, 1997: 3.739130434782609, 1998: 1.5, 1999: 2.0, 2000: 3.7058823529411766, 2001: 3.25, 2002: 2.9473684210526314, 2003: 3.3484848484848486, 2004: 3.3846153846153846, 2005: 3.597826086956522, 2006: 3.061224489795918, 2007: 3.5, 2009: 3.625, 2010: 3.85, 2011: 3.4682539682539684, 2012: 3.36231884057971, 2013: 3.34375, 2014: 2.6, 2015: 3.4375, 2016: 2.75, 2017: 3.125, 2018: 3.310344827586207, 2019: 4.2105263157894735, 2020: 4.0, 2021: 3.5185185185185186, 2022: 3.75, 2023: 3.3625, 2024: 3.3333333333333335, 2025: 3.9, 2026: 2.0, 2027: 1.75, 2028: 4.145161290322581, 2032: 2.0, 2033: 3.75, 2034: 2.5625, 2035: 4.0, 2036: 2.6, 2037: 4.0, 2038: 2.3333333333333335, 2040: 2.8, 2041: 3.3333333333333335, 2042: 2.5, 2043: 2.75, 2044: 2.0, 2046: 3.1904761904761907, 2048: 3.5625, 2050: 2.25, 2051: 1.5, 2052: 2.8125, 2053: 2.0625, 2054: 2.7403846153846154, 2055: 3.0, 2057: 3.375, 2058: 3.5, 2059: 2.8636363636363638, 2060: 3.0833333333333335, 2064: 3.8636363636363638, 2065: 3.611111111111111, 2066: 4.125, 2067: 4.033333333333333, 2068: 2.75, 2069: 4.25, 2070: 4.0, 2071: 3.25, 2072: 3.0357142857142856, 2073: 3.25, 2074: 3.5, 2075: 5.0, 2076: 4.0, 2077: 3.625, 2078: 3.9146341463414633, 2080: 3.4204545454545454, 2081: 3.5660377358490565, 2082: 2.6578947368421053, 2083: 3.75, 2084: 2.25, 2085: 3.411764705882353, 2087: 3.6, 2088: 2.5, 2089: 3.5, 2090: 3.3181818181818183, 2091: 2.0, 2092: 2.5, 2093: 3.0, 2094: 3.264705882352941, 2095: 2.8333333333333335, 2096: 3.235294117647059, 2097: 2.5, 2098: 3.0, 2099: 3.3, 2100: 3.0238095238095237, 2102: 1.5, 2103: 2.5, 2104: 4.0, 2105: 3.2976190476190474, 2106: 3.875, 2107: 3.0, 2108: 3.5476190476190474, 2109: 3.4, 2110: 3.1785714285714284, 2111: 3.1875, 2112: 3.2142857142857144, 2114: 3.8181818181818183, 2115: 3.61046511627907, 2116: 3.0, 2117: 3.75, 2118: 3.5833333333333335, 2119: 1.0, 2120: 2.0, 2121: 2.25, 2122: 2.642857142857143, 2123: 2.772727272727273, 2124: 3.303030303030303, 2125: 3.53125, 2126: 2.875, 2130: 3.5833333333333335, 2131: 4.5, 2132: 4.166666666666667, 2133: 3.3823529411764706, 2134: 2.911764705882353, 2135: 4.4, 2136: 2.409090909090909, 2137: 3.638888888888889, 2138: 4.05, 2139: 3.5357142857142856, 2140: 3.4615384615384617, 2141: 3.0625, 2142: 2.7, 2143: 3.1818181818181817, 2144: 3.75, 2145: 3.185185185185185, 2146: 3.1666666666666665, 2147: 2.5, 2148: 2.9375, 2149: 1.75, 2150: 3.8958333333333335, 2151: 3.5, 2152: 2.0, 2153: 2.3181818181818183, 2154: 1.75, 2155: 3.7142857142857144, 2156: 4.0, 2159: 4.166666666666667, 2160: 4.145833333333333, 2161: 3.6029411764705883, 2162: 2.5, 2163: 2.5, 2165: 3.5, 2166: 3.0, 2167: 3.3333333333333335, 2169: 2.1, 2170: 2.25, 2171: 3.375, 2172: 3.0, 2174: 3.42, 2175: 4.5, 2176: 3.8333333333333335, 2177: 3.1666666666666665, 2178: 3.5, 2179: 3.0, 2180: 3.5, 2181: 4.0, 2182: 2.6666666666666665, 2183: 3.7142857142857144, 2184: 3.25, 2185: 4.0, 2186: 4.023809523809524, 2187: 3.5, 2188: 2.0, 2190: 2.0, 2193: 3.303030303030303, 2194: 3.9215686274509802, 2195: 3.5, 2196: 5.0, 2201: 4.0, 2202: 4.1, 2203: 3.8, 2204: 3.8333333333333335, 2205: 2.875, 2206: 4.0, 2207: 3.0, 2208: 4.333333333333333, 2210: 3.5, 2212: 4.0, 2226: 1.0, 2227: 3.5, 2231: 3.9464285714285716, 2232: 3.210526315789474, 2236: 3.0, 2239: 4.6, 2240: 4.0, 2241: 3.5, 2243: 3.5454545454545454, 2244: 1.5, 2245: 3.392857142857143, 2247: 2.909090909090909, 2248: 3.878787878787879, 2249: 3.2, 2252: 2.1666666666666665, 2253: 2.4375, 2255: 1.5, 2256: 2.5, 2257: 4.0, 2259: 3.0714285714285716, 2260: 2.5, 2261: 3.0, 2262: 3.0, 2263: 2.8, 2264: 3.0, 2265: 2.375, 2266: 3.375, 2267: 2.5, 2268: 3.875, 2269: 3.0, 2271: 3.0, 2272: 2.75, 2273: 3.236842105263158, 2275: 3.6, 2278: 3.527027027027027, 2279: 2.4, 2281: 2.5, 2282: 3.125, 2283: 3.5, 2286: 2.0, 2287: 3.5, 2288: 3.8974358974358974, 2289: 3.967741935483871, 2290: 3.6, 2291: 3.746268656716418, 2292: 2.5, 2294: 3.2, 2295: 4.5, 2296: 2.1, 2297: 3.642857142857143, 2298: 4.0, 2300: 3.9310344827586206, 2301: 3.607142857142857, 2302: 3.130434782608696, 2303: 3.75, 2304: 4.0, 2306: 2.625, 2307: 3.0, 2310: 3.6666666666666665, 2311: 3.6666666666666665, 2312: 3.625, 2313: 4.0, 2314: 4.5, 2315: 2.1666666666666665, 2316: 3.4166666666666665, 2318: 4.181818181818182, 2320: 3.0, 2321: 3.49, 2322: 3.2, 2323: 4.25, 2324: 4.1940298507462686, 2325: 2.9545454545454546, 2327: 3.6666666666666665, 2328: 2.4285714285714284, 2329: 4.202127659574468, 2330: 5.0, 2331: 3.0, 2332: 1.25, 2333: 4.0, 2334: 3.0625, 2335: 3.1956521739130435, 2336: 3.7, 2337: 3.5, 2338: 2.0416666666666665, 2339: 1.5, 2340: 3.066666666666667, 2342: 3.0, 2344: 3.2857142857142856, 2346: 3.2777777777777777, 2347: 2.3333333333333335, 2348: 3.357142857142857, 2349: 3.4166666666666665, 2350: 3.0, 2351: 4.285714285714286, 2352: 3.761904761904762, 2353: 3.6346153846153846, 2354: 2.5, 2355: 3.4936708860759493, 2356: 2.6, 2357: 4.625, 2358: 4.0, 2359: 3.619047619047619, 2360: 4.6, 2361: 2.6875, 2362: 4.0, 2363: 1.0, 2364: 2.0, 2365: 2.5, 2366: 3.6904761904761907, 2367: 2.7777777777777777, 2368: 2.0, 2369: 2.6052631578947367, 2370: 3.0, 2371: 3.25, 2372: 1.9166666666666667, 2373: 2.2777777777777777, 2374: 3.1666666666666665, 2375: 2.84375, 2376: 3.15625, 2377: 2.125, 2378: 3.111111111111111, 2379: 2.388888888888889, 2380: 2.0, 2381: 2.142857142857143, 2382: 2.5, 2383: 1.1666666666666667, 2384: 2.8, 2385: 2.3333333333333335, 2387: 3.4285714285714284, 2388: 4.0, 2389: 1.875, 2390: 4.0, 2391: 3.75, 2392: 1.9285714285714286, 2393: 3.2115384615384617, 2394: 3.625, 2395: 3.574468085106383, 2396: 3.8376623376623376, 2398: 4.038461538461538, 2399: 2.3333333333333335, 2400: 3.0, 2401: 3.8125, 2402: 2.71875, 2403: 3.4782608695652173, 2404: 2.0, 2405: 2.7777777777777777, 2406: 3.465909090909091, 2407: 3.289473684210526, 2408: 2.2, 2409: 3.1363636363636362, 2410: 2.8333333333333335, 2411: 2.673076923076923, 2412: 1.875, 2413: 3.3125, 2414: 3.3636363636363638, 2415: 3.0, 2416: 2.7222222222222223, 2417: 1.0, 2418: 2.75, 2419: 3.5, 2420: 3.590909090909091, 2421: 2.72, 2422: 1.6363636363636365, 2423: 3.462962962962963, 2424: 3.2, 2425: 4.0, 2427: 3.2413793103448274, 2428: 2.5294117647058822, 2429: 2.75, 2430: 2.8, 2431: 3.6578947368421053, 2432: 3.0, 2433: 3.0714285714285716, 2435: 4.0, 2436: 4.25, 2439: 3.1666666666666665, 2442: 3.8333333333333335, 2443: 3.2857142857142856, 2445: 2.6666666666666665, 2446: 2.0, 2447: 3.2916666666666665, 2448: 2.6666666666666665, 2450: 2.6875, 2453: 3.0, 2454: 3.4545454545454546, 2455: 3.3285714285714287, 2456: 1.9166666666666667, 2457: 3.7857142857142856, 2458: 2.7142857142857144, 2459: 3.2083333333333335, 2460: 2.0, 2462: 3.0, 2463: 3.6666666666666665, 2465: 1.5, 2467: 3.75, 2468: 2.4642857142857144, 2469: 3.5833333333333335, 2470: 3.015151515151515, 2471: 2.5, 2472: 3.0, 2473: 2.5833333333333335, 2474: 3.45, 2475: 3.6666666666666665, 2476: 3.9, 2477: 3.5, 2478: 3.142857142857143, 2481: 4.0, 2482: 3.0, 2485: 2.875, 2488: 3.0, 2490: 3.5, 2491: 3.375, 2492: 3.6666666666666665, 2493: 4.0, 2494: 4.0, 2495: 4.75, 2496: 3.0555555555555554, 2497: 2.9, 2498: 1.8333333333333333, 2500: 1.6, 2501: 3.760869565217391, 2502: 4.0, 2503: 4.0, 2504: 3.25, 2505: 2.923076923076923, 2506: 3.4, 2511: 5.0, 2512: 5.0, 2513: 2.85, 2514: 2.5, 2515: 1.75, 2516: 1.0, 2517: 3.142857142857143, 2518: 3.05, 2520: 1.75, 2522: 3.25, 2523: 2.5, 2524: 2.857142857142857, 2525: 2.0, 2526: 1.8333333333333333, 2527: 3.3, 2528: 3.1315789473684212, 2529: 3.857142857142857, 2530: 2.933333333333333, 2531: 2.7777777777777777, 2532: 2.65, 2533: 3.0384615384615383, 2534: 2.5, 2535: 2.5, 2537: 2.0, 2538: 1.0, 2539: 3.0405405405405403, 2540: 2.75, 2541: 3.1551724137931036, 2542: 4.03, 2544: 3.0, 2546: 4.0, 2548: 1.8333333333333333, 2549: 2.625, 2550: 4.2, 2551: 3.5, 2552: 1.0, 2553: 2.9, 2554: 3.1666666666666665, 2555: 1.6666666666666667, 2557: 4.5, 2558: 2.142857142857143, 2559: 3.0, 2560: 3.0, 2561: 2.6666666666666665, 2563: 4.166666666666667, 2565: 4.0, 2566: 2.0, 2567: 2.9166666666666665, 2568: 3.3333333333333335, 2570: 3.2, 2571: 4.215909090909091, 2572: 3.5476190476190474, 2573: 1.0, 2574: 1.8, 2575: 4.0, 2577: 3.0, 2579: 3.75, 2580: 3.926470588235294, 2581: 2.913793103448276, 2582: 3.0, 2583: 3.75, 2585: 4.5, 2586: 0.5, 2587: 4.0, 2589: 3.5, 2590: 2.5, 2593: 3.375, 2594: 3.5625, 2596: 3.7777777777777777, 2597: 3.0, 2598: 2.909090909090909, 2599: 3.6847826086956523, 2600: 3.8421052631578947, 2605: 2.9107142857142856, 2606: 2.5416666666666665, 2607: 4.0, 2609: 4.0, 2611: 3.0, 2612: 4.0, 2613: 3.142857142857143, 2614: 1.0, 2615: 3.1666666666666665, 2616: 2.782608695652174, 2617: 3.095890410958904, 2618: 3.25, 2620: 3.0, 2622: 2.875, 2623: 1.0, 2625: 2.5, 2628: 3.064655172413793, 2629: 2.5, 2630: 3.5, 2632: 4.0, 2633: 3.0, 2634: 3.5, 2639: 3.1666666666666665, 2640: 3.5816326530612246, 2641: 3.0113636363636362, 2642: 2.361111111111111, 2643: 1.6666666666666667, 2644: 3.3125, 2648: 4.1, 2651: 1.0, 2654: 3.625, 2655: 2.0, 2656: 3.0, 2657: 3.4134615384615383, 2659: 2.0, 2660: 3.6666666666666665, 2661: 3.0, 2662: 3.0555555555555554, 2664: 3.769230769230769, 2668: 3.25, 2669: 4.0, 2670: 3.5, 2671: 3.39, 2672: 2.85, 2674: 2.25, 2676: 3.1666666666666665, 2677: 4.375, 2681: 3.0, 2682: 4.0, 2683: 3.1584158415841586, 2686: 4.1875, 2687: 3.6315789473684212, 2688: 2.923076923076923, 2690: 3.875, 2691: 3.25, 2692: 3.9642857142857144, 2693: 3.1666666666666665, 2694: 3.1666666666666665, 2695: 2.0, 2696: 4.0, 2697: 3.5, 2699: 2.8255813953488373, 2700: 3.7777777777777777, 2701: 2.3780487804878048, 2702: 3.2916666666666665, 2706: 3.3466666666666667, 2707: 3.4411764705882355, 2708: 4.0, 2709: 3.357142857142857, 2710: 2.8545454545454545, 2712: 3.3214285714285716, 2713: 2.8636363636363638, 2716: 3.831578947368421, 2717: 2.9722222222222223, 2718: 3.2, 2719: 1.9444444444444444, 2720: 2.3, 2722: 2.8076923076923075, 2723: 3.09375, 2724: 2.9411764705882355, 2726: 4.071428571428571, 2728: 3.5454545454545454, 2729: 3.4, 2730: 4.0, 2731: 4.0, 2732: 4.333333333333333, 2733: 2.0, 2734: 3.1666666666666665, 2735: 2.75, 2736: 3.6, 2737: 4.0, 2738: 4.0, 2739: 3.9166666666666665, 2741: 2.0, 2742: 1.0, 2743: 3.0, 2744: 4.0, 2745: 3.4375, 2746: 3.28125, 2747: 3.1666666666666665, 2748: 1.8333333333333333, 2749: 4.0, 2750: 3.0, 2752: 2.7857142857142856, 2754: 1.0, 2757: 3.5, 2759: 3.3333333333333335, 2761: 4.045454545454546, 2762: 3.910958904109589, 2763: 3.630952380952381, 2764: 4.0, 2766: 3.25, 2769: 3.4, 2770: 2.935483870967742, 2771: 3.25, 2772: 3.1666666666666665, 2774: 3.0, 2779: 3.227272727272727, 2782: 3.3333333333333335, 2784: 3.25, 2786: 2.0, 2787: 2.4, 2788: 4.053571428571429, 2789: 2.8333333333333335, 2790: 2.0, 2791: 3.8550724637681157, 2792: 3.0, 2793: 2.375, 2794: 2.6333333333333333, 2795: 3.619047619047619, 2796: 2.375, 2797: 3.683098591549296, 2798: 1.4444444444444444, 2799: 1.3125, 2800: 2.5, 2802: 3.15, 2803: 2.9166666666666665, 2804: 3.9693877551020407, 2805: 3.026315789473684, 2806: 1.75, 2807: 1.8333333333333333, 2808: 2.3214285714285716, 2810: 4.125, 2812: 3.0, 2813: 1.0, 2815: 2.3333333333333335, 2816: 1.6666666666666667, 2817: 2.0, 2818: 1.0, 2819: 3.769230769230769, 2820: 4.0, 2822: 3.1666666666666665, 2824: 5.0, 2826: 2.761904761904762, 2827: 2.388888888888889, 2828: 1.5, 2829: 3.25, 2835: 1.0, 2836: 3.5, 2837: 3.0, 2839: 4.0, 2840: 2.9473684210526314, 2841: 3.46875, 2843: 3.9444444444444446, 2844: 3.5, 2846: 3.857142857142857, 2848: 4.0, 2851: 3.25, 2852: 4.0, 2857: 3.3181818181818183, 2858: 4.06875, 2859: 3.5, 2860: 2.611111111111111, 2861: 3.4, 2862: 1.0, 2863: 3.4615384615384617, 2865: 4.0, 2866: 3.6, 2867: 3.5833333333333335, 2868: 2.0, 2870: 3.3125, 2871: 3.888888888888889, 2872: 3.6315789473684212, 2874: 4.0, 2875: 2.9375, 2876: 2.0, 2877: 3.0, 2878: 2.0, 2879: 3.2142857142857144, 2880: 2.5, 2881: 2.90625, 2882: 1.75, 2883: 3.2, 2884: 2.0, 2885: 2.0, 2886: 1.5, 2888: 2.25, 2889: 3.857142857142857, 2890: 3.7666666666666666, 2891: 4.0, 2892: 1.0, 2896: 3.0, 2897: 4.0, 2898: 2.0, 2899: 3.0, 2900: 2.5, 2901: 3.45, 2902: 2.5, 2903: 2.5, 2905: 4.0, 2906: 2.8333333333333335, 2907: 3.8, 2908: 3.65625, 2912: 3.772727272727273, 2915: 3.3815789473684212, 2916: 3.6, 2917: 4.142857142857143, 2918: 3.7941176470588234, 2919: 3.8125, 2921: 4.125, 2922: 3.75, 2924: 3.9285714285714284, 2925: 4.1, 2926: 3.1666666666666665, 2927: 3.0, 2928: 4.0, 2929: 3.25, 2930: 3.5, 2931: 4.166666666666667, 2932: 3.6666666666666665, 2935: 4.5, 2936: 4.375, 2937: 4.5, 2940: 4.0, 2941: 3.857142857142857, 2942: 2.8333333333333335, 2943: 4.5, 2944: 3.8863636363636362, 2946: 3.4166666666666665, 2947: 3.8191489361702127, 2948: 3.8275862068965516, 2949: 3.6923076923076925, 2950: 2.625, 2951: 4.018518518518518, 2952: 3.6666666666666665, 2953: 2.5217391304347827, 2956: 3.25, 2959: 4.292553191489362, 2961: 2.4, 2962: 3.0, 2966: 4.05, 2967: 4.0, 2968: 3.764705882352941, 2969: 5.0, 2970: 3.75, 2971: 4.5, 2972: 5.0, 2973: 4.0, 2974: 2.5, 2976: 3.125, 2977: 3.0, 2978: 3.5, 2979: 3.0, 2982: 2.0, 2983: 4.0, 2985: 3.392156862745098, 2986: 2.6666666666666665, 2987: 3.6710526315789473, 2988: 4.0, 2989: 3.4411764705882355, 2990: 3.2333333333333334, 2991: 3.65, 2992: 3.5, 2993: 3.3055555555555554, 2995: 2.4285714285714284, 2996: 3.75, 2997: 3.9054054054054053, 3000: 3.966666666666667, 3002: 4.0, 3003: 4.5, 3004: 2.5555555555555554, 3005: 2.9545454545454546, 3006: 3.86, 3007: 3.9, 3008: 4.0, 3010: 4.0, 3011: 3.0, 3014: 2.0, 3015: 3.6666666666666665, 3016: 3.388888888888889, 3017: 3.3333333333333335, 3018: 3.5, 3019: 4.1875, 3020: 3.5416666666666665, 3021: 2.0, 3022: 4.142857142857143, 3024: 2.75, 3028: 3.0, 3029: 3.25, 3030: 4.136363636363637, 3031: 2.1666666666666665, 3032: 3.7, 3033: 3.4431818181818183, 3034: 3.5357142857142856, 3035: 3.8, 3036: 4.0, 3037: 4.4, 3038: 4.25, 3039: 3.6724137931034484, 3040: 3.25, 3041: 2.0, 3042: 2.0, 3043: 1.0, 3044: 3.6666666666666665, 3045: 3.5, 3046: 4.5, 3048: 2.0, 3051: 2.5, 3052: 3.6838235294117645, 3053: 3.9, 3054: 2.357142857142857, 3055: 3.3333333333333335, 3056: 4.0, 3060: 3.857142857142857, 3061: 3.625, 3062: 4.0, 3063: 2.4, 3064: 2.3333333333333335, 3066: 3.9166666666666665, 3067: 3.4444444444444446, 3068: 4.357142857142857, 3070: 3.5294117647058822, 3071: 3.4285714285714284, 3072: 3.8684210526315788, 3073: 5.0, 3074: 4.666666666666667, 3075: 4.75, 3076: 3.625, 3077: 4.0, 3078: 4.0, 3079: 3.0, 3081: 3.5510204081632653, 3082: 3.306451612903226, 3083: 4.466666666666667, 3087: 3.3125, 3088: 4.1875, 3089: 4.107142857142857, 3090: 4.166666666666667, 3091: 4.125, 3093: 3.75, 3094: 4.0, 3095: 4.142857142857143, 3096: 5.0, 3097: 3.0, 3098: 3.5526315789473686, 3099: 3.1666666666666665, 3100: 4.071428571428571, 3101: 3.0961538461538463, 3102: 3.5, 3103: 2.75, 3104: 3.676470588235294, 3105: 3.607142857142857, 3106: 1.0, 3107: 3.4444444444444446, 3108: 3.823529411764706, 3109: 3.5, 3111: 4.0, 3112: 3.0, 3113: 2.642857142857143, 3114: 3.835526315789474, 3115: 4.0, 3117: 4.0, 3120: 3.0, 3127: 2.8333333333333335, 3129: 3.6666666666666665, 3130: 2.0, 3132: 2.0, 3134: 3.5, 3135: 3.6666666666666665, 3138: 3.0, 3141: 1.25, 3142: 3.25, 3143: 3.0, 3145: 3.1666666666666665, 3146: 2.4545454545454546, 3147: 4.204545454545454, 3148: 3.727272727272727, 3150: 4.0, 3152: 4.5, 3153: 4.4, 3155: 3.6666666666666665, 3156: 2.727272727272727, 3157: 2.75, 3158: 4.0, 3159: 3.7916666666666665, 3160: 3.841463414634146, 3161: 2.0, 3162: 3.0, 3163: 4.166666666666667, 3165: 4.0, 3167: 3.5, 3168: 3.5454545454545454, 3169: 3.375, 3171: 4.0, 3173: 2.9583333333333335, 3174: 3.5, 3175: 3.522727272727273, 3176: 3.451219512195122, 3177: 3.375, 3178: 3.607142857142857, 3179: 3.3333333333333335, 3181: 3.7, 3182: 4.25, 3183: 3.0, 3185: 3.3333333333333335, 3186: 3.5, 3189: 3.5625, 3190: 2.0, 3192: 3.0, 3194: 3.625, 3196: 3.7857142857142856, 3197: 2.6, 3198: 3.909090909090909, 3200: 4.4, 3201: 4.5, 3203: 3.3333333333333335, 3204: 3.7, 3206: 2.3333333333333335, 3208: 2.0833333333333335, 3210: 3.414285714285714, 3211: 4.0, 3213: 4.2, 3214: 2.0, 3217: 3.5, 3219: 2.95, 3221: 3.7, 3223: 5.0, 3224: 4.75, 3225: 2.0, 3230: 4.0, 3235: 3.6666666666666665, 3238: 1.7, 3240: 3.25, 3241: 4.5, 3243: 2.3076923076923075, 3244: 3.75, 3246: 4.107142857142857, 3247: 2.9464285714285716, 3248: 2.0, 3249: 3.142857142857143, 3250: 3.1666666666666665, 3251: 3.6666666666666665, 3252: 3.522727272727273, 3253: 3.41, 3254: 3.260869565217391, 3255: 3.486842105263158, 3256: 3.5625, 3257: 2.84, 3258: 2.8461538461538463, 3259: 3.2777777777777777, 3260: 3.9, 3261: 3.4166666666666665, 3262: 3.4285714285714284, 3263: 3.0277777777777777, 3264: 2.4347826086956523, 3265: 4.25, 3266: 4.5, 3267: 3.433333333333333, 3268: 1.9444444444444444, 3269: 2.9318181818181817, 3270: 2.7777777777777777, 3271: 3.6785714285714284, 3272: 3.5, 3273: 2.6875, 3274: 3.15, 3275: 4.2105263157894735, 3276: 1.0, 3280: 1.5, 3283: 3.25, 3284: 3.0, 3285: 3.090909090909091, 3286: 2.3, 3287: 3.75, 3294: 1.5, 3295: 4.0, 3296: 4.071428571428571, 3298: 3.6666666666666665, 3299: 2.5, 3300: 3.7241379310344827, 3301: 3.466666666666667, 3302: 4.75, 3303: 5.0, 3306: 4.125, 3307: 3.7222222222222223, 3308: 3.0, 3310: 3.5, 3313: 1.5, 3315: 4.5, 3316: 2.6, 3317: 3.8055555555555554, 3323: 4.0, 3324: 1.0, 3325: 2.25, 3326: 3.1666666666666665, 3327: 3.6666666666666665, 3328: 3.857142857142857, 3329: 4.0, 3330: 4.25, 3331: 2.0, 3334: 4.166666666666667, 3341: 4.2, 3342: 3.5, 3344: 4.0, 3345: 3.0, 3347: 4.0625, 3350: 3.75, 3353: 4.5, 3354: 2.6470588235294117, 3355: 3.35, 3357: 4.0, 3358: 3.7222222222222223, 3359: 4.1, 3360: 3.6842105263157894, 3361: 3.5833333333333335, 3362: 3.911764705882353, 3363: 3.9545454545454546, 3364: 3.6666666666666665, 3365: 4.0, 3368: 3.25, 3370: 2.5, 3372: 4.0, 3378: 4.0, 3379: 4.5, 3384: 4.5, 3385: 2.875, 3386: 3.5, 3387: 3.0, 3388: 2.6, 3389: 2.0, 3390: 2.0, 3391: 2.5, 3392: 2.3333333333333335, 3393: 1.3333333333333333, 3394: 2.25, 3395: 3.0, 3396: 3.4423076923076925, 3397: 3.4545454545454546, 3398: 3.3846153846153846, 3400: 3.0, 3401: 2.2, 3402: 4.0, 3403: 4.0, 3404: 4.2, 3405: 3.0, 3406: 3.0, 3408: 3.5083333333333333, 3409: 2.925925925925926, 3410: 4.0, 3412: 3.125, 3414: 4.0, 3415: 4.166666666666667, 3417: 3.0, 3418: 3.426470588235294, 3420: 3.1666666666666665, 3421: 3.7211538461538463, 3422: 3.5, 3423: 1.75, 3424: 3.9782608695652173, 3425: 3.625, 3426: 3.0714285714285716, 3428: 3.0, 3429: 4.2272727272727275, 3430: 3.3333333333333335, 3431: 1.6666666666666667, 3432: 1.0, 3433: 1.0, 3434: 1.0, 3435: 4.233333333333333, 3436: 3.75, 3438: 3.1666666666666665, 3439: 2.5, 3440: 2.2, 3441: 3.5384615384615383, 3442: 1.0, 3444: 2.6666666666666665, 3445: 3.5, 3446: 4.0, 3447: 4.0, 3448: 3.810344827586207, 3449: 4.0, 3450: 3.108695652173913, 3451: 4.357142857142857, 3452: 3.1538461538461537, 3453: 3.0, 3454: 2.25, 3459: 4.0, 3461: 3.0555555555555554, 3462: 3.7, 3466: 3.1666666666666665, 3467: 3.6666666666666665, 3468: 4.266666666666667, 3469: 3.9, 3470: 3.5, 3471: 3.693877551020408, 3473: 5.0, 3474: 4.0, 3475: 5.0, 3476: 3.5, 3477: 3.5, 3478: 2.8333333333333335, 3479: 3.375, 3480: 3.3333333333333335, 3481: 3.6, 3483: 3.05, 3484: 2.642857142857143, 3489: 3.372093023255814, 3492: 4.0, 3494: 3.5, 3496: 5.0, 3497: 2.5, 3498: 4.0, 3499: 3.7916666666666665, 3500: 2.6666666666666665, 3501: 2.3, 3502: 3.5, 3503: 3.7857142857142856, 3504: 4.125, 3505: 3.5, 3506: 3.0, 3507: 4.05, 3508: 4.233333333333333, 3510: 3.2083333333333335, 3511: 2.4, 3512: 3.642857142857143, 3513: 3.1, 3514: 3.0, 3515: 3.5833333333333335, 3516: 3.375, 3519: 2.875, 3521: 3.9, 3524: 3.0, 3525: 2.8333333333333335, 3526: 3.8076923076923075, 3527: 3.6914893617021276, 3528: 3.25, 3529: 3.3333333333333335, 3531: 5.0, 3534: 3.409090909090909, 3535: 3.8207547169811322, 3536: 3.4411764705882355, 3537: 5.0, 3538: 3.2, 3539: 3.25, 3543: 3.7, 3544: 2.3333333333333335, 3545: 2.75, 3546: 4.5, 3548: 4.125, 3549: 3.9, 3550: 3.25, 3551: 3.5454545454545454, 3552: 3.810810810810811, 3553: 2.3333333333333335, 3554: 3.0, 3555: 3.4038461538461537, 3556: 3.85, 3557: 2.9, 3559: 3.0, 3563: 2.5, 3564: 1.8125, 3565: 3.4166666666666665, 3566: 2.9285714285714284, 3567: 5.0, 3568: 4.0, 3569: 4.0, 3571: 3.0, 3572: 1.0, 3573: 2.0, 3574: 1.0, 3576: 3.5, 3577: 2.0, 3578: 3.93359375, 3581: 4.0, 3584: 2.0, 3586: 4.0, 3587: 3.5, 3590: 2.0, 3591: 2.7142857142857144, 3592: 4.5, 3593: 1.59375, 3594: 3.1, 3596: 1.0, 3597: 3.0, 3598: 3.0, 3599: 3.2, 3604: 0.5, 3606: 4.0, 3608: 3.0476190476190474, 3609: 3.5, 3614: 3.0714285714285716, 3615: 3.0, 3616: 3.111111111111111, 3617: 2.935483870967742, 3618: 3.75, 3619: 2.0, 3622: 3.0, 3623: 2.7704918032786887, 3624: 3.196969696969697, 3625: 2.0, 3626: 3.3333333333333335, 3627: 4.25, 3628: 3.0, 3629: 4.071428571428571, 3632: 4.0, 3633: 3.392857142857143, 3635: 3.4444444444444446, 3638: 3.1458333333333335, 3639: 3.5357142857142856, 3640: 4.0, 3641: 4.0, 3643: 3.5, 3646: 2.5, 3648: 4.0, 3649: 3.1, 3652: 3.0, 3653: 4.75, 3654: 3.727272727272727, 3655: 4.25, 3658: 3.0, 3660: 2.0, 3661: 3.0, 3662: 3.0, 3663: 2.0, 3664: 2.0, 3668: 3.5454545454545454, 3671: 4.0212765957446805, 3672: 3.8, 3673: 4.5, 3674: 4.0, 3675: 4.25, 3676: 3.611111111111111, 3677: 4.166666666666667, 3679: 3.5, 3680: 3.0, 3681: 4.153846153846154, 3682: 3.625, 3683: 4.0588235294117645, 3684: 3.1666666666666665, 3685: 3.875, 3686: 3.1666666666666665, 3687: 5.0, 3688: 2.2222222222222223, 3689: 1.75, 3690: 2.0, 3691: 3.0, 3692: 3.0, 3693: 2.4166666666666665, 3694: 2.0, 3695: 2.0, 3696: 3.1666666666666665, 3697: 3.088235294117647, 3698: 3.185185185185185, 3699: 3.090909090909091, 3700: 2.5, 3701: 2.9583333333333335, 3702: 3.482142857142857, 3703: 4.042857142857143, 3704: 3.210526315789474, 3705: 2.25, 3706: 3.3333333333333335, 3707: 2.5555555555555554, 3708: 3.05, 3709: 2.0, 3710: 2.0, 3711: 4.0, 3712: 2.75, 3713: 4.0, 3714: 2.5, 3717: 3.15, 3719: 3.0, 3720: 4.0, 3723: 3.875, 3724: 3.375, 3725: 3.5, 3726: 3.75, 3727: 4.166666666666667, 3728: 3.75, 3729: 4.0, 3730: 4.269230769230769, 3731: 3.0, 3732: 2.0, 3733: 4.0, 3735: 3.75, 3736: 3.0, 3737: 4.0, 3738: 3.0, 3739: 3.5, 3740: 3.857142857142857, 3741: 4.090909090909091, 3742: 3.611111111111111, 3743: 2.5, 3744: 2.5833333333333335, 3745: 3.4285714285714284, 3746: 5.0, 3747: 3.5, 3751: 3.5163934426229506, 3752: 3.0128205128205128, 3753: 3.425925925925926, 3754: 2.5, 3755: 3.2205882352941178, 3756: 4.0, 3758: 4.0, 3760: 3.5, 3761: 4.0, 3763: 3.1666666666666665, 3764: 2.3, 3765: 3.0, 3766: 2.125, 3767: 1.6666666666666667, 3768: 1.25, 3769: 3.5, 3770: 2.8, 3771: 4.0, 3773: 2.0, 3774: 0.75, 3783: 4.0625, 3784: 2.75, 3785: 2.933333333333333, 3786: 2.75, 3787: 4.0, 3788: 4.166666666666667, 3790: 4.0, 3791: 3.0, 3792: 5.0, 3793: 3.741228070175439, 3794: 2.0, 3797: 2.6666666666666665, 3798: 3.175, 3799: 1.5833333333333333, 3801: 4.0, 3802: 2.0, 3806: 3.0, 3807: 3.0, 3808: 4.0, 3809: 3.2586206896551726, 3810: 3.0, 3811: 4.083333333333333, 3812: 3.75, 3813: 5.0, 3814: 4.3125, 3816: 4.0, 3819: 4.0, 3821: 2.2916666666666665, 3822: 4.166666666666667, 3823: 4.0, 3824: 2.5, 3825: 2.8333333333333335, 3826: 2.257575757575758, 3827: 2.8823529411764706, 3830: 1.5, 3831: 4.083333333333333, 3833: 1.5, 3834: 3.0, 3835: 2.1666666666666665, 3836: 4.045454545454546, 3837: 2.5, 3838: 2.0, 3839: 1.5, 3840: 2.75, 3841: 3.0, 3843: 2.375, 3844: 3.25, 3845: 4.0, 3846: 3.5, 3847: 2.0, 3849: 4.0, 3852: 3.3636363636363638, 3855: 4.5, 3857: 4.0, 3858: 4.333333333333333, 3859: 3.75, 3861: 2.6153846153846154, 3862: 3.75, 3863: 3.0405405405405403, 3864: 2.3333333333333335, 3865: 3.25, 3868: 3.3088235294117645, 3869: 3.65625, 3871: 4.0, 3872: 3.5, 3873: 3.0, 3877: 2.3333333333333335, 3879: 2.0, 3882: 2.6875, 3884: 1.5, 3888: 4.0, 3889: 2.625, 3893: 3.3823529411764706, 3894: 4.0, 3895: 1.5, 3896: 3.625, 3897: 3.828358208955224, 3898: 2.5, 3899: 1.0, 3900: 4.0, 3901: 3.25, 3906: 2.0, 3908: 1.75, 3909: 2.0, 3910: 3.9, 3911: 3.6973684210526314, 3912: 2.5, 3914: 4.0, 3915: 3.6666666666666665, 3916: 3.6774193548387095, 3917: 3.5416666666666665, 3918: 3.5625, 3920: 4.0, 3922: 1.0, 3925: 3.9166666666666665, 3926: 3.0, 3927: 2.8, 3928: 3.75, 3929: 2.0, 3930: 1.8333333333333333, 3932: 4.0, 3933: 0.5, 3937: 2.1666666666666665, 3938: 2.75, 3939: 5.0, 3940: 5.0, 3941: 5.0, 3943: 3.5, 3945: 3.0, 3946: 2.5, 3947: 3.3333333333333335, 3948: 3.462962962962963, 3949: 3.9556962025316458, 3950: 3.5625, 3951: 5.0, 3952: 3.125, 3953: 2.1666666666666665, 3955: 1.5833333333333333, 3957: 2.6666666666666665, 3958: 2.0, 3959: 3.7142857142857144, 3962: 1.5, 3963: 4.0, 3964: 3.0, 3965: 3.5, 3966: 3.5, 3967: 3.8125, 3968: 3.0869565217391304, 3969: 3.4473684210526314, 3971: 2.75, 3972: 4.2272727272727275, 3973: 1.3333333333333333, 3974: 3.0, 3977: 2.709090909090909, 3978: 3.1153846153846154, 3979: 2.3529411764705883, 3980: 3.5, 3981: 2.2916666666666665, 3983: 4.166666666666667, 3984: 3.4722222222222223, 3985: 3.375, 3986: 2.65625, 3987: 2.4166666666666665, 3988: 3.086206896551724, 3989: 4.0, 3990: 2.25, 3991: 2.5625, 3992: 3.75, 3993: 2.75, 3994: 3.423076923076923, 3996: 3.7857142857142856, 3997: 1.95, 3998: 3.0454545454545454, 3999: 2.375, 4000: 3.0, 4002: 3.8260869565217392, 4003: 3.5, 4005: 3.1875, 4006: 2.625, 4007: 3.823529411764706, 4008: 3.6, 4009: 3.0, 4010: 2.9375, 4011: 4.175675675675675, 4012: 2.5, 4014: 3.5, 4015: 2.8260869565217392, 4016: 3.75, 4017: 3.576923076923077, 4018: 3.13, 4019: 3.760869565217391, 4020: 2.8, 4021: 4.375, 4022: 3.6, 4023: 3.125, 4024: 2.1666666666666665, 4025: 3.0833333333333335, 4027: 3.7337662337662336, 4029: 3.95, 4030: 1.625, 4031: 2.5, 4032: 4.0, 4033: 3.9166666666666665, 4034: 3.8666666666666667, 4035: 2.5, 4036: 2.9, 4037: 4.0, 4039: 3.1153846153846154, 4040: 2.5, 4041: 3.625, 4042: 3.375, 4043: 3.5, 4047: 3.642857142857143, 4051: 0.5, 4052: 3.625, 4053: 3.0, 4054: 2.7083333333333335, 4055: 4.0, 4056: 3.25, 4061: 4.0, 4062: 3.375, 4063: 2.5, 4064: 3.5, 4065: 2.5, 4066: 2.875, 4067: 3.0, 4068: 2.7142857142857144, 4069: 2.84375, 4074: 3.0, 4077: 4.5, 4079: 4.25, 4080: 3.25, 4081: 1.75, 4082: 3.5, 4083: 4.0, 4084: 2.8823529411764706, 4085: 3.338709677419355, 4086: 3.5, 4089: 2.0, 4090: 3.4285714285714284, 4091: 3.1666666666666665, 4092: 2.25, 4102: 3.5, 4103: 3.8333333333333335, 4104: 1.5, 4105: 3.8666666666666667, 4109: 2.75, 4110: 3.0, 4111: 3.0, 4113: 3.0, 4115: 2.0, 4116: 5.0, 4117: 4.0, 4121: 2.9444444444444446, 4123: 2.0, 4124: 1.3333333333333333, 4125: 0.75, 4126: 3.3333333333333335, 4127: 1.6666666666666667, 4128: 3.6666666666666665, 4129: 1.0, 4130: 1.75, 4131: 2.25, 4132: 2.8, 4133: 2.5, 4135: 5.0, 4138: 1.0, 4139: 3.0, 4141: 2.75, 4142: 3.5, 4143: 3.5, 4144: 4.25, 4146: 3.0, 4147: 4.0, 4148: 2.7413793103448274, 4149: 2.772727272727273, 4152: 4.0, 4153: 2.5, 4154: 4.0, 4155: 3.357142857142857, 4156: 2.0, 4157: 4.5, 4158: 2.0, 4159: 2.8, 4160: 4.0, 4161: 3.35, 4164: 4.0, 4166: 2.5, 4167: 3.111111111111111, 4168: 4.0, 4171: 4.0, 4175: 4.0, 4178: 3.375, 4184: 4.0, 4187: 3.75, 4189: 2.5, 4190: 4.0, 4191: 3.5, 4193: 4.0, 4195: 4.0, 4197: 3.0, 4198: 3.0, 4200: 2.0, 4202: 3.0, 4203: 3.1666666666666665, 4204: 1.0, 4205: 3.0, 4207: 2.0, 4210: 3.7, 4211: 3.5, 4212: 3.0, 4214: 2.9583333333333335, 4215: 2.125, 4217: 4.25, 4218: 3.5, 4219: 3.3333333333333335, 4220: 3.6666666666666665, 4221: 2.625, 4223: 3.578125, 4224: 2.75, 4225: 4.1, 4226: 4.170454545454546, 4228: 2.0, 4229: 2.125, 4231: 3.5, 4232: 2.875, 4233: 2.0, 4234: 3.25, 4235: 4.0, 4236: 3.5, 4238: 3.1785714285714284, 4239: 3.7564102564102564, 4240: 2.0, 4241: 2.0, 4243: 4.0, 4246: 3.6203703703703702, 4247: 2.3421052631578947, 4248: 1.625, 4251: 2.0, 4252: 3.5, 4254: 2.0, 4255: 2.0, 4256: 3.6666666666666665, 4259: 3.6666666666666665, 4260: 2.0, 4262: 3.9705882352941178, 4263: 4.0, 4265: 3.0, 4267: 3.375, 4268: 2.5, 4270: 3.0294117647058822, 4273: 4.5, 4275: 2.875, 4278: 4.166666666666667, 4280: 3.5, 4284: 3.0, 4285: 3.0, 4289: 2.5, 4290: 2.0, 4291: 2.5, 4292: 3.5, 4293: 2.5, 4294: 4.0, 4296: 3.0, 4297: 3.75, 4298: 4.75, 4299: 3.4310344827586206, 4300: 4.0, 4304: 3.6, 4305: 1.625, 4306: 3.937984496124031, 4308: 3.6666666666666665, 4310: 2.8857142857142857, 4312: 3.5, 4313: 3.5, 4316: 2.5, 4317: 2.5, 4321: 3.3333333333333335, 4322: 3.8333333333333335, 4325: 4.0, 4326: 3.5, 4327: 3.566666666666667, 4329: 4.0, 4333: 3.2222222222222223, 4334: 4.6, 4337: 3.5, 4338: 4.5, 4339: 3.75, 4340: 2.1875, 4343: 3.138888888888889, 4344: 3.111111111111111, 4345: 3.0, 4347: 3.5, 4349: 3.5714285714285716, 4350: 4.0, 4351: 3.3214285714285716, 4353: 3.0, 4354: 2.5, 4355: 2.0, 4356: 3.75, 4357: 4.5, 4359: 3.25, 4361: 3.5, 4366: 3.3636363636363638, 4367: 2.8333333333333335, 4368: 2.5714285714285716, 4369: 3.0641025641025643, 4370: 3.3260869565217392, 4371: 0.5, 4372: 3.5, 4373: 2.0, 4378: 3.875, 4380: 3.857142857142857, 4381: 3.375, 4383: 3.375, 4384: 3.0, 4386: 3.142857142857143, 4387: 3.75, 4388: 2.6470588235294117, 4389: 3.625, 4390: 3.5, 4392: 2.5, 4393: 4.5, 4395: 4.0, 4396: 2.9285714285714284, 4397: 2.5, 4399: 3.75, 4402: 5.0, 4403: 3.0, 4404: 4.0, 4406: 4.4, 4407: 4.5, 4408: 3.5, 4409: 3.3333333333333335, 4410: 4.0, 4412: 0.75, 4419: 4.5, 4420: 3.0, 4422: 4.0, 4424: 3.5, 4426: 3.0, 4427: 3.357142857142857, 4429: 4.0, 4432: 4.333333333333333, 4433: 4.25, 4434: 4.0, 4436: 3.0, 4437: 3.7857142857142856, 4438: 3.25, 4439: 3.625, 4440: 3.75, 4441: 4.25, 4442: 2.6666666666666665, 4443: 2.5, 4444: 4.166666666666667, 4445: 4.0, 4446: 3.3541666666666665, 4447: 3.0980392156862746, 4448: 3.5588235294117645, 4449: 2.0, 4450: 3.642857142857143, 4451: 3.5, 4452: 2.6666666666666665, 4453: 3.5, 4458: 4.0, 4462: 1.5, 4464: 3.6, 4465: 3.625, 4466: 2.5, 4467: 3.8333333333333335, 4470: 4.0, 4471: 1.5, 4473: 3.0, 4474: 2.9, 4476: 2.3333333333333335, 4477: 1.8333333333333333, 4478: 3.5, 4480: 2.8333333333333335, 4482: 3.1666666666666665, 4483: 1.25, 4484: 3.75, 4487: 2.9444444444444446, 4488: 3.5, 4489: 3.433333333333333, 4490: 2.0, 4492: 3.0, 4496: 3.5, 4497: 3.0, 4498: 3.5, 4499: 4.071428571428571, 4500: 4.0, 4502: 1.0, 4506: 3.1666666666666665, 4508: 3.5, 4509: 3.25, 4516: 3.0, 4517: 1.75, 4518: 3.75, 4519: 3.25, 4520: 2.25, 4521: 3.0, 4522: 1.0, 4523: 3.0, 4524: 3.0, 4526: 3.1, 4527: 3.0, 4529: 3.75, 4531: 2.5, 4533: 3.75, 4534: 2.5, 4535: 3.1666666666666665, 4537: 4.333333333333333, 4541: 3.0, 4544: 2.75, 4545: 3.4444444444444446, 4546: 3.75, 4552: 3.5, 4553: 3.857142857142857, 4557: 3.0, 4558: 2.4166666666666665, 4562: 4.0, 4563: 1.8333333333333333, 4564: 3.0, 4565: 2.0, 4568: 2.5, 4571: 3.6315789473684212, 4572: 3.0, 4573: 2.0, 4574: 3.0, 4577: 3.8333333333333335, 4578: 3.5, 4580: 0.5, 4581: 4.0, 4584: 2.0, 4585: 3.1666666666666665, 4587: 2.142857142857143, 4589: 2.0, 4591: 3.0, 4593: 2.5, 4594: 3.0, 4595: 3.5, 4597: 2.0, 4599: 2.5, 4600: 3.25, 4602: 3.0, 4603: 2.5, 4605: 4.166666666666667, 4608: 2.25, 4610: 2.0, 4611: 4.0, 4612: 4.5, 4613: 2.0, 4614: 2.5, 4615: 4.0, 4616: 4.0, 4617: 3.5, 4619: 2.25, 4621: 2.1785714285714284, 4622: 2.5, 4623: 3.53125, 4624: 3.0, 4625: 2.0, 4626: 3.0, 4628: 3.5, 4629: 1.75, 4630: 1.0, 4632: 3.0, 4634: 5.0, 4636: 2.5, 4638: 2.8333333333333335, 4639: 2.4285714285714284, 4640: 4.0, 4641: 3.45, 4642: 3.857142857142857, 4643: 2.8026315789473686, 4644: 4.0, 4646: 1.5, 4649: 3.7, 4653: 3.0, 4654: 2.875, 4661: 3.0, 4662: 3.1666666666666665, 4663: 2.8333333333333335, 4666: 3.0, 4671: 3.5, 4672: 2.75, 4673: 1.6666666666666667, 4675: 1.0, 4676: 2.1, 4677: 3.05, 4678: 3.75, 4679: 2.875, 4681: 3.625, 4683: 3.25, 4686: 2.0, 4687: 3.5, 4688: 3.3333333333333335, 4689: 3.5, 4690: 3.25, 4695: 4.0, 4697: 2.625, 4699: 2.75, 4700: 2.9166666666666665, 4701: 3.4318181818181817, 4703: 3.375, 4704: 3.0, 4708: 4.5, 4709: 2.75, 4710: 3.5, 4713: 3.5, 4714: 2.0, 4715: 3.0, 4717: 4.0, 4718: 3.128205128205128, 4719: 2.9166666666666665, 4720: 3.625, 4721: 2.5, 4722: 3.0, 4723: 1.8333333333333333, 4725: 4.0, 4727: 3.125, 4728: 3.0, 4732: 1.875, 4733: 0.5, 4734: 3.3076923076923075, 4735: 2.6, 4736: 2.6666666666666665, 4738: 3.8333333333333335, 4741: 3.5, 4743: 3.25, 4744: 2.5, 4745: 3.5, 4748: 1.75, 4749: 0.5, 4750: 0.5, 4754: 3.9, 4756: 1.0, 4757: 2.5, 4759: 4.0, 4765: 4.5, 4766: 4.0, 4769: 3.0, 4770: 2.75, 4771: 2.75, 4772: 3.5, 4773: 3.0, 4774: 2.4, 4775: 0.5, 4776: 3.8333333333333335, 4777: 2.5, 4780: 2.0, 4782: 2.0, 4783: 3.5, 4784: 3.0, 4786: 1.0, 4787: 3.35, 4788: 5.0, 4789: 4.333333333333333, 4792: 3.5, 4794: 3.0, 4795: 3.5, 4796: 3.5, 4798: 3.5, 4799: 3.3333333333333335, 4801: 4.0, 4802: 3.6666666666666665, 4803: 3.8333333333333335, 4808: 2.1666666666666665, 4809: 4.166666666666667, 4810: 2.0, 4811: 3.0, 4812: 2.6666666666666665, 4813: 5.0, 4814: 2.8333333333333335, 4815: 3.25, 4816: 3.425531914893617, 4818: 2.0, 4821: 3.1, 4822: 2.5, 4823: 3.0789473684210527, 4825: 3.0, 4826: 4.25, 4828: 3.5, 4831: 3.0, 4833: 4.0, 4835: 2.5, 4836: 3.75, 4844: 3.5, 4845: 1.75, 4846: 3.75, 4847: 2.5, 4848: 3.8333333333333335, 4849: 3.3333333333333335, 4850: 3.5, 4852: 1.6666666666666667, 4855: 3.576923076923077, 4857: 3.5833333333333335, 4860: 2.0, 4862: 1.6666666666666667, 4863: 3.25, 4865: 3.6333333333333333, 4866: 3.0714285714285716, 4867: 3.5, 4871: 3.5, 4873: 3.6153846153846154, 4874: 3.44, 4876: 2.5555555555555554, 4877: 3.5, 4878: 4.017441860465116, 4880: 3.888888888888889, 4881: 3.7142857142857144, 4883: 4.0, 4885: 2.0, 4886: 3.8613861386138613, 4887: 2.6666666666666665, 4888: 3.875, 4889: 3.625, 4890: 2.98, 4893: 2.5, 4896: 3.8255813953488373, 4898: 2.625, 4899: 1.9285714285714286, 4900: 2.75, 4901: 3.409090909090909, 4902: 3.25, 4903: 2.9444444444444446, 4909: 2.0, 4911: 3.5, 4912: 3.75, 4914: 3.9285714285714284, 4915: 2.8, 4916: 3.0, 4917: 4.0, 4919: 3.5, 4920: 2.5, 4921: 4.0, 4925: 3.0, 4926: 2.0, 4927: 3.0, 4928: 2.8333333333333335, 4929: 2.375, 4936: 3.4, 4941: 3.0833333333333335, 4945: 4.0, 4946: 4.0, 4947: 3.5, 4951: 3.4285714285714284, 4952: 2.0, 4954: 3.9444444444444446, 4956: 4.5, 4957: 3.5, 4958: 3.1333333333333333, 4959: 3.25, 4962: 2.0, 4963: 3.8263157894736843, 4964: 3.5, 4965: 3.0, 4966: 3.0, 4967: 4.05, 4969: 3.8333333333333335, 4970: 4.0, 4971: 3.5, 4973: 4.207446808510638, 4974: 2.625, 4975: 3.3484848484848486, 4976: 4.0, 4977: 3.5, 4978: 3.9, 4979: 3.736842105263158, 4980: 2.892857142857143, 4985: 1.5, 4987: 3.0, 4988: 2.0, 4989: 2.5, 4990: 3.2, 4991: 3.3333333333333335, 4992: 3.5357142857142856, 4993: 4.091503267973856, 4994: 3.5, 4995: 4.016304347826087, 4998: 3.5, 5004: 3.5, 5008: 4.5, 5009: 3.0, 5010: 3.6285714285714286, 5011: 3.5, 5013: 3.6666666666666665, 5014: 3.7142857142857144, 5015: 3.3125, 5016: 3.2, 5021: 2.75, 5023: 4.0, 5025: 2.5833333333333335, 5026: 3.8076923076923075, 5027: 3.0, 5028: 2.0, 5033: 2.5, 5034: 3.6666666666666665, 5039: 4.1, 5040: 3.0, 5041: 1.5, 5046: 3.0, 5047: 3.3125, 5048: 2.5, 5049: 3.75, 5051: 3.0, 5055: 2.7857142857142856, 5060: 3.8846153846153846, 5062: 3.5, 5064: 3.9782608695652173, 5065: 2.9545454545454546, 5066: 3.6, 5068: 4.0, 5069: 3.25, 5072: 3.7142857142857144, 5073: 3.5, 5074: 3.1666666666666665, 5075: 3.6666666666666665, 5076: 2.25, 5080: 3.0, 5081: 2.8, 5083: 3.5, 5088: 5.0, 5092: 2.3333333333333335, 5093: 2.9166666666666665, 5094: 1.7857142857142858, 5095: 4.5, 5096: 1.25, 5099: 2.5, 5102: 2.0, 5103: 3.4210526315789473, 5105: 0.5, 5106: 2.0714285714285716, 5107: 3.0, 5108: 2.642857142857143, 5110: 3.4444444444444446, 5111: 1.5, 5112: 3.0, 5113: 2.5, 5114: 4.0, 5120: 4.5, 5121: 4.0, 5127: 3.5, 5128: 2.35, 5131: 3.25, 5134: 2.5, 5135: 3.5, 5136: 2.5, 5137: 4.0, 5139: 3.2777777777777777, 5146: 3.375, 5147: 3.75, 5151: 3.0294117647058822, 5152: 3.269230769230769, 5156: 2.5, 5159: 3.142857142857143, 5165: 4.0, 5168: 3.0, 5170: 2.0, 5171: 2.9210526315789473, 5177: 3.5, 5178: 4.0, 5181: 4.5, 5187: 4.0, 5189: 1.5, 5197: 2.0, 5198: 3.5, 5202: 2.5, 5205: 2.75, 5209: 2.0, 5212: 3.0, 5213: 1.5, 5214: 2.3333333333333335, 5218: 3.710144927536232, 5219: 3.0, 5220: 2.375, 5221: 3.0, 5222: 3.1666666666666665, 5224: 4.5, 5225: 3.875, 5226: 2.25, 5231: 3.5, 5238: 3.5, 5239: 4.0, 5241: 5.0, 5244: 5.0, 5246: 1.25, 5247: 2.857142857142857, 5248: 1.375, 5250: 3.0, 5254: 3.2, 5255: 2.1666666666666665, 5256: 2.5, 5258: 2.0, 5264: 2.3333333333333335, 5265: 3.2, 5266: 2.96875, 5267: 3.3181818181818183, 5268: 2.5, 5269: 4.0, 5275: 1.5, 5279: 3.5, 5282: 3.25, 5283: 2.789473684210526, 5284: 2.5, 5288: 4.5, 5291: 4.142857142857143, 5292: 3.857142857142857, 5293: 3.4285714285714284, 5294: 4.0625, 5296: 2.7857142857142856, 5297: 2.5, 5298: 3.5, 5299: 3.2745098039215685, 5303: 3.6, 5304: 4.0, 5307: 3.0, 5308: 2.9615384615384617, 5309: 2.642857142857143, 5311: 3.0, 5312: 2.857142857142857, 5313: 2.3684210526315788, 5316: 3.0833333333333335, 5319: 3.5, 5321: 2.0, 5322: 4.0, 5323: 1.0, 5324: 2.0, 5325: 3.7857142857142856, 5328: 5.0, 5329: 3.3333333333333335, 5333: 3.5, 5334: 1.5, 5337: 3.0, 5338: 2.0, 5339: 3.9, 5341: 3.75, 5346: 1.75, 5347: 2.5, 5349: 3.556701030927835, 5353: 3.0, 5356: 0.5, 5357: 3.5, 5358: 3.0, 5361: 1.75, 5363: 2.4375, 5364: 3.5, 5365: 4.0, 5372: 3.5, 5375: 3.0, 5377: 3.7625, 5378: 3.0136986301369864, 5379: 4.125, 5380: 3.75, 5382: 3.0, 5384: 3.0, 5387: 4.0, 5388: 3.3703703703703702, 5389: 3.5, 5391: 4.0, 5397: 2.5, 5398: 4.0, 5400: 3.0, 5401: 1.9285714285714286, 5404: 4.5, 5409: 4.0, 5410: 2.1666666666666665, 5414: 3.1666666666666665, 5415: 3.125, 5416: 5.0, 5417: 4.25, 5418: 3.8674698795180724, 5419: 3.0357142857142856, 5420: 2.4166666666666665, 5421: 3.5, 5422: 4.0, 5423: 2.5, 5424: 3.0, 5425: 4.25, 5427: 1.75, 5428: 1.125, 5433: 2.6666666666666665, 5434: 3.8, 5437: 3.0, 5438: 2.75, 5440: 3.0, 5442: 2.0, 5443: 1.5, 5444: 3.95, 5445: 3.63265306122449, 5446: 3.5833333333333335, 5447: 3.5, 5448: 2.0, 5449: 2.95, 5450: 3.2, 5451: 3.375, 5452: 1.7, 5454: 2.25, 5455: 1.5, 5459: 3.0, 5460: 4.0, 5462: 3.0, 5463: 2.730769230769231, 5464: 3.5641025641025643, 5465: 3.0, 5466: 4.0, 5468: 5.0, 5470: 4.0, 5471: 1.8333333333333333, 5472: 3.5, 5475: 4.0, 5476: 2.0, 5477: 3.0, 5478: 2.9166666666666665, 5479: 3.4, 5480: 2.875, 5481: 2.7884615384615383, 5483: 4.5, 5485: 3.3333333333333335, 5486: 2.5, 5489: 4.0, 5490: 5.0, 5493: 4.0, 5497: 3.25, 5498: 4.5, 5499: 3.0, 5500: 4.285714285714286, 5501: 1.5833333333333333, 5502: 3.16, 5503: 4.0, 5504: 2.2142857142857144, 5505: 3.2083333333333335, 5506: 3.3333333333333335, 5507: 2.9166666666666665, 5508: 3.5, 5512: 3.25, 5513: 5.0, 5515: 3.5, 5521: 3.25, 5522: 3.6666666666666665, 5523: 2.3333333333333335, 5524: 3.1, 5525: 3.5, 5527: 3.5, 5528: 3.46875, 5529: 3.25, 5530: 2.4, 5531: 2.75, 5532: 4.0, 5537: 5.0, 5538: 1.5, 5539: 1.5, 5540: 3.5625, 5541: 3.45, 5543: 2.25, 5544: 3.8333333333333335, 5548: 2.5, 5550: 3.5, 5553: 3.0, 5556: 1.5, 5562: 2.5, 5563: 2.75, 5564: 0.5, 5568: 2.857142857142857, 5569: 3.25, 5570: 3.9, 5572: 2.7142857142857144, 5573: 2.5, 5574: 3.4545454545454546, 5575: 2.0, 5577: 3.6666666666666665, 5580: 3.5, 5581: 2.0, 5582: 2.7142857142857144, 5585: 2.625, 5588: 3.5, 5589: 3.5, 5590: 2.5, 5591: 1.0, 5596: 1.5, 5597: 1.0, 5601: 4.0, 5602: 3.5, 5603: 5.0, 5604: 3.5, 5607: 5.0, 5608: 3.875, 5609: 2.5, 5610: 2.0, 5611: 2.75, 5612: 2.0, 5613: 3.8333333333333335, 5614: 4.5, 5615: 3.5, 5617: 3.8823529411764706, 5618: 4.204225352112676, 5619: 4.0, 5620: 3.0, 5621: 2.6666666666666665, 5625: 3.5, 5628: 3.75, 5629: 2.0, 5630: 3.46, 5632: 3.5, 5633: 4.0, 5635: 3.0, 5636: 3.0, 5637: 4.0, 5638: 2.0, 5640: 3.0, 5643: 3.75, 5644: 3.5, 5646: 3.6666666666666665, 5649: 3.0, 5650: 3.5555555555555554, 5651: 3.0, 5657: 4.5, 5665: 2.5, 5666: 3.6, 5667: 3.25, 5668: 2.5, 5669: 3.7403846153846154, 5670: 3.0, 5672: 0.5, 5673: 3.8703703703703702, 5675: 1.0, 5678: 2.5, 5679: 3.106060606060606, 5680: 3.1666666666666665, 5682: 4.0, 5685: 4.25, 5688: 2.75, 5690: 4.038461538461538, 5693: 3.1666666666666665, 5694: 2.25, 5696: 2.3333333333333335, 5699: 4.0, 5704: 2.0, 5706: 2.0, 5707: 3.25, 5710: 2.75, 5712: 3.625, 5720: 2.5, 5723: 5.0, 5733: 4.0, 5735: 1.75, 5736: 1.5, 5741: 4.0, 5742: 4.0, 5745: 5.0, 5747: 4.1, 5749: 3.0, 5752: 3.0, 5755: 2.0, 5768: 3.0, 5771: 0.5, 5772: 5.0, 5773: 3.0, 5780: 3.0, 5782: 3.8, 5784: 3.0, 5785: 3.625, 5786: 4.5, 5788: 3.5, 5791: 3.7857142857142856, 5792: 3.625, 5796: 2.25, 5797: 2.0, 5799: 3.5, 5801: 2.5, 5802: 4.0, 5803: 2.3, 5804: 2.0, 5809: 3.5, 5810: 3.235294117647059, 5812: 3.8636363636363638, 5816: 3.5864197530864197, 5817: 4.5, 5818: 4.5, 5820: 3.25, 5826: 3.5, 5828: 2.5, 5833: 4.5, 5838: 4.0, 5839: 4.0, 5840: 4.0, 5841: 1.5, 5843: 2.25, 5847: 3.5, 5849: 4.5, 5853: 3.0, 5856: 4.0, 5863: 1.0, 5867: 4.5, 5872: 3.15, 5873: 3.5, 5874: 2.5, 5875: 2.5, 5876: 4.166666666666667, 5878: 4.05, 5879: 1.25, 5880: 2.0, 5881: 3.2, 5882: 3.6666666666666665, 5883: 1.5, 5888: 5.0, 5889: 5.0, 5890: 4.5, 5891: 2.625, 5893: 3.25, 5896: 4.0, 5899: 3.6666666666666665, 5900: 2.7142857142857144, 5901: 4.5, 5902: 3.9285714285714284, 5903: 3.923076923076923, 5909: 4.0, 5912: 4.5, 5915: 4.75, 5919: 4.5, 5922: 2.5, 5925: 2.0, 5927: 3.0, 5932: 3.5, 5941: 2.9166666666666665, 5942: 3.125, 5943: 2.9166666666666665, 5944: 3.0, 5945: 3.175, 5947: 3.0, 5949: 3.5, 5951: 3.25, 5952: 4.043333333333333, 5953: 4.0, 5954: 3.75, 5955: 3.5, 5956: 3.5113636363636362, 5957: 3.3529411764705883, 5959: 3.0833333333333335, 5961: 1.5, 5962: 1.0, 5963: 3.5, 5965: 4.0, 5968: 4.0, 5969: 2.5, 5970: 3.375, 5971: 4.05, 5974: 3.0, 5975: 3.5, 5979: 3.0, 5980: 3.5, 5984: 3.5, 5986: 4.0, 5988: 2.625, 5989: 3.9767441860465116, 5990: 3.5, 5991: 3.689189189189189, 5992: 3.7142857142857144, 5993: 2.9, 5994: 4.0, 5995: 4.136363636363637, 5999: 2.25, 6001: 4.071428571428571, 6002: 3.3333333333333335, 6003: 3.6666666666666665, 6005: 3.0, 6006: 2.9285714285714284, 6009: 3.0, 6012: 2.5, 6013: 1.75, 6014: 2.5, 6016: 4.190476190476191, 6020: 3.5, 6021: 5.0, 6022: 3.25, 6023: 3.5, 6025: 2.9, 6027: 4.166666666666667, 6030: 2.0, 6031: 4.0, 6033: 3.0, 6035: 2.5, 6036: 3.0, 6039: 2.375, 6040: 2.125, 6041: 3.8333333333333335, 6042: 3.0, 6051: 3.75, 6055: 3.5, 6057: 2.0, 6058: 3.1666666666666665, 6059: 3.4285714285714284, 6060: 3.0, 6062: 3.0833333333333335, 6063: 3.0, 6064: 4.0, 6067: 4.0, 6070: 4.0, 6078: 2.75, 6086: 5.0, 6090: 3.5, 6093: 3.5, 6095: 3.5, 6100: 4.0, 6101: 4.0, 6104: 4.166666666666667, 6111: 3.5, 6116: 1.5, 6119: 4.0, 6122: 4.0, 6123: 4.0, 6124: 3.5, 6140: 2.25, 6141: 3.0, 6143: 3.0, 6145: 2.0, 6148: 2.8333333333333335, 6153: 1.5, 6155: 3.5, 6156: 3.2, 6157: 2.4310344827586206, 6158: 3.0, 6159: 3.5, 6162: 3.1666666666666665, 6163: 4.5, 6166: 1.8571428571428572, 6169: 2.5, 6178: 4.0, 6181: 4.0, 6182: 3.0, 6183: 3.5, 6184: 4.25, 6185: 3.25, 6186: 3.0, 6187: 3.857142857142857, 6188: 3.578125, 6193: 4.0, 6195: 4.0, 6196: 3.5, 6197: 3.0, 6201: 5.0, 6202: 3.5, 6203: 1.5, 6204: 2.5, 6210: 3.0, 6212: 2.1, 6213: 2.375, 6214: 3.7857142857142856, 6215: 3.0, 6216: 3.5, 6217: 4.5, 6218: 3.274193548387097, 6219: 3.0, 6220: 2.3333333333333335, 6223: 3.25, 6225: 3.0, 6228: 4.0, 6232: 4.0, 6235: 4.0, 6237: 4.0, 6238: 2.6875, 6239: 2.75, 6241: 4.0, 6242: 3.5, 6244: 3.0, 6245: 3.5, 6246: 4.0, 6249: 2.5, 6250: 2.75, 6251: 2.0, 6252: 2.3333333333333335, 6254: 4.5, 6263: 3.75, 6264: 2.5, 6265: 2.25, 6266: 3.0625, 6268: 3.75, 6269: 4.5, 6270: 4.0, 6271: 2.0, 6273: 3.5, 6279: 4.0, 6280: 2.25, 6281: 3.1333333333333333, 6283: 3.9, 6285: 4.0, 6286: 3.75, 6287: 3.02, 6288: 3.875, 6289: 3.5, 6290: 2.7142857142857144, 6291: 3.5, 6294: 2.409090909090909, 6295: 2.0, 6296: 3.769230769230769, 6297: 3.3125, 6298: 2.6666666666666665, 6299: 3.5625, 6300: 4.5, 6301: 3.8333333333333335, 6302: 1.0, 6303: 3.642857142857143, 6305: 3.5, 6306: 4.166666666666667, 6308: 2.625, 6310: 2.5, 6313: 2.5, 6314: 2.0, 6315: 2.25, 6316: 2.0, 6319: 2.75, 6322: 2.8333333333333335, 6323: 3.638888888888889, 6324: 2.5, 6327: 3.5, 6329: 3.0, 6330: 2.5, 6331: 4.0, 6332: 3.3333333333333335, 6333: 3.727272727272727, 6334: 3.5, 6335: 3.8333333333333335, 6337: 3.5, 6338: 2.3333333333333335, 6339: 3.6666666666666665, 6341: 3.3333333333333335, 6342: 2.0, 6344: 3.5, 6345: 4.666666666666667, 6348: 1.6666666666666667, 6349: 1.0, 6350: 4.125, 6357: 3.0, 6358: 3.5, 6365: 3.331081081081081, 6367: 2.857142857142857, 6368: 4.0, 6370: 3.875, 6371: 0.5, 6373: 3.3492063492063493, 6374: 2.1666666666666665, 6375: 4.333333333333333, 6376: 3.5, 6377: 4.0, 6378: 3.6808510638297873, 6379: 3.0, 6380: 3.8333333333333335, 6382: 3.0, 6383: 2.75, 6385: 3.7083333333333335, 6386: 4.0, 6387: 3.6666666666666665, 6390: 3.5, 6395: 3.5, 6400: 3.5, 6402: 5.0, 6405: 3.25, 6407: 2.0, 6408: 5.0, 6410: 3.75, 6412: 3.75, 6415: 4.0, 6417: 4.0, 6422: 4.0, 6424: 1.0, 6425: 1.5, 6427: 4.0, 6428: 3.0, 6429: 4.0, 6433: 3.5, 6436: 2.75, 6440: 4.05, 6442: 5.0, 6448: 4.0, 6449: 3.0, 6452: 4.0, 6453: 3.5, 6454: 3.5, 6460: 4.9, 6461: 3.8333333333333335, 6464: 0.5, 6465: 3.0, 6466: 3.5, 6476: 3.0, 6477: 3.0, 6482: 1.9545454545454546, 6483: 0.8333333333333334, 6484: 3.0, 6493: 2.0, 6502: 3.9791666666666665, 6503: 2.4545454545454546, 6506: 3.5, 6509: 4.0, 6510: 3.0, 6514: 0.5, 6515: 4.5, 6516: 3.5, 6517: 3.0, 6523: 2.5, 6527: 3.0, 6528: 2.0, 6530: 4.5, 6533: 4.5, 6534: 2.388888888888889, 6535: 2.4444444444444446, 6536: 3.625, 6537: 3.0384615384615383, 6538: 3.6666666666666665, 6539: 3.739130434782609, 6541: 2.8333333333333335, 6542: 3.5, 6545: 4.5, 6547: 2.25, 6548: 2.55, 6549: 3.5, 6550: 3.2777777777777777, 6551: 4.0, 6552: 3.9444444444444446, 6554: 1.25, 6558: 2.3333333333333335, 6559: 2.5, 6560: 2.0, 6561: 3.0, 6563: 2.5, 6564: 2.423076923076923, 6565: 3.7058823529411766, 6566: 2.0, 6567: 3.5, 6568: 3.25, 6571: 4.0, 6572: 4.0, 6577: 4.0, 6578: 3.5, 6579: 4.0, 6581: 2.5, 6582: 2.3333333333333335, 6583: 4.0, 6584: 3.1666666666666665, 6586: 3.125, 6587: 1.5, 6588: 4.0, 6591: 4.333333333333333, 6592: 4.0, 6593: 3.2045454545454546, 6595: 3.3076923076923075, 6596: 3.5, 6598: 3.5, 6603: 2.5, 6604: 4.0, 6609: 3.5, 6611: 5.0, 6612: 4.25, 6614: 2.6666666666666665, 6615: 2.357142857142857, 6616: 1.5, 6617: 3.9375, 6618: 3.75, 6619: 3.1, 6620: 3.923076923076923, 6624: 1.9, 6625: 2.5, 6628: 2.0, 6629: 3.25, 6631: 1.5, 6636: 3.8333333333333335, 6638: 2.25, 6639: 3.2, 6643: 2.3333333333333335, 6644: 4.0, 6645: 3.6, 6650: 3.3333333333333335, 6654: 3.5, 6656: 4.0, 6658: 3.3333333333333335, 6659: 3.4583333333333335, 6660: 3.5, 6662: 3.5, 6663: 3.1666666666666665, 6664: 3.0, 6665: 4.5, 6666: 4.3, 6667: 3.5, 6669: 3.3, 6670: 2.25, 6671: 4.0, 6678: 3.5, 6679: 4.0, 6684: 4.0, 6686: 3.125, 6687: 1.5, 6689: 4.0, 6691: 2.5, 6692: 2.0, 6695: 1.875, 6696: 2.5, 6699: 3.0, 6702: 2.3, 6705: 2.5, 6707: 2.7142857142857144, 6708: 3.642857142857143, 6709: 3.090909090909091, 6710: 3.8333333333333335, 6711: 4.055555555555555, 6713: 3.75, 6715: 3.5, 6720: 2.5, 6721: 3.1666666666666665, 6722: 2.5, 6723: 3.0, 6724: 3.5, 6731: 3.642857142857143, 6732: 5.0, 6734: 2.0, 6744: 2.25, 6746: 2.0, 6748: 3.0, 6750: 2.5, 6751: 2.5, 6753: 3.6875, 6754: 3.4642857142857144, 6755: 3.3461538461538463, 6760: 3.0, 6763: 2.4285714285714284, 6764: 3.3214285714285716, 6765: 3.1666666666666665, 6768: 4.0, 6769: 3.0, 6770: 3.5, 6772: 3.0, 6773: 3.71875, 6774: 3.6875, 6776: 4.166666666666667, 6777: 3.375, 6780: 3.0, 6782: 4.0, 6783: 3.5, 6785: 3.0, 6786: 4.0, 6787: 4.020833333333333, 6788: 2.0, 6790: 3.5, 6791: 4.333333333333333, 6793: 2.0, 6794: 1.125, 6796: 3.6875, 6797: 3.0, 6798: 2.5, 6800: 2.0, 6803: 3.5, 6804: 2.0, 6807: 3.911764705882353, 6808: 4.333333333333333, 6809: 3.0, 6810: 2.875, 6811: 2.6666666666666665, 6812: 2.0, 6814: 3.0, 6816: 4.0, 6817: 3.0, 6818: 5.0, 6820: 4.0, 6821: 3.0, 6827: 0.8333333333333334, 6832: 3.5, 6835: 5.0, 6836: 3.5, 6837: 3.0, 6850: 2.3333333333333335, 6851: 2.75, 6852: 3.5, 6853: 1.0, 6856: 4.0, 6857: 3.590909090909091, 6862: 3.5, 6863: 3.4814814814814814, 6867: 3.55, 6868: 3.7, 6869: 3.8333333333333335, 6870: 3.802325581395349, 6872: 0.8333333333333334, 6873: 3.1666666666666665, 6874: 3.9537037037037037, 6879: 3.5, 6880: 1.75, 6881: 3.0714285714285716, 6882: 2.5, 6883: 3.0, 6884: 2.5, 6885: 2.8333333333333335, 6887: 4.0, 6888: 2.423076923076923, 6889: 3.0, 6890: 3.5625, 6893: 3.7777777777777777, 6898: 3.75, 6902: 4.0, 6909: 3.25, 6911: 3.5, 6918: 3.75, 6920: 3.0, 6932: 3.7, 6934: 3.227272727272727, 6935: 4.0, 6936: 3.596774193548387, 6938: 4.0, 6939: 4.0, 6942: 3.74468085106383, 6944: 3.5454545454545454, 6945: 4.25, 6946: 1.5, 6947: 3.629032258064516, 6948: 4.0, 6949: 3.5, 6950: 3.6666666666666665, 6951: 2.1, 6952: 3.25, 6953: 3.2777777777777777, 6954: 4.0, 6957: 3.475, 6958: 2.5833333333333335, 6959: 1.75, 6961: 4.0, 6962: 3.5, 6963: 4.25, 6965: 3.5, 6966: 3.8333333333333335, 6967: 0.5, 6969: 4.5, 6970: 4.0, 6971: 4.0, 6973: 2.5, 6974: 3.5, 6975: 3.125, 6978: 3.25, 6979: 3.21875, 6981: 3.75, 6982: 3.5, 6985: 3.75, 6987: 3.857142857142857, 6989: 3.5, 6992: 3.5, 6993: 4.222222222222222, 6994: 3.25, 6996: 1.8571428571428572, 6997: 3.0, 6998: 2.0, 6999: 2.25, 7000: 3.0, 7001: 3.8, 7004: 2.8181818181818183, 7005: 1.5, 7007: 3.7857142857142856, 7008: 4.625, 7009: 3.25, 7010: 3.5, 7012: 3.0, 7013: 3.9166666666666665, 7015: 3.0, 7016: 0.75, 7017: 3.5, 7018: 3.9, 7019: 2.75, 7022: 3.9375, 7023: 4.5, 7024: 3.0, 7025: 2.5, 7026: 2.1666666666666665, 7027: 3.2, 7028: 3.4, 7030: 2.75, 7031: 4.0, 7032: 4.0, 7033: 3.125, 7034: 3.9285714285714284, 7036: 3.142857142857143, 7037: 4.5, 7038: 4.0, 7041: 2.5, 7044: 3.8, 7045: 3.1666666666666665, 7046: 2.7, 7047: 2.5, 7048: 3.8333333333333335, 7050: 3.75, 7051: 3.5, 7054: 3.5, 7056: 4.25, 7059: 3.5, 7060: 4.0, 7063: 3.8333333333333335, 7064: 3.3, 7065: 2.0, 7067: 3.25, 7069: 3.3333333333333335, 7070: 4.0, 7071: 5.0, 7072: 3.25, 7073: 2.5, 7076: 3.7, 7079: 2.5, 7080: 4.0, 7082: 3.5, 7083: 3.0, 7084: 3.5, 7085: 3.25, 7086: 3.5, 7087: 4.0, 7088: 4.0, 7089: 4.0, 7090: 3.9545454545454546, 7091: 4.0, 7092: 3.5, 7093: 3.75, 7096: 5.0, 7099: 3.9761904761904763, 7101: 2.875, 7102: 2.3333333333333335, 7103: 3.5, 7104: 2.75, 7107: 2.75, 7108: 3.0, 7109: 3.0, 7114: 0.5, 7115: 2.8333333333333335, 7116: 2.5, 7117: 2.3, 7118: 3.75, 7121: 4.666666666666667, 7122: 5.0, 7123: 3.4285714285714284, 7124: 3.1666666666666665, 7125: 2.0, 7127: 3.5, 7131: 3.0, 7132: 4.0, 7134: 4.0, 7137: 3.5555555555555554, 7139: 4.0, 7141: 4.0, 7142: 3.0, 7143: 3.9711538461538463, 7147: 3.8, 7149: 3.6363636363636362, 7150: 2.6666666666666665, 7151: 3.5, 7153: 4.123287671232877, 7154: 3.0555555555555554, 7155: 2.3333333333333335, 7156: 4.25, 7158: 3.875, 7160: 3.576923076923077, 7161: 1.9375, 7162: 3.55, 7163: 2.75, 7164: 3.0, 7165: 3.0, 7167: 3.0, 7169: 3.9166666666666665, 7171: 3.5, 7173: 2.9722222222222223, 7175: 2.25, 7176: 3.5, 7178: 3.0, 7179: 2.5, 7184: 4.5, 7191: 2.0, 7192: 3.0, 7193: 3.0, 7202: 3.0, 7205: 3.0, 7206: 3.8333333333333335, 7208: 3.75, 7209: 3.5, 7211: 3.5, 7212: 4.25, 7215: 3.1666666666666665, 7216: 4.5, 7217: 4.0, 7219: 4.0, 7222: 3.25, 7223: 2.5, 7225: 3.6666666666666665, 7228: 2.3333333333333335, 7234: 4.25, 7235: 3.4166666666666665, 7236: 4.0, 7238: 4.0, 7243: 3.5, 7245: 1.0, 7247: 3.3333333333333335, 7248: 3.5, 7251: 4.0, 7254: 3.6818181818181817, 7255: 3.0, 7256: 4.0, 7257: 1.5, 7258: 2.5, 7259: 2.125, 7260: 3.5, 7261: 1.5, 7262: 2.0, 7263: 3.3125, 7264: 4.0, 7265: 3.727272727272727, 7266: 4.0, 7282: 1.0, 7285: 3.3333333333333335, 7293: 3.5256410256410255, 7294: 2.5, 7297: 3.75, 7299: 3.6666666666666665, 7301: 3.5, 7303: 3.8333333333333335, 7304: 4.0, 7305: 2.5, 7307: 2.5, 7308: 2.5, 7310: 3.0, 7311: 3.6666666666666665, 7315: 2.0, 7316: 2.375, 7317: 3.076923076923077, 7318: 2.7916666666666665, 7319: 2.0, 7320: 3.4, 7321: 2.75, 7323: 3.7954545454545454, 7324: 3.2857142857142856, 7325: 3.21875, 7326: 3.5, 7327: 3.1666666666666665, 7328: 3.5, 7333: 4.0, 7335: 4.0, 7336: 3.5, 7340: 3.0, 7345: 4.0, 7346: 3.3214285714285716, 7347: 3.3846153846153846, 7348: 3.5, 7349: 3.0, 7352: 4.0, 7354: 3.5, 7357: 3.5, 7360: 3.857142857142857, 7361: 4.118811881188119, 7362: 3.1666666666666665, 7366: 2.9, 7367: 2.35, 7368: 3.5, 7369: 2.5, 7371: 4.125, 7372: 3.0, 7373: 3.578125, 7375: 3.0833333333333335, 7376: 2.8, 7377: 3.5, 7379: 3.5, 7380: 3.357142857142857, 7381: 2.8333333333333335, 7382: 4.25, 7386: 3.75, 7387: 3.8666666666666667, 7390: 1.5, 7394: 2.5, 7395: 4.0, 7396: 4.0, 7411: 1.5, 7414: 2.5, 7419: 3.75, 7438: 3.8944444444444444, 7439: 3.5454545454545454, 7440: 3.25, 7443: 3.5, 7444: 3.2, 7445: 3.6206896551724137, 7448: 2.5, 7449: 2.5, 7450: 2.1666666666666665, 7451: 3.7777777777777777, 7454: 2.85, 7455: 3.0, 7457: 3.5, 7458: 3.3333333333333335, 7460: 3.7, 7477: 2.5, 7479: 4.0, 7481: 4.166666666666667, 7482: 4.166666666666667, 7486: 4.75, 7487: 4.0, 7493: 4.0, 7541: 3.5, 7561: 3.5, 7562: 2.5, 7564: 4.5, 7566: 4.0, 7569: 4.0, 7570: 3.0833333333333335, 7572: 4.5, 7573: 3.25, 7579: 3.6666666666666665, 7581: 3.0, 7584: 4.0, 7587: 4.0, 7614: 4.5, 7615: 4.5, 7616: 2.5, 7618: 3.5, 7624: 2.6, 7646: 3.0, 7647: 3.5, 7649: 2.75, 7650: 2.0, 7657: 3.75, 7669: 3.5555555555555554, 7698: 3.75, 7700: 3.3, 7701: 2.3, 7702: 3.5, 7704: 2.0, 7705: 4.0, 7706: 4.125, 7707: 2.0, 7708: 2.0, 7713: 4.0, 7714: 4.0, 7716: 3.5, 7720: 2.75, 7728: 4.0, 7730: 3.0, 7742: 0.5, 7743: 3.5, 7748: 3.875, 7749: 4.0, 7753: 3.5, 7756: 4.0, 7757: 3.375, 7762: 3.75, 7766: 4.0, 7767: 4.75, 7772: 3.5, 7773: 4.0, 7781: 1.5, 7782: 4.5, 7789: 4.0, 7802: 3.9375, 7810: 3.3333333333333335, 7812: 3.6666666666666665, 7820: 3.75, 7822: 3.0, 7826: 3.5, 7831: 3.5, 7832: 3.5, 7833: 3.5, 7834: 2.8333333333333335, 7835: 3.5, 7840: 3.5, 7841: 3.0, 7842: 4.333333333333333, 7843: 4.5, 7844: 3.0, 7845: 2.875, 7846: 3.0, 7882: 3.0, 7883: 2.0, 7888: 4.25, 7889: 3.75, 7891: 3.0, 7894: 3.1666666666666665, 7895: 3.5, 7896: 3.5, 7899: 4.5, 7900: 3.0, 7920: 3.5, 7924: 3.5, 7925: 4.25, 7926: 4.0, 7930: 4.0, 7932: 3.6666666666666665, 7934: 4.125, 7937: 3.0, 7938: 3.5, 7939: 4.5, 7943: 4.0, 7944: 3.0, 7951: 2.0, 7980: 3.8333333333333335, 7981: 4.25, 7982: 3.1666666666666665, 7983: 4.25, 7984: 4.0, 7986: 1.0, 7987: 2.5, 7991: 3.5, 7993: 2.5, 8008: 4.0, 8010: 4.0, 8011: 4.0, 8012: 4.0, 8014: 4.277777777777778, 8015: 3.5, 8016: 4.0, 8019: 4.0, 8024: 3.5, 8025: 4.5, 8033: 3.6666666666666665, 8035: 2.0, 8042: 3.9, 8043: 1.5, 8044: 4.0, 8057: 3.0, 8092: 3.0, 8093: 3.5, 8094: 3.5, 8117: 4.0, 8118: 4.0, 8121: 3.0, 8125: 4.0, 8128: 4.1, 8131: 3.5, 8132: 4.3125, 8136: 0.5, 8138: 4.0, 8142: 4.25, 8143: 3.5, 8147: 4.0, 8154: 3.7, 8157: 3.625, 8158: 4.0, 8167: 4.0, 8169: 3.25, 8183: 3.5, 8188: 3.5, 8189: 3.0, 8190: 4.0, 8191: 4.0, 8195: 4.0, 8197: 4.0, 8199: 2.5, 8207: 4.0, 8225: 4.0, 8228: 3.566666666666667, 8232: 3.5, 8235: 4.0, 8236: 0.5, 8238: 5.0, 8239: 4.0, 8241: 4.0, 8253: 3.1666666666666665, 8254: 4.3, 8261: 4.0, 8264: 3.5, 8266: 3.0, 8268: 4.25, 8270: 3.75, 8275: 3.5, 8290: 0.75, 8302: 3.5, 8327: 4.25, 8335: 3.5, 8336: 3.5, 8337: 4.0, 8340: 3.8, 8341: 3.5, 8360: 3.585714285714286, 8361: 3.0238095238095237, 8362: 2.5, 8363: 4.5, 8364: 3.375, 8366: 3.9545454545454546, 8368: 3.8835616438356166, 8369: 3.0, 8370: 3.9545454545454546, 8371: 3.28125, 8372: 2.3, 8373: 2.25, 8376: 3.3653846153846154, 8378: 4.0, 8379: 3.0, 8380: 2.5, 8382: 2.5, 8383: 1.0, 8385: 3.0, 8387: 0.8, 8391: 3.0, 8402: 2.0, 8405: 4.5, 8425: 2.0, 8427: 1.5, 8446: 2.5, 8450: 3.0, 8451: 3.0, 8454: 3.5, 8456: 4.0, 8458: 3.5, 8461: 3.5, 8462: 3.0, 8463: 4.0, 8464: 3.3947368421052633, 8465: 3.5, 8477: 4.5, 8481: 3.0, 8482: 3.5, 8484: 4.5, 8487: 3.0, 8491: 3.6666666666666665, 8492: 3.0, 8493: 2.875, 8494: 0.5, 8495: 2.5, 8500: 2.5, 8501: 3.8333333333333335, 8502: 3.0, 8506: 2.25, 8507: 3.0714285714285716, 8511: 4.5, 8512: 3.5, 8518: 3.5, 8521: 2.0, 8526: 2.5, 8528: 3.5454545454545454, 8529: 3.341463414634146, 8530: 3.75, 8531: 2.8333333333333335, 8532: 2.5, 8533: 3.566666666666667, 8534: 3.5, 8542: 4.0, 8571: 3.5, 8574: 1.5, 8575: 3.0, 8577: 4.0, 8578: 3.5, 8580: 5.0, 8581: 4.0, 8582: 4.25, 8591: 3.5, 8593: 4.0, 8596: 3.5, 8600: 3.75, 8604: 3.2, 8605: 4.5, 8607: 3.9, 8609: 3.25, 8610: 3.5, 8611: 3.5, 8614: 3.0, 8617: 3.0, 8620: 1.5, 8622: 3.607142857142857, 8623: 3.2222222222222223, 8626: 1.5, 8633: 3.4, 8636: 3.808333333333333, 8638: 3.65, 8640: 2.909090909090909, 8641: 3.7551020408163267, 8643: 3.0625, 8644: 3.402173913043478, 8645: 3.9375, 8650: 3.5, 8656: 3.75, 8665: 3.7711864406779663, 8666: 1.375, 8667: 3.5, 8677: 1.25, 8685: 3.5, 8690: 4.0, 8695: 3.0, 8711: 3.0, 8712: 3.0, 8713: 3.0, 8714: 2.5, 8720: 2.0, 8724: 4.25, 8727: 2.0, 8730: 4.0, 8738: 5.0, 8748: 4.0, 8771: 3.0, 8772: 0.5, 8773: 3.0, 8774: 3.5, 8778: 4.0, 8781: 3.15, 8782: 2.5, 8783: 3.227272727272727, 8784: 3.8125, 8795: 4.5, 8796: 3.1, 8798: 3.6805555555555554, 8799: 1.75, 8807: 3.517857142857143, 8808: 2.6666666666666665, 8809: 4.0, 8810: 2.875, 8813: 4.0, 8814: 1.9, 8815: 2.0, 8827: 4.0, 8831: 3.5, 8832: 3.25, 8833: 3.5, 8835: 2.3333333333333335, 8836: 3.25, 8838: 4.166666666666667, 8840: 1.0, 8844: 3.0, 8848: 3.5, 8860: 2.857142857142857, 8861: 3.090909090909091, 8864: 2.6666666666666665, 8865: 2.5714285714285716, 8866: 3.25, 8869: 3.5, 8870: 2.8333333333333335, 8873: 3.9523809523809526, 8874: 3.962121212121212, 8875: 4.0, 8879: 3.25, 8880: 3.4285714285714284, 8894: 1.5, 8906: 3.0, 8907: 2.409090909090909, 8908: 3.6666666666666665, 8910: 3.375, 8911: 5.0, 8912: 1.75, 8914: 3.8125, 8915: 3.5, 8916: 3.0, 8917: 3.347826086956522, 8918: 3.0, 8919: 4.25, 8921: 3.5, 8928: 3.6666666666666665, 8934: 1.0, 8937: 3.4166666666666665, 8938: 4.0, 8939: 3.6666666666666665, 8943: 2.5, 8946: 2.5, 8947: 2.25, 8948: 2.5, 8949: 3.676470588235294, 8950: 3.984375, 8951: 3.0, 8952: 3.5, 8954: 4.0, 8955: 3.0, 8957: 3.3275862068965516, 8958: 3.6875, 8959: 2.0, 8961: 3.8684210526315788, 8964: 3.0, 8965: 3.25, 8966: 3.0, 8967: 1.6666666666666667, 8968: 3.25, 8969: 3.0, 8970: 3.52, 8972: 3.2096774193548385, 8973: 3.5, 8974: 3.0, 8977: 2.1875, 8978: 2.5, 8981: 3.6785714285714284, 8982: 3.0, 8983: 3.5, 8984: 3.2857142857142856, 8985: 3.0454545454545454, 8987: 3.0, 8998: 4.0, 9004: 2.0, 9005: 2.0, 9008: 2.5, 9010: 4.333333333333333, 9018: 4.333333333333333, 25746: 3.0, 25750: 3.0, 25753: 4.0, 25757: 4.0, 25769: 4.5, 25771: 4.5, 25773: 4.0, 25782: 0.5, 25788: 3.75, 25795: 3.5, 25797: 3.5, 25805: 4.5, 25825: 3.1666666666666665, 25826: 3.5, 25827: 3.5, 25833: 4.0, 25834: 4.0, 25841: 4.166666666666667, 25850: 4.0, 25856: 3.25, 25865: 4.0, 25870: 3.5, 25886: 4.0, 25887: 5.0, 25898: 4.0, 25905: 3.5, 25927: 3.0, 25937: 3.3333333333333335, 25940: 3.5, 25946: 3.5, 25952: 4.0, 25959: 2.5, 25962: 3.0, 25963: 4.0, 25999: 3.5, 26002: 3.5, 26003: 4.5, 26048: 4.5, 26052: 2.75, 26059: 4.5, 26073: 5.0, 26078: 5.0, 26082: 4.25, 26084: 3.6666666666666665, 26122: 4.5, 26124: 2.0, 26131: 4.625, 26133: 4.25, 26142: 2.0, 26147: 5.0, 26150: 4.5, 26151: 3.5, 26152: 3.0, 26158: 4.0, 26159: 4.0, 26171: 3.1666666666666665, 26172: 3.0, 26176: 2.5, 26183: 4.25, 26184: 3.5, 26198: 2.5, 26225: 4.5, 26231: 4.0, 26236: 4.0, 26237: 4.0, 26242: 3.2, 26249: 3.75, 26258: 3.9, 26265: 4.5, 26283: 3.0, 26285: 2.5, 26303: 4.0, 26308: 4.0, 26313: 4.0, 26317: 3.5, 26322: 3.125, 26326: 4.0, 26340: 3.6666666666666665, 26347: 4.0, 26350: 5.0, 26357: 4.0, 26359: 4.5, 26365: 2.5, 26366: 5.0, 26375: 3.6666666666666665, 26386: 3.5, 26391: 2.5, 26394: 4.0, 26399: 3.5, 26401: 5.0, 26409: 4.5, 26413: 3.25, 26422: 3.1666666666666665, 26429: 4.0, 26444: 4.0, 26453: 4.0, 26464: 3.0, 26467: 3.0, 26471: 4.666666666666667, 26472: 3.5, 26492: 3.0, 26498: 3.0, 26504: 3.25, 26510: 2.25, 26524: 4.5, 26527: 4.0, 26528: 4.5, 26539: 3.0, 26542: 3.0, 26547: 5.0, 26554: 4.0, 26555: 2.75, 26564: 3.5, 26567: 2.0, 26578: 4.166666666666667, 26585: 3.75, 26587: 5.0, 26590: 2.0, 26603: 4.5, 26606: 4.5, 26612: 4.0, 26614: 3.2142857142857144, 26622: 3.0, 26629: 2.0, 26630: 3.0, 26631: 3.75, 26649: 3.5, 26662: 4.0, 26676: 2.5, 26680: 3.8, 26681: 5.0, 26686: 1.0, 26694: 3.5, 26695: 3.5, 26696: 0.5, 26700: 2.5, 26704: 4.0, 26712: 4.0, 26713: 4.5, 26717: 0.5, 26729: 3.875, 26732: 4.0, 26736: 4.5, 26741: 1.5, 26743: 2.5, 26750: 3.5, 26761: 3.0, 26764: 0.5, 26765: 2.75, 26776: 4.0, 26777: 4.0, 26778: 4.0, 26782: 2.0, 26791: 1.5, 26792: 1.5, 26796: 3.5, 26797: 3.0, 26810: 4.5, 26812: 2.5, 26819: 2.5, 26828: 1.5, 26838: 3.0, 26840: 5.0, 26861: 3.5, 26865: 3.5, 26870: 2.6666666666666665, 26871: 2.25, 26875: 4.0, 26887: 3.0, 26900: 3.0, 26901: 2.5, 26903: 3.75, 26947: 2.5, 26958: 3.5, 26965: 4.0, 26974: 3.5, 26985: 4.5, 26999: 3.0, 27002: 3.5, 27006: 3.5, 27008: 1.0, 27020: 3.375, 27022: 4.0, 27032: 4.0, 27075: 3.0, 27105: 2.5, 27124: 2.0, 27134: 4.0, 27140: 3.0, 27156: 4.25, 27178: 4.0, 27186: 4.0, 27193: 4.0, 27246: 4.0, 27251: 4.5, 27266: 4.1, 27311: 3.5, 27317: 3.8, 27329: 4.0, 27368: 3.75, 27369: 4.0, 27370: 4.5, 27397: 4.5, 27408: 3.25, 27416: 3.75, 27420: 2.0, 27426: 2.5, 27434: 0.5, 27441: 3.25, 27450: 2.5, 27473: 2.5, 27478: 2.75, 27480: 4.5, 27482: 3.75, 27491: 3.0, 27513: 3.0, 27523: 5.0, 27537: 3.5, 27549: 1.5, 27555: 3.0, 27563: 4.5, 27584: 3.5, 27592: 3.5, 27595: 0.5, 27604: 3.0, 27611: 3.735294117647059, 27618: 2.75, 27619: 4.5, 27660: 3.676470588235294, 27664: 3.25, 27667: 3.0, 27674: 3.75, 27683: 2.0, 27685: 1.75, 27689: 2.5, 27692: 3.5, 27695: 3.0, 27704: 5.0, 27705: 1.5, 27706: 3.1578947368421053, 27708: 4.0, 27716: 4.5, 27721: 3.6666666666666665, 27722: 4.25, 27728: 2.1666666666666665, 27731: 3.75, 27741: 3.8333333333333335, 27746: 3.0, 27751: 5.0, 27762: 2.5, 27768: 3.75, 27769: 3.0, 27772: 2.625, 27773: 4.0588235294117645, 27776: 4.5, 27778: 3.0, 27784: 1.5, 27788: 3.0, 27790: 3.6666666666666665, 27793: 1.5, 27801: 4.045454545454546, 27802: 3.0, 27803: 4.071428571428571, 27808: 3.4375, 27815: 4.0, 27816: 2.5, 27820: 4.0, 27821: 3.1666666666666665, 27822: 2.6666666666666665, 27826: 4.0, 27829: 3.5, 27830: 2.5, 27831: 3.84375, 27834: 4.0, 27837: 2.875, 27838: 3.75, 27839: 2.3, 27846: 3.8125, 27850: 3.75, 27865: 3.5, 27866: 3.5, 27873: 3.0, 27878: 3.875, 27879: 4.125, 27882: 4.0, 27899: 2.75, 27904: 3.5, 27905: 3.5, 27912: 3.875, 30707: 3.888888888888889, 30745: 4.75, 30749: 3.769230769230769, 30793: 2.980769230769231, 30803: 4.25, 30810: 3.5689655172413794, 30812: 3.6129032258064515, 30816: 3.1818181818181817, 30818: 2.0, 30820: 3.8333333333333335, 30822: 3.5, 30825: 3.0576923076923075, 30846: 3.5, 30848: 3.0, 30850: 3.75, 30883: 1.5, 30894: 2.2, 30898: 3.1666666666666665, 30994: 4.0, 31000: 2.5, 31030: 4.0, 31038: 4.0, 31049: 2.5, 31086: 3.5, 31101: 3.5, 31114: 3.5, 31116: 3.8333333333333335, 31123: 2.5, 31150: 2.0, 31162: 3.0, 31184: 3.8333333333333335, 31221: 2.0, 31223: 2.0, 31225: 3.0833333333333335, 31260: 3.5, 31297: 3.5, 31309: 3.5, 31364: 4.7, 31367: 2.0, 31410: 4.09375, 31420: 3.2857142857142856, 31424: 0.5, 31427: 2.3, 31431: 2.0, 31433: 3.125, 31435: 4.5, 31437: 4.25, 31445: 2.5, 31522: 5.0, 31545: 4.0, 31590: 3.0, 31610: 4.0, 31617: 3.0, 31658: 4.045454545454546, 31660: 3.0, 31664: 3.5, 31685: 3.189189189189189, 31694: 3.5, 31696: 3.5483870967741935, 31698: 1.0, 31700: 3.1666666666666665, 31702: 4.0, 31737: 3.5, 31804: 3.25, 31867: 3.0, 31878: 3.46875, 31903: 4.0, 31909: 4.0, 31921: 2.5, 31923: 4.0, 31925: 4.0, 31952: 3.5, 31973: 3.5, 32009: 2.6666666666666665, 32011: 2.2, 32017: 2.8333333333333335, 32019: 2.4166666666666665, 32022: 3.6666666666666665, 32029: 3.125, 32031: 3.0588235294117645, 32058: 2.0, 32060: 3.0, 32139: 4.0, 32179: 4.0, 32213: 2.6666666666666665, 32289: 3.375, 32291: 3.5, 32294: 3.5, 32296: 2.1666666666666665, 32298: 2.25, 32300: 2.8333333333333335, 32302: 4.0, 32314: 3.5, 32387: 4.25, 32392: 2.5, 32442: 2.5, 32456: 4.25, 32460: 4.333333333333333, 32469: 4.5, 32511: 4.5, 32515: 2.5, 32554: 3.8333333333333335, 32582: 4.5, 32584: 3.125, 32587: 3.9318181818181817, 32589: 2.0, 32596: 2.9166666666666665, 32598: 2.9285714285714284, 32600: 3.5, 32620: 3.5, 32632: 3.5, 32649: 4.0, 32657: 4.25, 32666: 1.0, 32728: 4.0, 32743: 3.0, 32770: 4.25, 32799: 3.5, 32862: 4.0, 32892: 2.75, 32898: 3.25, 32906: 3.5, 32914: 3.0, 33004: 3.4285714285714284, 33085: 2.2, 33090: 4.0, 33124: 3.5, 33126: 2.5, 33132: 1.5, 33138: 5.0, 33145: 2.625, 33148: 2.5, 33154: 4.0, 33158: 2.0, 33162: 3.5416666666666665, 33164: 1.8333333333333333, 33166: 3.902439024390244, 33171: 2.0, 33188: 2.5, 33201: 4.5, 33237: 4.0, 33294: 2.5, 33421: 3.6666666666666665, 33435: 3.5, 33437: 3.0833333333333335, 33493: 3.4274193548387095, 33495: 2.5833333333333335, 33499: 2.75, 33558: 3.0, 33564: 4.5, 33615: 3.3714285714285714, 33629: 2.5, 33639: 3.3333333333333335, 33644: 2.5, 33646: 3.0714285714285716, 33649: 5.0, 33660: 4.111111111111111, 33669: 3.0833333333333335, 33672: 3.0, 33677: 3.5, 33679: 3.2888888888888888, 33681: 1.75, 33683: 3.75, 33725: 3.1666666666666665, 33779: 5.0, 33781: 3.5, 33794: 3.837078651685393, 33801: 3.0, 33815: 3.0, 33826: 2.5, 33830: 3.1666666666666665, 33834: 2.5, 33836: 2.3333333333333335, 33838: 3.5, 33880: 3.75, 33896: 2.5, 33903: 4.0, 33966: 1.5, 34018: 3.0, 34048: 3.1904761904761907, 34072: 3.5, 34129: 3.0, 34143: 2.0, 34148: 3.0, 34150: 2.7096774193548385, 34153: 3.8333333333333335, 34162: 3.4489795918367347, 34164: 3.5, 34271: 3.5, 34292: 1.5, 34312: 5.0, 34319: 3.4444444444444446, 34321: 3.0, 34323: 3.8, 34326: 3.0, 34330: 3.0, 34332: 2.9166666666666665, 34334: 2.375, 34336: 1.8333333333333333, 34338: 3.2777777777777777, 34359: 4.0, 34405: 3.8863636363636362, 34437: 3.4473684210526314, 34520: 2.1666666666666665, 34523: 2.0, 34528: 3.0, 34530: 3.25, 34532: 2.8333333333333335, 34534: 3.5714285714285716, 34536: 3.1666666666666665, 34542: 3.7, 34800: 1.5, 34811: 2.5, 35015: 3.5, 35347: 1.0, 35807: 4.0, 35836: 3.544642857142857, 35957: 3.625, 36276: 1.5, 36289: 4.0, 36363: 3.75, 36401: 2.5, 36477: 4.0, 36509: 2.75, 36517: 3.5416666666666665, 36519: 3.1666666666666665, 36525: 2.5833333333333335, 36527: 3.0, 36529: 3.8225806451612905, 36533: 2.25, 36535: 4.0, 36537: 3.3333333333333335, 36708: 3.6818181818181817, 36850: 4.5, 37211: 3.0, 37240: 3.5, 37380: 2.0714285714285716, 37382: 2.857142857142857, 37384: 3.1666666666666665, 37386: 2.75, 37444: 4.0, 37477: 2.5, 37495: 3.5, 37545: 3.25, 37720: 2.9, 37727: 3.0714285714285716, 37729: 3.5384615384615383, 37731: 3.7142857142857144, 37733: 3.5714285714285716, 37736: 3.5, 37739: 3.5, 37741: 3.8055555555555554, 37830: 3.5, 37844: 2.0, 37853: 2.5, 37857: 3.75, 38038: 3.5, 38061: 4.074074074074074, 38095: 4.166666666666667, 38159: 4.5, 38164: 4.0, 38198: 4.0, 38294: 2.5, 38304: 4.5, 38583: 2.5, 38798: 3.125, 38886: 3.5625, 39183: 3.5483870967741935, 39231: 3.6666666666666665, 39234: 3.75, 39292: 3.75, 39307: 2.5, 39381: 3.5, 39400: 1.875, 39414: 2.9, 39427: 3.75, 39435: 2.9, 39444: 3.3125, 39446: 2.772727272727273, 39449: 2.5, 39516: 4.5, 39715: 2.3333333333333335, 39801: 2.0, 39869: 4.125, 40148: 3.5833333333333335, 40278: 3.642857142857143, 40339: 2.4166666666666665, 40412: 4.5, 40414: 3.8333333333333335, 40491: 5.0, 40578: 3.0, 40581: 3.1, 40583: 3.4545454545454546, 40597: 2.0, 40614: 3.0, 40629: 3.5, 40697: 2.25, 40723: 3.25, 40732: 3.3333333333333335, 40815: 3.8688524590163933, 40819: 3.712121212121212, 40826: 3.2222222222222223, 40851: 3.1666666666666665, 40870: 3.5, 40946: 2.0, 40955: 3.8333333333333335, 40959: 4.0, 40962: 3.5, 40966: 3.5, 41014: 4.0, 41285: 3.4375, 41527: 4.0, 41566: 3.4074074074074074, 41569: 3.4583333333333335, 41571: 3.6, 41573: 2.6666666666666665, 41617: 3.0, 41627: 3.5, 41716: 3.3333333333333335, 41724: 4.5, 41769: 2.5, 41828: 4.5, 41863: 4.0, 41997: 3.875, 42002: 3.25, 42004: 3.7, 42007: 2.8333333333333335, 42009: 1.875, 42011: 2.15, 42013: 3.0, 42015: 3.0, 42018: 3.5, 42176: 4.0, 42191: 3.0, 42285: 3.0, 42418: 3.2, 42422: 4.5, 42556: 5.0, 42559: 3.0, 42632: 4.0, 42638: 2.5, 42718: 3.875, 42723: 2.9444444444444446, 42725: 2.5, 42728: 3.6, 42732: 3.5, 42734: 3.75, 42738: 2.9615384615384617, 42740: 3.5, 42761: 4.5, 42943: 2.5, 42946: 4.0, 43289: 4.0, 43333: 3.5, 43376: 4.625, 43396: 3.8333333333333335, 43460: 3.5, 43549: 3.5, 43556: 2.5, 43558: 2.0, 43560: 3.2, 43677: 2.0, 43679: 2.642857142857143, 43684: 4.5, 43708: 3.1666666666666665, 43744: 3.5, 43836: 3.0833333333333335, 43869: 3.5, 43871: 2.75, 43904: 1.375, 43912: 2.0, 43914: 4.0, 43917: 3.0, 43919: 0.8333333333333334, 43921: 3.6666666666666665, 43928: 1.85, 43932: 1.75, 43936: 3.0714285714285716, 44004: 3.25, 44020: 2.5, 44022: 3.1666666666666665, 44189: 4.0, 44191: 3.8875, 44193: 4.125, 44195: 4.017857142857143, 44199: 3.75, 44204: 3.25, 44225: 1.0, 44238: 2.5, 44241: 2.0, 44243: 0.5, 44301: 3.5, 44397: 3.125, 44399: 1.25, 44555: 4.089285714285714, 44597: 4.0, 44613: 3.75, 44633: 4.5, 44657: 3.0, 44665: 3.814814814814815, 44694: 3.857142857142857, 44709: 3.625, 44719: 2.5, 44731: 1.3333333333333333, 44759: 1.75, 44761: 3.9444444444444446, 44773: 3.0, 44777: 4.5, 44788: 3.8333333333333335, 44828: 2.75, 44840: 2.75, 44849: 2.5, 44851: 5.0, 44864: 3.25, 44889: 4.75, 44929: 4.25, 44931: 4.5, 44937: 4.0, 44943: 5.0, 44972: 2.3181818181818183, 44974: 3.3333333333333335, 45028: 3.8, 45062: 2.75, 45074: 2.5, 45081: 2.9583333333333335, 45106: 3.0, 45175: 3.6666666666666665, 45186: 3.630434782608696, 45208: 2.25, 45210: 4.1, 45221: 2.75, 45361: 1.5, 45382: 3.25, 45431: 3.2916666666666665, 45440: 3.1, 45442: 3.1666666666666665, 45447: 3.269230769230769, 45499: 3.3048780487804876, 45501: 2.5, 45503: 5.0, 45517: 3.342857142857143, 45635: 3.0, 45648: 2.5, 45658: 2.0, 45662: 2.3, 45666: 2.5454545454545454, 45668: 3.0714285714285716, 45672: 3.1842105263157894, 45720: 3.5714285714285716, 45722: 3.5258620689655173, 45726: 2.0, 45728: 3.875, 45730: 2.8333333333333335, 45732: 1.7, 45880: 3.272727272727273, 45928: 3.625, 45950: 3.5454545454545454, 45969: 2.5, 46062: 2.0, 46231: 2.0, 46322: 3.3, 46335: 2.090909090909091, 46337: 2.25, 46347: 4.0, 46367: 2.0, 46530: 3.0434782608695654, 46559: 3.5, 46572: 3.5, 46574: 2.5, 46578: 3.908333333333333, 46664: 2.5, 46723: 3.576923076923077, 46772: 2.5, 46850: 4.0, 46855: 4.5, 46865: 1.0, 46948: 2.8333333333333335, 46965: 2.6, 46967: 3.3333333333333335, 46970: 3.326923076923077, 46972: 3.261904761904762, 46974: 2.6, 46976: 3.6315789473684212, 47044: 2.8333333333333335, 47099: 3.8157894736842106, 47122: 2.8125, 47124: 3.25, 47200: 3.5833333333333335, 47202: 4.0, 47254: 3.5, 47261: 2.8333333333333335, 47382: 3.5, 47384: 2.5, 47404: 4.25, 47423: 4.0, 47446: 3.5, 47465: 3.0, 47491: 4.166666666666667, 47516: 2.0, 47518: 2.8636363636363638, 47538: 2.5, 47566: 4.0, 47610: 3.768292682926829, 47629: 3.6666666666666665, 47640: 3.6, 47644: 2.8333333333333335, 47725: 3.5, 47736: 5.0, 47774: 3.0, 47810: 1.0, 47894: 3.75, 47937: 3.0, 47950: 3.3333333333333335, 47952: 3.0, 47970: 3.8333333333333335, 47978: 2.5, 47997: 3.84375, 47999: 4.1, 48001: 4.0, 48032: 4.0, 48043: 3.409090909090909, 48045: 4.0, 48082: 4.0, 48142: 3.3333333333333335, 48150: 3.0, 48161: 3.0, 48214: 3.5, 48262: 4.0, 48304: 3.6785714285714284, 48319: 2.0, 48322: 4.166666666666667, 48326: 3.0, 48342: 3.0, 48385: 3.3173076923076925, 48394: 3.843283582089552, 48412: 3.0, 48414: 3.0, 48416: 2.5, 48516: 4.267045454545454, 48518: 3.0, 48520: 2.6, 48560: 2.5, 48593: 2.25, 48596: 2.75, 48598: 3.75, 48638: 3.5, 48649: 4.5, 48678: 2.75, 48696: 4.166666666666667, 48698: 4.5, 48738: 4.0, 48741: 4.0, 48744: 4.0, 48774: 3.9680851063829787, 48780: 4.0, 48783: 3.5, 48872: 4.5, 48877: 2.875, 48879: 3.25, 48883: 3.0, 48982: 3.2, 48997: 3.25, 49013: 2.0, 49110: 2.0, 49130: 4.0, 49132: 3.0, 49220: 2.375, 49263: 3.0, 49265: 4.0, 49272: 3.9491525423728815, 49274: 3.2857142857142856, 49276: 1.75, 49278: 3.25, 49280: 4.0, 49284: 2.6666666666666665, 49286: 3.0, 49314: 3.0, 49347: 3.8333333333333335, 49389: 4.0, 49396: 3.5, 49524: 3.5, 49530: 3.772727272727273, 49647: 3.3333333333333335, 49649: 2.4, 49651: 3.3125, 49666: 3.0, 49688: 4.0, 49735: 3.5, 49772: 4.0, 49793: 3.75, 49822: 3.0, 49824: 2.875, 49910: 3.75, 49917: 4.0, 49932: 3.5, 49957: 3.0, 49961: 4.0, 50003: 2.0, 50005: 2.5, 50064: 3.0, 50068: 3.8076923076923075, 50147: 2.0, 50158: 2.5, 50160: 3.75, 50189: 1.25, 50274: 3.0, 50354: 3.0, 50356: 3.0, 50440: 2.0, 50442: 3.0, 50514: 3.5, 50601: 2.7777777777777777, 50610: 4.0, 50613: 4.5, 50658: 4.0, 50685: 3.875, 50740: 3.8333333333333335, 50792: 2.25, 50794: 3.2222222222222223, 50796: 2.0, 50798: 1.3333333333333333, 50800: 3.0, 50802: 3.0, 50804: 3.5, 50806: 1.0, 50842: 4.5, 50851: 4.5, 50872: 3.8666666666666667, 50912: 2.9375, 50923: 2.25, 50942: 3.5, 50954: 1.0, 50999: 5.0, 51024: 3.1666666666666665, 51037: 2.8333333333333335, 51077: 2.1666666666666665, 51080: 3.7857142857142856, 51082: 2.0, 51084: 3.4, 51086: 2.8333333333333335, 51088: 2.0, 51091: 3.5, 51167: 4.5, 51174: 3.5, 51255: 3.872340425531915, 51314: 4.5, 51357: 4.0, 51412: 3.1818181818181817, 51498: 3.0, 51540: 3.8125, 51545: 2.5, 51562: 4.0, 51573: 3.0, 51575: 2.3333333333333335, 51662: 3.6956521739130435, 51694: 3.5, 51698: 3.0, 51705: 4.25, 51709: 4.25, 51834: 2.9166666666666665, 51884: 3.6666666666666665, 51903: 2.5, 51925: 3.5, 51927: 3.25, 51931: 3.875, 51935: 3.9130434782608696, 51937: 2.5, 51939: 2.9, 52042: 2.5, 52241: 3.2, 52245: 3.2666666666666666, 52279: 1.5, 52281: 3.369565217391304, 52283: 2.5, 52287: 3.4444444444444446, 52299: 3.5, 52319: 3.4166666666666665, 52328: 3.6153846153846154, 52375: 3.5, 52435: 3.45, 52458: 3.15, 52579: 3.25, 52604: 3.4444444444444446, 52644: 4.0, 52668: 4.0, 52694: 3.5, 52712: 2.3333333333333335, 52715: 2.0, 52722: 3.0675675675675675, 52724: 3.0, 52730: 1.5, 52767: 4.0, 52784: 4.0, 52867: 4.0, 52885: 3.5714285714285716, 52950: 2.5, 52952: 4.2, 52967: 3.3333333333333335, 52973: 3.6951219512195124, 52975: 3.4166666666666665, 53000: 3.607142857142857, 53022: 3.75, 53024: 3.875, 53121: 3.0, 53123: 3.9375, 53125: 3.5392156862745097, 53127: 3.6666666666666665, 53129: 4.083333333333333, 53138: 3.5, 53140: 3.75, 53143: 2.0, 53161: 3.0, 53280: 5.0, 53318: 3.3333333333333335, 53322: 3.52, 53326: 2.0, 53355: 5.0, 53435: 2.0, 53447: 4.0, 53450: 1.5, 53453: 0.5, 53460: 3.5, 53464: 2.638888888888889, 53466: 3.0, 53468: 3.4, 53519: 3.4047619047619047, 53550: 3.5, 53574: 4.0, 53578: 5.0, 53808: 2.0, 53883: 4.5, 53894: 3.8125, 53921: 3.5, 53953: 3.361111111111111, 53956: 3.0, 53972: 3.477272727272727, 53974: 2.3333333333333335, 53993: 2.7, 53996: 3.532258064516129, 54001: 3.888888888888889, 54004: 3.4, 54116: 3.5, 54121: 3.0, 54185: 3.75, 54190: 4.125, 54256: 3.0, 54259: 3.5961538461538463, 54272: 3.6315789473684212, 54276: 3.25, 54281: 3.5, 54286: 3.6416666666666666, 54354: 4.0, 54372: 3.75, 54503: 3.9204545454545454, 54617: 3.5, 54648: 3.125, 54686: 3.0, 54732: 2.8333333333333335, 54734: 2.5, 54736: 3.7857142857142856, 54745: 3.0, 54768: 0.5, 54771: 3.0, 54780: 3.25, 54785: 3.25, 54787: 3.5, 54796: 3.5, 54881: 3.857142857142857, 54934: 0.5, 54962: 2.5, 54995: 3.85, 54997: 4.045454545454546, 54999: 3.5, 55020: 4.5, 55052: 3.55, 55061: 1.0, 55069: 4.0, 55071: 4.0, 55080: 3.25, 55094: 4.0, 55110: 3.0, 55112: 4.0, 55116: 2.75, 55118: 4.09375, 55156: 4.0, 55167: 4.5, 55190: 3.0, 55205: 2.5, 55207: 3.0, 55232: 2.95, 55241: 2.5, 55245: 3.25, 55247: 3.893939393939394, 55250: 2.25, 55253: 3.6666666666666665, 55259: 1.0, 55261: 2.625, 55267: 3.357142857142857, 55269: 3.5, 55272: 4.0, 55274: 2.5, 55276: 4.0, 55278: 4.0, 55280: 3.5714285714285716, 55282: 3.1818181818181817, 55290: 3.59375, 55292: 0.75, 55294: 2.5, 55363: 4.285714285714286, 55391: 4.5, 55442: 4.1, 55444: 4.166666666666667, 55451: 3.5, 55492: 4.0, 55553: 2.0, 55577: 3.1666666666666665, 55620: 3.25, 55687: 4.5, 55721: 4.1875, 55765: 3.935483870967742, 55768: 3.3125, 55805: 3.0, 55814: 4.1, 55820: 3.9166666666666665, 55830: 3.357142857142857, 55844: 3.5, 55854: 3.0, 55872: 3.5, 55908: 4.1875, 55946: 3.0, 55995: 2.5625, 56003: 3.0, 56012: 2.75, 56060: 4.5, 56145: 3.4166666666666665, 56152: 3.6875, 56156: 3.5, 56171: 2.9583333333333335, 56174: 3.451923076923077, 56176: 2.0, 56251: 3.875, 56286: 3.5, 56333: 3.5, 56336: 3.0, 56339: 3.9285714285714284, 56367: 3.80188679245283, 56379: 3.0, 56563: 3.25, 56587: 3.1666666666666665, 56607: 3.3333333333333335, 56620: 3.0, 56715: 4.0, 56757: 3.6956521739130435, 56775: 2.9545454545454546, 56782: 4.205882352941177, 56788: 3.7142857142857144, 56801: 2.625, 56805: 3.5, 56837: 3.0, 56869: 4.0, 56908: 4.0, 56915: 4.0, 56921: 3.5, 56941: 3.2777777777777777, 56949: 3.2333333333333334, 57147: 4.0, 57183: 4.5, 57243: 3.5, 57274: 3.9166666666666665, 57326: 0.5, 57368: 3.3947368421052633, 57421: 4.0, 57499: 3.0, 57502: 4.0, 57504: 4.285714285714286, 57522: 3.5, 57526: 3.0, 57528: 3.4285714285714284, 57532: 2.5, 57536: 3.0, 57637: 3.5, 57640: 3.7142857142857144, 57669: 4.078125, 57772: 3.5, 57843: 4.5, 57910: 2.0, 57951: 3.0, 58025: 3.2142857142857144, 58047: 3.2916666666666665, 58078: 3.0, 58103: 3.4166666666666665, 58105: 3.75, 58107: 2.5, 58154: 3.7857142857142856, 58156: 2.9285714285714284, 58162: 3.4, 58191: 4.0, 58291: 4.5, 58293: 2.576923076923077, 58295: 3.625, 58297: 4.0, 58299: 3.5, 58301: 4.375, 58303: 4.25, 58306: 2.5, 58309: 4.5, 58315: 2.0, 58332: 2.75, 58347: 3.0, 58351: 4.0, 58376: 4.5, 58404: 2.75, 58425: 4.166666666666667, 58492: 3.0, 58559: 4.2375, 58627: 3.5, 58655: 5.0, 58783: 2.5, 58803: 3.764705882352941, 58806: 3.0, 58826: 2.5, 58839: 2.375, 58842: 4.5, 58870: 3.0, 58876: 3.25, 58879: 3.5, 58972: 2.5, 58975: 3.5, 58998: 3.7096774193548385, 59016: 2.5, 59018: 4.5, 59022: 3.25, 59026: 4.0, 59037: 3.1666666666666665, 59103: 3.8333333333333335, 59118: 3.5, 59126: 3.8, 59129: 2.0, 59141: 4.75, 59220: 3.5, 59258: 3.2777777777777777, 59295: 1.0, 59306: 0.75, 59315: 3.8076923076923075, 59333: 3.0, 59336: 3.0, 59369: 3.6184210526315788, 59387: 4.083333333333333, 59421: 2.642857142857143, 59429: 2.75, 59440: 3.5, 59501: 3.5625, 59604: 3.75, 59615: 2.757575757575758, 59667: 4.0, 59725: 2.5555555555555554, 59727: 3.75, 59731: 3.5, 59738: 3.0, 59784: 3.4204545454545454, 59810: 3.5, 59900: 2.8461538461538463, 59915: 3.5, 59947: 2.0, 59985: 4.0, 59995: 4.0, 60037: 3.0, 60040: 3.0925925925925926, 60069: 4.006024096385542, 60072: 3.088235294117647, 60074: 2.9375, 60126: 3.466666666666667, 60128: 3.5, 60161: 3.6, 60289: 4.0, 60291: 3.75, 60293: 4.0, 60303: 4.0, 60333: 4.5, 60363: 0.5, 60365: 1.5, 60389: 4.0, 60397: 3.0, 60408: 4.5, 60471: 3.5, 60487: 3.8, 60514: 3.1666666666666665, 60516: 4.5, 60522: 2.25, 60538: 3.5, 60647: 2.5, 60674: 2.5, 60684: 3.985294117647059, 60735: 2.5, 60753: 3.5, 60756: 3.65, 60760: 2.875, 60766: 4.142857142857143, 60803: 2.5, 60818: 4.0, 60832: 4.0, 60857: 3.0, 60885: 3.5, 60894: 3.0, 60904: 4.0, 60937: 2.6, 60941: 2.875, 60950: 3.1153846153846154, 60979: 3.5, 61011: 2.0, 61024: 3.6346153846153846, 61026: 4.0, 61071: 2.5, 61073: 2.0, 61123: 2.0, 61132: 3.3846153846153846, 61160: 2.125, 61167: 4.0, 61210: 3.5, 61236: 2.8333333333333335, 61240: 3.966666666666667, 61246: 2.0, 61248: 3.2142857142857144, 61250: 2.5714285714285716, 61255: 2.75, 61257: 4.0, 61262: 1.5, 61289: 3.75, 61319: 3.5, 61323: 3.532258064516129, 61348: 0.75, 61350: 2.3333333333333335, 61352: 3.375, 61394: 4.0, 61401: 2.5, 61406: 4.0, 61465: 3.5, 61628: 2.0, 61692: 3.0, 61697: 3.0, 61705: 3.5, 61729: 2.0, 61818: 0.5, 62008: 3.0, 62081: 3.0625, 62113: 2.5, 62155: 3.25, 62208: 4.5, 62250: 4.125, 62293: 3.5, 62336: 4.1875, 62344: 2.75, 62374: 3.9, 62376: 2.8333333333333335, 62383: 3.75, 62394: 2.1666666666666665, 62434: 3.5, 62437: 2.5, 62439: 3.0, 62511: 3.0, 62553: 4.0, 62644: 3.7, 62662: 3.0, 62718: 2.5, 62792: 3.5, 62834: 4.0, 62836: 4.0, 62849: 3.75, 62956: 3.2, 62970: 3.0, 62999: 3.6666666666666665, 63033: 3.5, 63062: 3.4375, 63072: 3.875, 63082: 3.7758620689655173, 63113: 3.5, 63131: 3.625, 63179: 3.5, 63222: 3.25, 63239: 3.0, 63276: 4.0, 63312: 2.0, 63393: 1.0, 63433: 4.0, 63436: 2.5, 63479: 3.5, 63515: 4.0, 63540: 2.125, 63768: 3.0, 63808: 3.0, 63826: 4.0, 63853: 3.2, 63859: 3.5714285714285716, 63876: 3.4375, 63992: 2.1470588235294117, 64030: 2.375, 64032: 2.5, 64034: 3.4166666666666665, 64114: 1.0, 64116: 3.5, 64167: 3.3333333333333335, 64197: 4.75, 64231: 2.625, 64249: 3.0, 64278: 3.5, 64285: 3.875, 64497: 2.8, 64499: 5.0, 64501: 5.0, 64575: 3.3333333333333335, 64614: 3.9444444444444446, 64620: 3.9375, 64622: 3.0833333333333335, 64695: 4.0, 64716: 4.1, 64839: 3.65, 64957: 3.6515151515151514, 64969: 3.6136363636363638, 64983: 3.4, 64993: 4.0, 64997: 3.5, 65037: 3.5, 65088: 3.3636363636363638, 65126: 3.5, 65130: 3.7, 65133: 3.5, 65135: 3.0, 65188: 3.5, 65193: 3.0, 65216: 3.9166666666666665, 65225: 4.5, 65230: 3.142857142857143, 65261: 3.7777777777777777, 65359: 3.0, 65514: 3.95, 65577: 3.0, 65585: 3.5, 65588: 2.5, 65601: 2.0, 65631: 4.0, 65642: 4.0, 65651: 2.0, 65682: 3.642857142857143, 65685: 3.5, 65738: 4.0, 65740: 4.0, 65802: 2.8, 65810: 3.0, 65882: 3.5, 65982: 3.0, 66097: 3.642857142857143, 66171: 3.0, 66198: 3.0, 66203: 2.8181818181818183, 66240: 3.5, 66297: 3.5, 66310: 3.5, 66320: 4.0, 66335: 2.5, 66371: 4.5, 66427: 3.0, 66509: 3.5, 66511: 4.25, 66544: 4.0, 66665: 3.5, 66744: 4.0, 66783: 3.0, 66785: 3.8, 66915: 2.0, 66934: 3.8947368421052633, 66943: 4.25, 67087: 3.5, 67168: 3.5, 67186: 2.5, 67193: 2.5, 67197: 2.8125, 67255: 3.977272727272727, 67267: 3.3333333333333335, 67295: 3.75, 67361: 2.0, 67408: 3.2142857142857144, 67508: 4.0, 67534: 2.75, 67618: 5.0, 67665: 3.75, 67695: 2.625, 67734: 3.2916666666666665, 67788: 3.25, 67799: 0.5, 67888: 4.5, 67923: 3.3125, 67997: 4.375, 68073: 3.375, 68135: 3.6875, 68157: 4.05, 68159: 4.0, 68194: 4.25, 68205: 3.25, 68237: 4.092592592592593, 68269: 4.25, 68319: 2.8095238095238093, 68347: 4.0, 68358: 3.882978723404255, 68444: 3.5, 68480: 1.5, 68486: 4.0, 68522: 3.5, 68536: 4.0, 68552: 2.0, 68554: 3.0714285714285716, 68597: 4.0, 68600: 2.0, 68650: 2.0, 68659: 3.0, 68791: 3.4615384615384617, 68793: 3.375, 68835: 3.5, 68848: 4.333333333333333, 68872: 4.0, 68886: 4.0, 68932: 3.5, 68945: 4.5, 68952: 3.75, 68954: 3.9518072289156625, 68959: 3.5, 69069: 3.3, 69118: 1.5, 69122: 3.6904761904761907, 69131: 2.5, 69134: 3.8, 69140: 4.0, 69211: 5.0, 69224: 4.0, 69227: 1.0, 69251: 3.5, 69275: 4.333333333333333, 69278: 3.25, 69304: 4.0, 69306: 3.1666666666666665, 69394: 4.5, 69406: 3.5, 69436: 2.375, 69453: 2.0, 69469: 5.0, 69481: 4.25, 69495: 3.5, 69516: 2.75, 69524: 4.333333333333333, 69526: 2.3125, 69529: 4.5, 69604: 3.0, 69606: 2.5, 69640: 2.75, 69644: 2.6875, 69685: 1.0, 69712: 4.0, 69720: 4.5, 69746: 3.5, 69757: 3.606060606060606, 69784: 3.5555555555555554, 69805: 3.75, 69844: 3.8854166666666665, 69849: 3.1666666666666665, 69860: 5.0, 69904: 2.5, 69951: 3.8125, 69953: 3.5, 69988: 2.5, 70159: 3.1666666666666665, 70183: 3.727272727272727, 70206: 3.5, 70286: 3.7711864406779663, 70293: 2.8, 70301: 3.5, 70305: 3.5, 70336: 2.5714285714285716, 70361: 3.0, 70451: 5.0, 70492: 3.5, 70521: 4.0, 70533: 3.8333333333333335, 70545: 2.0, 70565: 4.0, 70599: 3.9, 70641: 2.5, 70663: 2.5, 70687: 2.75, 70697: 3.5, 70703: 2.0, 70708: 4.5, 70728: 3.75, 70862: 3.0, 70932: 2.0, 70946: 3.5, 70984: 3.0, 70990: 2.5, 70994: 3.0, 71033: 3.857142857142857, 71057: 3.6818181818181817, 71106: 3.75, 71108: 4.5, 71129: 3.5, 71131: 4.5, 71135: 3.4, 71147: 3.0, 71156: 3.5, 71160: 3.0, 71205: 1.0, 71211: 3.6666666666666665, 71248: 1.0, 71252: 2.5, 71254: 3.4285714285714284, 71264: 3.433333333333333, 71268: 5.0, 71282: 3.5714285714285716, 71302: 4.5, 71304: 3.75, 71327: 3.5, 71341: 3.0, 71379: 3.75, 71429: 3.0, 71438: 1.0, 71453: 4.0, 71462: 4.25, 71464: 3.142857142857143, 71468: 3.5, 71484: 2.5, 71494: 3.5, 71518: 2.8333333333333335, 71520: 2.6, 71530: 3.1818181818181817, 71535: 3.869047619047619, 71579: 3.75, 71619: 4.0, 71640: 3.5, 71668: 3.0, 71732: 1.5, 71745: 2.8636363636363638, 71810: 0.5, 71823: 3.1666666666666665, 71838: 3.2, 71867: 3.0, 71899: 4.166666666666667, 71902: 3.5, 71910: 2.5, 71970: 4.0, 71999: 4.5, 72011: 3.6296296296296298, 72104: 4.5, 72129: 3.5, 72142: 5.0, 72165: 2.0, 72167: 3.375, 72171: 3.5, 72224: 3.5, 72226: 4.03125, 72294: 3.0, 72308: 4.25, 72330: 3.5, 72356: 4.375, 72378: 2.763157894736842, 72395: 3.5, 72405: 2.25, 72407: 2.6666666666666665, 72424: 0.5, 72479: 3.5, 72489: 4.25, 72554: 4.5, 72601: 3.0, 72603: 3.0, 72605: 3.3333333333333335, 72624: 3.5, 72641: 3.6, 72692: 5.0, 72694: 2.0, 72696: 0.5, 72701: 3.0, 72714: 4.0, 72720: 3.8333333333333335, 72731: 3.1666666666666665, 72733: 3.8, 72737: 3.727272727272727, 72874: 1.0, 72919: 3.0, 72921: 3.5, 72982: 4.0, 72998: 3.566666666666667, 73015: 2.5, 73017: 3.9081632653061225, 73023: 4.125, 73042: 1.5, 73106: 2.1666666666666665, 73160: 2.5, 73211: 3.75, 73266: 2.625, 73268: 3.375, 73290: 5.0, 73319: 2.4, 73321: 3.5416666666666665, 73323: 4.125, 73344: 4.333333333333333, 73386: 1.5, 73431: 2.5, 73488: 2.0, 73515: 3.5, 73569: 2.5, 73676: 3.0, 73741: 3.0, 73804: 4.0, 73808: 3.0, 73854: 3.8333333333333335, 73876: 4.0, 73881: 4.75, 73929: 2.8333333333333335, 74075: 1.0, 74089: 3.5, 74095: 2.5, 74154: 2.5, 74226: 5.0, 74228: 3.5, 74275: 0.5, 74282: 4.5, 74324: 4.25, 74342: 4.5, 74370: 4.0, 74450: 3.0, 74452: 2.25, 74458: 4.076923076923077, 74508: 3.3333333333333335, 74510: 4.25, 74530: 2.6666666666666665, 74532: 1.6666666666666667, 74545: 4.25, 74553: 3.5, 74580: 2.0, 74647: 1.0, 74685: 4.25, 74688: 3.5, 74696: 3.0, 74698: 2.1666666666666665, 74727: 5.0, 74750: 3.6666666666666665, 74754: 3.6666666666666665, 74789: 2.775, 74795: 3.5, 74851: 2.5, 74868: 3.0, 74916: 2.5, 74946: 3.5, 74948: 4.0, 75341: 4.0, 75389: 3.0, 75395: 3.25, 75416: 1.5, 75446: 2.5, 75803: 1.5, 75805: 2.7, 75813: 3.25, 75947: 2.0, 75985: 3.5, 76030: 0.5, 76054: 4.0, 76060: 3.5, 76077: 3.230769230769231, 76091: 5.0, 76093: 3.9166666666666665, 76143: 4.5, 76173: 4.5, 76175: 2.388888888888889, 76251: 3.6714285714285713, 76293: 3.4, 76301: 4.5, 76738: 3.5, 76743: 3.5, 76751: 3.0, 76763: 3.5, 77177: 4.0, 77191: 4.0, 77201: 2.5, 77233: 3.5, 77266: 3.5, 77364: 3.0, 77414: 3.5, 77427: 0.5, 77455: 4.181818181818182, 77561: 3.511904761904762, 77667: 3.0, 77709: 2.5, 77795: 3.5, 77798: 0.5, 77800: 4.0, 77841: 2.0, 77866: 2.9, 77881: 3.5, 77893: 4.0, 77931: 4.0, 78034: 3.5, 78039: 2.8, 78041: 3.0, 78088: 3.3333333333333335, 78105: 2.772727272727273, 78116: 3.5, 78142: 4.5, 78160: 3.5, 78174: 1.0, 78209: 3.55, 78218: 3.0, 78264: 3.0, 78266: 3.5, 78316: 2.8333333333333335, 78349: 4.0, 78467: 2.0, 78469: 3.1538461538461537, 78499: 4.05, 78544: 3.0, 78574: 3.2857142857142856, 78637: 3.5833333333333335, 78703: 3.75, 78746: 4.0, 78772: 2.4285714285714284, 78836: 5.0, 78893: 1.6, 78959: 3.0, 79006: 4.5, 79008: 4.0, 79057: 3.2777777777777777, 79073: 4.0, 79091: 3.596774193548387, 79132: 4.033898305084746, 79134: 3.5555555555555554, 79139: 3.625, 79185: 3.2, 79224: 2.5833333333333335, 79242: 2.9166666666666665, 79251: 2.25, 79259: 2.5, 79274: 3.0, 79293: 2.9285714285714284, 79333: 4.0, 79357: 4.142857142857143, 79428: 3.3333333333333335, 79501: 4.0, 79536: 3.0, 79553: 3.6666666666666665, 79572: 2.5, 79590: 2.5, 79592: 3.176470588235294, 79677: 3.5, 79684: 4.0, 79695: 3.15, 79702: 3.7162162162162162, 79798: 3.5, 79868: 2.5, 79879: 3.0, 79895: 2.5, 79946: 3.5, 80083: 4.0, 80094: 4.0, 80124: 5.0, 80126: 2.625, 80139: 4.166666666666667, 80162: 2.5, 80166: 2.6, 80219: 3.25, 80241: 3.1666666666666665, 80363: 3.0, 80463: 3.953488372093023, 80478: 4.0, 80489: 3.9375, 80549: 3.861111111111111, 80551: 3.5, 80553: 3.5, 80584: 4.0, 80586: 4.0, 80590: 3.75, 80615: 4.0, 80693: 3.0714285714285716, 80727: 3.25, 80748: 4.0, 80831: 3.857142857142857, 80834: 3.5, 80846: 3.5, 80858: 3.5, 80860: 2.9, 80862: 3.25, 80864: 3.5, 80880: 3.25, 80906: 4.125, 80917: 3.5, 80969: 4.0, 81018: 3.0, 81087: 4.5, 81132: 3.75, 81156: 4.166666666666667, 81158: 3.25, 81229: 3.4444444444444446, 81257: 3.5, 81383: 2.5, 81417: 3.8333333333333335, 81456: 3.0, 81512: 4.0, 81520: 4.0, 81535: 4.5, 81537: 3.2142857142857144, 81562: 3.9, 81564: 3.7333333333333334, 81591: 3.590909090909091, 81681: 2.0, 81782: 3.5, 81784: 2.875, 81786: 4.0, 81788: 3.8, 81819: 4.25, 81831: 4.0, 81834: 3.9875, 81845: 3.989795918367347, 81847: 3.8666666666666667, 81910: 4.0, 81932: 3.8125, 81949: 3.0, 82041: 4.5, 82053: 3.0, 82088: 3.0, 82093: 1.5, 82095: 0.5, 82152: 3.5, 82167: 2.7857142857142856, 82169: 3.857142857142857, 82202: 2.2, 82242: 5.0, 82366: 4.5, 82378: 3.75, 82459: 3.8333333333333335, 82461: 3.25, 82527: 4.0, 82534: 2.5, 82641: 3.0, 82667: 4.166666666666667, 82744: 5.0, 82765: 3.5, 82767: 3.5, 82848: 3.5, 82852: 2.0, 82854: 1.9, 82857: 4.5, 83132: 3.3333333333333335, 83134: 4.107142857142857, 83177: 1.25, 83270: 2.0, 83349: 3.0, 83369: 4.0, 83374: 3.5, 83480: 3.5, 83601: 0.5, 83613: 3.0, 83803: 4.125, 83827: 4.25, 83910: 2.5, 83969: 5.0, 83976: 4.0, 84152: 3.9285714285714284, 84156: 4.5, 84187: 3.25, 84189: 3.75, 84240: 4.0, 84246: 4.5, 84374: 2.772727272727273, 84392: 3.6666666666666665, 84414: 3.5, 84512: 5.0, 84523: 3.0, 84553: 4.0, 84601: 3.2, 84615: 2.0, 84772: 3.2916666666666665, 84799: 4.5, 84844: 4.5, 84847: 2.5, 84942: 3.75, 84944: 3.533333333333333, 84950: 2.5, 84952: 4.0, 84954: 3.2, 85020: 3.0, 85022: 2.8333333333333335, 85056: 3.1, 85131: 2.375, 85179: 3.8333333333333335, 85213: 4.0, 85259: 4.0, 85295: 5.0, 85316: 3.5, 85342: 4.416666666666667, 85354: 3.5, 85367: 3.3333333333333335, 85394: 3.0, 85397: 3.5, 85399: 1.0, 85401: 2.8333333333333335, 85412: 3.75, 85414: 3.6607142857142856, 85438: 3.0, 85510: 3.0, 85736: 4.0, 85774: 3.75, 85780: 3.5, 85788: 2.6666666666666665, 85796: 2.25, 85881: 3.75, 85885: 2.75, 86000: 4.0, 86014: 3.5, 86028: 2.0, 86059: 2.75, 86066: 4.0, 86068: 0.5, 86142: 4.0, 86190: 3.3, 86237: 5.0, 86290: 3.5, 86293: 3.5, 86295: 2.5, 86298: 3.125, 86320: 3.125, 86332: 3.4107142857142856, 86345: 3.9285714285714284, 86347: 3.2857142857142856, 86355: 2.0, 86377: 4.0, 86487: 4.5, 86504: 4.3, 86548: 3.3333333333333335, 86593: 2.5, 86628: 4.0, 86644: 2.875, 86668: 5.0, 86721: 5.0, 86781: 4.333333333333333, 86815: 3.5, 86817: 2.5, 86833: 3.775, 86835: 3.0, 86864: 3.0, 86880: 3.0952380952380953, 86882: 3.5526315789473686, 86892: 4.0, 86898: 4.0, 86911: 3.227272727272727, 86922: 4.0, 86960: 2.0, 87028: 2.0, 87192: 3.4, 87194: 3.5, 87222: 3.1153846153846154, 87232: 3.810810810810811, 87234: 5.0, 87287: 4.0, 87298: 2.25, 87304: 3.625, 87306: 3.5294117647058822, 87413: 1.75, 87430: 2.25, 87444: 3.5, 87483: 3.75, 87485: 2.9285714285714284, 87520: 2.3636363636363638, 87522: 2.75, 87529: 3.125, 87660: 4.5, 87785: 2.75, 87834: 5.0, 87867: 2.75, 87869: 3.5, 87876: 3.25, 87960: 3.0, 88094: 3.0, 88108: 3.0, 88125: 3.763157894736842, 88129: 3.7962962962962963, 88140: 3.6956521739130435, 88163: 4.0, 88235: 3.625, 88267: 3.0, 88272: 3.5, 88345: 4.0, 88356: 1.8333333333333333, 88405: 3.1333333333333333, 88448: 5.0, 88672: 3.0, 88697: 2.5, 88699: 4.0, 88744: 3.5, 88746: 3.5, 88785: 3.111111111111111, 88810: 3.7666666666666666, 88812: 2.75, 88911: 3.0, 88932: 4.5, 89030: 3.25, 89039: 4.5, 89047: 4.0, 89072: 4.0, 89085: 2.5, 89087: 2.5, 89118: 2.5, 89190: 1.75, 89208: 3.5, 89281: 3.5, 89305: 3.5, 89386: 0.5, 89427: 1.5, 89470: 3.7222222222222223, 89492: 3.8636363636363638, 89582: 4.5, 89678: 4.0, 89745: 3.9051724137931036, 89753: 3.857142857142857, 89759: 4.0, 89761: 3.0, 89774: 3.7, 89804: 3.2142857142857144, 89837: 4.5, 89840: 2.75, 89862: 3.5, 89864: 3.59375, 89898: 3.5, 89904: 4.375, 89939: 3.0, 89945: 3.0, 90057: 3.75, 90243: 3.5, 90245: 4.0, 90249: 3.1666666666666665, 90343: 2.75, 90345: 3.5, 90353: 4.0, 90357: 3.5, 90374: 3.75, 90376: 3.5, 90384: 2.0, 90403: 3.1666666666666665, 90405: 3.45, 90428: 3.0, 90430: 3.5, 90439: 4.0, 90469: 3.5, 90471: 3.0, 90522: 2.9, 90524: 3.5, 90528: 3.5, 90531: 3.75, 90576: 4.5, 90600: 3.625, 90603: 3.6666666666666665, 90630: 3.5, 90647: 3.2, 90717: 3.5, 90719: 2.5, 90738: 1.5, 90746: 3.5, 90769: 4.0, 90809: 3.0, 90866: 3.823529411764706, 90888: 2.6666666666666665, 90890: 2.375, 90943: 5.0, 90945: 3.0, 91077: 4.142857142857143, 91079: 2.5, 91094: 2.9375, 91104: 2.375, 91126: 3.0, 91128: 3.4, 91233: 4.0, 91261: 3.5, 91266: 2.5, 91273: 1.5, 91323: 2.9, 91325: 2.75, 91337: 4.0, 91353: 3.75, 91414: 0.5, 91470: 3.0, 91485: 3.5, 91488: 3.75, 91500: 3.352272727272727, 91529: 3.9545454545454546, 91535: 3.1923076923076925, 91542: 3.732142857142857, 91571: 2.5, 91622: 0.5, 91628: 2.0, 91630: 3.607142857142857, 91653: 3.25, 91658: 3.5625, 91660: 2.5, 91671: 1.0, 91688: 1.5, 91690: 3.25, 91784: 4.5, 91842: 3.0, 91860: 4.0, 91869: 3.5, 91873: 1.5, 91890: 3.0, 91935: 2.5, 91947: 4.5, 91974: 3.625, 91976: 2.9166666666666665, 91978: 3.0, 91981: 2.5, 92008: 2.8333333333333335, 92046: 3.0, 92048: 3.25, 92094: 3.5, 92192: 2.0, 92198: 2.0, 92234: 1.5, 92259: 4.172413793103448, 92264: 1.0, 92309: 2.75, 92391: 3.0, 92420: 3.2142857142857144, 92422: 3.75, 92427: 1.0, 92439: 2.0, 92475: 4.25, 92507: 3.375, 92509: 2.6666666666666665, 92535: 4.666666666666667, 92637: 3.5, 92643: 4.5, 92665: 2.5, 92674: 2.5, 92694: 4.0, 92760: 3.5, 92938: 1.6, 93006: 4.25, 93008: 5.0, 93040: 4.0, 93114: 3.0, 93134: 3.5, 93139: 1.5, 93208: 2.0, 93242: 1.5, 93270: 1.8571428571428572, 93272: 3.1, 93287: 3.6666666666666665, 93297: 3.75, 93320: 5.0, 93326: 2.4444444444444446, 93363: 2.888888888888889, 93443: 3.25, 93502: 2.5, 93510: 3.869565217391304, 93512: 4.0, 93563: 3.1666666666666665, 93598: 2.5, 93721: 4.166666666666667, 93723: 3.0, 93740: 1.5, 93766: 3.0, 93805: 3.5, 93819: 3.5, 93831: 1.5, 93838: 4.4375, 93840: 3.9761904761904763, 93855: 4.5, 93980: 1.25, 93982: 2.0, 93988: 4.5, 94011: 1.5, 94015: 3.0, 94018: 3.0, 94070: 3.875, 94122: 2.0, 94130: 3.5, 94150: 4.0, 94160: 3.0, 94262: 3.0, 94266: 2.0, 94323: 2.0, 94325: 4.0, 94405: 3.5, 94478: 2.2, 94494: 2.5, 94503: 3.0, 94661: 4.0, 94677: 3.769230769230769, 94735: 4.0, 94777: 3.4642857142857144, 94780: 3.0, 94810: 5.0, 94833: 3.3333333333333335, 94864: 3.3095238095238093, 94867: 3.5, 94896: 3.5, 94919: 2.5, 94931: 3.5, 94953: 3.0, 94959: 3.6818181818181817, 94985: 3.75, 95004: 4.0, 95067: 2.8333333333333335, 95088: 3.7, 95105: 3.5625, 95135: 4.0, 95145: 3.5, 95149: 5.0, 95163: 3.5, 95167: 3.5961538461538463, 95170: 4.0, 95175: 5.0, 95182: 3.0, 95193: 2.0, 95199: 3.0, 95201: 3.0, 95207: 2.75, 95218: 3.5, 95307: 2.5, 95309: 4.166666666666667, 95311: 5.0, 95313: 4.5, 95377: 3.5, 95441: 3.2333333333333334, 95449: 2.875, 95473: 4.0, 95475: 4.0, 95497: 3.5, 95499: 4.0, 95510: 3.1964285714285716, 95519: 4.0, 95543: 2.9, 95558: 3.75, 95583: 3.0, 95633: 4.5, 95654: 4.166666666666667, 95690: 4.5, 95717: 2.0, 95720: 2.6666666666666665, 95744: 2.5, 95761: 4.5, 95771: 4.0, 95780: 4.0, 95796: 0.5, 95839: 3.0, 95843: 5.0, 95858: 3.875, 95873: 3.25, 95875: 3.1666666666666665, 95939: 4.0, 95949: 3.5, 95965: 4.0, 96004: 3.25, 96020: 4.0, 96079: 3.895348837209302, 96084: 4.5, 96110: 3.5714285714285716, 96114: 2.0, 96121: 1.0, 96150: 2.0, 96281: 4.0, 96283: 3.0, 96373: 4.5, 96411: 4.0, 96417: 3.2, 96430: 5.0, 96432: 3.625, 96448: 1.5, 96471: 3.0, 96488: 4.333333333333333, 96518: 3.0, 96520: 2.0, 96567: 4.0, 96588: 3.8333333333333335, 96606: 4.0, 96610: 3.772727272727273, 96616: 2.5, 96655: 3.0, 96691: 4.0, 96726: 1.5, 96728: 4.1, 96737: 3.5454545454545454, 96811: 3.9166666666666665, 96815: 2.75, 96821: 3.9473684210526314, 96829: 4.3125, 96832: 5.0, 96861: 3.0, 96917: 4.0, 96935: 5.0, 96945: 3.5, 97024: 0.5, 97168: 2.5, 97172: 3.0, 97194: 1.0, 97225: 3.25, 97230: 3.0, 97285: 3.5, 97304: 3.9791666666666665, 97306: 3.5, 97328: 3.0, 97470: 1.25, 97665: 2.5, 97701: 3.0, 97752: 3.676470588235294, 97757: 4.0, 97785: 3.0, 97836: 2.75, 97860: 3.3333333333333335, 97866: 5.0, 97870: 4.0, 97913: 3.7857142857142856, 97921: 3.909090909090909, 97923: 3.6875, 97938: 3.66, 97950: 2.5, 98061: 3.5, 98083: 4.0, 98122: 3.0, 98124: 3.9166666666666665, 98154: 4.5, 98160: 1.5, 98175: 1.5, 98203: 1.5, 98230: 3.5, 98239: 2.25, 98243: 3.7916666666666665, 98279: 4.0, 98361: 4.0, 98491: 4.285714285714286, 98499: 3.0, 98503: 3.0, 98585: 3.5, 98604: 4.5, 98607: 4.5, 98623: 3.0, 98633: 3.5, 98697: 2.5, 98799: 2.5, 98809: 3.823529411764706, 98836: 2.0, 98908: 1.5, 98961: 4.25, 99005: 1.5, 99007: 3.5833333333333335, 99030: 4.0, 99087: 3.0, 99106: 2.5, 99112: 3.25, 99114: 3.9910714285714284, 99117: 3.0, 99122: 3.5, 99130: 3.5, 99145: 3.6666666666666665, 99149: 3.5, 99415: 2.0, 99437: 4.0, 99532: 2.25, 99574: 3.0, 99636: 5.0, 99638: 3.0, 99728: 3.3333333333333335, 99750: 3.5, 99764: 4.25, 99813: 4.1, 99846: 3.0, 99853: 4.0, 99910: 3.25, 99917: 3.1666666666666665, 99992: 3.0, 100044: 4.0, 100068: 3.5, 100083: 3.5, 100106: 3.5, 100159: 4.5, 100163: 2.8333333333333335, 100194: 4.5, 100226: 1.5, 100277: 4.0, 100302: 3.0, 100304: 3.0, 100306: 3.5, 100383: 4.125, 100390: 3.25, 100397: 3.5, 100487: 2.0, 100498: 2.0833333333333335, 100507: 3.75, 100527: 4.0, 100553: 4.5, 100556: 5.0, 100579: 4.0, 100611: 4.0, 100714: 3.5, 100882: 4.5, 100906: 5.0, 101025: 2.2, 101072: 2.5, 101074: 2.0, 101076: 3.0, 101088: 4.0, 101112: 3.25, 101142: 3.7777777777777777, 101283: 2.75, 101360: 1.5, 101362: 2.875, 101415: 1.5, 101423: 3.0, 101525: 3.375, 101529: 2.0, 101531: 2.0, 101577: 1.6666666666666667, 101612: 3.0, 101739: 3.0, 101741: 3.75, 101765: 4.25, 101864: 3.25, 101884: 1.5, 101895: 4.0, 101962: 4.0, 101973: 1.5, 102007: 3.0, 102025: 0.5, 102033: 3.125, 102066: 4.0, 102070: 3.0, 102084: 5.0, 102088: 2.0, 102123: 3.2, 102125: 3.5625, 102194: 4.333333333333333, 102278: 2.0, 102338: 4.5, 102378: 2.75, 102407: 3.4375, 102445: 3.65625, 102481: 3.4375, 102666: 4.5, 102684: 3.75, 102686: 3.5, 102716: 3.357142857142857, 102720: 3.0, 102735: 0.5, 102747: 3.5, 102749: 0.5, 102760: 4.0, 102800: 2.5, 102819: 3.0, 102823: 3.5, 102852: 3.0, 102880: 1.0, 102903: 3.4411764705882355, 102993: 3.125, 103027: 3.0, 103042: 3.3157894736842106, 103048: 3.5, 103075: 3.25, 103107: 4.25, 103137: 2.0, 103141: 3.8461538461538463, 103171: 1.0, 103210: 2.0, 103221: 2.5, 103228: 3.7222222222222223, 103233: 3.0, 103235: 3.875, 103245: 2.5, 103249: 3.2, 103253: 3.3181818181818183, 103335: 3.6333333333333333, 103339: 3.125, 103341: 3.4615384615384617, 103366: 2.0, 103372: 3.4166666666666665, 103384: 2.7857142857142856, 103483: 4.5, 103502: 1.5, 103539: 2.5, 103543: 2.0, 103596: 1.875, 103609: 1.5, 103624: 4.0, 103655: 1.8333333333333333, 103685: 4.5, 103688: 4.125, 103755: 2.5, 103772: 3.5416666666666665, 103801: 2.3333333333333335, 103810: 3.125, 103819: 2.25, 103865: 2.0, 103883: 4.25, 103980: 3.0, 103984: 4.25, 104017: 0.5, 104069: 4.0, 104074: 3.0, 104076: 1.3333333333333333, 104129: 4.5, 104141: 3.0, 104211: 3.676470588235294, 104218: 3.375, 104241: 3.611111111111111, 104243: 3.25, 104245: 3.0, 104272: 4.0, 104283: 4.25, 104303: 2.5, 104337: 1.5, 104339: 4.0, 104374: 3.8846153846153846, 104419: 4.0, 104457: 4.5, 104644: 0.5, 104760: 1.0, 104780: 5.0, 104837: 2.0, 104841: 3.730769230769231, 104863: 2.6666666666666665, 104875: 4.0, 104879: 4.166666666666667, 104906: 3.1666666666666665, 104908: 3.0, 104913: 3.857142857142857, 104925: 3.5, 104944: 3.75, 105020: 1.5, 105037: 2.5, 105121: 1.0, 105197: 4.125, 105211: 3.0, 105213: 3.2142857142857144, 105250: 3.75, 105254: 3.5, 105325: 1.0, 105351: 2.25, 105355: 3.25, 105468: 2.25, 105504: 3.96875, 105540: 4.5, 105585: 4.0, 105593: 4.0, 105653: 4.0, 105720: 3.0, 105731: 2.0, 105755: 1.5, 105801: 3.0, 105835: 4.0, 105844: 3.6785714285714284, 105954: 3.6666666666666665, 106002: 3.392857142857143, 106062: 3.25, 106072: 3.25, 106100: 3.95, 106144: 3.5, 106330: 2.0, 106438: 3.25, 106441: 3.0, 106487: 3.642857142857143, 106489: 3.6578947368421053, 106491: 3.0, 106540: 2.875, 106542: 1.5, 106594: 4.5, 106642: 4.583333333333333, 106648: 3.0, 106696: 3.5217391304347827, 106766: 3.5833333333333335, 106782: 4.092105263157895, 106785: 3.0, 106839: 3.75, 106873: 2.25, 106889: 4.0, 106916: 3.272727272727273, 106918: 4.027777777777778, 106920: 3.875, 107013: 0.5, 107069: 2.5, 107141: 3.642857142857143, 107159: 4.0, 107314: 3.0, 107338: 2.5, 107348: 3.2857142857142856, 107406: 3.388888888888889, 107410: 4.0, 107412: 4.5, 107436: 3.0, 107449: 1.5, 107462: 4.5, 107565: 2.75, 107630: 4.5, 107702: 1.5, 107771: 5.0, 107780: 4.0, 107945: 2.0, 107951: 5.0, 107953: 4.0, 107962: 2.0, 107997: 2.25, 107999: 4.0, 108090: 3.5, 108156: 3.1666666666666665, 108188: 2.0, 108190: 3.0, 108192: 3.5, 108601: 2.0, 108689: 2.25, 108715: 1.5, 108727: 4.25, 108729: 3.5, 108795: 5.0, 108928: 2.6666666666666665, 108932: 3.8541666666666665, 108945: 2.3333333333333335, 108949: 3.0, 108981: 4.5, 109042: 2.25, 109161: 4.5, 109183: 2.0, 109187: 2.75, 109191: 1.5, 109282: 3.0, 109295: 2.0, 109313: 4.0, 109372: 2.25, 109374: 3.765957446808511, 109383: 3.5, 109416: 2.0, 109483: 2.8333333333333335, 109487: 3.973684210526316, 109569: 1.0, 109576: 1.5, 109578: 3.0, 109596: 4.0, 109673: 2.125, 109687: 5.0, 109723: 3.5, 109846: 3.25, 109848: 2.75, 109850: 3.75, 109853: 4.0, 109895: 2.5, 109897: 0.5, 109941: 3.0, 109968: 4.25, 109971: 4.5, 110102: 3.8, 110127: 2.8, 110130: 4.0, 110286: 3.5, 110297: 3.3333333333333335, 110330: 4.5, 110350: 4.5, 110387: 4.0, 110501: 3.75, 110541: 2.5, 110553: 2.75, 110586: 4.0, 110603: 0.5, 110611: 2.5, 110655: 2.5, 110669: 3.75, 110718: 4.0, 110730: 2.0, 110771: 3.1, 110773: 0.5, 110781: 2.5, 110826: 1.5, 110882: 3.8333333333333335, 111113: 3.272727272727273, 111146: 4.5, 111320: 1.5, 111360: 2.8076923076923075, 111362: 3.8181818181818183, 111364: 2.590909090909091, 111375: 2.5, 111384: 4.0, 111443: 2.75, 111551: 3.5, 111617: 4.071428571428571, 111622: 4.0, 111659: 2.65, 111663: 1.5, 111732: 3.5, 111743: 2.9285714285714284, 111759: 3.9857142857142858, 111781: 3.7666666666666666, 111785: 0.5, 111795: 3.0, 111800: 3.0, 111817: 3.5, 111844: 3.5, 111913: 4.5, 111921: 3.1666666666666665, 112006: 3.8333333333333335, 112070: 3.5, 112138: 3.6666666666666665, 112171: 3.25, 112175: 3.6818181818181817, 112183: 3.138888888888889, 112290: 3.75, 112303: 1.5, 112316: 2.5, 112334: 4.5, 112370: 1.875, 112421: 4.25, 112450: 2.0, 112454: 3.5, 112460: 2.25, 112512: 5.0, 112515: 4.5, 112552: 4.075757575757576, 112556: 3.8214285714285716, 112580: 4.0, 112623: 3.5, 112727: 3.0, 112749: 2.0, 112788: 2.375, 112804: 3.8333333333333335, 112818: 2.875, 112852: 4.114583333333333, 112868: 4.5, 112897: 3.25, 112911: 2.5, 112940: 4.5, 113159: 3.5, 113225: 3.0, 113252: 4.0, 113275: 4.5, 113278: 3.0, 113280: 4.0, 113313: 3.5, 113345: 2.0, 113348: 2.8333333333333335, 113350: 1.5, 113374: 3.0, 113378: 2.375, 113394: 4.0, 113416: 1.5, 113453: 3.0, 113532: 3.5, 113565: 4.0, 113573: 3.3333333333333335, 113604: 2.0, 113705: 3.5, 113741: 4.0, 113849: 2.5, 114028: 4.0, 114044: 3.5, 114060: 3.25, 114066: 4.0, 114074: 3.3333333333333335, 114126: 2.5, 114180: 2.857142857142857, 114184: 3.5, 114265: 5.0, 114396: 1.5, 114494: 1.5, 114554: 1.0, 114601: 2.0, 114662: 3.625, 114670: 3.5, 114678: 4.25, 114707: 3.0, 114762: 2.5, 114795: 3.3333333333333335, 114818: 2.1666666666666665, 114847: 3.0, 114925: 2.0, 114935: 4.25, 115065: 2.0, 115111: 3.5, 115122: 4.75, 115149: 3.74, 115151: 2.0, 115170: 2.5, 115210: 3.95, 115231: 3.25, 115502: 3.5, 115569: 4.178571428571429, 115617: 3.810810810810811, 115664: 4.0, 115667: 3.5, 115680: 3.8333333333333335, 115713: 3.8636363636363638, 115727: 5.0, 115819: 3.0, 115828: 4.5, 115877: 3.6666666666666665, 115969: 4.0, 116138: 2.0, 116169: 2.5, 116207: 1.5, 116411: 4.5, 116413: 3.0, 116419: 1.5, 116505: 3.0, 116529: 3.0, 116668: 4.0, 116718: 3.5, 116724: 4.0, 116738: 3.5, 116797: 4.097560975609756, 116799: 3.875, 116817: 4.5, 116823: 3.8421052631578947, 116849: 2.5, 116897: 4.222222222222222, 116941: 2.0, 116963: 1.5, 116977: 2.3333333333333335, 117107: 2.5, 117109: 3.0, 117133: 3.5, 117176: 3.642857142857143, 117192: 4.75, 117466: 3.5, 117529: 3.1176470588235294, 117533: 3.875, 117545: 3.75, 117572: 2.5, 117590: 3.8125, 117630: 1.0, 117646: 4.5, 117849: 4.5, 117851: 3.7, 117877: 3.0, 117881: 3.75, 117887: 4.0, 117895: 1.8333333333333333, 117922: 3.5, 118082: 3.5, 118166: 3.5, 118198: 2.5, 118248: 1.5, 118270: 5.0, 118290: 2.0, 118326: 2.0, 118354: 3.0, 118512: 1.5, 118530: 4.5, 118572: 4.0, 118696: 3.46875, 118700: 2.5, 118702: 2.25, 118706: 4.0, 118784: 3.5, 118862: 4.0, 118888: 4.5, 118894: 5.0, 118896: 4.0, 118900: 2.5, 118924: 3.0, 118930: 4.5, 118985: 4.0, 118997: 2.5, 119068: 2.0, 119141: 3.45, 119145: 3.8833333333333333, 119153: 4.5, 119155: 3.6666666666666665, 119167: 3.5, 119218: 2.5, 119655: 2.25, 119714: 3.5, 119828: 3.0, 119964: 2.0, 120138: 5.0, 120466: 3.1666666666666665, 120478: 4.333333333333333, 120625: 4.5, 120635: 2.875, 120637: 2.5, 120761: 3.5, 120783: 2.5, 120799: 2.3125, 120807: 4.0, 120813: 4.5, 120827: 3.0, 121007: 4.0, 121035: 2.0, 121097: 2.75, 121099: 2.5, 121129: 2.5, 121169: 3.5, 121171: 4.0, 121231: 4.333333333333333, 121253: 3.0, 121338: 4.5, 121342: 3.5, 121469: 4.5, 121715: 3.5, 121781: 5.0, 122246: 0.5, 122490: 1.5, 122627: 0.5, 122882: 3.9857142857142858, 122884: 3.0, 122886: 3.9516129032258065, 122888: 0.5, 122890: 3.4166666666666665, 122892: 3.4565217391304346, 122896: 4.0, 122898: 2.2, 122900: 3.625, 122902: 2.1, 122904: 3.847826086956522, 122906: 3.8125, 122912: 3.9583333333333335, 122916: 4.0, 122918: 3.880952380952381, 122920: 3.5555555555555554, 122922: 3.676470588235294, 122924: 3.0454545454545454, 122926: 4.071428571428571, 122932: 2.0, 123200: 4.5, 123310: 2.0, 123545: 3.0, 123553: 1.0, 123947: 2.75, 124404: 5.0, 124484: 3.0, 124851: 5.0, 124853: 4.0, 124859: 2.0, 125221: 0.5, 125914: 3.0, 125916: 2.0, 125970: 3.5, 125974: 4.0, 126090: 4.5, 126420: 1.5, 126426: 4.0, 126430: 4.75, 126482: 3.0, 126548: 3.3, 126577: 4.0, 126921: 5.0, 127052: 3.25, 127096: 3.0, 127098: 4.375, 127108: 4.5, 127114: 4.0, 127116: 4.5, 127130: 4.0, 127132: 2.0, 127134: 3.5, 127136: 3.25, 127146: 3.0, 127152: 4.25, 127164: 3.5, 127184: 4.0, 127198: 3.6, 127202: 3.875, 127204: 3.75, 127212: 4.5, 127298: 4.5, 127319: 1.5, 127323: 1.0, 127390: 4.0, 128087: 5.0, 128089: 4.5, 128097: 4.0, 128197: 2.0, 128360: 3.6666666666666665, 128366: 4.0, 128512: 2.0, 128520: 3.875, 128542: 3.5, 128592: 1.0, 128594: 4.0, 128620: 4.0, 128736: 3.5, 128832: 3.5, 128842: 4.0, 128852: 3.0, 128900: 4.5, 128902: 4.0, 128908: 4.0, 128968: 3.0, 128975: 2.6666666666666665, 128991: 4.5, 129011: 3.5, 129229: 2.0, 129313: 4.0, 129333: 1.5, 129354: 3.2222222222222223, 129397: 2.75, 129428: 2.5, 129514: 5.0, 129657: 1.0, 129659: 3.5, 129737: 2.5, 129779: 2.5, 129937: 2.1666666666666665, 130050: 3.0, 130083: 2.0, 130087: 3.75, 130450: 3.0, 130452: 4.0, 130482: 4.0, 130490: 2.8, 130498: 3.5, 130518: 4.0, 130520: 3.25, 130576: 2.25, 130578: 4.0, 130634: 3.2, 130686: 3.0, 130840: 4.5, 130842: 4.0, 130970: 5.0, 130976: 4.5, 130978: 5.0, 131013: 3.2, 131023: 4.5, 131104: 4.5, 131130: 5.0, 131237: 5.0, 131439: 3.0, 131480: 2.0, 131578: 2.5, 131610: 5.0, 131656: 3.5, 131714: 3.0, 131724: 5.0, 131739: 3.0, 131749: 3.0, 131796: 4.0, 131826: 3.75, 131934: 1.0, 132046: 2.1666666666666665, 132084: 2.5, 132153: 5.0, 132157: 2.5, 132335: 1.0, 132422: 3.25, 132424: 1.75, 132454: 3.5, 132488: 2.0, 132584: 3.5, 132618: 1.5, 132660: 4.0, 132796: 2.1666666666666665, 132800: 3.0, 132888: 3.0, 133195: 1.5, 133217: 3.5, 133281: 2.0, 133365: 2.0, 133419: 3.4444444444444446, 133545: 1.0, 133712: 4.5, 133716: 4.5, 133771: 3.9166666666666665, 133780: 3.0, 133782: 2.0, 133798: 1.5, 133802: 4.0, 133832: 3.5, 133879: 4.0, 134019: 3.5, 134021: 2.5, 134041: 4.0, 134095: 5.0, 134109: 5.0, 134130: 3.9078947368421053, 134158: 1.5, 134170: 3.7142857142857144, 134184: 4.5, 134214: 3.5, 134246: 0.5, 134248: 3.0, 134326: 4.5, 134334: 4.5, 134368: 3.4, 134393: 3.0, 134515: 3.0, 134524: 3.0, 134528: 0.5, 134775: 2.0, 134783: 2.0, 134796: 5.0, 134808: 2.0, 134847: 5.0, 134853: 3.661290322580645, 134859: 3.5, 134861: 2.5, 134881: 4.5, 135133: 3.6666666666666665, 135137: 2.5833333333333335, 135143: 3.6785714285714284, 135198: 4.0, 135216: 0.5, 135288: 3.0, 135436: 3.0, 135456: 3.25, 135518: 2.75, 135532: 3.3333333333333335, 135534: 3.5, 135536: 3.25, 135567: 2.375, 135569: 3.3636363636363638, 135787: 3.5, 135803: 3.5, 135815: 4.0, 135861: 3.0833333333333335, 135885: 3.0, 135887: 3.0714285714285716, 135937: 3.0, 136012: 1.5, 136016: 2.8333333333333335, 136018: 2.5, 136020: 2.772727272727273, 136024: 3.0, 136305: 1.0, 136353: 5.0, 136355: 5.0, 136359: 5.0, 136443: 1.5, 136445: 5.0, 136447: 5.0, 136449: 3.75, 136503: 5.0, 136511: 2.0, 136540: 4.5, 136556: 5.0, 136562: 3.75, 136564: 2.5, 136598: 3.3, 136602: 3.0, 136664: 1.0, 136666: 2.25, 136778: 2.0, 136786: 1.5, 136800: 1.5, 136816: 2.5, 136834: 5.0, 136838: 2.5, 136840: 3.5, 136850: 5.0, 136859: 1.5, 136864: 2.6363636363636362, 136912: 2.0, 137218: 2.5, 137337: 3.5, 137345: 2.0, 137517: 0.5, 137595: 4.0, 137857: 3.7, 137863: 4.0, 138036: 3.5, 138186: 0.5, 138204: 4.0, 138208: 2.5, 138210: 3.25, 138396: 3.5, 138610: 1.5, 138632: 5.0, 138702: 3.0, 138798: 0.5, 139130: 2.5, 139157: 4.5, 139385: 4.0, 139415: 3.0, 139511: 3.0, 139640: 5.0, 139642: 2.7, 139644: 3.5, 139655: 3.0, 139717: 1.25, 139747: 3.5, 139855: 3.25, 139857: 1.5, 139859: 2.5, 139915: 2.25, 139994: 4.0, 140016: 2.0, 140038: 4.5, 140110: 3.45, 140133: 5.0, 140162: 4.5, 140174: 3.625, 140237: 2.0, 140247: 3.25, 140265: 5.0, 140267: 4.0, 140289: 4.0, 140301: 3.0, 140359: 4.333333333333333, 140481: 4.5, 140523: 3.5, 140525: 1.5, 140541: 4.0, 140627: 5.0, 140711: 1.8333333333333333, 140715: 4.25, 140725: 4.0, 140737: 3.5, 140816: 4.5, 140850: 2.0, 140852: 1.0, 140928: 3.0, 140956: 3.5, 141004: 2.0, 141131: 2.5, 141400: 4.0, 141408: 3.75, 141513: 4.0, 141544: 4.0, 141646: 3.5, 141668: 0.5, 141688: 3.5, 141749: 4.0, 141816: 5.0, 141820: 4.0, 141830: 3.25, 141836: 4.5, 141844: 4.5, 141846: 4.0, 141866: 3.5, 141890: 3.0, 141928: 5.0, 141994: 0.5, 142020: 5.0, 142056: 3.0, 142074: 1.5, 142115: 5.0, 142196: 4.5, 142222: 2.8333333333333335, 142366: 3.0, 142372: 2.0, 142420: 3.0, 142422: 4.25, 142444: 5.0, 142448: 3.0, 142456: 4.0, 142488: 4.1, 142507: 2.5, 142509: 3.0, 142536: 2.0, 142550: 4.5, 142558: 3.0, 142598: 4.0, 142602: 1.0, 142831: 4.5, 142997: 2.6666666666666665, 143001: 1.5, 143031: 5.0, 143245: 3.0, 143255: 1.5, 143257: 3.0, 143355: 3.0, 143365: 2.5, 143367: 3.0, 143385: 3.4285714285714284, 143410: 2.0, 143472: 1.5, 143511: 5.0, 143525: 4.0, 143559: 5.0, 143859: 2.7857142857142856, 143896: 4.5, 143969: 2.8333333333333335, 144210: 4.0, 144222: 3.0, 144262: 2.0, 144352: 0.5, 144606: 4.0, 144620: 2.0, 144714: 1.5, 144716: 2.0, 144734: 4.5, 144976: 4.5, 145080: 2.5, 145283: 3.5, 145418: 4.0, 145491: 3.5, 145724: 0.5, 145745: 2.5, 145839: 2.5, 145935: 1.5, 145951: 0.5, 145994: 5.0, 146024: 4.0, 146210: 3.0, 146309: 4.0, 146656: 3.6666666666666665, 146662: 5.0, 146682: 4.0, 146684: 5.0, 146688: 2.0, 147002: 4.0, 147196: 5.0, 147250: 5.0, 147282: 4.0, 147286: 5.0, 147326: 5.0, 147372: 3.75, 147374: 4.166666666666667, 147376: 4.75, 147378: 3.6666666666666665, 147380: 2.875, 147382: 4.75, 147384: 3.8333333333333335, 147410: 5.0, 147657: 4.0, 147662: 3.0, 147936: 4.5, 148166: 3.5, 148172: 2.5, 148238: 2.5, 148424: 3.0, 148592: 3.0, 148626: 4.045454545454546, 148632: 4.5, 148652: 3.25, 148667: 3.5, 148671: 4.5, 148709: 2.0, 148775: 4.0, 148881: 4.5, 148888: 2.5, 148956: 2.6666666666666665, 148978: 4.0, 148982: 4.0, 149011: 3.5, 149146: 4.0, 149330: 4.0, 149334: 3.0, 149350: 5.0, 149352: 2.5, 149354: 2.4166666666666665, 149380: 1.5, 149406: 3.4285714285714284, 149508: 5.0, 149566: 5.0, 149590: 2.5, 149612: 2.0, 149830: 4.5, 150254: 2.0, 150401: 3.0, 150548: 4.0, 150554: 5.0, 150596: 4.0, 150604: 2.5, 150696: 4.5, 150993: 4.0, 151311: 3.0, 151315: 2.0, 151317: 2.0, 151455: 2.8333333333333335, 151479: 1.5, 151501: 1.5, 151557: 2.5, 151559: 2.0, 151653: 1.5, 151695: 4.0, 151739: 3.1666666666666665, 151745: 0.5, 151763: 4.0, 151769: 5.0, 151777: 3.0, 152037: 3.0, 152063: 0.5, 152065: 3.5, 152071: 1.5, 152077: 3.6666666666666665, 152079: 3.5, 152081: 3.9464285714285716, 152083: 3.3333333333333335, 152091: 3.125, 152105: 4.5, 152173: 4.0, 152270: 3.5, 152372: 3.5, 152658: 1.5, 152970: 4.375, 153070: 3.5, 153236: 3.0, 153408: 4.0, 154065: 2.0, 154358: 4.0, 154975: 4.0, 155064: 3.0, 155288: 1.5, 155358: 2.0, 155509: 3.5, 155589: 3.0, 155659: 4.0, 155743: 2.0, 155774: 3.5, 155812: 2.5, 155820: 2.5, 155892: 2.0, 156025: 5.0, 156371: 4.166666666666667, 156387: 3.8333333333333335, 156553: 2.5, 156607: 1.0, 156609: 2.6, 156675: 2.0, 156726: 2.6666666666666665, 156783: 2.5, 157108: 4.5, 157110: 4.5, 157130: 2.0, 157172: 0.5, 157200: 2.25, 157270: 2.5, 157296: 3.6363636363636362, 157312: 2.5, 157369: 4.0, 157407: 1.5, 157699: 3.8333333333333335, 157775: 5.0, 157865: 1.5, 158022: 1.5, 158027: 5.0, 158035: 3.5, 158238: 3.8461538461538463, 158398: 5.0, 158402: 2.5, 158528: 2.5, 158721: 3.5, 158783: 2.6666666666666665, 158813: 2.3333333333333335, 158842: 3.5, 158872: 3.642857142857143, 158874: 3.0, 158882: 5.0, 158956: 2.5, 158966: 4.5, 158972: 3.6666666666666665, 159069: 4.5, 159077: 2.5, 159093: 3.6, 159161: 4.5, 159193: 3.0, 159403: 3.0, 159415: 3.25, 159441: 3.5, 159510: 2.0, 159690: 2.0, 159717: 3.75, 159755: 2.75, 159811: 5.0, 159817: 4.416666666666667, 159858: 2.25, 160080: 3.142857142857143, 160271: 3.6666666666666665, 160289: 4.5, 160341: 2.5, 160400: 3.0, 160422: 3.0, 160438: 2.75, 160440: 1.5, 160527: 4.5, 160563: 3.1666666666666665, 160565: 2.75, 160567: 3.3333333333333335, 160569: 1.0, 160571: 3.0, 160573: 3.0, 160644: 5.0, 160684: 3.5, 160718: 4.5, 160836: 3.0, 160848: 4.5, 160872: 0.5, 160954: 2.625, 160978: 1.0, 160980: 3.1, 161008: 2.5, 161024: 4.5, 161032: 2.5, 161044: 3.0, 161127: 3.75, 161131: 3.4, 161290: 1.0, 161580: 4.0, 161582: 3.5, 161594: 3.5, 161634: 3.375, 161830: 1.0, 161918: 1.5, 161966: 4.0, 162082: 3.5, 162350: 3.6, 162478: 3.75, 162578: 3.8, 162598: 3.5, 162600: 3.0, 162602: 4.5, 162606: 3.2, 162968: 4.0, 162982: 3.0, 163112: 5.0, 163134: 4.0, 163386: 5.0, 163527: 4.0, 163645: 3.5, 163653: 3.0, 163925: 5.0, 163937: 3.5, 163985: 4.5, 164179: 4.0, 164200: 3.5, 164280: 3.5, 164367: 5.0, 164375: 1.5, 164540: 3.5, 164647: 2.5, 164707: 4.0, 164753: 2.0, 164881: 1.5, 164909: 3.4166666666666665, 164917: 4.5, 165075: 2.5, 165101: 2.6666666666666665, 165103: 3.75, 165139: 2.0, 165343: 1.5, 165347: 2.0, 165489: 2.5, 165529: 2.0, 165549: 2.625, 165639: 3.75, 165645: 0.5, 165947: 3.25, 165959: 5.0, 165969: 4.0, 166015: 3.5, 166024: 4.75, 166203: 4.0, 166291: 4.0, 166461: 3.45, 166492: 3.5, 166528: 3.8863636363636362, 166534: 3.3333333333333335, 166558: 3.0, 166568: 4.5, 166635: 3.75, 166643: 3.625, 166705: 3.0, 166946: 4.5, 167018: 3.5, 167036: 3.75, 167064: 5.0, 167296: 0.5, 167370: 2.5, 167380: 4.5, 167538: 1.0, 167570: 4.0, 167732: 3.5, 167746: 3.6, 167772: 1.5, 167790: 3.5, 167854: 4.5, 168026: 4.0, 168090: 4.0, 168144: 4.0, 168218: 4.5, 168248: 4.142857142857143, 168250: 3.6538461538461537, 168252: 4.35, 168254: 3.1666666666666665, 168266: 3.75, 168326: 3.6666666666666665, 168350: 2.5, 168366: 3.5, 168418: 3.8, 168456: 2.0, 168492: 3.75, 168608: 3.0, 168632: 4.0, 168712: 1.0, 168846: 4.5, 169034: 4.5, 169180: 2.5, 169670: 1.5, 169912: 3.0, 169958: 1.0, 169982: 3.0, 169984: 2.8, 170355: 3.75, 170357: 4.0, 170401: 3.0, 170551: 2.5, 170597: 5.0, 170697: 4.25, 170705: 4.375, 170777: 5.0, 170813: 3.0, 170817: 4.0, 170827: 3.5, 170837: 4.0, 170875: 2.3333333333333335, 170897: 2.0, 170907: 4.0, 170937: 3.0, 170945: 3.5, 170957: 3.0, 170993: 4.0, 171011: 4.2, 171023: 4.0, 171251: 4.0, 171495: 5.0, 171701: 3.5, 171751: 2.5, 171759: 3.0, 171763: 4.416666666666667, 171765: 3.75, 171811: 4.0, 171867: 3.25, 171891: 3.5, 171917: 4.5, 172013: 3.0, 172215: 2.5, 172229: 3.0, 172233: 2.5, 172253: 3.0, 172321: 2.0, 172461: 3.0, 172547: 2.25, 172577: 5.0, 172583: 5.0, 172587: 5.0, 172591: 4.5, 172705: 5.0, 172793: 5.0, 172825: 4.5, 172875: 5.0, 172881: 3.5, 172887: 3.0, 173145: 2.875, 173197: 4.25, 173205: 4.0, 173235: 4.5, 173253: 3.5, 173255: 2.5, 173291: 2.875, 173307: 0.5, 173317: 4.5, 173351: 5.0, 173355: 5.0, 173535: 4.5, 173619: 5.0, 173873: 2.0, 173925: 4.25, 173941: 3.0, 173963: 5.0, 174045: 4.0, 174053: 4.5, 174055: 3.5, 174141: 3.5, 174403: 2.5, 174479: 4.0, 174681: 3.5, 174727: 3.0, 174737: 3.0, 174909: 4.5, 175197: 3.5, 175199: 4.0, 175293: 5.0, 175303: 3.2, 175387: 5.0, 175401: 4.0, 175431: 5.0, 175435: 4.5, 175475: 0.5, 175485: 1.75, 175569: 2.8333333333333335, 175577: 1.5, 175585: 3.5, 175661: 2.6666666666666665, 175693: 2.5, 175707: 3.0, 175743: 3.0, 175781: 3.0, 176101: 2.9, 176371: 3.727272727272727, 176413: 4.5, 176415: 3.5, 176419: 3.5, 176423: 4.0, 176579: 1.0, 176601: 5.0, 176621: 2.0, 176751: 4.5, 176805: 4.0, 176935: 2.0, 177185: 4.5, 177285: 3.0, 177593: 4.75, 177615: 3.5, 177763: 2.8333333333333335, 177765: 3.5, 177939: 4.5, 178061: 3.3333333333333335, 178111: 2.0, 178323: 3.5, 178613: 4.0, 178615: 3.5, 178827: 4.25, 179053: 3.5, 179119: 4.0, 179133: 5.0, 179135: 5.0, 179211: 2.5, 179401: 3.6666666666666665, 179427: 4.0, 179709: 3.0, 179749: 1.5, 179815: 1.5, 179817: 3.8333333333333335, 179819: 3.090909090909091, 179953: 3.5, 180031: 3.642857142857143, 180095: 4.0, 180231: 4.0, 180263: 2.0, 180265: 4.5, 180297: 3.75, 180497: 4.0, 180777: 4.5, 180985: 3.0, 180987: 1.5, 181065: 3.75, 181139: 1.5, 181413: 4.5, 181659: 2.5, 181719: 3.5, 182293: 4.0, 182297: 4.0, 182299: 4.0, 182639: 4.0, 182715: 3.75, 182749: 2.5, 182823: 2.6666666666666665, 183011: 1.5, 183197: 3.5, 183199: 4.0, 183295: 3.5, 183301: 3.0, 183317: 4.5, 183611: 4.0, 183635: 3.5, 183897: 3.5, 183911: 1.5, 183959: 4.5, 184015: 3.5, 184053: 2.0, 184245: 5.0, 184253: 4.0, 184349: 3.5, 184471: 2.3333333333333335, 184641: 0.5, 184791: 3.25, 184931: 4.0, 184997: 4.0, 185029: 3.1666666666666665, 185031: 4.5, 185135: 4.75, 185585: 2.5, 186587: 3.0, 187031: 3.25, 187541: 3.0, 187593: 3.65, 187595: 3.9, 187717: 5.0, 188189: 4.5, 188301: 3.6666666666666665, 188675: 3.5, 188751: 4.5, 188797: 4.0, 188833: 4.5, 189043: 2.5, 189111: 3.0, 189333: 3.5, 189381: 2.5, 189547: 1.0, 190183: 3.5, 190215: 1.5, 190219: 1.0, 191005: 4.5, 193565: 3.5, 193567: 3.0, 193571: 4.0, 193579: 3.5, 193581: 4.0, 193583: 3.5, 193585: 3.5, 193587: 3.5, 193609: 4.0}\n"
          ]
        }
      ],
      "source": [
        "train_average['movie']= get_average_rating(train_matrix,False)\n",
        "print(train_average['movie'])"
      ]
    },
    {
      "cell_type": "code",
      "execution_count": null,
      "metadata": {
        "id": "k2hEN2tDCHaC",
        "colab": {
          "base_uri": "https://localhost:8080/"
        },
        "outputId": "4d99b780-dbf9-404e-89d6-cd78b0871695"
      },
      "outputs": [
        {
          "output_type": "stream",
          "name": "stdout",
          "text": [
            "{1: 4.3090909090909095, 2: 3.7142857142857144, 3: 2.8, 4: 3.5, 5: 3.6666666666666665, 6: 3.491228070175439, 7: 3.82, 8: 3.5, 9: 3.1818181818181817, 10: 3.4545454545454546, 11: 3.7058823529411766, 12: 4.0, 13: 4.5, 14: 3.8, 15: 3.230769230769231, 16: 3.5789473684210527, 17: 4.25, 18: 3.7972972972972974, 19: 2.5675675675675675, 20: 3.3372093023255816, 21: 3.3214285714285716, 22: 2.111111111111111, 23: 3.5476190476190474, 24: 3.64, 25: 5.0, 26: 3.6666666666666665, 27: 3.533333333333333, 28: 3.036363636363636, 29: 4.264705882352941, 30: 5.0, 31: 3.75, 32: 3.8125, 33: 3.838709677419355, 34: 3.4285714285714284, 35: 4.0, 36: 2.375, 37: 4.666666666666667, 38: 3.4210526315789473, 39: 4.611111111111111, 40: 3.896551724137931, 41: 3.0816326530612246, 42: 3.3736263736263736, 43: 4.45, 44: 3.1666666666666665, 45: 3.8076923076923075, 46: 3.6, 47: 2.8653846153846154, 48: 4.25, 49: 4.5, 50: 2.8947368421052633, 51: 3.7704918032786887, 52: 4.28, 53: 5.0, 54: 3.0, 55: 4.166666666666667, 56: 3.4, 57: 3.6036036036036037, 58: 3.735294117647059, 59: 4.266666666666667, 60: 4.0, 61: 3.875, 62: 4.163934426229508, 63: 3.75, 64: 3.758241758241758, 65: 3.9583333333333335, 66: 4.097222222222222, 67: 3.8125, 68: 3.2063492063492065, 69: 4.0, 70: 4.28125, 71: 3.8333333333333335, 72: 4.333333333333333, 73: 4.025, 74: 4.171428571428572, 75: 3.46875, 76: 3.16, 77: 3.4166666666666665, 78: 2.8846153846153846, 79: 4.2, 80: 4.243243243243243, 81: 2.3333333333333335, 82: 3.380434782608696, 83: 3.2777777777777777, 84: 3.6440677966101696, 85: 3.9, 86: 3.909090909090909, 87: 4.0, 88: 3.7222222222222223, 89: 3.5377358490566038, 90: 4.153846153846154, 91: 3.282258064516129, 92: 3.6666666666666665, 93: 4.45, 94: 2.8461538461538463, 95: 3.94, 96: 4.105263157894737, 97: 4.2727272727272725, 98: 3.8823529411764706, 99: 4.333333333333333, 100: 3.9444444444444446, 101: 3.7333333333333334, 102: 3.5, 103: 3.994047619047619, 104: 3.587719298245614, 105: 4.138513513513513, 106: 3.8333333333333335, 107: 3.8, 108: 3.9285714285714284, 109: 3.0, 110: 3.95, 111: 3.397887323943662, 112: 3.888888888888889, 113: 3.5142857142857142, 114: 3.772727272727273, 115: 3.6153846153846154, 116: 3.3333333333333335, 117: 3.185185185185185, 118: 3.6666666666666665, 119: 4.202127659574468, 120: 3.3333333333333335, 121: 3.1666666666666665, 122: 4.546875, 123: 4.1, 124: 3.85, 125: 3.823529411764706, 126: 3.1666666666666665, 127: 3.25, 128: 4.571428571428571, 129: 3.9038461538461537, 130: 3.2, 131: 3.5588235294117645, 132: 3.035211267605634, 133: 2.75, 134: 3.2, 135: 3.642857142857143, 136: 3.259259259259259, 137: 3.945945945945946, 138: 1.75, 139: 2.097826086956522, 140: 3.4186046511627906, 141: 3.603448275862069, 142: 3.9285714285714284, 143: 3.4722222222222223, 144: 3.533333333333333, 145: 3.0, 146: 3.625, 147: 4.1, 148: 3.388888888888889, 149: 2.090909090909091, 150: 3.5, 151: 3.7333333333333334, 152: 3.85, 153: 2.557142857142857, 154: 3.7857142857142856, 155: 3.7, 156: 3.7222222222222223, 157: 4.666666666666667, 158: 3.0, 159: 3.5, 160: 2.7010869565217392, 161: 3.7222222222222223, 162: 4.444444444444445, 163: 2.875, 164: 4.375, 165: 3.9, 166: 4.03030303030303, 167: 3.225, 168: 4.37037037037037, 169: 4.275510204081633, 170: 3.4545454545454546, 171: 4.846153846153846, 172: 3.5, 173: 3.5, 174: 3.909090909090909, 175: 3.5833333333333335, 176: 4.0, 177: 3.265, 178: 4.323529411764706, 179: 3.8333333333333335, 180: 3.6875, 181: 2.782608695652174, 182: 3.564516129032258, 183: 3.625, 184: 3.4473684210526314, 185: 3.1666666666666665, 186: 4.116279069767442, 187: 3.925531914893617, 188: 4.384615384615385, 189: 3.5, 190: 3.8333333333333335, 191: 3.4444444444444446, 192: 4.25, 193: 3.9285714285714284, 194: 3.8333333333333335, 195: 3.7058823529411766, 196: 3.85, 197: 4.2, 198: 3.3333333333333335, 199: 3.242424242424242, 200: 3.7847222222222223, 201: 3.8636363636363638, 202: 3.8194444444444446, 203: 4.055555555555555, 204: 3.78125, 205: 3.75, 206: 3.75, 207: 1.6666666666666667, 208: 3.6, 209: 3.7142857142857144, 210: 4.0576923076923075, 211: 3.25, 212: 3.5245901639344264, 213: 3.9285714285714284, 214: 3.0, 215: 3.6363636363636362, 216: 3.5, 217: 2.7017543859649122, 218: 3.4545454545454546, 219: 3.298076923076923, 220: 4.0, 221: 4.254901960784314, 222: 3.215909090909091, 223: 3.3529411764705883, 224: 4.428571428571429, 225: 3.7857142857142856, 226: 3.59375, 227: 4.09375, 229: 3.9, 230: 2.9285714285714284, 231: 3.7142857142857144, 232: 3.2881944444444446, 233: 3.324324324324324, 234: 3.4857142857142858, 235: 3.9166666666666665, 236: 3.6, 237: 3.1785714285714284, 238: 3.8181818181818183, 239: 4.042553191489362, 240: 3.9655172413793105, 241: 3.909090909090909, 242: 3.4285714285714284, 243: 4.545454545454546, 244: 3.9642857142857144, 245: 2.857142857142857, 246: 4.24468085106383, 247: 3.8846153846153846, 248: 3.7, 249: 3.6595238095238094, 250: 3.5833333333333335, 251: 5.0, 252: 4.4375, 253: 4.0, 254: 4.055555555555555, 255: 2.4285714285714284, 256: 3.913793103448276, 257: 3.2142857142857144, 258: 3.5, 259: 4.5, 260: 3.8142857142857145, 261: 3.7083333333333335, 262: 2.9, 263: 3.902439024390244, 264: 3.4166666666666665, 265: 3.3793103448275863, 266: 3.676470588235294, 267: 4.3, 268: 3.3793103448275863, 269: 3.8333333333333335, 270: 3.0, 271: 3.375, 272: 3.1666666666666665, 273: 3.875, 274: 3.247983870967742, 275: 4.223684210526316, 276: 4.25, 277: 3.0, 278: 4.666666666666667, 279: 3.6315789473684212, 280: 3.9375, 281: 2.6666666666666665, 282: 4.056818181818182, 283: 3.7142857142857144, 284: 3.7916666666666665, 285: 4.0, 286: 3.575, 287: 2.5135135135135136, 288: 3.1358024691358026, 289: 3.95, 290: 4.163636363636364, 291: 4.5, 292: 3.241573033707865, 293: 2.4, 294: 2.5416666666666665, 295: 3.4545454545454546, 296: 4.75, 297: 2.823529411764706, 298: 2.3844086021505375, 299: 3.3333333333333335, 300: 4.214285714285714, 301: 3.25, 302: 4.0, 303: 3.9, 304: 3.9285714285714284, 305: 3.9558823529411766, 306: 3.3260869565217392, 307: 2.665775401069519, 308: 2.4722222222222223, 309: 3.9074074074074074, 310: 3.4166666666666665, 311: 2.0833333333333335, 312: 3.6818181818181817, 313: 3.546875, 314: 3.3846153846153846, 315: 2.8333333333333335, 316: 3.1923076923076925, 317: 3.8048780487804876, 318: 3.776536312849162, 319: 4.571428571428571, 320: 2.75, 321: 3.6666666666666665, 322: 3.6153846153846154, 323: 3.066666666666667, 324: 4.5, 325: 3.5517241379310347, 326: 4.18, 327: 4.090909090909091, 328: 3.1944444444444446, 329: 2.5, 330: 3.7282608695652173, 331: 3.4166666666666665, 332: 3.517543859649123, 333: 2.7142857142857144, 334: 3.3448275862068964, 335: 3.625, 336: 4.65, 337: 4.0, 338: 2.85, 339: 4.1640625, 340: 4.25, 341: 4.05, 342: 2.933333333333333, 343: 3.8529411764705883, 344: 3.8636363636363638, 345: 4.038461538461538, 346: 3.703125, 347: 3.0, 348: 4.615384615384615, 349: 3.625, 350: 3.0, 351: 3.606060606060606, 352: 3.7, 353: 3.2222222222222223, 354: 3.5961538461538463, 355: 3.2, 356: 4.0, 357: 3.9080459770114944, 358: 2.8333333333333335, 359: 3.409090909090909, 360: 2.4, 361: 2.8076923076923075, 362: 4.183333333333334, 363: 3.611111111111111, 364: 4.6, 365: 2.9642857142857144, 366: 3.6666666666666665, 367: 3.6666666666666665, 368: 2.746987951807229, 369: 3.480769230769231, 370: 3.85, 371: 4.25, 372: 3.3783783783783785, 373: 3.0952380952380953, 374: 3.6666666666666665, 375: 4.25, 376: 4.106060606060606, 377: 3.7, 378: 4.190476190476191, 379: 3.4444444444444446, 380: 3.753846153846154, 381: 3.6123595505617976, 382: 3.3392857142857144, 383: 3.5555555555555554, 384: 2.5384615384615383, 385: 3.581818181818182, 386: 2.9285714285714284, 387: 3.2663316582914574, 388: 3.875, 389: 4.285714285714286, 390: 3.764705882352941, 391: 3.630952380952381, 392: 3.8333333333333335, 393: 3.533333333333333, 394: 2.6666666666666665, 395: 3.25, 396: 2.1666666666666665, 397: 3.6666666666666665, 398: 3.5, 399: 3.5625, 400: 4.666666666666667, 401: 3.5357142857142856, 402: 3.9285714285714284, 403: 4.25, 404: 3.4, 405: 4.076923076923077, 406: 4.0, 407: 3.9166666666666665, 408: 4.257575757575758, 409: 4.181818181818182, 410: 3.84375, 411: 3.16, 412: 3.8181818181818183, 413: 4.5, 414: 3.3626168224299064, 415: 3.973684210526316, 416: 2.933333333333333, 417: 4.545454545454546, 418: 3.3043478260869565, 419: 3.6, 420: 4.074074074074074, 421: 4.166666666666667, 422: 3.0526315789473686, 423: 3.5, 424: 3.5121951219512195, 425: 3.443661971830986, 426: 3.8947368421052633, 427: 2.71875, 428: 2.7413793103448274, 429: 3.7857142857142856, 430: 3.3666666666666667, 431: 2.5, 432: 3.6120689655172415, 433: 4.166666666666667, 434: 3.84375, 435: 3.9375, 436: 3.05, 437: 4.0, 438: 3.3506944444444446, 439: 3.9285714285714284, 440: 4.5, 441: 4.571428571428571, 442: 1.375, 443: 3.9285714285714284, 444: 3.8181818181818183, 445: 3.3666666666666667, 446: 3.0526315789473686, 447: 3.7058823529411766, 448: 2.9099216710182767, 449: 3.125, 450: 4.666666666666667, 451: 3.727272727272727, 452: 4.5675675675675675, 453: 3.8813559322033897, 454: 3.7777777777777777, 455: 3.2857142857142856, 456: 4.285714285714286, 457: 4.0, 458: 4.0, 459: 4.5, 460: 3.8666666666666667, 461: 3.3333333333333335, 462: 3.304123711340206, 463: 3.7222222222222223, 464: 3.9516129032258065, 465: 4.3, 466: 3.9583333333333335, 467: 4.0, 468: 3.375, 469: 3.647727272727273, 470: 3.5, 471: 3.6, 472: 4.166666666666667, 473: 3.25, 474: 3.3865248226950353, 475: 4.428571428571429, 476: 3.5384615384615383, 477: 3.676470588235294, 478: 2.7857142857142856, 479: 3.3125, 480: 3.210227272727273, 481: 3.0, 482: 3.393939393939394, 483: 3.68, 484: 3.6, 485: 3.0, 486: 3.8461538461538463, 487: 3.0714285714285716, 488: 3.6739130434782608, 489: 2.962406015037594, 490: 2.7142857142857144, 491: 4.384615384615385, 492: 3.92, 493: 3.4166666666666665, 494: 5.0, 495: 4.008333333333334, 496: 3.1875, 497: 3.5384615384615383, 498: 4.444444444444445, 499: 4.25, 500: 3.3333333333333335, 501: 3.0, 502: 3.5, 503: 3.5238095238095237, 504: 3.7708333333333335, 505: 4.3125, 506: 3.0, 507: 3.4, 508: 1.5833333333333333, 509: 3.1555555555555554, 510: 2.5625, 511: 4.214285714285714, 512: 3.7777777777777777, 513: 4.0, 514: 3.4166666666666665, 515: 4.5, 516: 4.166666666666667, 517: 2.23943661971831, 518: 3.7, 519: 3.5, 520: 4.064516129032258, 521: 3.5555555555555554, 522: 3.776595744680851, 523: 4.666666666666667, 524: 3.3636363636363638, 525: 3.5789473684210527, 526: 4.4, 527: 4.096774193548387, 528: 3.3529411764705883, 529: 3.75, 530: 4.25, 531: 4.0, 532: 4.625, 533: 4.375, 534: 3.7864583333333335, 535: 2.75, 536: 3.3333333333333335, 537: 4.035714285714286, 538: 4.357142857142857, 539: 4.0, 540: 4.041666666666667, 541: 3.533333333333333, 542: 3.3333333333333335, 543: 4.444444444444445, 544: 4.666666666666667, 545: 3.875, 546: 4.111111111111111, 547: 4.5, 548: 4.25, 549: 3.0, 550: 4.5, 551: 3.977272727272727, 552: 3.276315789473684, 553: 4.15625, 554: 4.4375, 555: 3.4918032786885247, 556: 4.2, 557: 4.0, 558: 3.909090909090909, 559: 3.4482758620689653, 560: 3.556701030927835, 561: 3.3155339805825244, 562: 4.3428571428571425, 563: 3.45, 564: 3.453125, 565: 3.75, 566: 3.3125, 567: 2.404109589041096, 568: 3.8333333333333335, 569: 4.142857142857143, 570: 3.6538461538461537, 571: 2.6, 572: 4.25, 573: 4.26595744680851, 574: 3.7142857142857144, 575: 3.6, 576: 3.5833333333333335, 577: 3.4074074074074074, 578: 3.7142857142857144, 579: 4.076923076923077, 580: 3.375, 581: 4.3, 582: 4.15, 583: 3.3333333333333335, 584: 4.352941176470588, 585: 4.066666666666666, 586: 4.2926829268292686, 587: 4.230769230769231, 588: 2.8181818181818183, 589: 4.166666666666667, 590: 3.294776119402985, 591: 3.2, 592: 3.3125, 593: 3.15, 594: 3.8454545454545452, 595: 4.0, 596: 3.373134328358209, 597: 3.8846153846153846, 598: 4.375, 599: 2.6845991561181433, 600: 2.979020979020979, 601: 4.346153846153846, 602: 3.413793103448276, 603: 3.362162162162162, 604: 3.433333333333333, 605: 3.2872340425531914, 606: 3.7083333333333335, 607: 3.903225806451613, 608: 3.046979865771812, 609: 3.3333333333333335, 610: 3.6641509433962263}\n"
          ]
        }
      ],
      "source": [
        "test_average['user']= get_average_rating(test_matrix,True)\n",
        "print(test_average['user'])"
      ]
    },
    {
      "cell_type": "code",
      "execution_count": null,
      "metadata": {
        "id": "9GEvBJZMCHrT",
        "colab": {
          "base_uri": "https://localhost:8080/"
        },
        "outputId": "eefdd8f9-2511-4303-ce95-20df1115ce7d"
      },
      "outputs": [
        {
          "output_type": "stream",
          "name": "stdout",
          "text": [
            "{1: 3.840909090909091, 2: 3.4347826086956523, 3: 3.2142857142857144, 4: 2.0, 5: 3.090909090909091, 6: 4.1521739130434785, 7: 2.95, 9: 3.5, 10: 3.375, 11: 3.4642857142857144, 12: 2.3333333333333335, 13: 4.0, 14: 3.6666666666666665, 15: 3.8333333333333335, 16: 4.1923076923076925, 17: 3.764705882352941, 18: 3.875, 19: 3.0384615384615383, 20: 2.1666666666666665, 21: 3.210526315789474, 22: 3.0, 23: 3.75, 24: 2.8, 25: 3.611111111111111, 26: 3.2, 27: 5.0, 28: 4.25, 29: 3.75, 31: 3.25, 32: 4.078125, 34: 3.7291666666666665, 36: 3.611111111111111, 38: 1.8333333333333333, 39: 3.5869565217391304, 40: 3.5, 41: 4.125, 43: 3.375, 44: 2.5, 45: 3.9166666666666665, 46: 3.0, 47: 4.0227272727272725, 48: 3.272727272727273, 50: 4.173469387755102, 52: 3.357142857142857, 57: 3.5, 58: 4.0, 60: 3.7777777777777777, 61: 4.0, 62: 3.625, 63: 2.5, 64: 3.0, 65: 2.5714285714285716, 66: 3.0, 68: 5.0, 69: 3.6, 70: 3.772727272727273, 71: 1.75, 72: 3.6666666666666665, 73: 3.5833333333333335, 74: 3.5, 76: 2.0, 79: 3.25, 81: 2.8333333333333335, 82: 5.0, 83: 3.0, 85: 4.0, 86: 3.0, 87: 2.6666666666666665, 88: 2.5, 89: 2.25, 92: 2.0, 93: 1.0, 95: 3.3157894736842106, 97: 3.8333333333333335, 100: 2.5, 101: 3.4, 102: 4.5, 104: 3.210526315789474, 105: 2.625, 107: 3.625, 110: 3.8372093023255816, 111: 3.9285714285714284, 112: 4.142857142857143, 113: 4.0, 116: 3.5, 121: 4.0, 122: 3.25, 123: 3.0, 125: 4.0, 126: 2.0, 128: 3.0, 132: 3.0, 135: 3.0, 141: 3.6, 144: 3.6666666666666665, 145: 3.0384615384615383, 147: 4.5, 148: 5.0, 149: 2.0, 150: 4.0, 151: 3.5, 153: 2.603448275862069, 154: 3.3333333333333335, 155: 1.0, 156: 3.0, 157: 2.1666666666666665, 158: 2.8636363636363638, 159: 3.0, 160: 3.1, 161: 3.96875, 162: 4.1, 163: 3.7777777777777777, 164: 3.5, 165: 3.9375, 166: 3.5, 168: 3.090909090909091, 169: 2.3333333333333335, 170: 3.0833333333333335, 171: 3.0, 172: 2.9166666666666665, 173: 3.0555555555555554, 174: 3.3333333333333335, 175: 4.25, 176: 4.333333333333333, 177: 4.0, 180: 3.125, 181: 2.1, 183: 4.0, 184: 4.0, 185: 3.239130434782609, 186: 2.5454545454545454, 187: 5.0, 188: 3.625, 190: 2.5, 191: 5.0, 193: 3.111111111111111, 194: 4.5, 195: 3.0, 196: 2.65, 198: 3.2, 199: 4.5, 203: 4.5, 204: 2.6875, 205: 3.5, 207: 3.3333333333333335, 208: 2.7857142857142856, 209: 4.0, 210: 3.0, 212: 2.5, 213: 2.8333333333333335, 215: 4.0, 216: 3.4285714285714284, 218: 3.4, 220: 3.0, 222: 5.0, 223: 4.076923076923077, 224: 3.4285714285714284, 225: 3.8, 227: 2.8, 228: 1.0, 229: 3.5, 230: 3.5, 231: 2.909090909090909, 232: 2.5, 233: 3.0, 234: 2.0, 235: 3.4583333333333335, 236: 3.8, 237: 3.4, 239: 3.0, 240: 2.25, 242: 2.0, 246: 4.166666666666667, 247: 3.0, 248: 3.0, 249: 3.6, 250: 3.1666666666666665, 251: 2.5, 252: 3.55, 253: 3.4318181818181817, 255: 2.3333333333333335, 256: 2.75, 257: 3.25, 258: 2.4, 259: 3.0, 260: 4.28, 261: 3.8636363636363638, 262: 3.625, 265: 3.75, 266: 3.176470588235294, 267: 3.25, 269: 3.0, 270: 3.75, 271: 5.0, 272: 3.6666666666666665, 273: 3.0833333333333335, 274: 2.5, 275: 1.0, 276: 3.3, 277: 3.2857142857142856, 280: 4.25, 281: 4.0, 282: 3.7083333333333335, 283: 5.0, 285: 4.0, 287: 3.0, 288: 3.4782608695652173, 289: 5.0, 290: 3.5, 292: 3.5, 293: 3.7962962962962963, 294: 3.0, 296: 4.222222222222222, 299: 3.0, 300: 3.727272727272727, 302: 3.5, 303: 2.857142857142857, 304: 4.0, 305: 2.0, 306: 4.4, 307: 4.75, 308: 4.071428571428571, 312: 1.8333333333333333, 314: 3.6666666666666665, 315: 3.2857142857142856, 316: 3.403225806451613, 317: 3.0526315789473686, 318: 4.530769230769231, 319: 3.2857142857142856, 320: 3.0, 321: 4.0, 322: 2.75, 326: 5.0, 327: 2.6875, 328: 2.6666666666666665, 329: 3.433333333333333, 330: 3.0, 331: 3.0, 332: 2.25, 333: 3.888888888888889, 334: 4.0, 335: 3.0, 337: 3.9545454545454546, 338: 3.0, 339: 3.4583333333333335, 340: 4.0, 341: 4.0, 342: 3.5, 343: 3.5, 344: 2.5961538461538463, 345: 3.9166666666666665, 346: 3.0, 347: 3.5, 348: 3.0, 349: 3.6315789473684212, 350: 3.3333333333333335, 351: 2.875, 353: 3.8846153846153846, 354: 4.0, 355: 2.125, 356: 4.108333333333333, 357: 3.7, 358: 3.0, 360: 1.0, 361: 3.5, 362: 4.25, 364: 4.016666666666667, 365: 4.0, 366: 2.0, 367: 3.175, 368: 3.6, 370: 2.5, 371: 3.8, 372: 3.5833333333333335, 374: 2.7, 376: 3.6, 377: 3.425, 378: 3.0, 379: 2.4166666666666665, 380: 3.6463414634146343, 381: 4.5, 382: 3.6666666666666665, 383: 3.0, 384: 3.5, 385: 4.0, 387: 2.0, 393: 2.0, 405: 2.75, 407: 3.8333333333333335, 408: 3.0, 410: 3.1153846153846154, 412: 4.0, 413: 3.357142857142857, 414: 2.5, 415: 2.25, 416: 3.0, 418: 3.0, 419: 2.6666666666666665, 420: 2.8, 421: 3.1, 423: 3.25, 424: 3.0, 425: 4.0, 426: 3.0, 427: 2.5, 428: 3.642857142857143, 429: 2.5, 430: 5.0, 431: 3.8125, 432: 2.380952380952381, 433: 3.1666666666666665, 434: 3.275, 435: 2.5555555555555554, 437: 3.0, 438: 2.0, 440: 3.3333333333333335, 441: 3.857142857142857, 442: 3.3846153846153846, 444: 2.0, 445: 3.1666666666666665, 446: 5.0, 448: 3.0, 453: 3.0, 454: 3.4583333333333335, 455: 2.5, 457: 4.013513513513513, 458: 2.6666666666666665, 459: 2.0, 461: 3.0, 464: 3.0, 466: 2.95, 467: 5.0, 468: 3.3333333333333335, 469: 2.0, 471: 4.357142857142857, 472: 2.0, 474: 3.8666666666666667, 475: 4.375, 477: 3.6666666666666665, 479: 2.0, 480: 3.86734693877551, 481: 3.142857142857143, 482: 3.75, 485: 3.3461538461538463, 486: 4.0, 487: 1.0, 489: 2.5, 490: 3.0, 491: 3.0, 492: 4.0, 494: 3.8333333333333335, 497: 3.625, 500: 3.527027027027027, 502: 1.8, 505: 2.25, 507: 3.5, 508: 3.392857142857143, 509: 3.272727272727273, 512: 4.0, 514: 3.4375, 515: 3.25, 516: 2.75, 517: 3.0, 519: 2.5, 520: 2.6944444444444446, 521: 3.5, 522: 3.5, 523: 3.5, 524: 4.0, 527: 4.316326530612245, 528: 3.0, 529: 3.5, 531: 3.2, 532: 3.0, 533: 3.0, 534: 4.0, 535: 2.5714285714285716, 537: 3.2, 538: 4.5, 539: 3.5238095238095237, 540: 3.3333333333333335, 541: 4.052631578947368, 542: 1.5, 543: 3.0625, 544: 3.0, 546: 2.0, 550: 4.0, 551: 3.710526315789474, 552: 3.5, 553: 3.1666666666666665, 555: 3.4642857142857144, 562: 3.5, 567: 1.0, 569: 4.0, 573: 3.5, 575: 1.25, 577: 3.0, 579: 3.0, 581: 3.5, 585: 2.5, 586: 3.1904761904761907, 587: 3.53125, 588: 3.975, 589: 4.216666666666667, 590: 3.75, 592: 3.5, 593: 4.056603773584905, 594: 3.6363636363636362, 595: 3.62, 596: 3.0, 597: 3.3970588235294117, 605: 3.25, 608: 4.0, 609: 3.25, 610: 3.227272727272727, 611: 1.5, 612: 3.5, 613: 5.0, 615: 3.0, 616: 3.272727272727273, 618: 3.0, 619: 3.0, 627: 2.5, 628: 4.2, 631: 3.0, 633: 5.0, 637: 2.7222222222222223, 640: 3.0, 645: 4.0, 647: 3.2777777777777777, 648: 3.693548387096774, 650: 5.0, 653: 3.138888888888889, 661: 2.75, 662: 1.5, 663: 3.8333333333333335, 668: 3.5, 671: 2.8333333333333335, 673: 2.3636363636363638, 674: 2.5, 678: 3.0, 680: 5.0, 685: 5.0, 688: 3.0, 691: 3.0, 694: 3.0, 697: 3.0, 700: 3.0, 707: 2.75, 708: 3.4545454545454546, 709: 3.4, 710: 2.5, 711: 2.8, 714: 3.75, 715: 3.5, 718: 4.0, 719: 2.8846153846153846, 720: 4.833333333333333, 724: 2.875, 728: 3.375, 733: 3.35, 735: 4.25, 736: 3.0625, 737: 3.0, 741: 4.125, 742: 2.9, 743: 3.2, 745: 4.055555555555555, 748: 3.0, 750: 4.323529411764706, 760: 4.5, 761: 2.25, 762: 2.6666666666666665, 765: 2.5, 766: 3.5, 773: 3.5, 778: 4.038461538461538, 780: 3.4081632653061225, 781: 4.0, 782: 2.0, 783: 3.4583333333333335, 784: 2.8333333333333335, 785: 3.0625, 786: 2.9047619047619047, 788: 2.95, 795: 3.0, 798: 2.1666666666666665, 799: 3.5, 800: 4.1, 802: 3.3, 804: 3.5, 805: 3.6153846153846154, 808: 4.0, 809: 2.75, 810: 2.3333333333333335, 818: 4.0, 823: 3.5, 828: 3.0, 829: 2.5, 830: 2.9, 832: 3.65, 836: 2.8333333333333335, 837: 3.0, 838: 4.25, 839: 2.0, 842: 1.5, 848: 2.5, 849: 2.5, 851: 3.0, 852: 3.6818181818181817, 858: 4.386363636363637, 861: 5.0, 866: 3.642857142857143, 869: 4.0, 879: 4.0, 880: 2.4166666666666665, 882: 2.0, 886: 3.0, 889: 4.0, 892: 3.8, 893: 5.0, 898: 4.375, 899: 4.05, 900: 3.6666666666666665, 901: 3.5, 902: 3.8125, 903: 4.2, 904: 4.431818181818182, 905: 3.5, 906: 5.0, 908: 4.321428571428571, 909: 4.166666666666667, 910: 4.2, 911: 3.3333333333333335, 912: 4.02, 913: 4.409090909090909, 914: 4.0, 915: 3.875, 916: 3.0, 918: 3.875, 919: 3.8541666666666665, 920: 3.3636363636363638, 922: 4.5, 923: 4.076923076923077, 924: 3.7758620689655173, 926: 4.3, 927: 4.0, 928: 4.666666666666667, 930: 3.75, 931: 3.75, 933: 4.0, 937: 4.0, 938: 3.0, 940: 4.0, 941: 4.0, 943: 5.0, 944: 4.0, 945: 4.0, 946: 0.5, 949: 4.0, 950: 4.0, 951: 4.5, 953: 4.136363636363637, 954: 4.5, 955: 3.142857142857143, 956: 4.0, 961: 4.0, 965: 3.5, 968: 3.6666666666666665, 969: 4.0625, 970: 3.5, 971: 4.125, 973: 4.0, 984: 2.0, 986: 3.0, 990: 2.0, 991: 3.0, 994: 4.5, 996: 3.0, 999: 3.5, 1003: 3.5, 1004: 3.0, 1005: 1.5, 1007: 2.5, 1009: 3.0, 1011: 2.0, 1012: 4.0, 1013: 3.0, 1015: 2.1666666666666665, 1016: 3.0, 1017: 2.0, 1018: 1.5, 1019: 3.5, 1020: 2.7222222222222223, 1021: 2.55, 1022: 3.5, 1023: 3.5, 1024: 4.0, 1025: 3.125, 1027: 3.4166666666666665, 1028: 3.7333333333333334, 1029: 3.5, 1030: 2.75, 1031: 3.2, 1032: 3.5833333333333335, 1033: 3.5, 1034: 4.5, 1035: 3.727272727272727, 1036: 3.972972972972973, 1037: 2.625, 1041: 4.5, 1042: 3.1666666666666665, 1043: 2.5, 1047: 3.9, 1049: 3.125, 1050: 4.0, 1053: 3.0, 1055: 2.0, 1056: 2.0, 1057: 3.5, 1059: 3.857142857142857, 1060: 3.5, 1061: 3.75, 1064: 4.5, 1066: 5.0, 1073: 3.56, 1077: 4.0, 1078: 3.6666666666666665, 1079: 3.3214285714285716, 1080: 4.233333333333333, 1081: 3.0, 1083: 2.5, 1084: 4.111111111111111, 1086: 5.0, 1088: 3.3, 1089: 4.285714285714286, 1090: 4.15625, 1091: 1.75, 1092: 2.9, 1093: 3.6875, 1094: 3.3333333333333335, 1095: 3.5, 1096: 3.25, 1097: 3.857142857142857, 1100: 2.0, 1101: 3.1176470588235294, 1103: 4.25, 1104: 4.75, 1105: 5.0, 1111: 4.5, 1114: 3.0, 1116: 4.0, 1119: 3.0, 1120: 3.6666666666666665, 1124: 4.0, 1125: 3.5, 1126: 3.25, 1127: 3.8076923076923075, 1129: 3.7857142857142856, 1130: 2.0, 1131: 4.0, 1132: 4.0, 1135: 2.8333333333333335, 1136: 4.071428571428571, 1148: 4.5, 1150: 4.5, 1161: 4.0, 1162: 3.0, 1171: 3.1666666666666665, 1172: 4.285714285714286, 1173: 4.0, 1175: 3.5, 1177: 4.0, 1178: 4.0, 1179: 4.0, 1183: 3.576923076923077, 1184: 4.0, 1185: 4.666666666666667, 1186: 3.1666666666666665, 1188: 3.3333333333333335, 1189: 4.5, 1190: 3.6666666666666665, 1191: 4.0, 1192: 5.0, 1193: 4.202702702702703, 1194: 3.75, 1196: 3.951219512195122, 1197: 4.096153846153846, 1198: 4.209302325581396, 1199: 4.066666666666666, 1200: 4.0131578947368425, 1201: 4.038461538461538, 1202: 3.75, 1203: 4.166666666666667, 1204: 4.285714285714286, 1206: 4.318181818181818, 1207: 4.5, 1208: 4.2, 1209: 4.375, 1210: 4.064516129032258, 1211: 3.3, 1212: 4.166666666666667, 1213: 4.176470588235294, 1214: 3.757142857142857, 1215: 4.1875, 1216: 3.5, 1217: 5.0, 1218: 4.0, 1219: 4.125, 1220: 3.7857142857142856, 1221: 4.472222222222222, 1222: 4.28125, 1223: 4.5, 1224: 4.0, 1225: 4.285714285714286, 1227: 3.6666666666666665, 1228: 4.222222222222222, 1230: 3.7142857142857144, 1231: 4.25, 1232: 2.75, 1233: 4.1923076923076925, 1234: 4.264705882352941, 1235: 4.666666666666667, 1236: 4.0, 1237: 4.375, 1238: 5.0, 1240: 3.638888888888889, 1241: 3.1666666666666665, 1242: 4.115384615384615, 1243: 3.25, 1244: 4.25, 1245: 5.0, 1246: 4.2, 1247: 3.9375, 1248: 3.6666666666666665, 1249: 4.375, 1250: 4.2, 1251: 3.75, 1252: 4.25, 1253: 3.3333333333333335, 1254: 1.75, 1255: 3.0, 1256: 3.2, 1257: 4.0, 1258: 3.8666666666666667, 1259: 3.7941176470588234, 1260: 3.375, 1261: 3.7, 1262: 3.9166666666666665, 1263: 4.125, 1264: 4.0, 1265: 3.982142857142857, 1266: 3.9166666666666665, 1267: 4.5, 1268: 3.75, 1269: 4.285714285714286, 1270: 4.285714285714286, 1271: 3.611111111111111, 1272: 3.642857142857143, 1273: 4.333333333333333, 1274: 3.357142857142857, 1275: 3.625, 1276: 4.5, 1277: 4.333333333333333, 1278: 4.157894736842105, 1280: 4.5, 1281: 4.25, 1282: 3.6875, 1283: 4.833333333333333, 1284: 4.0, 1285: 3.5625, 1286: 3.5, 1287: 3.6666666666666665, 1288: 4.181818181818182, 1289: 3.6666666666666665, 1290: 4.5, 1291: 4.0, 1292: 3.1666666666666665, 1293: 3.5, 1295: 4.333333333333333, 1296: 3.875, 1297: 3.75, 1298: 4.333333333333333, 1299: 4.0, 1300: 4.666666666666667, 1301: 4.0, 1302: 3.25, 1303: 4.333333333333333, 1304: 3.875, 1305: 3.0, 1306: 3.0, 1307: 4.0625, 1320: 2.857142857142857, 1321: 4.0, 1322: 1.25, 1323: 2.0, 1326: 0.5, 1327: 2.375, 1328: 0.5, 1332: 4.0, 1333: 3.625, 1334: 3.5, 1335: 1.0, 1336: 1.0, 1339: 4.5, 1341: 4.5, 1342: 1.8333333333333333, 1343: 3.75, 1344: 3.875, 1345: 3.2777777777777777, 1346: 3.5, 1347: 3.2857142857142856, 1348: 4.0, 1350: 3.75, 1352: 2.5, 1353: 3.0, 1354: 4.0, 1355: 2.0, 1356: 3.9, 1357: 4.0, 1358: 4.416666666666667, 1359: 2.9, 1361: 3.5, 1363: 3.0, 1365: 4.0, 1366: 3.8333333333333335, 1367: 3.625, 1370: 3.6363636363636362, 1371: 2.7142857142857144, 1372: 4.0625, 1373: 2.4, 1374: 4.0, 1375: 3.625, 1376: 2.7222222222222223, 1377: 2.772727272727273, 1378: 3.6666666666666665, 1379: 3.25, 1380: 3.125, 1381: 2.5, 1382: 1.0, 1385: 2.875, 1387: 3.7941176470588234, 1388: 2.8, 1390: 1.0, 1391: 2.6666666666666665, 1393: 3.772727272727273, 1394: 4.035714285714286, 1395: 2.0, 1396: 3.5, 1399: 3.75, 1405: 3.3333333333333335, 1407: 3.142857142857143, 1408: 3.888888888888889, 1409: 1.5, 1411: 4.0, 1412: 3.5, 1413: 4.5, 1414: 2.0, 1416: 3.0, 1422: 2.0, 1423: 4.0, 1426: 1.0, 1427: 1.0, 1428: 3.0, 1429: 3.0, 1430: 3.0, 1431: 1.9166666666666667, 1432: 4.0, 1437: 5.0, 1438: 2.9375, 1440: 2.0, 1441: 3.8333333333333335, 1442: 4.0, 1445: 3.0, 1446: 5.0, 1449: 4.0, 1454: 4.0, 1457: 2.6666666666666665, 1459: 2.5, 1461: 1.0, 1464: 3.8333333333333335, 1465: 4.0, 1466: 4.153846153846154, 1468: 2.0, 1474: 2.125, 1475: 4.0, 1476: 3.6666666666666665, 1479: 3.0, 1480: 3.75, 1483: 3.6666666666666665, 1484: 4.0, 1485: 2.6818181818181817, 1488: 1.75, 1489: 3.0, 1496: 4.0, 1497: 4.0, 1499: 1.6875, 1500: 3.3636363636363638, 1502: 2.0, 1503: 2.25, 1513: 2.388888888888889, 1514: 3.0, 1515: 2.2142857142857144, 1517: 3.673076923076923, 1518: 3.125, 1527: 3.5476190476190474, 1533: 5.0, 1537: 4.25, 1541: 3.0, 1542: 3.5, 1544: 3.272727272727273, 1545: 5.0, 1550: 1.0, 1551: 2.0, 1552: 3.375, 1554: 1.0, 1556: 1.6666666666666667, 1562: 2.2, 1564: 3.0, 1565: 4.0, 1566: 3.2857142857142856, 1569: 3.7, 1573: 3.3529411764705883, 1580: 3.5185185185185186, 1581: 3.0, 1584: 3.590909090909091, 1586: 3.0, 1587: 3.0, 1588: 2.25, 1589: 3.6, 1590: 2.5, 1591: 2.6, 1592: 1.75, 1593: 4.0, 1594: 4.5, 1596: 5.0, 1597: 2.3125, 1599: 3.0, 1603: 2.75, 1604: 3.0, 1605: 2.5, 1608: 3.2777777777777777, 1610: 4.388888888888889, 1611: 4.166666666666667, 1612: 3.0, 1614: 2.6875, 1615: 3.0, 1616: 2.4, 1617: 4.138888888888889, 1619: 4.25, 1620: 3.0, 1625: 3.8666666666666667, 1626: 2.0, 1627: 5.0, 1629: 4.0, 1633: 4.0, 1635: 4.666666666666667, 1639: 3.2916666666666665, 1641: 3.7857142857142856, 1644: 2.1, 1645: 3.4285714285714284, 1646: 1.5, 1647: 3.0, 1648: 4.0, 1650: 4.0, 1653: 4.041666666666667, 1654: 3.5, 1655: 4.0, 1658: 3.1666666666666665, 1663: 3.9583333333333335, 1665: 4.0, 1667: 2.0, 1672: 3.5, 1673: 3.75, 1674: 3.55, 1675: 3.5, 1676: 3.0714285714285716, 1678: 3.25, 1680: 3.6, 1681: 3.0, 1682: 3.8793103448275863, 1684: 4.0, 1685: 3.0, 1686: 3.0, 1687: 3.3, 1688: 3.0, 1689: 1.0, 1690: 3.6666666666666665, 1693: 4.0, 1694: 3.0, 1696: 2.0, 1701: 2.0, 1702: 3.25, 1703: 2.0, 1704: 4.0, 1707: 2.75, 1711: 2.75, 1713: 2.5, 1717: 2.857142857142857, 1718: 2.0, 1719: 4.5, 1721: 3.45, 1722: 2.6666666666666665, 1726: 2.875, 1727: 5.0, 1729: 3.75, 1731: 1.0, 1732: 3.8076923076923075, 1735: 2.25, 1747: 3.1, 1748: 4.055555555555555, 1753: 3.875, 1754: 3.25, 1755: 3.5, 1757: 2.0, 1759: 5.0, 1760: 0.5, 1762: 2.0, 1769: 3.0, 1770: 2.0, 1771: 4.0, 1772: 4.0, 1777: 3.611111111111111, 1779: 2.5, 1784: 3.9047619047619047, 1785: 3.0, 1792: 3.625, 1797: 4.25, 1798: 1.0, 1801: 3.4285714285714284, 1804: 3.5, 1805: 2.75, 1806: 1.0, 1809: 5.0, 1810: 3.125, 1812: 3.0, 1821: 3.0, 1827: 3.25, 1831: 1.625, 1833: 3.375, 1834: 4.333333333333333, 1835: 2.9166666666666665, 1836: 4.0, 1837: 2.5, 1840: 3.625, 1841: 3.0, 1844: 3.0, 1845: 3.375, 1848: 3.5, 1855: 4.0, 1858: 2.3333333333333335, 1862: 1.5, 1866: 1.25, 1873: 3.5, 1876: 3.375, 1882: 2.2, 1883: 3.5, 1884: 4.125, 1885: 4.0, 1888: 2.0, 1889: 3.5, 1891: 2.0, 1892: 3.9, 1894: 2.25, 1895: 3.0, 1897: 3.0, 1904: 3.0, 1907: 3.55, 1909: 3.875, 1910: 2.0, 1911: 2.75, 1912: 4.0, 1914: 2.25, 1916: 3.0, 1917: 2.9130434782608696, 1918: 3.5, 1919: 1.0, 1920: 2.3333333333333335, 1921: 4.125, 1923: 3.4347826086956523, 1924: 2.75, 1927: 3.5, 1929: 4.0, 1933: 3.0, 1934: 4.0, 1939: 4.0, 1942: 5.0, 1944: 3.3333333333333335, 1945: 4.333333333333333, 1947: 3.5, 1948: 4.0, 1949: 4.0, 1950: 4.0, 1951: 4.0, 1952: 4.0, 1953: 4.0625, 1954: 4.125, 1955: 3.8333333333333335, 1956: 3.7, 1957: 4.333333333333333, 1958: 3.3, 1959: 3.5, 1960: 3.7, 1961: 3.973684210526316, 1962: 3.9285714285714284, 1963: 2.75, 1964: 5.0, 1965: 4.166666666666667, 1967: 4.0, 1968: 3.9285714285714284, 1969: 2.5, 1970: 3.5, 1971: 2.5, 1972: 3.0, 1974: 2.5, 1975: 2.0, 1976: 3.0, 1977: 1.5, 1978: 3.0, 1981: 1.0, 1982: 3.8, 1983: 3.0, 1990: 4.0, 1991: 2.5, 1994: 3.5833333333333335, 1995: 1.5, 1996: 2.1666666666666665, 1997: 4.214285714285714, 2000: 3.6041666666666665, 2001: 2.888888888888889, 2002: 2.875, 2003: 3.5, 2004: 3.0, 2005: 3.4545454545454546, 2006: 3.272727272727273, 2008: 3.0, 2009: 3.2142857142857144, 2010: 4.0, 2011: 3.6041666666666665, 2012: 3.3947368421052633, 2013: 2.3, 2014: 2.6666666666666665, 2015: 3.0, 2016: 3.0, 2017: 3.0, 2018: 3.5555555555555554, 2019: 4.1, 2020: 4.0, 2021: 3.2, 2022: 3.5, 2023: 3.3, 2025: 4.0, 2026: 2.0, 2027: 2.0, 2028: 4.151515151515151, 2033: 3.75, 2034: 3.0, 2035: 3.0, 2036: 0.5, 2040: 3.0, 2042: 2.75, 2044: 3.0, 2046: 3.3333333333333335, 2050: 3.5, 2051: 4.0, 2052: 2.642857142857143, 2053: 2.0, 2054: 2.8125, 2056: 3.0, 2058: 2.75, 2059: 3.375, 2060: 3.0, 2064: 3.7777777777777777, 2065: 4.0, 2067: 4.416666666666667, 2070: 3.25, 2072: 3.8333333333333335, 2073: 5.0, 2074: 4.0, 2076: 3.5833333333333335, 2077: 2.5, 2078: 3.5416666666666665, 2080: 3.3181818181818183, 2081: 2.892857142857143, 2082: 2.642857142857143, 2083: 3.6666666666666665, 2084: 4.5, 2085: 3.5, 2087: 3.4166666666666665, 2088: 2.5, 2089: 3.5, 2090: 2.5, 2091: 3.0, 2092: 2.25, 2094: 3.2, 2096: 4.0, 2097: 3.8333333333333335, 2098: 2.0, 2099: 4.0, 2100: 3.5555555555555554, 2102: 4.0, 2105: 3.5625, 2106: 3.0, 2108: 3.0, 2109: 3.0, 2110: 3.75, 2111: 3.5, 2112: 3.0, 2114: 3.5, 2115: 3.75, 2116: 3.5, 2117: 3.5, 2118: 4.333333333333333, 2119: 1.5, 2120: 2.0, 2121: 2.0, 2122: 2.125, 2123: 2.5, 2124: 3.2, 2125: 3.9, 2126: 2.3333333333333335, 2130: 4.0, 2131: 5.0, 2132: 4.0, 2133: 3.0, 2134: 3.8, 2135: 3.25, 2136: 2.6666666666666665, 2137: 3.0, 2139: 3.357142857142857, 2140: 3.8125, 2141: 4.0, 2143: 2.5, 2144: 3.090909090909091, 2145: 3.5, 2146: 4.0, 2147: 3.0, 2148: 4.0, 2150: 3.875, 2151: 5.0, 2155: 3.0, 2159: 2.5, 2160: 4.25, 2161: 3.5, 2163: 1.0, 2164: 1.0, 2166: 2.0, 2167: 3.5, 2169: 2.75, 2170: 3.0, 2171: 3.25, 2174: 3.71875, 2176: 4.0, 2181: 3.25, 2182: 3.5, 2183: 3.0, 2184: 3.75, 2185: 4.0, 2186: 3.75, 2193: 3.5, 2194: 4.0, 2195: 1.5, 2201: 3.0, 2202: 5.0, 2203: 5.0, 2204: 4.0, 2206: 4.0, 2208: 3.5, 2210: 3.0, 2211: 3.0, 2212: 3.0, 2231: 3.5625, 2232: 3.9375, 2239: 5.0, 2240: 3.0, 2243: 3.0, 2245: 2.875, 2247: 4.0, 2248: 4.166666666666667, 2249: 3.0, 2252: 3.0, 2253: 2.125, 2259: 4.0, 2261: 3.0, 2262: 3.0, 2264: 2.5, 2266: 2.0, 2268: 3.5, 2273: 3.5, 2278: 3.5, 2280: 3.0, 2282: 4.0, 2287: 4.0, 2288: 4.166666666666667, 2289: 3.857142857142857, 2291: 3.4615384615384617, 2294: 3.4, 2300: 4.25, 2301: 3.75, 2302: 3.730769230769231, 2303: 3.0, 2306: 2.5, 2311: 3.0, 2312: 4.25, 2313: 4.166666666666667, 2316: 2.0, 2318: 4.0, 2320: 3.0, 2321: 3.4545454545454546, 2322: 2.8333333333333335, 2324: 4.0, 2325: 4.0, 2329: 4.257142857142857, 2330: 4.0, 2333: 4.166666666666667, 2334: 2.4, 2335: 3.1, 2336: 3.625, 2337: 3.0, 2338: 2.0833333333333335, 2340: 3.0, 2342: 5.0, 2344: 3.0, 2346: 2.75, 2348: 4.0, 2349: 4.0, 2350: 4.0, 2352: 4.25, 2353: 3.0, 2355: 3.6538461538461537, 2357: 4.0, 2359: 3.9, 2360: 3.75, 2361: 3.0, 2363: 2.75, 2364: 1.0, 2366: 3.375, 2367: 2.6, 2369: 2.9, 2371: 2.5833333333333335, 2372: 2.8333333333333335, 2375: 3.2, 2376: 3.4, 2377: 4.0, 2378: 2.625, 2379: 2.6666666666666665, 2380: 5.0, 2383: 2.5, 2384: 2.625, 2387: 3.5, 2389: 2.0, 2390: 3.8333333333333335, 2391: 3.9166666666666665, 2392: 2.0, 2393: 2.9285714285714284, 2394: 3.0, 2395: 3.388888888888889, 2396: 3.466666666666667, 2398: 4.125, 2399: 2.0, 2402: 2.3333333333333335, 2403: 3.7857142857142856, 2404: 1.8, 2405: 3.0, 2406: 3.4, 2407: 3.1, 2408: 2.5, 2409: 3.5, 2410: 2.0, 2411: 3.0, 2412: 3.0, 2413: 4.0, 2416: 3.142857142857143, 2419: 4.0, 2420: 3.4, 2421: 3.125, 2422: 2.1666666666666665, 2423: 4.5, 2424: 2.4, 2427: 3.5833333333333335, 2428: 2.3333333333333335, 2429: 3.0, 2430: 3.0, 2431: 2.6875, 2432: 3.25, 2433: 3.0, 2443: 4.0, 2445: 2.75, 2447: 3.1666666666666665, 2450: 1.625, 2451: 3.0, 2453: 1.75, 2454: 3.0, 2455: 3.625, 2456: 3.0, 2457: 2.0, 2458: 3.0, 2459: 4.0, 2460: 2.0, 2463: 3.0625, 2467: 3.75, 2468: 3.0, 2469: 1.0, 2470: 3.3958333333333335, 2471: 2.3333333333333335, 2473: 2.5, 2474: 3.6666666666666665, 2476: 3.0, 2477: 3.0, 2478: 3.1, 2483: 3.5, 2485: 2.7, 2490: 3.15, 2491: 4.5, 2492: 2.5, 2495: 2.5, 2496: 3.3, 2497: 3.0, 2498: 2.5, 2500: 3.0, 2501: 3.7142857142857144, 2502: 4.5, 2504: 3.0, 2505: 3.0, 2506: 3.0, 2511: 4.0, 2514: 0.5, 2517: 2.5, 2520: 3.0, 2521: 3.5, 2524: 4.5, 2525: 2.0, 2527: 4.0, 2528: 3.6, 2529: 3.642857142857143, 2530: 2.0, 2532: 3.5, 2533: 2.75, 2535: 3.0, 2539: 3.3, 2540: 2.0, 2541: 3.409090909090909, 2542: 4.117647058823529, 2546: 2.5, 2549: 3.5, 2550: 3.5, 2551: 5.0, 2552: 2.0, 2553: 4.0, 2558: 3.0, 2560: 3.0, 2561: 3.0, 2565: 4.666666666666667, 2567: 4.0, 2568: 2.75, 2571: 4.103448275862069, 2572: 3.4583333333333335, 2574: 3.0, 2575: 3.0, 2579: 3.875, 2580: 4.2, 2581: 3.142857142857143, 2583: 4.5, 2585: 4.0, 2586: 3.0, 2587: 2.5, 2594: 4.5, 2596: 3.8333333333333335, 2597: 2.5, 2598: 2.3333333333333335, 2599: 3.55, 2600: 4.0, 2605: 3.1333333333333333, 2606: 2.6666666666666665, 2613: 1.0, 2615: 2.0, 2616: 3.6666666666666665, 2617: 3.25, 2618: 4.0, 2622: 3.8333333333333335, 2624: 4.25, 2628: 3.3125, 2633: 4.0, 2634: 3.0, 2639: 3.0, 2640: 3.7083333333333335, 2641: 3.1, 2642: 1.75, 2643: 2.0, 2644: 3.5, 2648: 2.0, 2652: 3.0, 2654: 3.5, 2657: 3.0, 2660: 3.0, 2662: 3.5, 2665: 1.0, 2668: 2.0, 2669: 3.0, 2670: 4.0, 2671: 4.0, 2672: 3.5, 2682: 4.0, 2683: 3.4, 2686: 3.1666666666666665, 2687: 2.8, 2688: 3.0, 2690: 3.0, 2691: 4.5, 2692: 4.105263157894737, 2693: 4.0, 2694: 3.4166666666666665, 2696: 4.5, 2698: 2.0, 2699: 2.75, 2700: 4.269230769230769, 2701: 1.625, 2702: 3.8333333333333335, 2706: 3.4642857142857144, 2707: 2.7, 2709: 2.5, 2710: 2.4444444444444446, 2712: 4.0, 2713: 0.5, 2716: 3.56, 2717: 3.090909090909091, 2719: 2.5, 2720: 1.5833333333333333, 2722: 2.5, 2723: 3.0714285714285716, 2724: 2.375, 2725: 2.0, 2726: 4.0, 2727: 3.0, 2728: 3.75, 2729: 3.75, 2730: 2.0, 2731: 4.0, 2732: 4.75, 2734: 4.0, 2735: 2.6666666666666665, 2740: 1.0, 2745: 4.0, 2746: 3.5714285714285716, 2747: 2.6666666666666665, 2748: 1.8333333333333333, 2749: 4.0, 2750: 3.3333333333333335, 2751: 4.0, 2752: 3.0, 2759: 4.0, 2761: 4.083333333333333, 2762: 3.8181818181818183, 2763: 3.75, 2764: 4.0, 2765: 3.5, 2770: 3.0714285714285716, 2772: 2.375, 2775: 1.0, 2779: 3.5, 2786: 1.0, 2787: 2.5, 2789: 3.0, 2791: 3.861111111111111, 2792: 3.7, 2793: 2.0, 2795: 3.8, 2796: 3.1666666666666665, 2797: 3.85, 2798: 2.0, 2801: 4.5, 2802: 2.6666666666666665, 2803: 3.0, 2804: 4.0, 2805: 2.875, 2806: 3.5, 2807: 5.0, 2808: 1.6666666666666667, 2810: 4.5, 2815: 2.0, 2819: 3.6666666666666665, 2822: 3.0, 2826: 3.5, 2827: 1.75, 2829: 2.8333333333333335, 2840: 2.5, 2841: 4.0, 2844: 1.0, 2847: 3.0, 2856: 3.0, 2857: 3.1666666666666665, 2858: 4.011363636363637, 2859: 4.75, 2861: 3.3333333333333335, 2863: 3.5, 2871: 4.0, 2872: 3.6666666666666665, 2874: 3.0, 2875: 3.0, 2877: 3.0, 2878: 2.0, 2880: 3.6666666666666665, 2881: 3.6666666666666665, 2882: 2.25, 2887: 1.0, 2888: 1.5, 2889: 3.0, 2890: 3.6, 2893: 3.0, 2894: 4.0, 2899: 3.0, 2901: 1.5, 2905: 4.5, 2906: 1.0, 2907: 3.0, 2908: 3.0714285714285716, 2912: 4.333333333333333, 2915: 4.0, 2916: 3.861111111111111, 2917: 3.6666666666666665, 2918: 4.0, 2921: 4.333333333333333, 2922: 3.0, 2924: 4.333333333333333, 2926: 4.0, 2927: 4.0, 2928: 3.0, 2935: 2.5, 2936: 3.5, 2937: 2.5, 2940: 4.0, 2941: 3.5, 2942: 3.5, 2943: 3.5, 2944: 4.15, 2946: 3.0, 2947: 4.0, 2948: 3.4285714285714284, 2949: 3.7857142857142856, 2950: 1.5, 2951: 3.75, 2952: 3.1666666666666665, 2953: 2.5, 2956: 3.0, 2959: 4.15, 2964: 1.0, 2965: 2.0, 2966: 3.625, 2967: 4.0, 2968: 3.5714285714285716, 2970: 3.0, 2971: 3.875, 2973: 3.75, 2975: 3.0, 2976: 4.0, 2978: 2.5, 2984: 4.5, 2985: 3.3157894736842106, 2986: 2.6, 2987: 3.2142857142857144, 2989: 4.0, 2990: 3.6, 2991: 4.0, 2993: 4.0, 2996: 2.5, 2997: 4.1, 3000: 3.8333333333333335, 3003: 4.5, 3004: 2.5, 3005: 2.0, 3006: 3.25, 3007: 3.0, 3011: 4.0, 3013: 4.0, 3016: 2.5, 3017: 2.0, 3018: 3.25, 3019: 4.0, 3020: 3.5, 3022: 3.5, 3024: 2.0, 3028: 2.0, 3030: 4.75, 3031: 3.0, 3032: 3.5, 3033: 3.6, 3034: 3.4375, 3035: 4.0, 3036: 3.625, 3037: 2.875, 3038: 4.166666666666667, 3039: 3.9, 3040: 3.0, 3041: 2.25, 3042: 3.0, 3044: 4.0, 3045: 4.0, 3052: 3.409090909090909, 3053: 4.0, 3054: 2.0, 3057: 4.0, 3060: 4.0, 3062: 4.0, 3063: 1.0, 3066: 4.0, 3067: 4.5, 3070: 3.625, 3071: 3.75, 3072: 2.8125, 3074: 3.0, 3075: 3.0, 3079: 3.25, 3081: 3.1923076923076925, 3082: 3.4375, 3083: 3.0, 3086: 5.0, 3087: 2.875, 3088: 3.125, 3089: 4.25, 3095: 4.0, 3097: 5.0, 3098: 4.0, 3099: 2.5, 3100: 3.6875, 3101: 3.1, 3102: 3.75, 3104: 3.5, 3105: 3.8125, 3107: 2.8, 3108: 3.5, 3111: 4.5, 3113: 3.5, 3114: 3.9523809523809526, 3117: 3.75, 3120: 4.0, 3125: 4.0, 3130: 4.0, 3134: 5.0, 3146: 2.0833333333333335, 3147: 3.9347826086956523, 3148: 3.875, 3150: 2.5, 3156: 3.0, 3157: 3.3333333333333335, 3158: 3.0, 3159: 4.0, 3160: 3.227272727272727, 3161: 4.0, 3163: 3.0, 3165: 2.0, 3168: 3.7857142857142856, 3169: 3.0, 3173: 3.0833333333333335, 3174: 3.4444444444444446, 3175: 4.0, 3176: 2.75, 3177: 3.0, 3178: 3.0, 3181: 5.0, 3182: 3.8333333333333335, 3186: 3.357142857142857, 3189: 3.5, 3196: 3.5, 3197: 3.5, 3198: 4.0, 3200: 4.0, 3201: 4.5, 3203: 2.6666666666666665, 3204: 3.6666666666666665, 3208: 2.5, 3210: 3.7857142857142856, 3211: 3.5, 3213: 3.8333333333333335, 3214: 5.0, 3217: 3.5, 3219: 4.0, 3223: 1.0, 3225: 2.0, 3230: 3.5, 3238: 1.0, 3243: 3.0, 3244: 3.5, 3246: 5.0, 3247: 3.3125, 3248: 1.25, 3249: 3.0, 3251: 3.75, 3252: 3.9, 3253: 3.772727272727273, 3254: 3.5, 3255: 3.357142857142857, 3256: 3.357142857142857, 3257: 2.9285714285714284, 3258: 3.0, 3259: 2.5, 3260: 4.5, 3261: 2.9, 3262: 3.375, 3263: 3.125, 3264: 2.3333333333333335, 3265: 2.0, 3267: 4.166666666666667, 3268: 1.0, 3269: 2.5, 3270: 2.8333333333333335, 3271: 3.6666666666666665, 3272: 3.0, 3273: 2.6, 3274: 4.5, 3275: 4.3, 3281: 2.0, 3285: 3.0, 3287: 2.0, 3289: 4.5, 3298: 4.0, 3299: 3.0, 3300: 3.1, 3301: 3.6666666666666665, 3307: 4.125, 3308: 2.5, 3310: 4.5, 3316: 2.0, 3317: 3.0, 3324: 1.5, 3325: 2.0, 3327: 3.75, 3328: 4.6, 3334: 4.25, 3341: 4.5, 3347: 5.0, 3350: 4.0, 3354: 2.875, 3355: 2.9, 3358: 5.0, 3359: 4.0, 3360: 3.8333333333333335, 3361: 4.2, 3362: 4.125, 3363: 3.5, 3365: 4.25, 3374: 4.0, 3385: 2.75, 3386: 3.5, 3387: 2.6666666666666665, 3388: 2.0, 3394: 3.0, 3395: 3.0, 3396: 4.142857142857143, 3398: 3.0, 3402: 4.0, 3404: 0.5, 3408: 3.65, 3409: 2.9375, 3412: 4.0, 3418: 3.642857142857143, 3421: 3.55, 3422: 3.0, 3423: 3.0, 3424: 4.375, 3425: 2.5, 3429: 4.5, 3430: 2.0, 3432: 2.0, 3435: 5.0, 3438: 2.125, 3439: 3.0, 3440: 1.75, 3441: 2.0, 3444: 3.5, 3446: 1.5, 3448: 3.7857142857142856, 3450: 4.0, 3451: 4.875, 3452: 2.9, 3455: 2.5, 3461: 3.0, 3462: 3.8, 3466: 2.5, 3467: 4.0, 3468: 4.666666666666667, 3469: 5.0, 3470: 4.5, 3471: 3.9545454545454546, 3475: 4.0, 3476: 3.8, 3477: 3.0, 3478: 2.5, 3479: 3.0, 3481: 3.933333333333333, 3483: 3.3333333333333335, 3484: 3.0, 3489: 3.3, 3494: 5.0, 3497: 2.5, 3498: 4.0, 3499: 4.0625, 3500: 4.0, 3503: 4.625, 3504: 3.0, 3505: 4.5, 3507: 4.1, 3508: 4.333333333333333, 3510: 3.8333333333333335, 3511: 1.5, 3512: 3.0, 3513: 3.0, 3515: 3.6666666666666665, 3519: 3.0, 3521: 2.25, 3524: 2.0, 3525: 3.0, 3526: 3.0, 3527: 3.2142857142857144, 3528: 4.0, 3529: 3.75, 3534: 2.5, 3535: 3.5, 3536: 3.5, 3537: 2.5, 3543: 3.875, 3545: 3.1666666666666665, 3548: 2.0, 3549: 4.0, 3550: 4.5, 3551: 3.0, 3552: 3.8666666666666667, 3553: 2.5, 3555: 3.5, 3556: 3.5, 3559: 4.0, 3564: 1.25, 3565: 4.0, 3566: 2.5, 3572: 2.3333333333333335, 3573: 1.0, 3578: 3.9523809523809526, 3580: 3.5, 3581: 3.0, 3587: 1.5, 3591: 3.0, 3593: 2.0, 3594: 4.0, 3597: 1.0, 3598: 3.0, 3606: 3.0, 3608: 2.375, 3614: 2.0, 3615: 3.3, 3616: 5.0, 3617: 3.55, 3618: 3.3333333333333335, 3623: 2.5, 3624: 3.0, 3627: 3.5, 3632: 4.0, 3633: 2.6666666666666665, 3634: 4.0, 3637: 5.0, 3638: 3.0, 3639: 3.75, 3646: 1.5833333333333333, 3649: 2.0, 3653: 3.0, 3654: 4.0, 3667: 1.0, 3668: 4.0, 3669: 2.5, 3671: 3.6666666666666665, 3675: 4.125, 3676: 5.0, 3677: 4.0, 3678: 5.0, 3679: 4.0, 3681: 4.142857142857143, 3682: 4.0, 3683: 3.5, 3684: 2.5, 3685: 3.0, 3686: 2.0, 3688: 1.75, 3693: 1.25, 3697: 2.125, 3698: 3.357142857142857, 3699: 3.5, 3701: 5.0, 3702: 3.5, 3703: 4.0, 3704: 3.5, 3705: 2.5, 3706: 2.0, 3707: 4.0, 3710: 1.0, 3712: 3.0, 3715: 2.75, 3716: 1.0, 3717: 3.5454545454545454, 3723: 3.5, 3724: 3.0, 3726: 3.0, 3727: 4.75, 3730: 4.0, 3732: 4.0, 3733: 3.75, 3735: 4.0, 3740: 3.857142857142857, 3742: 4.0, 3743: 1.0, 3744: 4.0, 3745: 3.0, 3746: 3.0, 3751: 3.676470588235294, 3752: 3.5, 3753: 3.5357142857142856, 3754: 1.6666666666666667, 3755: 3.0, 3758: 3.0, 3763: 3.2857142857142856, 3766: 2.0, 3769: 3.0, 3770: 2.0, 3774: 0.75, 3783: 3.6666666666666665, 3784: 1.0, 3785: 2.8, 3786: 2.5, 3788: 3.1666666666666665, 3789: 3.5, 3791: 4.0, 3793: 3.4473684210526314, 3794: 3.0, 3795: 5.0, 3798: 3.3, 3802: 2.0, 3809: 3.3333333333333335, 3810: 3.0, 3811: 3.0, 3812: 2.0, 3813: 3.75, 3814: 3.5, 3821: 2.25, 3822: 4.0, 3824: 2.25, 3825: 2.3, 3826: 2.5, 3827: 2.9166666666666665, 3831: 3.7, 3832: 4.0, 3834: 3.0, 3836: 4.375, 3839: 2.0, 3840: 1.0, 3841: 2.0, 3844: 3.5, 3846: 4.0, 3851: 5.0, 3852: 3.5, 3855: 5.0, 3858: 2.25, 3861: 2.8333333333333335, 3863: 3.0625, 3864: 1.75, 3868: 3.8125, 3869: 3.05, 3870: 3.0, 3871: 3.5, 3873: 4.0, 3877: 2.0, 3882: 2.7, 3884: 1.5, 3889: 1.5, 3893: 3.0, 3896: 2.625, 3897: 4.03125, 3906: 3.0, 3908: 1.0, 3909: 2.0, 3910: 4.2, 3911: 3.6666666666666665, 3916: 3.95, 3917: 2.6666666666666665, 3918: 1.0, 3919: 2.5, 3927: 2.0, 3929: 3.0, 3930: 3.0, 3932: 3.0, 3937: 4.0, 3942: 5.0, 3943: 1.25, 3948: 3.05, 3949: 3.764705882352941, 3952: 3.0, 3953: 2.0, 3959: 3.0, 3963: 3.5, 3966: 3.5, 3967: 4.1, 3968: 3.0, 3969: 3.4285714285714284, 3972: 3.9, 3973: 0.5, 3977: 2.764705882352941, 3978: 2.75, 3979: 2.857142857142857, 3980: 2.0, 3981: 3.0, 3984: 3.6666666666666665, 3985: 3.0, 3986: 3.375, 3988: 2.75, 3990: 2.25, 3991: 4.5, 3992: 3.5, 3993: 3.5, 3994: 3.9375, 3996: 4.0, 3997: 1.25, 3998: 3.0, 3999: 2.9166666666666665, 4000: 3.0, 4002: 4.0, 4003: 3.0, 4005: 3.5, 4006: 4.333333333333333, 4007: 3.3333333333333335, 4008: 3.3333333333333335, 4011: 4.078947368421052, 4014: 3.625, 4015: 2.5, 4016: 3.5714285714285716, 4017: 3.0, 4018: 3.25, 4019: 3.5, 4020: 3.3333333333333335, 4021: 4.0, 4022: 4.1, 4023: 3.1666666666666665, 4025: 2.9, 4027: 4.147058823529412, 4029: 3.5, 4030: 2.5, 4033: 4.0, 4034: 4.1, 4035: 3.0, 4036: 3.3333333333333335, 4037: 3.25, 4039: 3.1666666666666665, 4040: 1.5, 4041: 3.75, 4043: 3.0, 4046: 4.0, 4047: 3.75, 4052: 3.5, 4053: 2.0, 4054: 3.25, 4056: 3.5, 4067: 3.75, 4069: 3.0833333333333335, 4078: 4.0, 4081: 2.0, 4084: 2.75, 4085: 3.533333333333333, 4086: 3.5, 4090: 4.5, 4091: 3.5, 4093: 1.5, 4103: 5.0, 4104: 1.0, 4105: 3.7142857142857144, 4109: 2.3333333333333335, 4117: 5.0, 4121: 3.6666666666666665, 4124: 1.0, 4126: 4.0, 4128: 3.9, 4130: 2.0, 4131: 1.0, 4132: 2.3333333333333335, 4133: 3.0, 4138: 1.0, 4141: 2.25, 4142: 5.0, 4144: 4.166666666666667, 4148: 3.5, 4152: 4.5, 4153: 2.25, 4155: 3.0, 4158: 2.25, 4159: 2.5, 4160: 4.5, 4161: 3.3333333333333335, 4164: 3.0, 4167: 2.0, 4168: 2.3333333333333335, 4174: 3.0, 4175: 2.5, 4178: 3.75, 4180: 5.0, 4181: 2.0, 4187: 4.0, 4190: 4.0, 4191: 2.5, 4195: 3.5, 4200: 4.5, 4205: 3.5, 4207: 2.0, 4210: 5.0, 4211: 4.25, 4214: 2.0, 4215: 2.0, 4220: 3.0, 4223: 3.25, 4225: 3.75, 4226: 3.888888888888889, 4228: 2.75, 4232: 3.125, 4234: 3.0, 4235: 3.625, 4237: 4.0, 4238: 3.0, 4239: 4.0, 4241: 2.1666666666666665, 4242: 2.0, 4246: 3.6363636363636362, 4247: 2.75, 4248: 2.0, 4252: 3.0, 4254: 3.25, 4255: 4.0, 4259: 3.0, 4262: 3.8125, 4263: 4.0, 4265: 3.0, 4267: 3.5, 4270: 3.272727272727273, 4275: 3.0, 4276: 2.5, 4280: 4.0, 4282: 3.5, 4285: 2.5, 4289: 3.5, 4291: 3.0, 4299: 3.125, 4306: 3.6463414634146343, 4307: 4.5, 4308: 3.25, 4310: 3.3125, 4316: 1.5, 4321: 3.5, 4322: 3.625, 4323: 4.0, 4326: 3.8333333333333335, 4327: 4.0, 4329: 3.0, 4333: 3.0, 4339: 3.75, 4340: 2.0, 4342: 4.5, 4343: 2.8333333333333335, 4344: 3.0714285714285716, 4345: 4.5, 4347: 4.0, 4349: 5.0, 4350: 4.5, 4351: 2.75, 4355: 2.0, 4356: 4.0, 4359: 3.75, 4361: 3.0833333333333335, 4366: 3.3125, 4367: 3.5, 4368: 2.0, 4369: 3.0833333333333335, 4370: 3.4, 4372: 3.0, 4373: 3.75, 4374: 4.5, 4378: 2.75, 4383: 4.0, 4386: 2.25, 4387: 4.0, 4388: 2.6666666666666665, 4392: 3.25, 4394: 1.5, 4396: 2.3333333333333335, 4403: 3.0, 4419: 3.5, 4422: 4.0, 4424: 4.0, 4426: 5.0, 4427: 4.75, 4428: 3.25, 4429: 5.0, 4432: 3.5, 4437: 5.0, 4438: 5.0, 4441: 4.0, 4443: 3.0, 4446: 3.357142857142857, 4447: 3.3846153846153846, 4448: 3.5, 4454: 5.0, 4459: 4.0, 4463: 2.0, 4465: 4.0, 4467: 3.625, 4470: 2.0, 4475: 4.0, 4477: 2.25, 4483: 2.0, 4487: 3.0, 4488: 3.0, 4489: 3.5, 4495: 5.0, 4498: 2.0, 4499: 4.5, 4502: 3.5, 4504: 1.5, 4505: 3.0, 4508: 3.5, 4509: 1.5, 4511: 2.0, 4519: 4.0, 4520: 2.5, 4523: 4.0, 4527: 2.0, 4529: 4.0, 4531: 3.0, 4535: 4.0, 4541: 4.0, 4544: 3.0, 4545: 1.75, 4546: 4.25, 4553: 3.25, 4558: 2.75, 4564: 2.0, 4565: 3.0, 4571: 4.071428571428571, 4574: 3.5, 4578: 1.5, 4580: 0.5, 4583: 4.0, 4585: 4.0, 4587: 3.0, 4593: 2.0, 4602: 3.0, 4605: 2.0, 4616: 3.25, 4621: 3.125, 4623: 3.75, 4624: 3.0, 4626: 4.0, 4628: 2.0, 4634: 3.0, 4635: 1.0, 4636: 2.0, 4638: 2.9166666666666665, 4639: 3.125, 4640: 3.0, 4641: 3.875, 4642: 4.75, 4643: 2.5454545454545454, 4644: 3.0, 4645: 4.5, 4649: 3.5, 4654: 2.6666666666666665, 4658: 3.5, 4660: 4.0, 4661: 3.0, 4670: 2.5, 4676: 1.0, 4677: 3.0, 4678: 2.8333333333333335, 4679: 2.9, 4681: 3.6666666666666665, 4686: 1.25, 4700: 3.2777777777777777, 4701: 3.2222222222222223, 4705: 3.0, 4709: 3.0, 4711: 4.0, 4713: 3.75, 4714: 2.0, 4718: 2.6666666666666665, 4719: 1.75, 4720: 3.6363636363636362, 4721: 1.0, 4725: 2.5, 4728: 4.0, 4732: 2.0, 4733: 3.5, 4734: 2.6875, 4738: 4.5, 4740: 3.5, 4741: 3.875, 4745: 4.0, 4748: 2.75, 4749: 2.0, 4754: 4.0, 4756: 2.0, 4765: 4.0, 4771: 2.5, 4774: 1.0, 4776: 3.5, 4782: 3.0, 4784: 3.0, 4785: 4.0, 4792: 2.75, 4795: 4.0, 4796: 3.0, 4799: 2.5, 4800: 2.5, 4802: 1.0, 4803: 3.0, 4804: 3.5, 4808: 3.0, 4812: 1.6666666666666667, 4814: 2.0, 4815: 2.25, 4816: 4.071428571428571, 4823: 3.3333333333333335, 4827: 3.0, 4830: 4.0, 4833: 3.0, 4835: 4.0, 4840: 4.0, 4844: 1.8333333333333333, 4845: 0.5, 4846: 2.5, 4847: 3.5, 4848: 3.888888888888889, 4850: 3.0, 4855: 4.142857142857143, 4857: 4.5, 4864: 2.5, 4865: 3.7, 4866: 1.0, 4867: 2.5, 4873: 3.8333333333333335, 4874: 3.625, 4876: 2.1666666666666665, 4878: 3.847826086956522, 4879: 3.0, 4881: 3.8333333333333335, 4886: 3.903225806451613, 4887: 3.25, 4889: 3.1666666666666665, 4890: 3.25, 4896: 3.5, 4899: 4.0, 4900: 3.1666666666666665, 4901: 3.8, 4902: 3.75, 4903: 3.5, 4914: 4.0, 4916: 4.0, 4919: 3.5, 4920: 4.25, 4928: 4.0, 4932: 1.0, 4936: 3.25, 4939: 3.0, 4941: 3.5, 4942: 4.5, 4953: 2.5, 4954: 2.25, 4958: 3.6, 4961: 2.5, 4963: 3.9166666666666665, 4965: 4.0, 4967: 4.666666666666667, 4969: 3.0, 4971: 2.8333333333333335, 4973: 4.096153846153846, 4974: 2.25, 4975: 3.6363636363636362, 4976: 3.5, 4978: 3.5, 4979: 3.409090909090909, 4980: 3.5, 4981: 4.0, 4987: 1.0, 4989: 4.5, 4992: 1.6666666666666667, 4993: 4.155555555555556, 4994: 3.5, 4995: 3.9516129032258065, 5004: 3.5, 5007: 2.5, 5008: 4.166666666666667, 5009: 3.0, 5010: 4.233333333333333, 5011: 4.0, 5012: 4.0, 5013: 3.7777777777777777, 5014: 4.0, 5015: 3.25, 5016: 2.0, 5021: 3.0, 5025: 2.8333333333333335, 5026: 4.0, 5039: 4.0, 5040: 3.5, 5047: 2.5, 5048: 2.1666666666666665, 5049: 3.1666666666666665, 5053: 1.5, 5054: 3.5, 5055: 3.0, 5059: 5.0, 5060: 4.214285714285714, 5063: 3.0, 5064: 3.4444444444444446, 5065: 3.75, 5066: 3.25, 5071: 4.0, 5072: 4.25, 5073: 4.5, 5076: 3.0, 5077: 3.0, 5080: 2.3333333333333335, 5092: 4.0, 5093: 2.5, 5102: 3.0, 5103: 3.5, 5107: 3.25, 5108: 3.375, 5109: 4.0, 5110: 4.083333333333333, 5113: 3.0, 5116: 3.5, 5120: 4.0, 5128: 2.5, 5134: 3.5, 5135: 4.071428571428571, 5137: 3.5, 5146: 1.0, 5151: 2.5, 5152: 3.5, 5155: 4.5, 5165: 4.0, 5170: 3.0, 5171: 2.5, 5187: 4.0, 5202: 4.0, 5214: 3.0, 5218: 3.59375, 5219: 3.3125, 5220: 2.5, 5222: 4.0, 5224: 4.0, 5225: 4.2, 5237: 4.0, 5240: 4.0, 5246: 3.0, 5247: 2.25, 5250: 4.5, 5254: 3.25, 5255: 3.0, 5256: 3.0, 5264: 2.0, 5265: 4.5, 5266: 3.2, 5267: 3.0, 5272: 3.0, 5278: 1.0, 5279: 5.0, 5283: 3.6666666666666665, 5285: 4.0, 5291: 3.25, 5293: 3.0, 5294: 3.3333333333333335, 5296: 3.1666666666666665, 5298: 3.5, 5299: 3.2222222222222223, 5300: 4.0, 5303: 3.0, 5304: 4.0, 5308: 2.5, 5309: 2.0, 5313: 1.8333333333333333, 5316: 3.5, 5319: 3.5, 5323: 1.5, 5324: 3.5, 5329: 3.5, 5333: 3.0, 5337: 2.75, 5339: 4.0, 5345: 3.0, 5348: 4.0, 5349: 3.48, 5363: 3.0, 5373: 4.0, 5377: 3.25, 5378: 3.710526315789474, 5379: 4.5, 5380: 4.25, 5385: 4.5, 5388: 3.0, 5390: 3.0, 5400: 2.75, 5401: 1.5, 5404: 4.5, 5409: 3.5, 5410: 3.0, 5414: 2.0, 5417: 3.0, 5418: 3.6724137931034484, 5419: 2.0, 5420: 4.25, 5423: 4.0, 5427: 4.0, 5435: 3.0, 5437: 3.0, 5444: 3.5, 5445: 3.659090909090909, 5446: 4.0, 5449: 2.5, 5451: 1.5, 5452: 1.0, 5456: 2.0, 5458: 2.5, 5459: 2.7916666666666665, 5460: 3.5, 5461: 2.5, 5462: 2.0, 5463: 2.7, 5464: 3.35, 5466: 4.0, 5470: 4.5, 5475: 3.5, 5477: 4.75, 5478: 2.25, 5479: 4.0, 5480: 1.5, 5481: 3.076923076923077, 5483: 3.5, 5497: 4.0, 5499: 3.5, 5500: 4.0, 5501: 3.5, 5502: 3.1923076923076925, 5507: 2.3333333333333335, 5508: 3.6666666666666665, 5522: 3.0, 5524: 2.0, 5527: 3.5, 5528: 3.5, 5530: 1.5, 5540: 4.0, 5541: 2.5, 5544: 3.5, 5548: 3.75, 5553: 3.0, 5560: 1.0, 5563: 3.0, 5564: 3.5, 5573: 2.0, 5574: 3.875, 5577: 3.6666666666666665, 5582: 2.5, 5584: 3.5, 5585: 1.0, 5589: 2.0, 5597: 2.5, 5603: 4.0, 5608: 3.8333333333333335, 5610: 2.0, 5617: 3.9375, 5618: 3.9375, 5619: 4.0, 5620: 3.375, 5621: 1.0, 5625: 3.5, 5628: 2.5, 5630: 3.3333333333333335, 5632: 4.0, 5633: 3.5, 5636: 2.0, 5637: 5.0, 5643: 3.0, 5646: 5.0, 5650: 3.5, 5663: 3.5, 5664: 1.5, 5665: 2.5, 5669: 4.083333333333333, 5670: 3.0, 5672: 0.5, 5673: 2.5, 5678: 3.0, 5679: 3.4285714285714284, 5682: 2.5, 5684: 3.0, 5689: 2.0, 5690: 4.666666666666667, 5693: 4.0, 5700: 0.5, 5746: 5.0, 5747: 4.75, 5764: 4.5, 5767: 3.5, 5772: 4.5, 5779: 2.0, 5782: 4.125, 5784: 1.875, 5785: 3.2, 5787: 2.5, 5788: 4.0, 5791: 3.75, 5792: 3.75, 5796: 3.5, 5803: 3.0, 5804: 2.75, 5809: 3.25, 5810: 3.5714285714285716, 5816: 3.642857142857143, 5820: 4.0, 5829: 4.0, 5833: 5.0, 5836: 2.0, 5841: 2.0, 5843: 2.75, 5853: 3.5, 5872: 2.2857142857142856, 5873: 4.25, 5874: 2.0, 5876: 3.5, 5878: 4.0, 5879: 1.75, 5880: 1.5, 5881: 2.7, 5882: 3.25, 5884: 1.0, 5899: 5.0, 5900: 1.5, 5902: 4.0, 5903: 3.5, 5909: 0.5, 5929: 3.0, 5932: 4.0, 5938: 4.5, 5942: 2.25, 5943: 2.0714285714285716, 5944: 3.6666666666666665, 5945: 3.1666666666666665, 5949: 5.0, 5952: 3.9342105263157894, 5954: 4.25, 5955: 3.75, 5956: 3.5454545454545454, 5957: 2.5, 5959: 3.6666666666666665, 5965: 4.5, 5970: 2.5, 5971: 3.5714285714285716, 5989: 3.7586206896551726, 5991: 3.8333333333333335, 5992: 3.5, 5994: 4.0, 5995: 4.038461538461538, 6003: 3.3333333333333335, 6006: 1.5, 6016: 3.9166666666666665, 6022: 1.0, 6031: 3.0, 6035: 4.0, 6044: 2.0, 6049: 4.0, 6051: 5.0, 6055: 1.0, 6058: 2.0, 6059: 3.0, 6063: 4.0, 6093: 3.25, 6107: 4.0, 6116: 3.5, 6124: 2.0, 6125: 3.5, 6155: 2.4166666666666665, 6156: 3.25, 6157: 3.1666666666666665, 6159: 5.0, 6166: 1.5, 6170: 3.5, 6183: 4.5, 6185: 2.5, 6187: 3.5, 6188: 3.2142857142857144, 6192: 5.0, 6193: 3.5, 6197: 3.5, 6212: 1.0, 6213: 3.0, 6214: 4.25, 6215: 3.0, 6216: 4.0, 6217: 1.5, 6218: 3.388888888888889, 6219: 3.0, 6220: 3.0, 6222: 3.0, 6234: 3.5, 6235: 5.0, 6238: 4.0, 6242: 3.3333333333333335, 6244: 4.0, 6249: 2.0, 6250: 2.5, 6252: 2.5, 6254: 5.0, 6264: 2.0, 6267: 2.0, 6269: 4.0, 6270: 5.0, 6281: 3.25, 6283: 3.9, 6286: 4.0, 6287: 3.1666666666666665, 6296: 3.5, 6297: 3.875, 6299: 3.0, 6300: 4.5, 6301: 4.25, 6303: 3.5, 6305: 4.0, 6315: 1.0, 6319: 1.0, 6320: 1.5, 6323: 3.875, 6327: 3.5, 6330: 3.5, 6331: 3.5, 6332: 2.0, 6333: 3.7142857142857144, 6336: 3.0, 6339: 4.5, 6341: 3.0, 6347: 1.0, 6349: 2.5, 6350: 3.75, 6365: 3.4318181818181817, 6367: 3.0, 6370: 4.5, 6373: 3.0625, 6375: 3.0, 6377: 3.8472222222222223, 6378: 3.375, 6380: 4.0, 6383: 2.2, 6385: 4.0, 6433: 3.0, 6434: 3.0, 6436: 4.5, 6440: 4.0, 6442: 5.0, 6464: 3.5, 6480: 3.0, 6484: 2.5, 6502: 3.95, 6503: 2.0, 6517: 1.5, 6530: 4.0, 6534: 3.3333333333333335, 6535: 2.25, 6536: 3.75, 6537: 3.0833333333333335, 6538: 3.5, 6539: 3.911764705882353, 6541: 2.0, 6548: 3.357142857142857, 6550: 2.25, 6552: 2.6666666666666665, 6553: 4.0, 6557: 0.5, 6559: 2.5, 6564: 3.375, 6565: 3.5, 6572: 3.0, 6573: 4.0, 6574: 1.0, 6577: 3.0, 6586: 3.0, 6593: 3.25, 6595: 3.5, 6597: 3.0, 6615: 2.25, 6616: 4.0, 6617: 4.0, 6618: 4.166666666666667, 6619: 2.0, 6620: 3.6, 6625: 2.5, 6629: 4.0, 6636: 3.5, 6638: 2.0, 6639: 4.0, 6643: 3.5, 6645: 4.25, 6658: 3.5, 6659: 3.375, 6662: 3.25, 6663: 3.75, 6664: 3.75, 6669: 4.0, 6686: 1.0, 6687: 2.5, 6688: 3.5, 6706: 3.5, 6707: 4.0, 6708: 4.083333333333333, 6709: 3.6666666666666665, 6710: 3.0, 6711: 3.909090909090909, 6713: 4.0, 6718: 2.5, 6721: 4.5, 6724: 4.0, 6731: 3.5, 6732: 2.5, 6750: 3.5, 6752: 3.5, 6753: 3.125, 6754: 3.7, 6755: 3.0, 6764: 2.3333333333333335, 6765: 3.5, 6773: 3.6666666666666665, 6775: 4.0, 6777: 4.5, 6780: 3.5, 6783: 3.5, 6785: 4.5, 6786: 3.75, 6787: 4.0, 6789: 4.0, 6791: 4.5, 6793: 0.75, 6794: 3.0, 6796: 4.0, 6798: 3.0, 6800: 2.5, 6807: 4.166666666666667, 6808: 3.0, 6810: 1.0, 6811: 2.25, 6812: 2.5, 6832: 3.75, 6852: 4.0, 6857: 4.75, 6858: 3.75, 6860: 2.0, 6862: 3.5, 6863: 3.0416666666666665, 6867: 3.75, 6868: 2.75, 6870: 3.2777777777777777, 6872: 2.0, 6873: 3.2, 6874: 4.0, 6879: 3.1666666666666665, 6880: 2.5, 6884: 3.5, 6886: 3.5, 6887: 4.25, 6888: 2.0, 6890: 3.5, 6893: 4.5, 6898: 2.5, 6899: 3.5, 6912: 3.5, 6920: 4.5, 6927: 4.0, 6932: 3.0, 6934: 2.769230769230769, 6936: 4.0625, 6942: 3.9583333333333335, 6944: 3.25, 6946: 4.0, 6947: 3.7, 6952: 2.8333333333333335, 6953: 3.357142857142857, 6957: 3.0, 6958: 2.375, 6959: 2.5, 6970: 3.5, 6974: 2.75, 6975: 3.5, 6979: 3.6, 6983: 5.0, 6984: 4.0, 6985: 4.5, 6986: 3.0, 6990: 3.5, 6992: 2.0, 6993: 2.75, 6997: 3.0, 7001: 3.5, 7004: 3.0, 7007: 1.5, 7008: 4.0, 7009: 3.5, 7010: 3.5, 7013: 4.5, 7015: 3.25, 7016: 3.0, 7022: 3.9166666666666665, 7024: 4.0, 7025: 5.0, 7026: 3.0, 7028: 4.0, 7034: 3.0, 7040: 2.5, 7046: 0.5, 7048: 2.0, 7049: 3.0, 7052: 3.0, 7053: 4.0, 7054: 3.5, 7055: 4.0, 7057: 3.5, 7058: 3.5, 7059: 4.0, 7061: 4.0, 7062: 4.0, 7063: 4.5, 7064: 3.0, 7069: 4.0, 7072: 4.0, 7074: 3.5, 7075: 3.5, 7076: 4.166666666666667, 7078: 3.8333333333333335, 7079: 4.5, 7082: 4.0, 7084: 4.5, 7089: 4.0, 7090: 3.7, 7099: 4.25, 7101: 3.25, 7102: 3.0, 7104: 2.5, 7108: 3.5, 7115: 2.25, 7116: 5.0, 7121: 5.0, 7123: 3.5, 7132: 4.25, 7137: 3.5, 7139: 3.5, 7143: 3.55, 7147: 3.9642857142857144, 7149: 3.6666666666666665, 7150: 4.0, 7151: 3.0, 7153: 4.102564102564102, 7154: 0.5, 7155: 3.5, 7156: 5.0, 7158: 3.0, 7160: 3.375, 7162: 2.0, 7163: 3.3, 7164: 3.5, 7169: 4.0, 7173: 3.25, 7177: 3.5, 7181: 3.5, 7190: 3.5, 7192: 3.0, 7215: 4.5, 7216: 3.5, 7218: 4.5, 7228: 3.0, 7236: 4.0, 7247: 4.0, 7254: 3.5, 7255: 2.25, 7256: 4.0, 7257: 2.5, 7258: 3.5, 7261: 3.5, 7263: 3.5, 7265: 3.75, 7285: 4.166666666666667, 7292: 2.5, 7293: 3.6875, 7294: 3.5, 7297: 3.5, 7302: 3.5, 7303: 4.5, 7306: 3.0, 7307: 3.5, 7310: 4.0, 7312: 0.5, 7315: 2.0, 7317: 3.5, 7318: 0.5, 7319: 2.1666666666666665, 7323: 4.0, 7324: 3.375, 7325: 3.5, 7327: 4.333333333333333, 7333: 4.5, 7340: 2.0, 7344: 3.5, 7346: 2.6666666666666665, 7347: 2.75, 7352: 4.0, 7354: 3.25, 7360: 4.25, 7361: 4.3, 7362: 3.5, 7364: 4.0, 7366: 3.0, 7367: 3.125, 7369: 1.5, 7371: 3.625, 7373: 2.6666666666666665, 7375: 3.0, 7376: 4.0, 7381: 5.0, 7387: 4.3, 7395: 1.5, 7396: 4.0, 7419: 4.0, 7438: 3.75, 7439: 3.3333333333333335, 7444: 3.1666666666666665, 7445: 3.6666666666666665, 7448: 2.8333333333333335, 7449: 2.5, 7450: 4.5, 7451: 3.7083333333333335, 7454: 2.0, 7458: 3.7083333333333335, 7459: 4.5, 7460: 3.0, 7481: 3.5, 7482: 3.75, 7492: 4.0, 7541: 3.0, 7560: 4.0, 7564: 0.5, 7566: 4.0, 7569: 3.6, 7570: 4.0, 7573: 2.75, 7581: 3.5, 7619: 3.6666666666666665, 7620: 4.0, 7624: 3.5, 7636: 0.5, 7647: 4.0, 7649: 2.8333333333333335, 7698: 3.5, 7701: 0.5, 7705: 4.0, 7727: 3.0, 7728: 3.0, 7745: 4.0, 7757: 3.75, 7762: 3.5, 7773: 4.0, 7782: 1.5, 7786: 3.5, 7811: 4.0, 7815: 5.0, 7839: 3.5, 7840: 2.5, 7841: 4.5, 7842: 4.5, 7844: 4.0, 7845: 2.0, 7879: 3.5, 7884: 3.25, 7894: 4.5, 7916: 3.5, 7930: 3.5, 7934: 3.8333333333333335, 7936: 4.0, 7937: 4.0, 7940: 4.5, 7976: 4.5, 7979: 3.5, 7980: 3.5, 7981: 4.5, 7982: 3.5, 7983: 4.0, 7988: 2.0, 7991: 4.0, 8011: 4.0, 8012: 3.0, 8014: 4.0, 8042: 4.25, 8044: 3.0, 8045: 2.0, 8119: 3.0, 8121: 1.0, 8126: 3.5, 8132: 4.5, 8137: 0.5, 8138: 0.5, 8153: 2.5, 8154: 4.0, 8157: 3.0, 8167: 4.0, 8169: 3.3333333333333335, 8183: 2.5, 8196: 3.5, 8207: 4.5, 8228: 4.0, 8253: 3.75, 8254: 4.0, 8261: 4.5, 8266: 1.5, 8293: 3.5, 8331: 4.0, 8337: 4.0, 8338: 4.0, 8340: 3.75, 8341: 4.5, 8360: 3.5454545454545454, 8361: 3.1875, 8362: 3.0, 8363: 3.0, 8366: 3.6666666666666665, 8368: 4.025, 8369: 2.0, 8370: 4.0, 8371: 3.357142857142857, 8373: 2.25, 8375: 2.5, 8376: 3.227272727272727, 8410: 3.5, 8424: 4.0, 8426: 4.0, 8447: 1.0, 8451: 3.5, 8459: 3.5, 8464: 3.875, 8482: 0.5, 8487: 4.0, 8492: 3.5, 8493: 3.5, 8501: 3.0, 8507: 3.5, 8528: 3.5833333333333335, 8529: 3.1666666666666665, 8533: 3.5625, 8535: 4.0, 8578: 3.0, 8587: 3.5, 8588: 4.0, 8596: 3.0, 8601: 4.0, 8605: 2.0, 8610: 1.5, 8614: 3.0, 8622: 3.111111111111111, 8623: 3.5, 8632: 0.5, 8633: 4.0, 8636: 3.789473684210526, 8638: 3.8, 8640: 3.25, 8641: 3.875, 8643: 5.0, 8644: 3.7666666666666666, 8665: 3.84375, 8666: 1.0, 8670: 4.0, 8684: 3.5, 8718: 3.5, 8743: 3.0, 8753: 3.5, 8754: 4.0, 8755: 3.0, 8778: 3.5, 8781: 2.5, 8782: 3.0, 8783: 3.0, 8784: 3.1875, 8798: 4.125, 8799: 3.0, 8800: 4.5, 8804: 5.0, 8807: 3.1666666666666665, 8808: 1.5, 8809: 2.5, 8810: 2.0, 8814: 2.25, 8815: 3.5, 8827: 4.0, 8830: 1.75, 8836: 3.5, 8861: 2.3333333333333335, 8865: 2.875, 8866: 2.0, 8869: 2.5, 8870: 2.0, 8873: 3.25, 8874: 4.2727272727272725, 8905: 2.5, 8906: 2.0, 8907: 2.0, 8910: 3.5555555555555554, 8914: 3.5, 8917: 3.7777777777777777, 8920: 3.5, 8933: 4.0, 8937: 4.0, 8943: 1.0, 8946: 3.0, 8947: 2.375, 8948: 2.0, 8949: 4.2, 8950: 4.0, 8951: 3.0, 8957: 2.125, 8958: 3.6666666666666665, 8959: 3.5, 8961: 3.7333333333333334, 8965: 2.0, 8966: 3.5, 8967: 2.0, 8968: 4.25, 8969: 3.1666666666666665, 8970: 3.9285714285714284, 8972: 3.5, 8973: 4.5, 8977: 2.25, 8979: 4.0, 8981: 4.0, 8982: 3.0, 8983: 3.625, 8984: 3.3125, 8985: 2.1666666666666665, 8989: 3.5, 9010: 3.75, 25752: 4.0, 25825: 4.0, 25827: 3.5, 25850: 2.5, 25906: 5.0, 25923: 3.5, 25947: 5.0, 25996: 3.5, 26038: 4.0, 26082: 5.0, 26084: 4.25, 26095: 0.5, 26116: 4.5, 26131: 3.0, 26133: 3.5, 26151: 3.5, 26159: 3.5, 26169: 5.0, 26172: 3.0, 26195: 3.0, 26198: 3.0, 26326: 5.0, 26344: 3.0, 26409: 1.0, 26471: 3.5, 26523: 3.5, 26547: 3.5, 26554: 4.5, 26562: 3.0, 26585: 4.0, 26593: 2.0, 26599: 4.0, 26606: 4.0, 26614: 4.0, 26645: 4.0, 26649: 4.0, 26662: 4.25, 26681: 3.0, 26686: 2.5, 26693: 4.0, 26700: 2.0, 26701: 3.0, 26704: 4.0, 26712: 4.0, 26726: 2.5, 26729: 3.5, 26745: 2.5, 26750: 3.0, 26764: 2.0, 26776: 3.5, 26778: 2.5, 26810: 5.0, 26812: 3.0, 26849: 5.0, 26854: 2.5, 26865: 3.0, 26903: 3.8333333333333335, 26913: 1.5, 26928: 5.0, 26940: 2.5, 26965: 3.0, 26974: 2.5, 27003: 3.0, 27020: 3.5, 27032: 3.0, 27036: 3.0, 27074: 1.5, 27155: 2.0, 27156: 4.5, 27176: 4.5, 27186: 4.0, 27193: 3.75, 27251: 1.0, 27255: 3.5, 27266: 4.0, 27306: 1.5, 27317: 3.5, 27320: 5.0, 27328: 4.5, 27368: 4.5, 27373: 5.0, 27397: 4.0, 27408: 3.5, 27434: 2.0, 27478: 3.5, 27539: 2.5, 27555: 4.5, 27563: 4.25, 27592: 4.0, 27604: 3.5, 27611: 4.5, 27627: 4.5, 27644: 3.5, 27660: 3.8333333333333335, 27706: 3.1666666666666665, 27722: 4.0, 27744: 4.5, 27772: 2.5, 27773: 4.3, 27790: 3.0, 27801: 3.5, 27803: 3.5, 27808: 3.1666666666666665, 27815: 3.0, 27821: 3.3333333333333335, 27822: 2.75, 27831: 3.6666666666666665, 27834: 4.5, 27846: 4.25, 27865: 2.0, 27869: 4.5, 27873: 3.5, 27882: 4.0, 27904: 4.0, 27912: 1.0, 30707: 3.5714285714285716, 30749: 3.888888888888889, 30793: 3.111111111111111, 30803: 5.0, 30810: 3.1875, 30812: 2.875, 30816: 3.0, 30822: 3.0, 30825: 3.2857142857142856, 30848: 3.5, 30883: 1.5, 30890: 3.0, 30894: 3.0, 31083: 2.0, 31114: 2.5, 31193: 3.5, 31221: 2.25, 31225: 3.0, 31410: 3.0, 31420: 2.5, 31422: 0.5, 31427: 2.5, 31433: 3.1666666666666665, 31445: 2.0, 31553: 1.0, 31658: 4.214285714285714, 31660: 3.0, 31685: 3.0625, 31692: 0.5, 31694: 3.0, 31696: 2.875, 31851: 3.0, 31878: 4.166666666666667, 32011: 2.0, 32017: 2.0, 32019: 2.5, 32029: 2.75, 32031: 2.75, 32116: 2.5, 32234: 4.0, 32243: 3.5, 32291: 2.5, 32296: 2.5, 32298: 2.5, 32440: 2.0, 32460: 4.0, 32582: 5.0, 32587: 3.5833333333333335, 32596: 4.0, 32598: 3.0, 32659: 2.5, 32875: 3.0, 32898: 4.5, 32917: 4.0, 33004: 3.388888888888889, 33085: 2.5, 33145: 3.75, 33162: 3.4, 33166: 3.8333333333333335, 33310: 4.5, 33312: 3.5, 33437: 4.166666666666667, 33493: 3.4375, 33495: 3.0, 33499: 2.25, 33615: 3.4, 33646: 3.25, 33660: 4.0625, 33669: 3.0, 33672: 3.0, 33679: 3.25, 33779: 4.0, 33781: 2.5, 33794: 3.9444444444444446, 33834: 5.0, 33836: 1.5, 33893: 4.5, 33896: 3.75, 33903: 4.0, 34048: 2.9375, 34072: 3.8333333333333335, 34150: 3.1, 34162: 3.8333333333333335, 34271: 3.8333333333333335, 34319: 2.75, 34321: 3.0, 34323: 3.5, 34334: 3.0, 34336: 2.5, 34338: 4.0, 34397: 3.0, 34405: 4.333333333333333, 34437: 3.75, 34450: 4.5, 34520: 1.8333333333333333, 34523: 2.0, 34528: 4.0, 34530: 2.0, 34532: 3.5, 34540: 3.0, 35836: 3.5555555555555554, 35957: 3.2, 36276: 3.5, 36397: 1.5, 36401: 3.0, 36509: 2.5, 36517: 2.5, 36519: 4.0, 36525: 3.0, 36527: 3.8, 36529: 2.875, 36535: 2.0, 36708: 4.0, 36850: 3.0, 36931: 3.5, 37380: 2.3333333333333335, 37382: 3.0, 37384: 3.5, 37386: 2.8333333333333335, 37475: 3.0, 37720: 3.0, 37727: 2.5, 37729: 3.5, 37731: 3.75, 37733: 3.25, 37736: 3.5, 37739: 3.0, 37741: 4.1, 37830: 3.6666666666666665, 37857: 3.3333333333333335, 38038: 4.5, 38061: 4.0625, 38304: 5.0, 38388: 4.25, 38886: 2.5, 38992: 3.5, 39183: 3.6666666666666665, 39231: 3.0, 39234: 3.25, 39292: 3.8333333333333335, 39381: 4.0, 39400: 3.0, 39414: 3.25, 39427: 2.25, 39444: 4.0, 39446: 3.0, 39449: 3.0, 39715: 1.0, 39801: 3.5, 40148: 2.0, 40278: 3.8333333333333335, 40339: 1.5, 40412: 5.0, 40414: 3.5, 40478: 2.5, 40581: 2.0, 40583: 3.7, 40614: 4.0, 40617: 3.0, 40629: 3.8, 40732: 4.5, 40815: 3.5, 40819: 4.0, 40826: 2.5, 40851: 4.0, 40955: 4.0, 40959: 3.0, 40962: 3.0, 41285: 3.5, 41527: 4.0, 41566: 3.6875, 41569: 2.875, 41571: 3.5, 41573: 3.5, 41617: 2.5, 41712: 4.0, 41716: 3.125, 41863: 4.0, 41997: 3.6, 42002: 4.5, 42004: 2.5, 42011: 2.5, 42013: 2.6666666666666665, 42015: 3.0, 42018: 0.5, 42191: 4.5, 42602: 3.5, 42718: 3.5, 42723: 2.5, 42725: 3.0, 42730: 3.75, 42734: 2.75, 42738: 3.6666666666666665, 43396: 3.5, 43419: 1.0, 43460: 3.0, 43556: 3.0, 43560: 3.0, 43679: 3.5, 43836: 1.5, 43904: 1.0, 43908: 3.0, 43917: 3.0, 43921: 2.75, 43928: 2.1666666666666665, 43930: 3.0, 43936: 2.75, 44020: 3.0, 44022: 3.75, 44191: 3.875, 44193: 3.0, 44195: 4.0625, 44197: 3.0, 44199: 3.892857142857143, 44225: 3.0, 44397: 3.0, 44511: 3.5, 44555: 4.25, 44665: 3.9545454545454546, 44694: 3.5, 44709: 4.5, 44759: 3.0, 44761: 3.6666666666666665, 44788: 3.1666666666666665, 44828: 4.0, 44840: 3.0, 44972: 1.5, 44974: 4.0, 45028: 3.0, 45175: 4.0, 45183: 3.0, 45186: 3.4, 45208: 1.5, 45210: 4.25, 45221: 2.25, 45431: 4.25, 45440: 4.5, 45442: 2.0, 45447: 2.55, 45499: 3.5454545454545454, 45501: 3.5, 45517: 3.5833333333333335, 45635: 3.0, 45666: 2.1666666666666665, 45668: 3.1666666666666665, 45672: 2.0, 45720: 3.5, 45722: 3.4285714285714284, 45726: 3.0, 45728: 4.0, 45732: 1.0, 45880: 2.75, 45928: 4.0, 45950: 3.75, 46105: 4.5, 46322: 2.8333333333333335, 46530: 3.5, 46578: 3.7941176470588234, 46723: 3.1, 46850: 4.0, 46862: 3.5, 46948: 3.6666666666666665, 46965: 2.75, 46967: 3.5, 46970: 2.25, 46972: 3.0, 46974: 3.0, 46976: 4.083333333333333, 47044: 2.0, 47099: 3.6875, 47122: 2.0, 47200: 2.5, 47518: 3.1666666666666665, 47610: 4.0, 47629: 4.5, 47640: 3.0, 47644: 4.0, 47646: 4.0, 47721: 3.5, 47793: 2.5, 47810: 1.0, 47950: 3.0, 47997: 2.75, 47999: 4.0, 48043: 3.8333333333333335, 48082: 3.5, 48142: 3.1666666666666665, 48304: 3.4, 48322: 3.125, 48342: 5.0, 48385: 3.4615384615384617, 48394: 3.6785714285714284, 48516: 4.184210526315789, 48518: 2.0, 48520: 4.0, 48593: 3.0, 48696: 3.0, 48738: 3.8333333333333335, 48774: 3.8823529411764706, 48780: 4.03125, 48783: 3.0, 48877: 3.5, 48883: 3.5, 48982: 4.25, 49013: 3.5, 49130: 3.0, 49272: 3.9318181818181817, 49274: 1.625, 49276: 0.5, 49278: 3.75, 49280: 3.5, 49286: 3.8333333333333335, 49389: 1.0, 49396: 3.0, 49524: 3.5, 49530: 3.7222222222222223, 49649: 2.0, 49651: 3.3333333333333335, 49822: 4.0, 49824: 4.0, 49932: 4.0, 49961: 3.6666666666666665, 50005: 2.5, 50068: 3.375, 50158: 2.5, 50189: 1.0, 50274: 4.0, 50442: 4.0, 50445: 2.5, 50658: 4.0, 50685: 3.75, 50794: 2.0, 50798: 0.5, 50800: 2.0, 50802: 3.0, 50872: 3.875, 51037: 3.5, 51077: 2.5, 51080: 2.0, 51084: 2.8, 51086: 3.5, 51088: 4.0, 51255: 4.428571428571429, 51412: 1.5, 51471: 3.0, 51498: 3.5, 51540: 3.1666666666666665, 51575: 2.25, 51662: 3.590909090909091, 51666: 2.0, 51709: 3.6666666666666665, 51925: 3.5, 51931: 5.0, 51933: 2.5, 51935: 3.25, 51939: 4.0, 52241: 3.5, 52245: 1.75, 52281: 3.75, 52287: 4.0, 52319: 4.5, 52328: 4.0, 52435: 5.0, 52462: 3.0, 52604: 4.333333333333333, 52644: 3.5, 52694: 2.25, 52722: 2.642857142857143, 52831: 3.5, 52885: 4.5, 52952: 3.6666666666666665, 52967: 4.5, 52973: 3.5, 52975: 3.8333333333333335, 53000: 3.5714285714285716, 53121: 3.5, 53123: 4.0, 53125: 2.4, 53127: 0.5, 53129: 3.5, 53318: 3.0, 53322: 3.375, 53464: 2.0, 53466: 2.5, 53468: 3.0, 53519: 2.0, 53550: 3.25, 53894: 3.5833333333333335, 53953: 2.642857142857143, 53956: 3.5, 53972: 3.25, 53993: 2.0, 53996: 2.625, 54001: 3.769230769230769, 54004: 4.0, 54116: 3.0, 54190: 3.8333333333333335, 54256: 3.3333333333333335, 54259: 3.625, 54272: 3.5625, 54274: 0.5, 54286: 3.857142857142857, 54372: 4.0, 54503: 3.6363636363636362, 54648: 1.0, 54736: 4.0, 54745: 3.5, 54780: 3.0, 54881: 4.0, 54908: 2.0, 54910: 4.0, 54995: 3.25, 54997: 4.166666666666667, 54999: 3.3333333333333335, 55036: 2.5, 55052: 3.5, 55067: 3.5, 55094: 3.25, 55116: 2.5, 55118: 3.6666666666666665, 55167: 5.0, 55241: 3.0, 55247: 3.9375, 55250: 3.5, 55253: 4.0, 55261: 2.375, 55267: 3.5, 55269: 3.2857142857142856, 55272: 3.5, 55274: 3.0, 55276: 3.7, 55278: 4.5, 55280: 3.5, 55290: 2.875, 55363: 3.6666666666666665, 55442: 5.0, 55451: 3.5, 55553: 3.0, 55555: 3.5, 55577: 3.25, 55721: 4.75, 55729: 3.0, 55765: 3.75, 55768: 2.5, 55820: 3.8, 55830: 3.5, 55946: 5.0, 56022: 2.0, 56145: 3.5, 56152: 3.5, 56156: 3.125, 56169: 4.0, 56171: 3.4166666666666665, 56174: 3.65, 56176: 1.25, 56251: 4.0, 56274: 3.0, 56339: 3.5, 56367: 3.625, 56389: 4.0, 56587: 4.0, 56715: 4.0, 56757: 3.7857142857142856, 56775: 4.0, 56782: 4.045454545454546, 56788: 1.0, 56801: 2.5, 56805: 2.5, 56921: 5.0, 56941: 2.25, 56949: 3.5, 57274: 4.5, 57368: 3.25, 57504: 3.6666666666666665, 57528: 2.75, 57536: 3.5, 57640: 4.125, 57669: 4.444444444444445, 57772: 4.0, 57951: 2.0, 58025: 2.25, 58047: 4.25, 58105: 2.0, 58107: 4.0, 58156: 2.8333333333333335, 58162: 2.0, 58287: 1.0, 58293: 3.125, 58295: 3.5, 58299: 3.0, 58303: 1.5, 58315: 2.5, 58332: 3.0, 58347: 4.0, 58376: 3.0, 58554: 3.5, 58559: 4.241379310344827, 58655: 2.0, 58803: 3.5, 58806: 2.5, 58870: 4.0, 58964: 4.0, 58972: 3.5, 58998: 4.0, 59014: 2.0, 59022: 3.5, 59131: 3.5, 59141: 4.5, 59143: 4.25, 59258: 2.5, 59315: 3.90625, 59333: 2.5, 59369: 3.625, 59387: 3.8, 59421: 3.5, 59501: 3.5, 59549: 4.0, 59615: 3.25, 59725: 1.75, 59727: 2.0, 59784: 3.55, 59814: 5.0, 59900: 3.0, 60030: 4.5, 60040: 3.4375, 60046: 3.5, 60069: 4.261904761904762, 60072: 3.4, 60074: 3.5, 60126: 3.5, 60128: 1.0, 60141: 2.5, 60161: 3.0, 60289: 2.0, 60397: 2.5, 60514: 1.5, 60516: 2.5, 60684: 4.0, 60737: 5.0, 60756: 3.3125, 60766: 0.5, 60937: 2.75, 60943: 4.5, 60950: 3.0, 61024: 3.9, 61132: 3.9285714285714284, 61160: 2.6666666666666665, 61236: 3.25, 61240: 3.5, 61248: 3.25, 61250: 2.3333333333333335, 61289: 2.5, 61323: 3.3125, 61348: 1.0, 61465: 3.0, 61705: 2.5, 61986: 3.0, 62113: 3.1666666666666665, 62155: 3.75, 62250: 2.0, 62299: 3.5, 62336: 5.0, 62374: 2.5, 62434: 3.6, 62439: 4.5, 62511: 3.5, 62586: 2.0, 62644: 3.25, 62792: 2.5, 62799: 3.0, 62849: 4.0, 62956: 3.75, 62970: 1.5, 62999: 3.75, 63072: 3.9, 63082: 3.9615384615384617, 63113: 3.2857142857142856, 63131: 3.625, 63433: 2.0, 63436: 4.5, 63479: 4.0, 63808: 2.5, 63859: 2.75, 63876: 3.8333333333333335, 63992: 3.3, 64010: 3.5, 64030: 3.25, 64032: 3.5, 64116: 3.5, 64231: 3.75, 64249: 2.0, 64285: 3.0, 64497: 2.75, 64575: 3.5, 64614: 3.95, 64620: 4.0, 64622: 4.0, 64716: 4.5, 64839: 4.375, 64957: 3.125, 64969: 3.625, 64983: 3.5, 64993: 2.5, 64997: 2.5, 65188: 5.0, 65216: 4.0, 65261: 5.0, 65350: 0.5, 65585: 3.5, 65596: 4.0, 65642: 4.5, 65802: 2.5, 65982: 4.0, 66090: 4.0, 66097: 3.9285714285714284, 66297: 3.5, 66371: 2.5, 66509: 3.5, 66783: 3.0, 66798: 2.75, 66934: 4.0, 67087: 3.6666666666666665, 67197: 3.0, 67255: 3.6666666666666665, 67267: 3.5, 67295: 2.0, 67408: 3.5, 67734: 3.5, 67788: 3.75, 67923: 3.0, 67997: 4.0, 68073: 3.5, 68135: 3.0, 68157: 4.472222222222222, 68159: 4.0, 68205: 2.0, 68237: 3.3, 68319: 3.1, 68358: 3.7916666666666665, 68554: 4.166666666666667, 68659: 2.6666666666666665, 68791: 2.7, 68793: 2.0, 68945: 3.5, 68954: 4.204545454545454, 68959: 2.0, 69069: 5.0, 69122: 3.3461538461538463, 69275: 4.0, 69278: 3.1666666666666665, 69306: 3.1666666666666665, 69406: 3.5, 69436: 3.3333333333333335, 69453: 1.0, 69481: 3.1666666666666665, 69526: 2.875, 69640: 3.6666666666666665, 69644: 2.5, 69654: 3.5, 69757: 3.888888888888889, 69784: 4.5, 69844: 3.9, 70015: 1.5, 70159: 2.5, 70183: 3.0, 70208: 4.0, 70286: 3.8333333333333335, 70293: 3.75, 70334: 3.5, 70336: 3.0, 70521: 3.0, 70565: 2.5, 70637: 4.0, 70641: 3.5, 70728: 4.0, 70862: 4.5, 71057: 3.5, 71106: 3.0, 71156: 3.1666666666666665, 71248: 3.0, 71252: 3.0, 71264: 4.25, 71282: 4.5, 71304: 4.5, 71379: 2.0, 71464: 3.375, 71466: 4.0, 71500: 2.5, 71518: 3.5, 71520: 1.0, 71530: 2.5, 71535: 3.909090909090909, 71550: 1.0, 71579: 4.0, 71668: 3.5, 71732: 3.5, 71745: 0.5, 71823: 4.5, 71838: 2.8333333333333335, 71899: 4.5, 72011: 4.2, 72178: 4.5, 72224: 1.0, 72226: 4.5, 72378: 1.25, 72489: 4.0, 72591: 3.5, 72605: 3.75, 72641: 4.0, 72733: 4.0, 72737: 4.0, 72998: 3.727272727272727, 73015: 3.0, 73017: 3.5555555555555554, 73023: 4.0, 73042: 5.0, 73266: 4.5, 73268: 3.5, 73290: 2.0, 73321: 2.5, 73323: 4.5, 73344: 4.0, 73499: 3.5, 73501: 3.5, 73569: 5.0, 73681: 3.0, 73822: 5.0, 73858: 1.5, 74075: 1.0, 74228: 4.5, 74275: 2.5, 74282: 5.0, 74324: 4.5, 74450: 2.5, 74458: 3.8333333333333335, 74530: 0.5, 74532: 3.75, 74545: 3.6, 74553: 4.5, 74624: 4.0, 74668: 3.75, 74677: 4.0, 74683: 4.0, 74685: 2.5, 74727: 4.5, 74789: 3.125, 74791: 3.75, 74795: 3.5, 74868: 3.0, 74916: 2.0, 74946: 1.0, 74948: 4.0, 75805: 3.0, 75813: 3.0, 75816: 2.0, 76077: 3.75, 76093: 4.045454545454546, 76173: 3.0, 76175: 2.125, 76251: 3.5625, 76293: 2.5, 77191: 2.5, 77206: 3.5, 77421: 2.5, 77455: 3.25, 77561: 3.5, 77688: 4.5, 77798: 2.0, 77800: 4.0, 77846: 5.0, 77866: 4.5, 78041: 1.5, 78088: 4.0, 78103: 2.5, 78105: 3.5, 78349: 3.5, 78467: 1.5, 78469: 3.125, 78499: 4.266666666666667, 78574: 4.5, 78620: 4.5, 78626: 3.5, 78637: 3.5, 78772: 2.5, 78836: 5.0, 78893: 3.5, 79008: 4.0, 79057: 3.5, 79091: 4.071428571428571, 79132: 4.22, 79134: 2.5, 79139: 3.3333333333333335, 79185: 4.5, 79224: 2.25, 79274: 5.0, 79293: 3.5, 79299: 3.0, 79428: 3.25, 79553: 2.0, 79592: 3.625, 79695: 2.9285714285714284, 79702: 3.642857142857143, 79879: 1.75, 79897: 5.0, 80166: 3.0, 80219: 3.25, 80363: 4.0, 80454: 2.5, 80463: 3.6785714285714284, 80489: 4.0, 80549: 3.6666666666666665, 80551: 3.5, 80572: 4.0, 80586: 3.5, 80590: 2.0, 80693: 4.0, 80839: 2.5, 80846: 3.0, 80860: 3.5, 80862: 4.5, 80906: 4.625, 80969: 4.0, 81156: 3.6666666666666665, 81158: 3.0, 81191: 4.0, 81229: 4.0, 81417: 3.5, 81537: 2.8333333333333335, 81562: 3.5, 81564: 3.2, 81591: 3.7777777777777777, 81782: 3.25, 81784: 2.25, 81788: 4.0, 81791: 3.0, 81834: 4.0, 81845: 4.333333333333333, 81847: 4.0, 81932: 3.642857142857143, 82041: 4.0, 82053: 5.0, 82202: 4.0, 82242: 3.5, 82459: 3.5, 82461: 3.1666666666666665, 82499: 2.6666666666666665, 82667: 3.0, 82684: 0.5, 82852: 1.5, 82854: 1.5, 83086: 2.5, 83132: 4.0, 83134: 3.25, 83177: 1.0, 83349: 3.0, 83613: 3.0, 83796: 2.5, 83803: 4.0, 84152: 4.0, 84187: 4.0, 84273: 5.0, 84374: 3.5, 84392: 3.0, 84414: 5.0, 84601: 4.0, 84615: 2.5, 84637: 3.0, 84696: 4.0, 84716: 4.0, 84772: 2.8333333333333335, 84944: 4.25, 84954: 2.5, 85020: 4.5, 85022: 4.0, 85025: 2.0, 85261: 3.5, 85334: 0.5, 85342: 4.0, 85367: 2.5, 85401: 3.0, 85414: 3.3333333333333335, 85510: 3.75, 85736: 4.75, 85780: 3.75, 85796: 2.5, 86190: 3.5, 86279: 3.5, 86286: 2.0, 86290: 5.0, 86293: 2.0, 86295: 3.0, 86320: 3.0, 86332: 4.0, 86345: 4.5, 86548: 3.5, 86628: 4.0, 86644: 3.75, 86781: 4.5, 86817: 4.0, 86833: 3.5, 86880: 4.166666666666667, 86882: 3.5833333333333335, 86892: 4.75, 86911: 3.375, 87192: 4.0, 87194: 3.5, 87197: 3.0, 87222: 4.0, 87232: 3.6666666666666665, 87234: 3.75, 87298: 3.5, 87306: 3.875, 87430: 2.5, 87444: 1.5, 87483: 2.0, 87485: 2.75, 87529: 3.1, 87869: 3.0, 87876: 3.0, 88069: 4.0, 88125: 4.375, 88129: 3.6, 88140: 3.1666666666666665, 88163: 3.9375, 88179: 3.5, 88327: 3.0, 88356: 2.0, 88405: 2.8, 88515: 3.0, 88593: 2.5, 88672: 3.5, 88699: 3.0, 88744: 3.375, 88785: 0.5, 88810: 4.0, 88812: 2.5, 88954: 3.25, 89028: 3.0, 89087: 2.5, 89090: 4.5, 89118: 3.5, 89305: 4.0, 89343: 3.0, 89388: 1.5, 89470: 3.6666666666666665, 89492: 4.0, 89580: 4.0, 89586: 3.5, 89745: 3.6818181818181817, 89753: 3.5, 89759: 5.0, 89774: 4.0, 89804: 3.25, 89840: 3.0, 89864: 3.8333333333333335, 89904: 3.1666666666666665, 89939: 4.5, 90249: 2.8333333333333335, 90345: 3.5, 90405: 3.25, 90430: 4.166666666666667, 90439: 3.25, 90469: 3.5, 90522: 3.5, 90600: 3.5, 90647: 4.166666666666667, 90746: 3.5, 90863: 4.0, 90866: 2.5, 90890: 2.0, 91077: 3.75, 91094: 1.25, 91104: 2.0, 91128: 4.5, 91355: 5.0, 91386: 5.0, 91483: 1.5, 91500: 3.8, 91529: 4.25, 91535: 3.0, 91542: 3.85, 91622: 4.0, 91630: 3.75, 91653: 3.5, 91658: 3.25, 91666: 4.0, 91690: 4.5, 91974: 4.5, 91978: 3.5, 92243: 4.5, 92259: 3.875, 92264: 3.0, 92348: 4.0, 92391: 3.5, 92420: 4.5, 92439: 4.0, 92494: 5.0, 92535: 3.75, 92681: 0.5, 92694: 4.5, 92730: 2.0, 92954: 3.5, 93022: 5.0, 93193: 3.0, 93270: 3.5, 93287: 4.0, 93326: 3.5, 93363: 4.0, 93510: 3.8333333333333335, 93610: 3.0, 93721: 4.0, 93723: 1.5, 93766: 1.5, 93790: 4.0, 93805: 4.0, 93831: 3.0, 93838: 3.5, 93840: 5.0, 94018: 1.0, 94266: 3.0, 94323: 3.0, 94478: 4.0, 94503: 4.0, 94677: 2.875, 94777: 2.625, 94780: 2.5, 94799: 3.5, 94864: 3.25, 94959: 4.071428571428571, 94985: 4.0, 95088: 4.0, 95105: 2.0, 95147: 3.25, 95165: 4.0, 95167: 2.625, 95307: 3.0, 95377: 4.5, 95441: 3.4166666666666665, 95449: 2.0, 95475: 4.0, 95497: 4.0, 95508: 3.5, 95510: 4.0, 95543: 3.0, 95558: 2.8333333333333335, 95583: 2.5, 95624: 3.0, 95720: 3.6666666666666665, 95738: 3.0, 95858: 4.0, 95873: 3.75, 95875: 3.25, 96007: 2.0, 96020: 3.0, 96079: 3.2857142857142856, 96110: 3.0, 96281: 3.0, 96448: 3.5, 96488: 4.0, 96530: 2.5, 96563: 4.0, 96588: 3.3125, 96606: 3.75, 96608: 5.0, 96610: 3.35, 96691: 3.5, 96728: 3.0, 96737: 4.333333333333333, 96821: 1.5, 96829: 4.25, 96861: 4.0, 96964: 1.5, 96975: 3.5, 97168: 4.5, 97172: 2.0, 97188: 4.0, 97225: 5.0, 97304: 4.0, 97306: 3.25, 97643: 3.0, 97742: 1.5, 97752: 4.25, 97836: 1.5, 97858: 2.0, 97860: 2.5, 97866: 4.5, 97904: 4.0, 97913: 3.6875, 97921: 3.1875, 97923: 2.0, 97936: 3.0, 97938: 3.5, 97988: 2.5, 98124: 4.0, 98203: 3.0, 98296: 1.5, 98491: 5.0, 98809: 3.75, 98961: 3.25, 99007: 3.0, 99112: 4.25, 99114: 3.7666666666666666, 99117: 3.5, 99191: 4.0, 99721: 1.5, 99813: 3.5, 100163: 3.0, 100326: 2.5, 100383: 3.5, 100390: 2.5, 100507: 3.5, 100737: 3.5, 100810: 3.0, 100843: 3.5, 100882: 5.0, 101070: 2.5, 101088: 3.5, 101112: 2.75, 101283: 3.0, 101525: 4.0, 101577: 5.0, 101739: 3.5, 101864: 3.75, 101962: 4.0, 102033: 3.5, 102058: 3.0, 102123: 3.25, 102125: 3.5625, 102165: 2.0, 102217: 5.0, 102407: 3.125, 102445: 3.727272727272727, 102481: 4.0, 102590: 3.0, 102602: 4.0, 102686: 3.1666666666666665, 102742: 4.0, 102802: 2.5, 102903: 3.3, 102984: 4.5, 103042: 3.1666666666666665, 103085: 3.0, 103141: 4.0, 103219: 3.5, 103228: 3.4, 103235: 4.5, 103249: 2.375, 103253: 3.3, 103335: 3.375, 103339: 2.5, 103341: 3.3, 103449: 1.0, 103539: 4.0, 103543: 5.0, 103602: 5.0, 103606: 4.0, 103688: 4.333333333333333, 103772: 2.875, 103810: 3.5, 103883: 3.5, 103980: 4.5, 103984: 2.0, 104069: 4.5, 104074: 0.5, 104076: 3.5, 104078: 4.0, 104129: 2.0, 104211: 4.0, 104218: 3.5, 104241: 2.75, 104243: 3.3333333333333335, 104272: 2.0, 104283: 3.5, 104374: 4.25, 104419: 2.5, 104457: 3.0, 104841: 2.9166666666666665, 104879: 4.0, 104913: 3.75, 105213: 2.5, 105246: 3.5, 105504: 4.3, 105593: 5.0, 105731: 3.0, 105746: 4.5, 105844: 3.25, 105954: 3.5, 106002: 3.75, 106072: 3.6666666666666665, 106100: 4.0, 106487: 3.6, 106489: 3.3333333333333335, 106491: 1.75, 106642: 4.5, 106696: 4.0, 106766: 4.0, 106782: 3.5, 106873: 3.0, 106883: 1.5, 106916: 3.2, 106918: 3.75, 106920: 4.1, 106927: 3.0, 107069: 3.5, 107141: 4.0, 107348: 3.5, 107406: 3.6666666666666665, 107408: 4.5, 107447: 4.0, 107702: 3.5, 107723: 3.0, 107846: 3.5, 108078: 5.0, 108190: 3.0, 108540: 4.5, 108932: 3.9285714285714284, 108949: 4.0, 109187: 3.5, 109241: 5.0, 109317: 2.5, 109374: 3.9, 109483: 2.0, 109487: 4.0625, 109576: 2.5, 109578: 4.0, 109633: 5.0, 109853: 2.0, 109864: 1.75, 109895: 1.75, 110102: 3.5, 110130: 5.0, 110281: 4.0, 110501: 5.0, 110553: 2.5, 110591: 4.5, 110655: 1.5, 110730: 4.0, 110746: 4.0, 110771: 2.0, 111113: 3.5, 111360: 3.0, 111362: 3.875, 111364: 2.75, 111617: 2.0, 111659: 2.9166666666666665, 111663: 3.5, 111680: 1.5, 111743: 3.0, 111759: 3.9444444444444446, 111781: 2.75, 111921: 3.8333333333333335, 112138: 4.0, 112171: 3.3333333333333335, 112175: 4.0, 112183: 3.8125, 112290: 4.0, 112326: 1.0, 112421: 4.5, 112497: 2.0, 112515: 4.5, 112552: 3.8, 112556: 3.388888888888889, 112623: 3.0, 112788: 3.5, 112818: 5.0, 112852: 3.772727272727273, 112897: 4.0, 112911: 0.5, 113186: 3.0, 113207: 3.5, 113252: 4.5, 113348: 2.5, 113378: 2.0, 113453: 3.5, 113532: 3.5, 113573: 3.0, 113780: 3.0, 113829: 5.0, 113862: 4.0, 114060: 2.0, 114180: 3.5, 114246: 3.0, 114335: 3.0, 114601: 3.5, 114627: 3.25, 114662: 4.5, 114713: 3.0, 114762: 3.5, 114795: 4.0, 114935: 3.375, 115122: 5.0, 115149: 4.5, 115203: 3.0, 115210: 3.1666666666666665, 115216: 3.0, 115569: 4.125, 115617: 4.25, 115713: 4.083333333333333, 116044: 1.5, 116797: 3.6666666666666665, 116799: 3.25, 116823: 4.0, 116887: 2.75, 116897: 4.5, 116985: 1.5, 117176: 4.0, 117192: 4.0, 117364: 4.0, 117368: 3.5, 117444: 3.0, 117511: 3.0, 117529: 3.6666666666666665, 117531: 5.0, 117590: 3.1666666666666665, 117867: 4.0, 117881: 4.0, 118572: 3.0, 118696: 3.0, 118702: 3.0, 118814: 2.0, 118834: 5.0, 118880: 3.5, 118888: 4.0, 118900: 3.5, 118924: 3.0, 118985: 3.5, 118997: 3.25, 119141: 3.5, 119145: 4.5, 119155: 3.3333333333333335, 120130: 5.0, 120466: 3.375, 120635: 2.0, 120799: 4.0, 120919: 3.0, 121231: 3.5, 121372: 4.5, 121374: 4.5, 122092: 5.0, 122260: 2.5, 122433: 1.0, 122882: 3.3333333333333335, 122884: 2.0, 122886: 3.55, 122892: 3.875, 122896: 3.25, 122898: 4.0, 122900: 4.5, 122904: 3.75, 122906: 3.5, 122912: 4.5, 122916: 4.166666666666667, 122918: 4.083333333333333, 122920: 3.875, 122922: 3.8, 122924: 3.1666666666666665, 122926: 4.75, 124273: 4.5, 125916: 0.5, 125974: 3.5, 126088: 5.0, 126142: 4.0, 126548: 3.0, 127052: 5.0, 127096: 4.5, 127108: 2.0, 127172: 3.5, 127180: 4.0, 127194: 2.0, 127198: 3.5, 127202: 3.5, 127298: 3.5, 128099: 4.5, 128360: 4.166666666666667, 128488: 3.0, 128520: 3.5, 128620: 3.75, 128695: 2.5, 128838: 3.5, 128852: 4.5, 128914: 5.0, 128944: 3.5, 128968: 5.0, 128975: 3.5, 129250: 0.5, 129354: 3.5, 129428: 3.5, 129737: 2.0, 130052: 3.5, 130073: 4.0, 130444: 4.0, 130450: 2.25, 130490: 3.0, 130576: 2.5, 130634: 0.5, 131013: 3.0, 131098: 5.0, 131656: 2.5, 131920: 4.5, 132046: 4.5, 132157: 3.0, 132333: 5.0, 132362: 3.5, 132462: 1.0, 132496: 4.5, 132660: 3.5, 132796: 1.0, 133115: 4.0, 133377: 1.5, 133645: 4.0, 133712: 3.0, 133771: 4.5, 133802: 4.5, 133867: 4.5, 134004: 5.0, 134130: 4.35, 134252: 4.5, 134368: 4.166666666666667, 134393: 4.0, 134849: 4.0, 134853: 4.208333333333333, 134881: 4.0, 135133: 4.0, 135436: 3.1666666666666665, 135536: 1.25, 135569: 3.75, 135777: 4.5, 135861: 2.1666666666666665, 135887: 4.5, 136016: 3.5, 136020: 3.5833333333333335, 136297: 0.5, 136305: 1.0, 136341: 5.0, 136469: 5.0, 136471: 3.5, 136598: 4.0, 136654: 1.5, 136864: 1.7, 136958: 2.0, 137857: 3.0, 137859: 4.0, 138036: 3.4166666666666665, 138208: 3.5, 138210: 3.3333333333333335, 138546: 1.5, 138835: 5.0, 138966: 5.0, 139052: 2.0, 139385: 3.5714285714285716, 139642: 3.5, 139644: 3.75, 140110: 4.333333333333333, 140174: 3.5, 140359: 3.0, 140561: 4.0, 140711: 3.5, 140715: 4.166666666666667, 140725: 3.0, 140928: 3.5, 141004: 4.5, 141422: 2.5, 141544: 2.5, 141718: 5.0, 141749: 3.5, 141799: 3.5, 141810: 4.0, 141818: 4.5, 141866: 3.0, 141890: 3.0, 142115: 4.5, 142222: 4.0, 142372: 3.5, 142424: 2.0, 142448: 3.1666666666666665, 142488: 4.375, 142509: 4.5, 142961: 2.5, 142997: 3.5, 143245: 1.5, 143355: 4.333333333333333, 143367: 4.5, 143385: 3.5, 143458: 4.0, 143859: 3.0, 144478: 4.5, 144522: 2.0, 144976: 4.5, 145150: 3.0, 146028: 4.0, 146244: 4.0, 146656: 4.0, 146730: 2.0, 146986: 4.0, 147142: 3.0, 147300: 5.0, 147328: 5.0, 147330: 5.0, 147378: 1.0, 147382: 4.0, 147384: 4.5, 148424: 4.5, 148482: 3.0, 148626: 3.5, 148675: 2.0, 148888: 2.5, 148956: 4.5, 149144: 4.0, 149352: 3.5, 149354: 3.0, 149406: 3.0, 149902: 2.0, 150401: 3.0, 150548: 3.625, 150596: 4.5, 151687: 0.5, 151739: 2.0, 151759: 2.5, 151781: 3.5, 152037: 1.0, 152077: 3.75, 152079: 0.5, 152081: 3.5, 152085: 2.5, 152284: 3.5, 152591: 4.0, 152711: 5.0, 153386: 3.0, 155168: 4.0, 155288: 3.5, 155812: 4.0, 156605: 4.5, 156706: 2.5, 156781: 4.0, 157122: 3.0, 157296: 3.25, 157312: 3.0, 157340: 2.5, 157432: 1.0, 158238: 3.75, 158254: 1.5, 158388: 2.5, 158813: 1.0, 158830: 2.5, 158966: 4.5, 159061: 3.0, 159093: 4.0, 159779: 4.0, 159817: 3.0, 159849: 2.5, 159976: 4.5, 160080: 3.0, 160271: 3.5, 160438: 2.6666666666666665, 160563: 3.0, 160571: 3.0, 160646: 2.5, 160730: 2.0, 160980: 3.5, 161131: 4.0, 161354: 3.0, 161580: 3.5, 161582: 3.75, 161634: 3.0, 161922: 3.25, 162344: 5.0, 162350: 3.5, 162414: 5.0, 162478: 4.5, 162578: 5.0, 162590: 1.0, 162606: 2.0, 162828: 2.5, 163056: 4.0, 163072: 5.0, 163639: 4.0, 163645: 4.2, 163809: 2.5, 163981: 3.5, 164179: 3.8333333333333335, 164200: 4.5, 164226: 4.5, 164655: 2.0, 164909: 3.3333333333333335, 164917: 4.5, 165101: 3.5, 165483: 4.0, 165549: 4.0, 165551: 4.5, 165635: 1.0, 165639: 4.0, 165671: 4.5, 165843: 4.0, 166183: 5.0, 166526: 1.0, 166528: 4.1, 166635: 3.5, 166643: 4.5, 166946: 4.0, 167018: 2.75, 167634: 4.5, 167706: 2.5, 167746: 4.0, 168174: 3.0, 168250: 3.5, 168252: 4.0, 168254: 3.0, 168326: 5.0, 168358: 2.5, 168612: 3.75, 169904: 2.0, 169992: 3.5, 170289: 1.0, 170297: 2.0, 170399: 4.0, 170411: 4.0, 170697: 4.0, 170705: 4.166666666666667, 170939: 3.5, 171495: 4.0, 171631: 1.0, 171695: 3.0, 171749: 5.0, 171763: 4.166666666666667, 172215: 3.0, 172497: 4.0, 172585: 5.0, 172589: 5.0, 172591: 5.0, 172637: 5.0, 172909: 5.0, 173209: 4.0, 173751: 2.0, 174053: 5.0, 174055: 3.1666666666666665, 174551: 5.0, 174815: 3.5, 175303: 3.5, 175397: 5.0, 175485: 1.5, 175569: 4.25, 175705: 3.5, 176051: 3.5, 176101: 3.3333333333333335, 176329: 4.0, 176371: 3.9285714285714284, 176389: 2.0, 176419: 3.0, 177593: 4.75, 177615: 3.0, 177765: 3.6666666666666665, 178129: 3.5, 179073: 3.0, 179211: 3.5, 179491: 1.0, 179511: 4.0, 179813: 4.0, 179819: 3.5, 180031: 4.0, 180045: 4.0, 180497: 4.5, 180985: 3.0, 181315: 3.5, 182715: 4.0, 182727: 2.0, 182731: 4.5, 182793: 3.5, 182823: 3.5, 183227: 3.5, 184015: 3.5, 184253: 0.5, 184257: 4.0, 184471: 3.0, 184721: 4.0, 184987: 3.0, 185029: 1.5, 185033: 2.0, 185435: 3.0, 185473: 3.0, 185585: 3.0, 187593: 5.0, 189333: 4.0, 189713: 2.5, 190207: 1.5, 190209: 4.0, 190213: 1.0, 190221: 1.0, 193573: 4.0}\n"
          ]
        }
      ],
      "source": [
        "test_average['movie']= get_average_rating(test_matrix,False)\n",
        "print(test_average['movie'])"
      ]
    },
    {
      "cell_type": "markdown",
      "metadata": {
        "id": "5BsP0NXyDCZD"
      },
      "source": [
        "#Create KNN model"
      ]
    },
    {
      "cell_type": "code",
      "execution_count": null,
      "metadata": {
        "id": "niLNhw83DHCL"
      },
      "outputs": [],
      "source": [
        "from sklearn.neighbors import NearestNeighbors\n",
        "model = NearestNeighbors(n_neighbors=20,algorithm='brute',metric='cosine')"
      ]
    },
    {
      "cell_type": "markdown",
      "metadata": {
        "id": "ouNTQAvJDRmW"
      },
      "source": [
        "#Train KNN on training set"
      ]
    },
    {
      "cell_type": "code",
      "execution_count": null,
      "metadata": {
        "id": "ei-jEF6fDPJF",
        "colab": {
          "base_uri": "https://localhost:8080/",
          "height": 74
        },
        "outputId": "a63344ea-f405-4314-f236-9a405366f27c"
      },
      "outputs": [
        {
          "output_type": "execute_result",
          "data": {
            "text/plain": [
              "NearestNeighbors(algorithm='brute', metric='cosine', n_neighbors=20)"
            ],
            "text/html": [
              "<style>#sk-container-id-2 {color: black;background-color: white;}#sk-container-id-2 pre{padding: 0;}#sk-container-id-2 div.sk-toggleable {background-color: white;}#sk-container-id-2 label.sk-toggleable__label {cursor: pointer;display: block;width: 100%;margin-bottom: 0;padding: 0.3em;box-sizing: border-box;text-align: center;}#sk-container-id-2 label.sk-toggleable__label-arrow:before {content: \"▸\";float: left;margin-right: 0.25em;color: #696969;}#sk-container-id-2 label.sk-toggleable__label-arrow:hover:before {color: black;}#sk-container-id-2 div.sk-estimator:hover label.sk-toggleable__label-arrow:before {color: black;}#sk-container-id-2 div.sk-toggleable__content {max-height: 0;max-width: 0;overflow: hidden;text-align: left;background-color: #f0f8ff;}#sk-container-id-2 div.sk-toggleable__content pre {margin: 0.2em;color: black;border-radius: 0.25em;background-color: #f0f8ff;}#sk-container-id-2 input.sk-toggleable__control:checked~div.sk-toggleable__content {max-height: 200px;max-width: 100%;overflow: auto;}#sk-container-id-2 input.sk-toggleable__control:checked~label.sk-toggleable__label-arrow:before {content: \"▾\";}#sk-container-id-2 div.sk-estimator input.sk-toggleable__control:checked~label.sk-toggleable__label {background-color: #d4ebff;}#sk-container-id-2 div.sk-label input.sk-toggleable__control:checked~label.sk-toggleable__label {background-color: #d4ebff;}#sk-container-id-2 input.sk-hidden--visually {border: 0;clip: rect(1px 1px 1px 1px);clip: rect(1px, 1px, 1px, 1px);height: 1px;margin: -1px;overflow: hidden;padding: 0;position: absolute;width: 1px;}#sk-container-id-2 div.sk-estimator {font-family: monospace;background-color: #f0f8ff;border: 1px dotted black;border-radius: 0.25em;box-sizing: border-box;margin-bottom: 0.5em;}#sk-container-id-2 div.sk-estimator:hover {background-color: #d4ebff;}#sk-container-id-2 div.sk-parallel-item::after {content: \"\";width: 100%;border-bottom: 1px solid gray;flex-grow: 1;}#sk-container-id-2 div.sk-label:hover label.sk-toggleable__label {background-color: #d4ebff;}#sk-container-id-2 div.sk-serial::before {content: \"\";position: absolute;border-left: 1px solid gray;box-sizing: border-box;top: 0;bottom: 0;left: 50%;z-index: 0;}#sk-container-id-2 div.sk-serial {display: flex;flex-direction: column;align-items: center;background-color: white;padding-right: 0.2em;padding-left: 0.2em;position: relative;}#sk-container-id-2 div.sk-item {position: relative;z-index: 1;}#sk-container-id-2 div.sk-parallel {display: flex;align-items: stretch;justify-content: center;background-color: white;position: relative;}#sk-container-id-2 div.sk-item::before, #sk-container-id-2 div.sk-parallel-item::before {content: \"\";position: absolute;border-left: 1px solid gray;box-sizing: border-box;top: 0;bottom: 0;left: 50%;z-index: -1;}#sk-container-id-2 div.sk-parallel-item {display: flex;flex-direction: column;z-index: 1;position: relative;background-color: white;}#sk-container-id-2 div.sk-parallel-item:first-child::after {align-self: flex-end;width: 50%;}#sk-container-id-2 div.sk-parallel-item:last-child::after {align-self: flex-start;width: 50%;}#sk-container-id-2 div.sk-parallel-item:only-child::after {width: 0;}#sk-container-id-2 div.sk-dashed-wrapped {border: 1px dashed gray;margin: 0 0.4em 0.5em 0.4em;box-sizing: border-box;padding-bottom: 0.4em;background-color: white;}#sk-container-id-2 div.sk-label label {font-family: monospace;font-weight: bold;display: inline-block;line-height: 1.2em;}#sk-container-id-2 div.sk-label-container {text-align: center;}#sk-container-id-2 div.sk-container {/* jupyter's `normalize.less` sets `[hidden] { display: none; }` but bootstrap.min.css set `[hidden] { display: none !important; }` so we also need the `!important` here to be able to override the default hidden behavior on the sphinx rendered scikit-learn.org. See: https://github.com/scikit-learn/scikit-learn/issues/21755 */display: inline-block !important;position: relative;}#sk-container-id-2 div.sk-text-repr-fallback {display: none;}</style><div id=\"sk-container-id-2\" class=\"sk-top-container\"><div class=\"sk-text-repr-fallback\"><pre>NearestNeighbors(algorithm=&#x27;brute&#x27;, metric=&#x27;cosine&#x27;, n_neighbors=20)</pre><b>In a Jupyter environment, please rerun this cell to show the HTML representation or trust the notebook. <br />On GitHub, the HTML representation is unable to render, please try loading this page with nbviewer.org.</b></div><div class=\"sk-container\" hidden><div class=\"sk-item\"><div class=\"sk-estimator sk-toggleable\"><input class=\"sk-toggleable__control sk-hidden--visually\" id=\"sk-estimator-id-2\" type=\"checkbox\" checked><label for=\"sk-estimator-id-2\" class=\"sk-toggleable__label sk-toggleable__label-arrow\">NearestNeighbors</label><div class=\"sk-toggleable__content\"><pre>NearestNeighbors(algorithm=&#x27;brute&#x27;, metric=&#x27;cosine&#x27;, n_neighbors=20)</pre></div></div></div></div></div>"
            ]
          },
          "metadata": {},
          "execution_count": 49
        }
      ],
      "source": [
        "model.fit(train_table)"
      ]
    },
    {
      "cell_type": "markdown",
      "metadata": {
        "id": "2jaeILkDDphe"
      },
      "source": [
        "#Function to get predictions"
      ]
    },
    {
      "cell_type": "code",
      "execution_count": null,
      "metadata": {
        "id": "YqOztsVzDvlf"
      },
      "outputs": [],
      "source": [
        "def get_predictions(rating_df,data_table,g_average):\n",
        "  start = datetime.datetime.now()\n",
        "  data_user= rating_df['userId']\n",
        "  data_movie= rating_df['movieId']\n",
        "\n",
        "  final_data = pd.DataFrame()\n",
        "  count=0\n",
        "\n",
        "\n",
        "  for(user,movie) in zip(data_user,data_movie):\n",
        "    total_score=0\n",
        "    total_rating=0\n",
        "    final_score=0\n",
        "    similar=model.kneighbors(data_table[data_table.index==movie],return_distance=True)\n",
        "    sim_score=np.array(similar[0])\n",
        "    sim_id=np.array(similar[1])\n",
        "    for i in range(1,len(sim_score[0])):\n",
        "      single_rating=data_table[user].iloc[sim_id[0,i]]\n",
        "      if single_rating!=0:\n",
        "        total_rating= total_rating + sim_score[0,i] * single_rating\n",
        "        total_score= total_score + sim_score[0,i]\n",
        "    if total_score!=0:\n",
        "      final_score=total_rating/total_score\n",
        "    else:\n",
        "      final_score=(g_average['user'][user]+g_average['movie'][movie])/2\n",
        "    row= list()\n",
        "    row.append(user)\n",
        "    row.append(movie)\n",
        "    row.append(final_score)\n",
        "    row_df= pd.DataFrame(row).T\n",
        "    final_data = pd.concat([final_data,row_df],ignore_index = True)\n",
        "    count=count+1\n",
        "    if (count)%1000==0:\n",
        "      print(\"Done for {} rows----- {}\".format(count, datetime.datetime.now() - start))\n",
        "  return final_data"
      ]
    },
    {
      "cell_type": "code",
      "execution_count": null,
      "metadata": {
        "colab": {
          "base_uri": "https://localhost:8080/"
        },
        "id": "7V5WkbbPlinx",
        "outputId": "e3f784e6-931f-4008-8ac9-1b0a141b693c"
      },
      "outputs": [
        {
          "output_type": "stream",
          "name": "stdout",
          "text": [
            "Done for 1000 rows----- 0:01:22.402970\n",
            "Done for 2000 rows----- 0:02:26.373381\n",
            "Done for 3000 rows----- 0:03:28.315098\n",
            "Done for 4000 rows----- 0:04:29.366059\n",
            "Done for 5000 rows----- 0:05:31.472473\n",
            "Done for 6000 rows----- 0:06:34.158591\n",
            "Done for 7000 rows----- 0:07:36.077179\n",
            "Done for 8000 rows----- 0:08:38.194701\n",
            "Done for 9000 rows----- 0:09:39.024852\n",
            "Done for 10000 rows----- 0:10:40.581336\n",
            "Done for 11000 rows----- 0:11:42.632778\n",
            "Done for 12000 rows----- 0:12:45.241533\n",
            "Done for 13000 rows----- 0:13:47.236812\n",
            "Done for 14000 rows----- 0:14:48.661161\n",
            "Done for 15000 rows----- 0:15:50.232007\n",
            "Done for 16000 rows----- 0:16:52.217054\n",
            "Done for 17000 rows----- 0:17:54.127503\n",
            "Done for 18000 rows----- 0:18:56.138632\n",
            "Done for 19000 rows----- 0:19:57.584065\n",
            "Done for 20000 rows----- 0:20:59.091599\n",
            "Done for 21000 rows----- 0:22:01.708319\n",
            "Done for 22000 rows----- 0:23:04.299998\n",
            "Done for 23000 rows----- 0:24:06.579093\n",
            "Done for 24000 rows----- 0:25:09.021946\n",
            "Done for 25000 rows----- 0:26:11.478245\n",
            "Done for 26000 rows----- 0:27:12.390853\n",
            "Done for 27000 rows----- 0:28:14.281899\n",
            "Done for 28000 rows----- 0:29:16.458764\n",
            "Done for 29000 rows----- 0:30:18.543722\n",
            "Done for 30000 rows----- 0:31:21.010808\n",
            "Done for 31000 rows----- 0:32:21.784357\n",
            "Done for 32000 rows----- 0:33:23.957983\n",
            "Done for 33000 rows----- 0:34:26.149731\n",
            "Done for 34000 rows----- 0:35:27.845742\n",
            "Done for 35000 rows----- 0:36:30.048199\n",
            "Done for 36000 rows----- 0:37:31.491262\n",
            "Done for 37000 rows----- 0:38:32.873650\n",
            "Done for 38000 rows----- 0:39:35.282715\n",
            "Done for 39000 rows----- 0:40:37.579813\n",
            "Done for 40000 rows----- 0:41:39.617203\n",
            "Done for 41000 rows----- 0:42:41.196518\n",
            "Done for 42000 rows----- 0:43:42.713797\n",
            "Done for 43000 rows----- 0:44:44.861114\n",
            "Done for 44000 rows----- 0:45:47.228306\n",
            "Done for 45000 rows----- 0:46:49.236845\n",
            "Done for 46000 rows----- 0:47:51.352203\n",
            "Done for 47000 rows----- 0:48:51.951615\n",
            "Done for 48000 rows----- 0:49:54.009586\n",
            "Done for 49000 rows----- 0:50:56.232905\n",
            "Done for 50000 rows----- 0:51:58.685061\n",
            "Done for 51000 rows----- 0:53:00.518278\n",
            "Done for 52000 rows----- 0:54:01.926764\n",
            "Done for 53000 rows----- 0:55:03.315416\n",
            "Done for 54000 rows----- 0:56:05.700941\n",
            "Done for 55000 rows----- 0:57:07.828273\n",
            "Done for 56000 rows----- 0:58:10.027242\n",
            "Done for 57000 rows----- 0:59:12.199173\n",
            "Done for 58000 rows----- 1:00:14.220223\n",
            "Done for 59000 rows----- 1:01:15.690720\n",
            "Done for 60000 rows----- 1:02:18.185398\n",
            "Done for 61000 rows----- 1:03:20.321414\n",
            "Done for 62000 rows----- 1:04:22.603002\n",
            "Done for 63000 rows----- 1:05:24.830849\n",
            "Done for 64000 rows----- 1:06:26.486455\n",
            "Done for 65000 rows----- 1:07:27.858406\n",
            "Done for 66000 rows----- 1:08:30.072408\n",
            "Done for 67000 rows----- 1:09:32.374831\n",
            "Done for 68000 rows----- 1:10:34.241306\n",
            "Done for 69000 rows----- 1:11:36.311071\n",
            "Done for 70000 rows----- 1:12:36.885215\n",
            "Done for 71000 rows----- 1:13:39.137267\n",
            "Done for 72000 rows----- 1:14:41.012894\n",
            "Done for 73000 rows----- 1:15:42.875522\n",
            "Done for 74000 rows----- 1:16:44.921313\n",
            "Done for 75000 rows----- 1:17:45.480389\n",
            "Done for 76000 rows----- 1:18:47.352380\n",
            "Done for 77000 rows----- 1:19:49.220060\n",
            "Done for 78000 rows----- 1:20:50.752525\n",
            "Done for 79000 rows----- 1:21:52.580147\n",
            "Done for 80000 rows----- 1:22:53.428044\n"
          ]
        }
      ],
      "source": [
        "final_train_data=get_predictions(train_rating_df,data_table,train_average)\n",
        "final_train_data.columns=['userId', 'movieId', 'rating']\n",
        "final_train_data.to_csv('train_final_data.csv')"
      ]
    },
    {
      "cell_type": "code",
      "execution_count": null,
      "metadata": {
        "id": "Q8mJB82txx9e",
        "colab": {
          "base_uri": "https://localhost:8080/"
        },
        "outputId": "9e7984ae-5d8b-4b75-d2ec-c47bc5e8b810"
      },
      "outputs": [
        {
          "output_type": "stream",
          "name": "stdout",
          "text": [
            "Done for 1000 rows----- 0:00:59.965412\n",
            "Done for 2000 rows----- 0:02:01.288799\n",
            "Done for 3000 rows----- 0:03:02.303575\n",
            "Done for 4000 rows----- 0:04:03.220724\n",
            "Done for 5000 rows----- 0:05:03.593091\n",
            "Done for 6000 rows----- 0:06:04.825984\n",
            "Done for 7000 rows----- 0:07:06.456202\n",
            "Done for 8000 rows----- 0:08:07.915971\n",
            "Done for 9000 rows----- 0:09:08.171347\n",
            "Done for 10000 rows----- 0:10:09.510778\n",
            "Done for 11000 rows----- 0:11:10.976039\n",
            "Done for 12000 rows----- 0:12:12.458625\n",
            "Done for 13000 rows----- 0:13:12.526820\n",
            "Done for 14000 rows----- 0:14:14.336423\n",
            "Done for 15000 rows----- 0:15:15.822496\n",
            "Done for 16000 rows----- 0:16:29.855892\n",
            "Done for 17000 rows----- 0:17:47.228326\n",
            "Done for 18000 rows----- 0:18:54.886732\n",
            "Done for 19000 rows----- 0:19:56.332843\n",
            "Done for 20000 rows----- 0:20:56.669789\n"
          ]
        }
      ],
      "source": [
        "final_test_data=get_predictions(test_rating_df,data_table,test_average)\n",
        "final_test_data.columns=['userId', 'movieId', 'rating']\n",
        "final_test_data.to_csv('test_final_data.csv')"
      ]
    },
    {
      "cell_type": "code",
      "execution_count": null,
      "metadata": {
        "id": "L7KA11FcnqPG",
        "colab": {
          "base_uri": "https://localhost:8080/"
        },
        "outputId": "48c5d263-33f8-447d-cca9-9b14be584fa1"
      },
      "outputs": [
        {
          "output_type": "stream",
          "name": "stdout",
          "text": [
            "       userId  movieId    rating\n",
            "0       489.0   3827.0  3.499373\n",
            "1        51.0   1639.0  4.000000\n",
            "2       425.0   5349.0  3.558138\n",
            "3       448.0   3793.0  4.000000\n",
            "4       600.0   3821.0  4.500000\n",
            "...       ...      ...       ...\n",
            "80663   322.0   4226.0  3.758067\n",
            "80664   606.0   4973.0  4.000000\n",
            "80665    34.0    318.0  3.909081\n",
            "80666   483.0   8644.0  3.504155\n",
            "80667   607.0   1213.0  5.000000\n",
            "\n",
            "[80668 rows x 3 columns]\n"
          ]
        }
      ],
      "source": [
        "print(final_train_data)"
      ]
    },
    {
      "cell_type": "code",
      "execution_count": null,
      "metadata": {
        "id": "i_gh_H8qyE5T",
        "colab": {
          "base_uri": "https://localhost:8080/"
        },
        "outputId": "a5bf5fb5-dcc4-4398-da0b-e2246cc347d4"
      },
      "outputs": [
        {
          "output_type": "stream",
          "name": "stdout",
          "text": [
            "       userId   movieId    rating\n",
            "0       225.0     380.0  3.716028\n",
            "1       533.0  103688.0  4.354167\n",
            "2       125.0  149902.0  2.911765\n",
            "3       263.0    1183.0  4.508523\n",
            "4       387.0    1982.0  3.757337\n",
            "...       ...       ...       ...\n",
            "20163   381.0   69436.0  3.472846\n",
            "20164   253.0    5991.0  3.916667\n",
            "20165   115.0    3052.0  3.512238\n",
            "20166   217.0    2605.0  2.483278\n",
            "20167   414.0    4900.0  3.464135\n",
            "\n",
            "[20168 rows x 3 columns]\n"
          ]
        }
      ],
      "source": [
        "print(final_test_data)"
      ]
    },
    {
      "cell_type": "code",
      "execution_count": null,
      "metadata": {
        "id": "mwix73-kpLSU"
      },
      "outputs": [],
      "source": [
        "def get_error_metrics(y_true, y_pred):\n",
        "    rmse = np.sqrt(np.mean([ (y_true[i] - y_pred[i])**2 for i in range(len(y_pred)) ]))\n",
        "    mape = np.mean(np.abs( (y_true - y_pred)/y_true )) * 100\n",
        "    return rmse, mape"
      ]
    },
    {
      "cell_type": "markdown",
      "metadata": {
        "id": "Z03Mb1yeyIdJ"
      },
      "source": [
        "#Testing Training data"
      ]
    },
    {
      "cell_type": "code",
      "execution_count": null,
      "metadata": {
        "id": "0mZLVI_FpgnK",
        "colab": {
          "base_uri": "https://localhost:8080/"
        },
        "outputId": "607c61f9-976b-42f1-818f-4f9abd243bf5"
      },
      "outputs": [
        {
          "output_type": "stream",
          "name": "stdout",
          "text": [
            "[2. 5. 3. ... 4. 4. 4.]\n"
          ]
        }
      ],
      "source": [
        "y_test=train_rating_df['rating']\n",
        "print(y_test.values)"
      ]
    },
    {
      "cell_type": "code",
      "execution_count": null,
      "metadata": {
        "id": "SqfhCIDdpiJx",
        "colab": {
          "base_uri": "https://localhost:8080/"
        },
        "outputId": "0601a87f-2361-41fe-dc52-2929bd30a586"
      },
      "outputs": [
        {
          "output_type": "stream",
          "name": "stdout",
          "text": [
            "[3.49937348 4.         3.55813775 ... 3.9090812  3.50415495 5.        ]\n"
          ]
        }
      ],
      "source": [
        "y_pred=final_train_data['rating']\n",
        "print(y_pred.values)"
      ]
    },
    {
      "cell_type": "code",
      "execution_count": null,
      "metadata": {
        "id": "6wHtH1yzprHH"
      },
      "outputs": [],
      "source": [
        "rsme_train,mape_train = get_error_metrics(y_test.values,y_pred.values)\n",
        "train_results = {\n",
        "    'rsme':rsme_train,\n",
        "    'mape':mape_train\n",
        "}"
      ]
    },
    {
      "cell_type": "code",
      "execution_count": null,
      "metadata": {
        "id": "488X2PJcpsm3",
        "colab": {
          "base_uri": "https://localhost:8080/"
        },
        "outputId": "7a9bcb89-c280-4b99-eee1-e15af4c867bf"
      },
      "outputs": [
        {
          "output_type": "stream",
          "name": "stdout",
          "text": [
            "{'rsme': 1.0304691212339059, 'mape': 33.44024611963449}\n"
          ]
        }
      ],
      "source": [
        "print(train_results)"
      ]
    },
    {
      "cell_type": "markdown",
      "metadata": {
        "id": "RbdrpEMRyNm5"
      },
      "source": [
        "#Testing on test set"
      ]
    },
    {
      "cell_type": "code",
      "execution_count": null,
      "metadata": {
        "id": "o2HhxkG0yUp1",
        "colab": {
          "base_uri": "https://localhost:8080/"
        },
        "outputId": "3605af7b-b991-4385-9027-49cda23907cd"
      },
      "outputs": [
        {
          "output_type": "stream",
          "name": "stdout",
          "text": [
            "[3. 5. 2. ... 3. 2. 4.]\n"
          ]
        }
      ],
      "source": [
        "y_test=test_rating_df['rating']\n",
        "print(y_test.values)"
      ]
    },
    {
      "cell_type": "code",
      "execution_count": null,
      "metadata": {
        "id": "Aqge0HuWyV5Z",
        "colab": {
          "base_uri": "https://localhost:8080/"
        },
        "outputId": "9acace59-9103-4318-bc16-21e65759f4b3"
      },
      "outputs": [
        {
          "output_type": "stream",
          "name": "stdout",
          "text": [
            "[3.71602787 4.35416667 2.91176471 ... 3.51223776 2.48327767 3.4641349 ]\n"
          ]
        }
      ],
      "source": [
        "y_pred=final_test_data['rating']\n",
        "print(y_pred.values)"
      ]
    },
    {
      "cell_type": "code",
      "execution_count": null,
      "metadata": {
        "id": "urpYved5yXuA"
      },
      "outputs": [],
      "source": [
        "rsme_test,mape_test = get_error_metrics(y_test.values,y_pred.values)\n",
        "test_results = {\n",
        "    'rsme':rsme_test,\n",
        "    'mape':mape_test\n",
        "}"
      ]
    },
    {
      "cell_type": "code",
      "execution_count": null,
      "metadata": {
        "id": "TPMH__37yZd7",
        "colab": {
          "base_uri": "https://localhost:8080/"
        },
        "outputId": "cffa0930-e5e7-45f0-a817-170ba6cd6214"
      },
      "outputs": [
        {
          "output_type": "stream",
          "name": "stdout",
          "text": [
            "{'rsme': 1.022684442842138, 'mape': 33.05214710924582}\n"
          ]
        }
      ],
      "source": [
        "print(test_results)"
      ]
    },
    {
      "cell_type": "markdown",
      "metadata": {
        "id": "KLSdSUCGtK0y"
      },
      "source": [
        "#Reccomendation system"
      ]
    },
    {
      "cell_type": "markdown",
      "metadata": {
        "id": "ZQhoE_I0WxZk"
      },
      "source": [
        "#Input the user to recommend movies to"
      ]
    },
    {
      "cell_type": "code",
      "execution_count": null,
      "metadata": {
        "id": "lA_xv8autPXj",
        "colab": {
          "base_uri": "https://localhost:8080/"
        },
        "outputId": "06fba65f-b7ca-4d6b-9c41-4c3b86cf018d"
      },
      "outputs": [
        {
          "name": "stdout",
          "output_type": "stream",
          "text": [
            " Enter the userId of the user to recommend to : 5\n"
          ]
        }
      ],
      "source": [
        "selected_id= input(' Enter the userId of the user to recommend to : ')\n",
        "selected_id = int(selected_id)"
      ]
    },
    {
      "cell_type": "markdown",
      "metadata": {
        "id": "pf8C6gqwu8uS"
      },
      "source": [
        "#Getting the selected user's rated movies"
      ]
    },
    {
      "cell_type": "code",
      "execution_count": null,
      "metadata": {
        "id": "DM3qioQOu64p",
        "colab": {
          "base_uri": "https://localhost:8080/"
        },
        "outputId": "e664e4e6-02e8-4080-f361-345c229a5a3d"
      },
      "outputs": [
        {
          "output_type": "execute_result",
          "data": {
            "text/plain": [
              "movieId\n",
              "1     4.0\n",
              "21    4.0\n",
              "34    4.0\n",
              "36    4.0\n",
              "39    3.0\n",
              "Name: 5, dtype: float64"
            ]
          },
          "metadata": {},
          "execution_count": 65
        }
      ],
      "source": [
        "selected_user= data_table[selected_id]\n",
        "selected_user = selected_user.loc[selected_user!=0]\n",
        "selected_user.head()"
      ]
    },
    {
      "cell_type": "markdown",
      "metadata": {
        "id": "Y0WyrKWhvPaJ"
      },
      "source": [
        "#List of movies that rated by at least 50 users"
      ]
    },
    {
      "cell_type": "code",
      "execution_count": null,
      "metadata": {
        "id": "AHfv_E-QvQ2B"
      },
      "outputs": [],
      "source": [
        "stats= rating_df.groupby('movieId').agg({'rating':[np.size]})\n",
        "stats.head(10 )\n",
        "stats= stats[stats['rating']['size']>=50]"
      ]
    },
    {
      "cell_type": "code",
      "execution_count": null,
      "metadata": {
        "id": "GvWCTSmjvbUH",
        "colab": {
          "base_uri": "https://localhost:8080/",
          "height": 269
        },
        "outputId": "2ca77d31-1001-46ba-cec1-08a85951600c"
      },
      "outputs": [
        {
          "output_type": "execute_result",
          "data": {
            "text/plain": [
              "        rating\n",
              "          size\n",
              "movieId       \n",
              "1          215\n",
              "2          110\n",
              "3           52\n",
              "6          102\n",
              "7           54"
            ],
            "text/html": [
              "\n",
              "  <div id=\"df-0443f57c-f504-4b9d-ad93-8e2a9c2711b7\">\n",
              "    <div class=\"colab-df-container\">\n",
              "      <div>\n",
              "<style scoped>\n",
              "    .dataframe tbody tr th:only-of-type {\n",
              "        vertical-align: middle;\n",
              "    }\n",
              "\n",
              "    .dataframe tbody tr th {\n",
              "        vertical-align: top;\n",
              "    }\n",
              "\n",
              "    .dataframe thead tr th {\n",
              "        text-align: left;\n",
              "    }\n",
              "\n",
              "    .dataframe thead tr:last-of-type th {\n",
              "        text-align: right;\n",
              "    }\n",
              "</style>\n",
              "<table border=\"1\" class=\"dataframe\">\n",
              "  <thead>\n",
              "    <tr>\n",
              "      <th></th>\n",
              "      <th>rating</th>\n",
              "    </tr>\n",
              "    <tr>\n",
              "      <th></th>\n",
              "      <th>size</th>\n",
              "    </tr>\n",
              "    <tr>\n",
              "      <th>movieId</th>\n",
              "      <th></th>\n",
              "    </tr>\n",
              "  </thead>\n",
              "  <tbody>\n",
              "    <tr>\n",
              "      <th>1</th>\n",
              "      <td>215</td>\n",
              "    </tr>\n",
              "    <tr>\n",
              "      <th>2</th>\n",
              "      <td>110</td>\n",
              "    </tr>\n",
              "    <tr>\n",
              "      <th>3</th>\n",
              "      <td>52</td>\n",
              "    </tr>\n",
              "    <tr>\n",
              "      <th>6</th>\n",
              "      <td>102</td>\n",
              "    </tr>\n",
              "    <tr>\n",
              "      <th>7</th>\n",
              "      <td>54</td>\n",
              "    </tr>\n",
              "  </tbody>\n",
              "</table>\n",
              "</div>\n",
              "      <button class=\"colab-df-convert\" onclick=\"convertToInteractive('df-0443f57c-f504-4b9d-ad93-8e2a9c2711b7')\"\n",
              "              title=\"Convert this dataframe to an interactive table.\"\n",
              "              style=\"display:none;\">\n",
              "        \n",
              "  <svg xmlns=\"http://www.w3.org/2000/svg\" height=\"24px\"viewBox=\"0 0 24 24\"\n",
              "       width=\"24px\">\n",
              "    <path d=\"M0 0h24v24H0V0z\" fill=\"none\"/>\n",
              "    <path d=\"M18.56 5.44l.94 2.06.94-2.06 2.06-.94-2.06-.94-.94-2.06-.94 2.06-2.06.94zm-11 1L8.5 8.5l.94-2.06 2.06-.94-2.06-.94L8.5 2.5l-.94 2.06-2.06.94zm10 10l.94 2.06.94-2.06 2.06-.94-2.06-.94-.94-2.06-.94 2.06-2.06.94z\"/><path d=\"M17.41 7.96l-1.37-1.37c-.4-.4-.92-.59-1.43-.59-.52 0-1.04.2-1.43.59L10.3 9.45l-7.72 7.72c-.78.78-.78 2.05 0 2.83L4 21.41c.39.39.9.59 1.41.59.51 0 1.02-.2 1.41-.59l7.78-7.78 2.81-2.81c.8-.78.8-2.07 0-2.86zM5.41 20L4 18.59l7.72-7.72 1.47 1.35L5.41 20z\"/>\n",
              "  </svg>\n",
              "      </button>\n",
              "      \n",
              "  <style>\n",
              "    .colab-df-container {\n",
              "      display:flex;\n",
              "      flex-wrap:wrap;\n",
              "      gap: 12px;\n",
              "    }\n",
              "\n",
              "    .colab-df-convert {\n",
              "      background-color: #E8F0FE;\n",
              "      border: none;\n",
              "      border-radius: 50%;\n",
              "      cursor: pointer;\n",
              "      display: none;\n",
              "      fill: #1967D2;\n",
              "      height: 32px;\n",
              "      padding: 0 0 0 0;\n",
              "      width: 32px;\n",
              "    }\n",
              "\n",
              "    .colab-df-convert:hover {\n",
              "      background-color: #E2EBFA;\n",
              "      box-shadow: 0px 1px 2px rgba(60, 64, 67, 0.3), 0px 1px 3px 1px rgba(60, 64, 67, 0.15);\n",
              "      fill: #174EA6;\n",
              "    }\n",
              "\n",
              "    [theme=dark] .colab-df-convert {\n",
              "      background-color: #3B4455;\n",
              "      fill: #D2E3FC;\n",
              "    }\n",
              "\n",
              "    [theme=dark] .colab-df-convert:hover {\n",
              "      background-color: #434B5C;\n",
              "      box-shadow: 0px 1px 3px 1px rgba(0, 0, 0, 0.15);\n",
              "      filter: drop-shadow(0px 1px 2px rgba(0, 0, 0, 0.3));\n",
              "      fill: #FFFFFF;\n",
              "    }\n",
              "  </style>\n",
              "\n",
              "      <script>\n",
              "        const buttonEl =\n",
              "          document.querySelector('#df-0443f57c-f504-4b9d-ad93-8e2a9c2711b7 button.colab-df-convert');\n",
              "        buttonEl.style.display =\n",
              "          google.colab.kernel.accessAllowed ? 'block' : 'none';\n",
              "\n",
              "        async function convertToInteractive(key) {\n",
              "          const element = document.querySelector('#df-0443f57c-f504-4b9d-ad93-8e2a9c2711b7');\n",
              "          const dataTable =\n",
              "            await google.colab.kernel.invokeFunction('convertToInteractive',\n",
              "                                                     [key], {});\n",
              "          if (!dataTable) return;\n",
              "\n",
              "          const docLinkHtml = 'Like what you see? Visit the ' +\n",
              "            '<a target=\"_blank\" href=https://colab.research.google.com/notebooks/data_table.ipynb>data table notebook</a>'\n",
              "            + ' to learn more about interactive tables.';\n",
              "          element.innerHTML = '';\n",
              "          dataTable['output_type'] = 'display_data';\n",
              "          await google.colab.output.renderOutput(dataTable, element);\n",
              "          const docLink = document.createElement('div');\n",
              "          docLink.innerHTML = docLinkHtml;\n",
              "          element.appendChild(docLink);\n",
              "        }\n",
              "      </script>\n",
              "    </div>\n",
              "  </div>\n",
              "  "
            ]
          },
          "metadata": {},
          "execution_count": 67
        }
      ],
      "source": [
        "stats.head()"
      ]
    },
    {
      "cell_type": "markdown",
      "metadata": {
        "id": "BCAGQMnBTlxE"
      },
      "source": [
        "#Function to get recommendations and predict ratings that user would give to each movie"
      ]
    },
    {
      "cell_type": "code",
      "execution_count": null,
      "metadata": {
        "id": "uLgap_fhuA1C"
      },
      "outputs": [],
      "source": [
        "def get_recommendation():\n",
        "  similar_candidates_rating= pd.Series(dtype='float64')\n",
        "  similar_candidates_score= pd.Series(dtype='float64')\n",
        "  for i in range(0,len(selected_user.index)):\n",
        "    similar=model.kneighbors([data_table.loc[selected_user.index[i]]],return_distance=True)\n",
        "    sim_score=similar[0]\n",
        "    sim_id=similar[1]\n",
        "    sim_id=np.array(list(map(lambda x: data_table.iloc[x].name,sim_id[0])))\n",
        "    similar=pd.Series(data=sim_score[0],index=sim_id)\n",
        "    similar=similar[similar!=0]\n",
        "    similar=similar[similar.index.isin(stats.index)]\n",
        "    similar_candidates_score=pd.concat([similar_candidates_score,similar])\n",
        "    similar=similar.map(lambda x: x*selected_user.values[i])\n",
        "    similar_candidates_rating = pd.concat([similar_candidates_rating,similar])\n",
        "  return similar_candidates_rating,similar_candidates_score"
      ]
    },
    {
      "cell_type": "code",
      "execution_count": null,
      "metadata": {
        "id": "kUKK5dIdAPXk"
      },
      "outputs": [],
      "source": [
        "similar_candidates_rating,similar_candidates_score= get_recommendation()"
      ]
    },
    {
      "cell_type": "markdown",
      "metadata": {
        "id": "CeiOR0blUz75"
      },
      "source": [
        "#Factoring the recommendation score to the scale of 1-5"
      ]
    },
    {
      "cell_type": "code",
      "execution_count": null,
      "metadata": {
        "id": "4mHAlrMjAd9e"
      },
      "outputs": [],
      "source": [
        "similar_candidates_rating.sort_values(inplace=True,ascending=False)\n",
        "similar_candidates_score.sort_values(inplace=True,ascending=False)\n",
        "filtered_candidates_rating_sum= similar_candidates_rating.groupby(similar_candidates_rating.index).sum()\n",
        "filtered_candidates_score_sum= similar_candidates_score.groupby(similar_candidates_score.index).sum()"
      ]
    },
    {
      "cell_type": "code",
      "execution_count": null,
      "metadata": {
        "id": "X9PtqaNaA8In"
      },
      "outputs": [],
      "source": [
        "similar_movies=filtered_candidates_rating_sum.index\n",
        "pred_rating= pd.Series(dtype='float64',index=similar_movies)\n",
        "for i in range(0,len(similar_movies)):\n",
        "  pred_rating[similar_movies[i]]= filtered_candidates_rating_sum[similar_movies[i]]/filtered_candidates_score_sum[similar_movies[i]]"
      ]
    },
    {
      "cell_type": "markdown",
      "metadata": {
        "id": "nmJXyzbrVFbd"
      },
      "source": [
        "#Making Recommendations to the selected user"
      ]
    },
    {
      "cell_type": "markdown",
      "metadata": {
        "id": "WKk2nvT9VzwW"
      },
      "source": [
        "#The user's orignal highest rated films"
      ]
    },
    {
      "cell_type": "code",
      "execution_count": null,
      "metadata": {
        "id": "229Or-KJVyib",
        "colab": {
          "base_uri": "https://localhost:8080/",
          "height": 363
        },
        "outputId": "33419b01-e077-4b52-c45d-37b81460432b"
      },
      "outputs": [
        {
          "output_type": "execute_result",
          "data": {
            "text/plain": [
              "   movieId  predicted_rating                                   title\n",
              "0      590               5.0               Dances with Wolves (1990)\n",
              "1      475               5.0        In the Name of the Father (1993)\n",
              "2      527               5.0                 Schindler's List (1993)\n",
              "3       58               5.0       Postman, The (Postino, Il) (1994)\n",
              "4      596               5.0                        Pinocchio (1940)\n",
              "5      595               5.0             Beauty and the Beast (1991)\n",
              "6      247               5.0               Heavenly Creatures (1994)\n",
              "7      594               5.0  Snow White and the Seven Dwarfs (1937)\n",
              "8      296               5.0                     Pulp Fiction (1994)\n",
              "9      290               5.0               Once Were Warriors (1994)"
            ],
            "text/html": [
              "\n",
              "  <div id=\"df-8f868f3a-f2a0-4538-8a0c-47e02fa990a2\">\n",
              "    <div class=\"colab-df-container\">\n",
              "      <div>\n",
              "<style scoped>\n",
              "    .dataframe tbody tr th:only-of-type {\n",
              "        vertical-align: middle;\n",
              "    }\n",
              "\n",
              "    .dataframe tbody tr th {\n",
              "        vertical-align: top;\n",
              "    }\n",
              "\n",
              "    .dataframe thead th {\n",
              "        text-align: right;\n",
              "    }\n",
              "</style>\n",
              "<table border=\"1\" class=\"dataframe\">\n",
              "  <thead>\n",
              "    <tr style=\"text-align: right;\">\n",
              "      <th></th>\n",
              "      <th>movieId</th>\n",
              "      <th>predicted_rating</th>\n",
              "      <th>title</th>\n",
              "    </tr>\n",
              "  </thead>\n",
              "  <tbody>\n",
              "    <tr>\n",
              "      <th>0</th>\n",
              "      <td>590</td>\n",
              "      <td>5.0</td>\n",
              "      <td>Dances with Wolves (1990)</td>\n",
              "    </tr>\n",
              "    <tr>\n",
              "      <th>1</th>\n",
              "      <td>475</td>\n",
              "      <td>5.0</td>\n",
              "      <td>In the Name of the Father (1993)</td>\n",
              "    </tr>\n",
              "    <tr>\n",
              "      <th>2</th>\n",
              "      <td>527</td>\n",
              "      <td>5.0</td>\n",
              "      <td>Schindler's List (1993)</td>\n",
              "    </tr>\n",
              "    <tr>\n",
              "      <th>3</th>\n",
              "      <td>58</td>\n",
              "      <td>5.0</td>\n",
              "      <td>Postman, The (Postino, Il) (1994)</td>\n",
              "    </tr>\n",
              "    <tr>\n",
              "      <th>4</th>\n",
              "      <td>596</td>\n",
              "      <td>5.0</td>\n",
              "      <td>Pinocchio (1940)</td>\n",
              "    </tr>\n",
              "    <tr>\n",
              "      <th>5</th>\n",
              "      <td>595</td>\n",
              "      <td>5.0</td>\n",
              "      <td>Beauty and the Beast (1991)</td>\n",
              "    </tr>\n",
              "    <tr>\n",
              "      <th>6</th>\n",
              "      <td>247</td>\n",
              "      <td>5.0</td>\n",
              "      <td>Heavenly Creatures (1994)</td>\n",
              "    </tr>\n",
              "    <tr>\n",
              "      <th>7</th>\n",
              "      <td>594</td>\n",
              "      <td>5.0</td>\n",
              "      <td>Snow White and the Seven Dwarfs (1937)</td>\n",
              "    </tr>\n",
              "    <tr>\n",
              "      <th>8</th>\n",
              "      <td>296</td>\n",
              "      <td>5.0</td>\n",
              "      <td>Pulp Fiction (1994)</td>\n",
              "    </tr>\n",
              "    <tr>\n",
              "      <th>9</th>\n",
              "      <td>290</td>\n",
              "      <td>5.0</td>\n",
              "      <td>Once Were Warriors (1994)</td>\n",
              "    </tr>\n",
              "  </tbody>\n",
              "</table>\n",
              "</div>\n",
              "      <button class=\"colab-df-convert\" onclick=\"convertToInteractive('df-8f868f3a-f2a0-4538-8a0c-47e02fa990a2')\"\n",
              "              title=\"Convert this dataframe to an interactive table.\"\n",
              "              style=\"display:none;\">\n",
              "        \n",
              "  <svg xmlns=\"http://www.w3.org/2000/svg\" height=\"24px\"viewBox=\"0 0 24 24\"\n",
              "       width=\"24px\">\n",
              "    <path d=\"M0 0h24v24H0V0z\" fill=\"none\"/>\n",
              "    <path d=\"M18.56 5.44l.94 2.06.94-2.06 2.06-.94-2.06-.94-.94-2.06-.94 2.06-2.06.94zm-11 1L8.5 8.5l.94-2.06 2.06-.94-2.06-.94L8.5 2.5l-.94 2.06-2.06.94zm10 10l.94 2.06.94-2.06 2.06-.94-2.06-.94-.94-2.06-.94 2.06-2.06.94z\"/><path d=\"M17.41 7.96l-1.37-1.37c-.4-.4-.92-.59-1.43-.59-.52 0-1.04.2-1.43.59L10.3 9.45l-7.72 7.72c-.78.78-.78 2.05 0 2.83L4 21.41c.39.39.9.59 1.41.59.51 0 1.02-.2 1.41-.59l7.78-7.78 2.81-2.81c.8-.78.8-2.07 0-2.86zM5.41 20L4 18.59l7.72-7.72 1.47 1.35L5.41 20z\"/>\n",
              "  </svg>\n",
              "      </button>\n",
              "      \n",
              "  <style>\n",
              "    .colab-df-container {\n",
              "      display:flex;\n",
              "      flex-wrap:wrap;\n",
              "      gap: 12px;\n",
              "    }\n",
              "\n",
              "    .colab-df-convert {\n",
              "      background-color: #E8F0FE;\n",
              "      border: none;\n",
              "      border-radius: 50%;\n",
              "      cursor: pointer;\n",
              "      display: none;\n",
              "      fill: #1967D2;\n",
              "      height: 32px;\n",
              "      padding: 0 0 0 0;\n",
              "      width: 32px;\n",
              "    }\n",
              "\n",
              "    .colab-df-convert:hover {\n",
              "      background-color: #E2EBFA;\n",
              "      box-shadow: 0px 1px 2px rgba(60, 64, 67, 0.3), 0px 1px 3px 1px rgba(60, 64, 67, 0.15);\n",
              "      fill: #174EA6;\n",
              "    }\n",
              "\n",
              "    [theme=dark] .colab-df-convert {\n",
              "      background-color: #3B4455;\n",
              "      fill: #D2E3FC;\n",
              "    }\n",
              "\n",
              "    [theme=dark] .colab-df-convert:hover {\n",
              "      background-color: #434B5C;\n",
              "      box-shadow: 0px 1px 3px 1px rgba(0, 0, 0, 0.15);\n",
              "      filter: drop-shadow(0px 1px 2px rgba(0, 0, 0, 0.3));\n",
              "      fill: #FFFFFF;\n",
              "    }\n",
              "  </style>\n",
              "\n",
              "      <script>\n",
              "        const buttonEl =\n",
              "          document.querySelector('#df-8f868f3a-f2a0-4538-8a0c-47e02fa990a2 button.colab-df-convert');\n",
              "        buttonEl.style.display =\n",
              "          google.colab.kernel.accessAllowed ? 'block' : 'none';\n",
              "\n",
              "        async function convertToInteractive(key) {\n",
              "          const element = document.querySelector('#df-8f868f3a-f2a0-4538-8a0c-47e02fa990a2');\n",
              "          const dataTable =\n",
              "            await google.colab.kernel.invokeFunction('convertToInteractive',\n",
              "                                                     [key], {});\n",
              "          if (!dataTable) return;\n",
              "\n",
              "          const docLinkHtml = 'Like what you see? Visit the ' +\n",
              "            '<a target=\"_blank\" href=https://colab.research.google.com/notebooks/data_table.ipynb>data table notebook</a>'\n",
              "            + ' to learn more about interactive tables.';\n",
              "          element.innerHTML = '';\n",
              "          dataTable['output_type'] = 'display_data';\n",
              "          await google.colab.output.renderOutput(dataTable, element);\n",
              "          const docLink = document.createElement('div');\n",
              "          docLink.innerHTML = docLinkHtml;\n",
              "          element.appendChild(docLink);\n",
              "        }\n",
              "      </script>\n",
              "    </div>\n",
              "  </div>\n",
              "  "
            ]
          },
          "metadata": {},
          "execution_count": 72
        }
      ],
      "source": [
        "selected_user.sort_values(inplace=True,ascending=False)\n",
        "selected_user_df = pd.DataFrame(selected_user).reset_index()\n",
        "selected_user_df.columns = ['movieId', 'predicted_rating']\n",
        "selected_user_df = pd.merge(selected_user_df,movie_df)\n",
        "selected_user_df.head(10)"
      ]
    },
    {
      "cell_type": "markdown",
      "metadata": {
        "id": "WFRay_1GVy-q"
      },
      "source": [
        "#Recommendations made by KNN"
      ]
    },
    {
      "cell_type": "code",
      "execution_count": null,
      "metadata": {
        "id": "yxCCmAvcBA_a",
        "colab": {
          "base_uri": "https://localhost:8080/",
          "height": 380
        },
        "outputId": "cc134e94-b516-4479-c50f-36410261552e"
      },
      "outputs": [
        {
          "output_type": "stream",
          "name": "stdout",
          "text": [
            "List of recommendations for user 5\n"
          ]
        },
        {
          "output_type": "execute_result",
          "data": {
            "text/plain": [
              "   movieId  predicted_rating                                        title\n",
              "0     2100          5.000000                                Splash (1984)\n",
              "1     1721          5.000000                               Titanic (1997)\n",
              "2      733          5.000000                             Rock, The (1996)\n",
              "3      594          5.000000       Snow White and the Seven Dwarfs (1937)\n",
              "4      300          5.000000                             Quiz Show (1994)\n",
              "5       48          5.000000                            Pocahontas (1995)\n",
              "6      353          4.499615                             Crow, The (1994)\n",
              "7      587          4.316220                                 Ghost (1990)\n",
              "8      296          4.051312                          Pulp Fiction (1994)\n",
              "9     1148          4.043734  Wallace & Gromit: The Wrong Trousers (1993)"
            ],
            "text/html": [
              "\n",
              "  <div id=\"df-f6741bda-d99a-4a12-8eaf-5674c3d92173\">\n",
              "    <div class=\"colab-df-container\">\n",
              "      <div>\n",
              "<style scoped>\n",
              "    .dataframe tbody tr th:only-of-type {\n",
              "        vertical-align: middle;\n",
              "    }\n",
              "\n",
              "    .dataframe tbody tr th {\n",
              "        vertical-align: top;\n",
              "    }\n",
              "\n",
              "    .dataframe thead th {\n",
              "        text-align: right;\n",
              "    }\n",
              "</style>\n",
              "<table border=\"1\" class=\"dataframe\">\n",
              "  <thead>\n",
              "    <tr style=\"text-align: right;\">\n",
              "      <th></th>\n",
              "      <th>movieId</th>\n",
              "      <th>predicted_rating</th>\n",
              "      <th>title</th>\n",
              "    </tr>\n",
              "  </thead>\n",
              "  <tbody>\n",
              "    <tr>\n",
              "      <th>0</th>\n",
              "      <td>2100</td>\n",
              "      <td>5.000000</td>\n",
              "      <td>Splash (1984)</td>\n",
              "    </tr>\n",
              "    <tr>\n",
              "      <th>1</th>\n",
              "      <td>1721</td>\n",
              "      <td>5.000000</td>\n",
              "      <td>Titanic (1997)</td>\n",
              "    </tr>\n",
              "    <tr>\n",
              "      <th>2</th>\n",
              "      <td>733</td>\n",
              "      <td>5.000000</td>\n",
              "      <td>Rock, The (1996)</td>\n",
              "    </tr>\n",
              "    <tr>\n",
              "      <th>3</th>\n",
              "      <td>594</td>\n",
              "      <td>5.000000</td>\n",
              "      <td>Snow White and the Seven Dwarfs (1937)</td>\n",
              "    </tr>\n",
              "    <tr>\n",
              "      <th>4</th>\n",
              "      <td>300</td>\n",
              "      <td>5.000000</td>\n",
              "      <td>Quiz Show (1994)</td>\n",
              "    </tr>\n",
              "    <tr>\n",
              "      <th>5</th>\n",
              "      <td>48</td>\n",
              "      <td>5.000000</td>\n",
              "      <td>Pocahontas (1995)</td>\n",
              "    </tr>\n",
              "    <tr>\n",
              "      <th>6</th>\n",
              "      <td>353</td>\n",
              "      <td>4.499615</td>\n",
              "      <td>Crow, The (1994)</td>\n",
              "    </tr>\n",
              "    <tr>\n",
              "      <th>7</th>\n",
              "      <td>587</td>\n",
              "      <td>4.316220</td>\n",
              "      <td>Ghost (1990)</td>\n",
              "    </tr>\n",
              "    <tr>\n",
              "      <th>8</th>\n",
              "      <td>296</td>\n",
              "      <td>4.051312</td>\n",
              "      <td>Pulp Fiction (1994)</td>\n",
              "    </tr>\n",
              "    <tr>\n",
              "      <th>9</th>\n",
              "      <td>1148</td>\n",
              "      <td>4.043734</td>\n",
              "      <td>Wallace &amp; Gromit: The Wrong Trousers (1993)</td>\n",
              "    </tr>\n",
              "  </tbody>\n",
              "</table>\n",
              "</div>\n",
              "      <button class=\"colab-df-convert\" onclick=\"convertToInteractive('df-f6741bda-d99a-4a12-8eaf-5674c3d92173')\"\n",
              "              title=\"Convert this dataframe to an interactive table.\"\n",
              "              style=\"display:none;\">\n",
              "        \n",
              "  <svg xmlns=\"http://www.w3.org/2000/svg\" height=\"24px\"viewBox=\"0 0 24 24\"\n",
              "       width=\"24px\">\n",
              "    <path d=\"M0 0h24v24H0V0z\" fill=\"none\"/>\n",
              "    <path d=\"M18.56 5.44l.94 2.06.94-2.06 2.06-.94-2.06-.94-.94-2.06-.94 2.06-2.06.94zm-11 1L8.5 8.5l.94-2.06 2.06-.94-2.06-.94L8.5 2.5l-.94 2.06-2.06.94zm10 10l.94 2.06.94-2.06 2.06-.94-2.06-.94-.94-2.06-.94 2.06-2.06.94z\"/><path d=\"M17.41 7.96l-1.37-1.37c-.4-.4-.92-.59-1.43-.59-.52 0-1.04.2-1.43.59L10.3 9.45l-7.72 7.72c-.78.78-.78 2.05 0 2.83L4 21.41c.39.39.9.59 1.41.59.51 0 1.02-.2 1.41-.59l7.78-7.78 2.81-2.81c.8-.78.8-2.07 0-2.86zM5.41 20L4 18.59l7.72-7.72 1.47 1.35L5.41 20z\"/>\n",
              "  </svg>\n",
              "      </button>\n",
              "      \n",
              "  <style>\n",
              "    .colab-df-container {\n",
              "      display:flex;\n",
              "      flex-wrap:wrap;\n",
              "      gap: 12px;\n",
              "    }\n",
              "\n",
              "    .colab-df-convert {\n",
              "      background-color: #E8F0FE;\n",
              "      border: none;\n",
              "      border-radius: 50%;\n",
              "      cursor: pointer;\n",
              "      display: none;\n",
              "      fill: #1967D2;\n",
              "      height: 32px;\n",
              "      padding: 0 0 0 0;\n",
              "      width: 32px;\n",
              "    }\n",
              "\n",
              "    .colab-df-convert:hover {\n",
              "      background-color: #E2EBFA;\n",
              "      box-shadow: 0px 1px 2px rgba(60, 64, 67, 0.3), 0px 1px 3px 1px rgba(60, 64, 67, 0.15);\n",
              "      fill: #174EA6;\n",
              "    }\n",
              "\n",
              "    [theme=dark] .colab-df-convert {\n",
              "      background-color: #3B4455;\n",
              "      fill: #D2E3FC;\n",
              "    }\n",
              "\n",
              "    [theme=dark] .colab-df-convert:hover {\n",
              "      background-color: #434B5C;\n",
              "      box-shadow: 0px 1px 3px 1px rgba(0, 0, 0, 0.15);\n",
              "      filter: drop-shadow(0px 1px 2px rgba(0, 0, 0, 0.3));\n",
              "      fill: #FFFFFF;\n",
              "    }\n",
              "  </style>\n",
              "\n",
              "      <script>\n",
              "        const buttonEl =\n",
              "          document.querySelector('#df-f6741bda-d99a-4a12-8eaf-5674c3d92173 button.colab-df-convert');\n",
              "        buttonEl.style.display =\n",
              "          google.colab.kernel.accessAllowed ? 'block' : 'none';\n",
              "\n",
              "        async function convertToInteractive(key) {\n",
              "          const element = document.querySelector('#df-f6741bda-d99a-4a12-8eaf-5674c3d92173');\n",
              "          const dataTable =\n",
              "            await google.colab.kernel.invokeFunction('convertToInteractive',\n",
              "                                                     [key], {});\n",
              "          if (!dataTable) return;\n",
              "\n",
              "          const docLinkHtml = 'Like what you see? Visit the ' +\n",
              "            '<a target=\"_blank\" href=https://colab.research.google.com/notebooks/data_table.ipynb>data table notebook</a>'\n",
              "            + ' to learn more about interactive tables.';\n",
              "          element.innerHTML = '';\n",
              "          dataTable['output_type'] = 'display_data';\n",
              "          await google.colab.output.renderOutput(dataTable, element);\n",
              "          const docLink = document.createElement('div');\n",
              "          docLink.innerHTML = docLinkHtml;\n",
              "          element.appendChild(docLink);\n",
              "        }\n",
              "      </script>\n",
              "    </div>\n",
              "  </div>\n",
              "  "
            ]
          },
          "metadata": {},
          "execution_count": 73
        }
      ],
      "source": [
        "print(\"List of recommendations for user {}\".format(selected_id))\n",
        "pred_rating.sort_values(inplace=True,ascending=False)\n",
        "pred_rating_df = pd.DataFrame(pred_rating).reset_index()\n",
        "pred_rating_df.columns = ['movieId', 'predicted_rating']\n",
        "final_pred_df = pd.merge(pred_rating_df,movie_df)\n",
        "final_pred_df.head(10)"
      ]
    }
  ],
  "metadata": {
    "colab": {
      "provenance": []
    },
    "kernelspec": {
      "display_name": "Python 3",
      "name": "python3"
    },
    "language_info": {
      "name": "python"
    }
  },
  "nbformat": 4,
  "nbformat_minor": 0
}